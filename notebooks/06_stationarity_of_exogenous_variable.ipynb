{
 "cells": [
  {
   "cell_type": "code",
   "execution_count": null,
   "metadata": {},
   "outputs": [],
   "source": [
    "import pandas as pd\n",
    "from statsmodels.tsa.stattools import adfuller"
   ]
  },
  {
   "cell_type": "code",
   "execution_count": null,
   "metadata": {},
   "outputs": [],
   "source": [
    "import numpy as np\n",
    "from scipy.stats import ks_2samp\n",
    "from statsmodels.tsa.stattools import acf, q_stat"
   ]
  },
  {
   "cell_type": "markdown",
   "metadata": {},
   "source": [
    "#### ADF Test for Stationarity"
   ]
  },
  {
   "cell_type": "code",
   "execution_count": 5,
   "metadata": {},
   "outputs": [],
   "source": [
    "# Function to perform the ADF test\n",
    "def adf_test(series, column_name):\n",
    "    result = adfuller(series.dropna())  # Drop NaN values if any\n",
    "    print(f\"ADF Test for {column_name}:\")\n",
    "    print(f\"ADF Statistic: {result[0]}\")\n",
    "    print(f\"p-value: {result[1]}\")\n",
    "    print(\"Critical Values:\")\n",
    "    for key, value in result[4].items():\n",
    "        print(f\"   {key}: {value}\")\n",
    "    if result[1] <= 0.05:\n",
    "        print(\"Conclusion: Stationary (Reject H0)\\n\")\n",
    "    else:\n",
    "        print(\"Conclusion: Non-stationary (Fail to Reject H0)\\n\")"
   ]
  },
  {
   "cell_type": "code",
   "execution_count": 14,
   "metadata": {},
   "outputs": [
    {
     "name": "stdout",
     "output_type": "stream",
     "text": [
      "ADF Test for pos_sentiment:\n",
      "ADF Statistic: -16.900553910755857\n",
      "p-value: 1.0284963196761243e-29\n",
      "Critical Values:\n",
      "   1%: -3.430894015362794\n",
      "   5%: -2.8617804268847506\n",
      "   10%: -2.5668979741857716\n",
      "Conclusion: Stationary (Reject H0)\n",
      "\n",
      "ADF Test for neg_sentiment:\n",
      "ADF Statistic: -19.095872514042448\n",
      "p-value: 0.0\n",
      "Critical Values:\n",
      "   1%: -3.4308938796240076\n",
      "   5%: -2.8617803669006627\n",
      "   10%: -2.5668979422565483\n",
      "Conclusion: Stationary (Reject H0)\n",
      "\n",
      "ADF Test for neutral_sentiment:\n",
      "ADF Statistic: -17.254928702116622\n",
      "p-value: 5.991101260474892e-30\n",
      "Critical Values:\n",
      "   1%: -3.4308938796240076\n",
      "   5%: -2.8617803669006627\n",
      "   10%: -2.5668979422565483\n",
      "Conclusion: Stationary (Reject H0)\n",
      "\n"
     ]
    }
   ],
   "source": [
    "snp_sentiment_score = \"../data/snp_gpt_overall.csv\"  \n",
    "df_snp = pd.read_csv(snp_sentiment_score)\n",
    "\n",
    "snp_sentiment_columns = [\"pos_sentiment\", \"neg_sentiment\", \"neutral_sentiment\"]\n",
    "\n",
    "for col in snp_sentiment_columns:\n",
    "    adf_test(df_snp[col], col)"
   ]
  },
  {
   "cell_type": "code",
   "execution_count": 15,
   "metadata": {},
   "outputs": [
    {
     "name": "stdout",
     "output_type": "stream",
     "text": [
      "ADF Test for mean_neg_preamble_sentiment:\n",
      "ADF Statistic: -7.128487376125445\n",
      "p-value: 3.568433012879894e-10\n",
      "Critical Values:\n",
      "   1%: -3.4331536417276274\n",
      "   5%: -2.8627785955546137\n",
      "   10%: -2.5674293588855925\n",
      "Conclusion: Stationary (Reject H0)\n",
      "\n",
      "ADF Test for mean_pos_preamble_sentiment:\n",
      "ADF Statistic: -7.059259647266067\n",
      "p-value: 5.275614087638958e-10\n",
      "Critical Values:\n",
      "   1%: -3.4331524402158027\n",
      "   5%: -2.862778064998932\n",
      "   10%: -2.567429076405341\n",
      "Conclusion: Stationary (Reject H0)\n",
      "\n",
      "ADF Test for mean_neutral_preamble_sentiment:\n",
      "ADF Statistic: -7.258340175794562\n",
      "p-value: 1.7073535587539137e-10\n",
      "Critical Values:\n",
      "   1%: -3.4331512397333626\n",
      "   5%: -2.8627775348975866\n",
      "   10%: -2.567428794167024\n",
      "Conclusion: Stationary (Reject H0)\n",
      "\n"
     ]
    }
   ],
   "source": [
    "tesla_sentiment_score = \"../data/union_sentiment.csv\"  \n",
    "df_tesla = pd.read_csv(tesla_sentiment_score)\n",
    "\n",
    "tesla_sentiment_columns = [\"mean_neg_preamble_sentiment\", \"mean_pos_preamble_sentiment\", \"mean_neutral_preamble_sentiment\"]\n",
    "\n",
    "for col in tesla_sentiment_columns:\n",
    "    adf_test(df_tesla[col], col)"
   ]
  },
  {
   "cell_type": "markdown",
   "metadata": {},
   "source": [
    "#### Test for IID"
   ]
  },
  {
   "cell_type": "code",
   "execution_count": 16,
   "metadata": {},
   "outputs": [],
   "source": [
    "# Function to check identical distribution using KS test\n",
    "def ks_test_identical_distribution(series, column_name):\n",
    "    n = len(series)\n",
    "    half_n = n // 2  # Split data into two halves\n",
    "    sample1, sample2 = series[:half_n], series[half_n:]\n",
    "    ks_stat, p_value = ks_2samp(sample1, sample2)\n",
    "    \n",
    "    print(f\"KS Test for identical distribution in {column_name}:\")\n",
    "    print(f\"KS Statistic: {ks_stat}\")\n",
    "    print(f\"p-value: {p_value}\")\n",
    "    if p_value > 0.05:\n",
    "        print(\"Conclusion: Cannot reject identical distribution assumption.\\n\")\n",
    "    else:\n",
    "        print(\"Conclusion: Data may not be identically distributed.\\n\")\n",
    "\n",
    "# Function to check independence using autocorrelation and Ljung-Box test\n",
    "def independence_test(series, column_name, lags=10):\n",
    "    acf_values = acf(series.dropna(), nlags=lags)\n",
    "    lb_stat, lb_p_value = q_stat(acf_values[1:], nobs=len(series))\n",
    "    \n",
    "    print(f\"Ljung-Box Test for independence in {column_name}:\")\n",
    "    print(f\"Test Statistic: {lb_stat[-1]}\")\n",
    "    print(f\"p-value: {lb_p_value[-1]}\")\n",
    "    if lb_p_value[-1] > 0.05:\n",
    "        print(\"Conclusion: Cannot reject independence assumption.\\n\")\n",
    "    else:\n",
    "        print(\"Conclusion: Data is likely dependent.\\n\")"
   ]
  },
  {
   "cell_type": "code",
   "execution_count": 17,
   "metadata": {},
   "outputs": [
    {
     "name": "stdout",
     "output_type": "stream",
     "text": [
      "==================================================\n",
      "KS Test for identical distribution in pos_sentiment:\n",
      "KS Statistic: 0.025892116182572613\n",
      "p-value: 0.03521988246928709\n",
      "Conclusion: Data may not be identically distributed.\n",
      "\n",
      "Ljung-Box Test for independence in pos_sentiment:\n",
      "Test Statistic: 46.638073547424426\n",
      "p-value: 1.0987000782564873e-06\n",
      "Conclusion: Data is likely dependent.\n",
      "\n",
      "==================================================\n",
      "KS Test for identical distribution in neg_sentiment:\n",
      "KS Statistic: 0.0595850622406639\n",
      "p-value: 1.0145835124734815e-09\n",
      "Conclusion: Data may not be identically distributed.\n",
      "\n"
     ]
    },
    {
     "name": "stderr",
     "output_type": "stream",
     "text": [
      "c:\\Users\\Liv Tan\\anaconda3\\lib\\site-packages\\statsmodels\\tsa\\stattools.py:667: FutureWarning: fft=True will become the default after the release of the 0.12 release of statsmodels. To suppress this warning, explicitly set fft=False.\n",
      "  warnings.warn(\n"
     ]
    },
    {
     "name": "stdout",
     "output_type": "stream",
     "text": [
      "Ljung-Box Test for independence in neg_sentiment:\n",
      "Test Statistic: 65.16542919610323\n",
      "p-value: 3.7684040059789875e-10\n",
      "Conclusion: Data is likely dependent.\n",
      "\n",
      "==================================================\n",
      "KS Test for identical distribution in neutral_sentiment:\n",
      "KS Statistic: 0.06456431535269709\n",
      "p-value: 2.436773108659317e-11\n",
      "Conclusion: Data may not be identically distributed.\n",
      "\n",
      "Ljung-Box Test for independence in neutral_sentiment:\n",
      "Test Statistic: 130.26701572588493\n",
      "p-value: 4.12059112903116e-23\n",
      "Conclusion: Data is likely dependent.\n",
      "\n"
     ]
    }
   ],
   "source": [
    "for col in snp_sentiment_columns:\n",
    "    print(\"=\"*50)\n",
    "    ks_test_identical_distribution(df_snp[col], col)\n",
    "    independence_test(df_snp[col], col)"
   ]
  },
  {
   "cell_type": "code",
   "execution_count": null,
   "metadata": {},
   "outputs": [
    {
     "name": "stdout",
     "output_type": "stream",
     "text": [
      "==================================================\n",
      "KS Test for identical distribution in mean_neg_preamble_sentiment:\n",
      "KS Statistic: 0.2757213093543796\n",
      "p-value: 3.884699155055812e-40\n",
      "Conclusion: Data may not be identically distributed.\n",
      "\n",
      "Ljung-Box Test for independence in mean_neg_preamble_sentiment:\n",
      "Test Statistic: 39.62574305241431\n",
      "p-value: 1.9718355013306428e-05\n",
      "Conclusion: Data is likely dependent.\n",
      "\n",
      "==================================================\n",
      "KS Test for identical distribution in mean_pos_preamble_sentiment:\n",
      "KS Statistic: 0.24793418726010263\n",
      "p-value: 1.9634519254659202e-32\n",
      "Conclusion: Data may not be identically distributed.\n",
      "\n",
      "Ljung-Box Test for independence in mean_pos_preamble_sentiment:\n",
      "Test Statistic: 23.577504532620313\n",
      "p-value: 0.008804368203267748\n",
      "Conclusion: Data is likely dependent.\n",
      "\n",
      "==================================================\n",
      "KS Test for identical distribution in mean_neutral_preamble_sentiment:\n",
      "KS Statistic: 0.22479622202096003\n",
      "p-value: 1.120301496275049e-26\n",
      "Conclusion: Data may not be identically distributed.\n",
      "\n",
      "Ljung-Box Test for independence in mean_neutral_preamble_sentiment:\n",
      "Test Statistic: 69.34591013873639\n",
      "p-value: 5.929164011703139e-11\n",
      "Conclusion: Data is likely dependent.\n",
      "\n"
     ]
    },
    {
     "name": "stderr",
     "output_type": "stream",
     "text": [
      "c:\\Users\\Liv Tan\\anaconda3\\lib\\site-packages\\statsmodels\\tsa\\stattools.py:667: FutureWarning: fft=True will become the default after the release of the 0.12 release of statsmodels. To suppress this warning, explicitly set fft=False.\n",
      "  warnings.warn(\n"
     ]
    }
   ],
   "source": [
    "for col in tesla_sentiment_columns:\n",
    "    print(\"=\"*50)\n",
    "    ks_test_identical_distribution(df_tesla[col], col)\n",
    "    independence_test(df_tesla[col], col)"
   ]
  }
 ],
 "metadata": {
  "kernelspec": {
   "display_name": ".venv",
   "language": "python",
   "name": "python3"
  },
  "language_info": {
   "codemirror_mode": {
    "name": "ipython",
    "version": 3
   },
   "file_extension": ".py",
   "mimetype": "text/x-python",
   "name": "python",
   "nbconvert_exporter": "python",
   "pygments_lexer": "ipython3",
   "version": "3.13.2"
  }
 },
 "nbformat": 4,
 "nbformat_minor": 2
}
