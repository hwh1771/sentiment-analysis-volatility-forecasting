{
 "cells": [
  {
   "cell_type": "markdown",
   "metadata": {},
   "source": [
    "# In this file we fit our model with the real data."
   ]
  },
  {
   "cell_type": "code",
   "execution_count": 302,
   "metadata": {},
   "outputs": [],
   "source": [
    "from datetime import datetime\n",
    "import random\n",
    "\n",
    "import numpy as np\n",
    "import pandas as pd\n",
    "from matplotlib import pyplot as plt\n",
    "import matplotlib.dates as mdates\n",
    "from scipy.stats import norm, chi2\n",
    "\n",
    "from statsmodels.tsa.stattools import adfuller\n",
    "from statsmodels.stats.diagnostic import acorr_ljungbox  \n",
    "\n",
    "from Garch import GARCH"
   ]
  },
  {
   "cell_type": "markdown",
   "metadata": {},
   "source": [
    "#### Define helper functions "
   ]
  },
  {
   "cell_type": "code",
   "execution_count": 303,
   "metadata": {},
   "outputs": [],
   "source": [
    "def adf_test(series):\n",
    "    result = adfuller(series, autolag='AIC')  \n",
    "    print(f\"ADF Statistic: {result[0]}\")\n",
    "    print(f\"p-value: {result[1]}\")\n",
    "    print(\"Critical Values:\")\n",
    "    for key, value in result[4].items():\n",
    "        print(f\"   {key}: {value}\")\n",
    "\n",
    "    if result[1] <= 0.05:\n",
    "        print(\" The series is stationary (reject H0)\")\n",
    "    else:\n",
    "        print(\" The series is non-stationary (fail to reject H0)\")"
   ]
  },
  {
   "cell_type": "code",
   "execution_count": 304,
   "metadata": {},
   "outputs": [],
   "source": [
    "def generate_ar_data(ar_coef, T):\n",
    "    res = [0]\n",
    "    for t in range(1,T):\n",
    "        res.append(ar_coef * res[-1] + random.gauss(0, 1))\n",
    "\n",
    "    return res"
   ]
  },
  {
   "cell_type": "code",
   "execution_count": 305,
   "metadata": {},
   "outputs": [],
   "source": [
    "def likelihood_ratio_test(ll_null: float, ll_alternative: float, df: int):\n",
    "    if df <= 0:\n",
    "        raise ValueError(\"Degrees of freedom must be positive.\")\n",
    "    if ll_alternative < ll_null:\n",
    "        raise ValueError(\"ll_null should be smaller than ll_alternative.\")\n",
    "    \n",
    "    # Compute test statistic\n",
    "    lr_stat = 2 * (ll_alternative - ll_null)\n",
    "    \n",
    "    # Compute p-value\n",
    "    p_value = 1 - chi2.cdf(lr_stat, df)\n",
    "    \n",
    "    return p_value"
   ]
  },
  {
   "cell_type": "markdown",
   "metadata": {},
   "source": [
    "## 1. Load Data\n",
    "1. S&P500 data\n",
    "2. Sentiment data (consisting of mean Positive, Negative and Neutral sentiment per day)\n",
    "3. VIX (for comparison purpose)"
   ]
  },
  {
   "cell_type": "code",
   "execution_count": 306,
   "metadata": {},
   "outputs": [],
   "source": [
    "start = '2019-10-01'\n",
    "end = '2024-09-27'"
   ]
  },
  {
   "cell_type": "code",
   "execution_count": null,
   "metadata": {},
   "outputs": [],
   "source": [
    "# Load S&P data\n",
    "prices_df = pd.read_csv('../data/S&P_market/s&p_prices.csv')\n",
    "prices_df.index = pd.to_datetime(prices_df['Date'], format='%Y-%m-%d %H:%M:%S%z', utc=True).dt.date\n",
    "#Load market sentiment\n",
    "market_sentiment = pd.read_csv('../data/S&P_market/s&p_gpt_summarised_sentiments.csv')\n"
   ]
  },
  {
   "cell_type": "markdown",
   "metadata": {},
   "source": [
    "## Dropping Irrelevant columns"
   ]
  },
  {
   "cell_type": "code",
   "execution_count": null,
   "metadata": {},
   "outputs": [],
   "source": [
    "market_sentiment = market_sentiment.drop(columns = ['Unnamed: 0'])\n"
   ]
  },
  {
   "cell_type": "markdown",
   "metadata": {},
   "source": [
    "## Aggregating by day"
   ]
  },
  {
   "cell_type": "code",
   "execution_count": null,
   "metadata": {},
   "outputs": [],
   "source": [
    "agg_func = {\n",
    "            'pos_sentiment': 'mean',\n",
    "            'neg_sentiment': 'mean',\n",
    "            'neutral_sentiment': 'mean'}\n",
    "column_rename = {\n",
    "            'pos_sentiment': 'mean_pos_sentiment',\n",
    "            'neg_sentiment': 'mean_neg_sentiment',\n",
    "            'neutral_sentiment': 'mean_neutral_sentiment',}\n",
    "\n",
    "market_sentiment = market_sentiment.groupby(by='adjusted_date').agg(agg_func).rename(columns=column_rename).reset_index()\n"
   ]
  },
  {
   "cell_type": "code",
   "execution_count": null,
   "metadata": {},
   "outputs": [],
   "source": [
    "market_sentiment.index = pd.DatetimeIndex(market_sentiment['adjusted_date'])\n"
   ]
  },
  {
   "cell_type": "code",
   "execution_count": null,
   "metadata": {},
   "outputs": [
    {
     "data": {
      "text/html": [
       "<div>\n",
       "<style scoped>\n",
       "    .dataframe tbody tr th:only-of-type {\n",
       "        vertical-align: middle;\n",
       "    }\n",
       "\n",
       "    .dataframe tbody tr th {\n",
       "        vertical-align: top;\n",
       "    }\n",
       "\n",
       "    .dataframe thead th {\n",
       "        text-align: right;\n",
       "    }\n",
       "</style>\n",
       "<table border=\"1\" class=\"dataframe\">\n",
       "  <thead>\n",
       "    <tr style=\"text-align: right;\">\n",
       "      <th></th>\n",
       "      <th>Open</th>\n",
       "      <th>High</th>\n",
       "      <th>Low</th>\n",
       "      <th>Close</th>\n",
       "      <th>Volume</th>\n",
       "      <th>returns</th>\n",
       "      <th>log_returns</th>\n",
       "      <th>adjusted_date</th>\n",
       "      <th>mean_pos_sentiment</th>\n",
       "      <th>mean_neg_sentiment</th>\n",
       "      <th>mean_neutral_sentiment</th>\n",
       "      <th>mean_pos_preamble_sentiment</th>\n",
       "      <th>mean_neg_preamble_sentiment</th>\n",
       "      <th>mean_neutral_preamble_sentiment</th>\n",
       "      <th>neg_sentiment_lag1</th>\n",
       "      <th>neg_sentiment_diff</th>\n",
       "    </tr>\n",
       "  </thead>\n",
       "  <tbody>\n",
       "    <tr>\n",
       "      <th>2019-10-01</th>\n",
       "      <td>275.616000</td>\n",
       "      <td>276.282500</td>\n",
       "      <td>271.228221</td>\n",
       "      <td>271.450378</td>\n",
       "      <td>88242400</td>\n",
       "      <td>-0.011895</td>\n",
       "      <td>-0.011966</td>\n",
       "      <td>2019-10-01</td>\n",
       "      <td>0.288219</td>\n",
       "      <td>0.601452</td>\n",
       "      <td>0.110329</td>\n",
       "      <td>0.338735</td>\n",
       "      <td>0.573120</td>\n",
       "      <td>0.088145</td>\n",
       "      <td>0.955273</td>\n",
       "      <td>-0.353822</td>\n",
       "    </tr>\n",
       "    <tr>\n",
       "      <th>2019-10-02</th>\n",
       "      <td>269.839692</td>\n",
       "      <td>269.848958</td>\n",
       "      <td>265.340835</td>\n",
       "      <td>266.655304</td>\n",
       "      <td>122539500</td>\n",
       "      <td>-0.017665</td>\n",
       "      <td>-0.017823</td>\n",
       "      <td>2019-10-02</td>\n",
       "      <td>0.243740</td>\n",
       "      <td>0.720978</td>\n",
       "      <td>0.035283</td>\n",
       "      <td>0.244466</td>\n",
       "      <td>0.706273</td>\n",
       "      <td>0.049261</td>\n",
       "      <td>0.601452</td>\n",
       "      <td>0.119526</td>\n",
       "    </tr>\n",
       "    <tr>\n",
       "      <th>2019-10-03</th>\n",
       "      <td>266.423921</td>\n",
       "      <td>268.867766</td>\n",
       "      <td>263.656106</td>\n",
       "      <td>268.839996</td>\n",
       "      <td>85278800</td>\n",
       "      <td>0.008193</td>\n",
       "      <td>0.008160</td>\n",
       "      <td>2019-10-03</td>\n",
       "      <td>0.265927</td>\n",
       "      <td>0.643434</td>\n",
       "      <td>0.090639</td>\n",
       "      <td>0.261413</td>\n",
       "      <td>0.594602</td>\n",
       "      <td>0.143986</td>\n",
       "      <td>0.720978</td>\n",
       "      <td>-0.077544</td>\n",
       "    </tr>\n",
       "    <tr>\n",
       "      <th>2019-10-04</th>\n",
       "      <td>269.506467</td>\n",
       "      <td>272.737129</td>\n",
       "      <td>269.450899</td>\n",
       "      <td>272.477936</td>\n",
       "      <td>65091200</td>\n",
       "      <td>0.013532</td>\n",
       "      <td>0.013441</td>\n",
       "      <td>2019-10-04</td>\n",
       "      <td>0.228237</td>\n",
       "      <td>0.699255</td>\n",
       "      <td>0.072508</td>\n",
       "      <td>0.270606</td>\n",
       "      <td>0.659174</td>\n",
       "      <td>0.070220</td>\n",
       "      <td>0.643434</td>\n",
       "      <td>0.055821</td>\n",
       "    </tr>\n",
       "    <tr>\n",
       "      <th>2019-10-07</th>\n",
       "      <td>271.663341</td>\n",
       "      <td>273.320341</td>\n",
       "      <td>271.015344</td>\n",
       "      <td>271.302307</td>\n",
       "      <td>59610500</td>\n",
       "      <td>-0.004315</td>\n",
       "      <td>-0.004324</td>\n",
       "      <td>2019-10-07</td>\n",
       "      <td>0.014666</td>\n",
       "      <td>0.933866</td>\n",
       "      <td>0.051468</td>\n",
       "      <td>0.021445</td>\n",
       "      <td>0.912205</td>\n",
       "      <td>0.066350</td>\n",
       "      <td>0.699255</td>\n",
       "      <td>0.234611</td>\n",
       "    </tr>\n",
       "  </tbody>\n",
       "</table>\n",
       "</div>"
      ],
      "text/plain": [
       "                  Open        High         Low       Close     Volume  \\\n",
       "2019-10-01  275.616000  276.282500  271.228221  271.450378   88242400   \n",
       "2019-10-02  269.839692  269.848958  265.340835  266.655304  122539500   \n",
       "2019-10-03  266.423921  268.867766  263.656106  268.839996   85278800   \n",
       "2019-10-04  269.506467  272.737129  269.450899  272.477936   65091200   \n",
       "2019-10-07  271.663341  273.320341  271.015344  271.302307   59610500   \n",
       "\n",
       "             returns  log_returns adjusted_date  mean_pos_sentiment  \\\n",
       "2019-10-01 -0.011895    -0.011966    2019-10-01            0.288219   \n",
       "2019-10-02 -0.017665    -0.017823    2019-10-02            0.243740   \n",
       "2019-10-03  0.008193     0.008160    2019-10-03            0.265927   \n",
       "2019-10-04  0.013532     0.013441    2019-10-04            0.228237   \n",
       "2019-10-07 -0.004315    -0.004324    2019-10-07            0.014666   \n",
       "\n",
       "            mean_neg_sentiment  mean_neutral_sentiment  \\\n",
       "2019-10-01            0.601452                0.110329   \n",
       "2019-10-02            0.720978                0.035283   \n",
       "2019-10-03            0.643434                0.090639   \n",
       "2019-10-04            0.699255                0.072508   \n",
       "2019-10-07            0.933866                0.051468   \n",
       "\n",
       "            mean_pos_preamble_sentiment  mean_neg_preamble_sentiment  \\\n",
       "2019-10-01                     0.338735                     0.573120   \n",
       "2019-10-02                     0.244466                     0.706273   \n",
       "2019-10-03                     0.261413                     0.594602   \n",
       "2019-10-04                     0.270606                     0.659174   \n",
       "2019-10-07                     0.021445                     0.912205   \n",
       "\n",
       "            mean_neutral_preamble_sentiment  neg_sentiment_lag1  \\\n",
       "2019-10-01                         0.088145            0.955273   \n",
       "2019-10-02                         0.049261            0.601452   \n",
       "2019-10-03                         0.143986            0.720978   \n",
       "2019-10-04                         0.070220            0.643434   \n",
       "2019-10-07                         0.066350            0.699255   \n",
       "\n",
       "            neg_sentiment_diff  \n",
       "2019-10-01           -0.353822  \n",
       "2019-10-02            0.119526  \n",
       "2019-10-03           -0.077544  \n",
       "2019-10-04            0.055821  \n",
       "2019-10-07            0.234611  "
      ]
     },
     "execution_count": 311,
     "metadata": {},
     "output_type": "execute_result"
    }
   ],
   "source": [
    "# Merge all into one dataframe\n",
    "#FOR V1\n",
    "#vix.index = pd.DatetimeIndex(vix.index.tz_localize(None))\n",
    "data_with_sentiment = prices_df.join(market_sentiment, how='inner')#.join(vix[['VIX Close']], how='left')\n",
    "data_with_sentiment = data_with_sentiment.drop(columns=['Date'])\n",
    "\n",
    "data_with_sentiment['neg_sentiment_lag1'] = data_with_sentiment['mean_neg_sentiment'].shift(1)\n",
    "data_with_sentiment['neg_sentiment_diff'] = data_with_sentiment['mean_neg_sentiment'] - data_with_sentiment['neg_sentiment_lag1']\n",
    "#data_with_sentiment = data_with_sentiment.dropna()\n",
    "data_with_sentiment = data_with_sentiment[1:]\n",
    "#data_with_sentiment = data_with_sentiment.join(t_rates_df)\n",
    "# Fill missing i/r data. Missing data is sparse, but might have to investigate.\n",
    "#data_with_sentiment = data_with_sentiment.ffill()\n",
    "data_with_sentiment.head()\n",
    "\n",
    "\n"
   ]
  },
  {
   "cell_type": "markdown",
   "metadata": {},
   "source": [
    "## GARCH X Model Function"
   ]
  },
  {
   "cell_type": "code",
   "execution_count": null,
   "metadata": {},
   "outputs": [],
   "source": [
    "def train_model(log_returns,exo_sentiment, log_returns_scale_factor, exo_scale_factor, use_constraints, method = 'L-BFGS-B', z = 1):\n",
    "    garch_with_sentiment = GARCH(p=1, q=1, z=z, verbose=True)\n",
    "    garch_with_sentiment.train(log_returns_scale_factor*log_returns, x = exo_scale_factor * exo_sentiment,use_constraints= use_constraints, method = method)\n",
    "    return garch_with_sentiment.summary()\n",
    "    "
   ]
  },
  {
   "cell_type": "code",
   "execution_count": null,
   "metadata": {},
   "outputs": [],
   "source": [
    "data_with_sentiment.index = data_with_sentiment['adjusted_date']\n"
   ]
  },
  {
   "cell_type": "code",
   "execution_count": null,
   "metadata": {},
   "outputs": [],
   "source": [
    "exo_sentiment = ['mean_pos_preamble_sentiment', 'mean_neg_preamble_sentiment','mean_neutral_preamble_sentiment']\n",
    "neg_sentiment = ['mean_neg_preamble_sentiment']\n",
    "log_returns = data_with_sentiment['log_returns']"
   ]
  },
  {
   "cell_type": "markdown",
   "metadata": {},
   "source": [
    "## GARCH Baseline"
   ]
  },
  {
   "cell_type": "code",
   "execution_count": null,
   "metadata": {},
   "outputs": [
    {
     "name": "stdout",
     "output_type": "stream",
     "text": [
      "Optimising...\n",
      "Optimising finished in 1.513s\n",
      " message: Optimization terminated successfully\n",
      " success: True\n",
      "  status: 0\n",
      "     fun: 5.639004431881456\n",
      "       x: [ 1.280e+00 -1.855e+00 -1.956e-01]\n",
      "     nit: 27\n",
      "     jac: [-7.927e-06  1.359e-04  5.264e-04]\n",
      "    nfev: 119\n",
      "    njev: 27\n",
      "{'omega': 3.5980967210664776, 'alpha': 0.1564491030305711, 'beta': 0.8223398823930537, 'gamma': array([], shape=(0, 1), dtype=float64)}\n"
     ]
    },
    {
     "data": {
      "text/html": [
       "<div>\n",
       "<style scoped>\n",
       "    .dataframe tbody tr th:only-of-type {\n",
       "        vertical-align: middle;\n",
       "    }\n",
       "\n",
       "    .dataframe tbody tr th {\n",
       "        vertical-align: top;\n",
       "    }\n",
       "\n",
       "    .dataframe thead th {\n",
       "        text-align: right;\n",
       "    }\n",
       "</style>\n",
       "<table border=\"1\" class=\"dataframe\">\n",
       "  <thead>\n",
       "    <tr style=\"text-align: right;\">\n",
       "      <th></th>\n",
       "      <th>coef</th>\n",
       "      <th>std err</th>\n",
       "      <th>t</th>\n",
       "      <th>P&gt;|t|</th>\n",
       "    </tr>\n",
       "  </thead>\n",
       "  <tbody>\n",
       "    <tr>\n",
       "      <th>omega</th>\n",
       "      <td>3.598097</td>\n",
       "      <td>1.001276</td>\n",
       "      <td>3.593510</td>\n",
       "      <td>1.695940e-04</td>\n",
       "    </tr>\n",
       "    <tr>\n",
       "      <th>alpha</th>\n",
       "      <td>0.156449</td>\n",
       "      <td>0.025228</td>\n",
       "      <td>6.201524</td>\n",
       "      <td>3.814814e-10</td>\n",
       "    </tr>\n",
       "    <tr>\n",
       "      <th>beta</th>\n",
       "      <td>0.822340</td>\n",
       "      <td>0.025610</td>\n",
       "      <td>32.110048</td>\n",
       "      <td>5.618121e-165</td>\n",
       "    </tr>\n",
       "  </tbody>\n",
       "</table>\n",
       "</div>"
      ],
      "text/plain": [
       "           coef   std err          t          P>|t|\n",
       "omega  3.598097  1.001276   3.593510   1.695940e-04\n",
       "alpha  0.156449  0.025228   6.201524   3.814814e-10\n",
       "beta   0.822340  0.025610  32.110048  5.618121e-165"
      ]
     },
     "metadata": {},
     "output_type": "display_data"
    }
   ],
   "source": [
    "train_model(log_returns, data_with_sentiment['mean_neg_sentiment'],1000,100,False,'SLSQP',0)"
   ]
  },
  {
   "cell_type": "markdown",
   "metadata": {},
   "source": [
    "### Garch with 3 exo sentiments"
   ]
  },
  {
   "cell_type": "code",
   "execution_count": null,
   "metadata": {},
   "outputs": [
    {
     "name": "stdout",
     "output_type": "stream",
     "text": [
      "Optimising...\n",
      "Optimising finished in 3.145s\n",
      " message: Optimization terminated successfully\n",
      " success: True\n",
      "  status: 0\n",
      "     fun: 1.0365448673079847\n",
      "       x: [-5.585e+00 -1.850e+00 -2.016e-01 -2.852e+00 -2.786e+00\n",
      "           -8.715e-01]\n",
      "     nit: 28\n",
      "     jac: [ 9.203e-05  3.856e-04  1.349e-03 -5.446e-05 -3.645e-05\n",
      "            1.561e-04]\n",
      "    nfev: 199\n",
      "    njev: 28\n",
      "{'omega': 0.0037522321372494127, 'alpha': 0.15720342755453834, 'beta': 0.8174161931546204, 'gamma': array([[0.05773195, 0.06168358, 0.41831854]])}\n"
     ]
    },
    {
     "data": {
      "text/html": [
       "<div>\n",
       "<style scoped>\n",
       "    .dataframe tbody tr th:only-of-type {\n",
       "        vertical-align: middle;\n",
       "    }\n",
       "\n",
       "    .dataframe tbody tr th {\n",
       "        vertical-align: top;\n",
       "    }\n",
       "\n",
       "    .dataframe thead th {\n",
       "        text-align: right;\n",
       "    }\n",
       "</style>\n",
       "<table border=\"1\" class=\"dataframe\">\n",
       "  <thead>\n",
       "    <tr style=\"text-align: right;\">\n",
       "      <th></th>\n",
       "      <th>coef</th>\n",
       "      <th>std err</th>\n",
       "      <th>t</th>\n",
       "      <th>P&gt;|t|</th>\n",
       "    </tr>\n",
       "  </thead>\n",
       "  <tbody>\n",
       "    <tr>\n",
       "      <th>omega</th>\n",
       "      <td>0.003752</td>\n",
       "      <td>0.093965</td>\n",
       "      <td>0.039932</td>\n",
       "      <td>4.840768e-01</td>\n",
       "    </tr>\n",
       "    <tr>\n",
       "      <th>alpha</th>\n",
       "      <td>0.157203</td>\n",
       "      <td>0.025909</td>\n",
       "      <td>6.067481</td>\n",
       "      <td>8.645902e-10</td>\n",
       "    </tr>\n",
       "    <tr>\n",
       "      <th>beta</th>\n",
       "      <td>0.817416</td>\n",
       "      <td>0.027437</td>\n",
       "      <td>29.792267</td>\n",
       "      <td>1.905302e-147</td>\n",
       "    </tr>\n",
       "    <tr>\n",
       "      <th>gamma[0]</th>\n",
       "      <td>0.057732</td>\n",
       "      <td>0.260096</td>\n",
       "      <td>0.221964</td>\n",
       "      <td>4.121895e-01</td>\n",
       "    </tr>\n",
       "    <tr>\n",
       "      <th>gamma[1]</th>\n",
       "      <td>0.061684</td>\n",
       "      <td>0.145700</td>\n",
       "      <td>0.423360</td>\n",
       "      <td>3.360534e-01</td>\n",
       "    </tr>\n",
       "    <tr>\n",
       "      <th>gamma[2]</th>\n",
       "      <td>0.418319</td>\n",
       "      <td>1.154855</td>\n",
       "      <td>0.362226</td>\n",
       "      <td>3.586228e-01</td>\n",
       "    </tr>\n",
       "  </tbody>\n",
       "</table>\n",
       "</div>"
      ],
      "text/plain": [
       "              coef   std err          t          P>|t|\n",
       "omega     0.003752  0.093965   0.039932   4.840768e-01\n",
       "alpha     0.157203  0.025909   6.067481   8.645902e-10\n",
       "beta      0.817416  0.027437  29.792267  1.905302e-147\n",
       "gamma[0]  0.057732  0.260096   0.221964   4.121895e-01\n",
       "gamma[1]  0.061684  0.145700   0.423360   3.360534e-01\n",
       "gamma[2]  0.418319  1.154855   0.362226   3.586228e-01"
      ]
     },
     "execution_count": 341,
     "metadata": {},
     "output_type": "execute_result"
    }
   ],
   "source": [
    "train_model(log_returns, data_with_sentiment[exo_sentiment],100,1,False,'SLSQP')"
   ]
  },
  {
   "cell_type": "markdown",
   "metadata": {},
   "source": [
    "### PCA"
   ]
  },
  {
   "cell_type": "code",
   "execution_count": null,
   "metadata": {},
   "outputs": [
    {
     "name": "stdout",
     "output_type": "stream",
     "text": [
      "Optimising...\n",
      "Optimising finished in 1.678s\n",
      " message: Optimization terminated successfully\n",
      " success: True\n",
      "  status: 0\n",
      "     fun: 5.6401247910032675\n",
      "       x: [-8.359e-01 -1.861e+00 -1.879e-01 -5.407e+00]\n",
      "     nit: 17\n",
      "     jac: [-7.055e-04 -1.104e-04  6.762e-04  1.877e-04]\n",
      "    nfev: 90\n",
      "    njev: 17\n",
      "{'omega': 0.4334960371900394, 'alpha': 0.155555075692842, 'beta': 0.8286614074976675, 'gamma': array([[0.004486]])}\n"
     ]
    },
    {
     "data": {
      "text/html": [
       "<div>\n",
       "<style scoped>\n",
       "    .dataframe tbody tr th:only-of-type {\n",
       "        vertical-align: middle;\n",
       "    }\n",
       "\n",
       "    .dataframe tbody tr th {\n",
       "        vertical-align: top;\n",
       "    }\n",
       "\n",
       "    .dataframe thead th {\n",
       "        text-align: right;\n",
       "    }\n",
       "</style>\n",
       "<table border=\"1\" class=\"dataframe\">\n",
       "  <thead>\n",
       "    <tr style=\"text-align: right;\">\n",
       "      <th></th>\n",
       "      <th>coef</th>\n",
       "      <th>std err</th>\n",
       "      <th>t</th>\n",
       "      <th>P&gt;|t|</th>\n",
       "    </tr>\n",
       "  </thead>\n",
       "  <tbody>\n",
       "    <tr>\n",
       "      <th>omega</th>\n",
       "      <td>0.433496</td>\n",
       "      <td>1.208450</td>\n",
       "      <td>0.358721</td>\n",
       "      <td>3.599331e-01</td>\n",
       "    </tr>\n",
       "    <tr>\n",
       "      <th>alpha</th>\n",
       "      <td>0.155555</td>\n",
       "      <td>0.024147</td>\n",
       "      <td>6.442063</td>\n",
       "      <td>8.473074e-11</td>\n",
       "    </tr>\n",
       "    <tr>\n",
       "      <th>beta</th>\n",
       "      <td>0.828661</td>\n",
       "      <td>0.023355</td>\n",
       "      <td>35.480430</td>\n",
       "      <td>4.069086e-190</td>\n",
       "    </tr>\n",
       "    <tr>\n",
       "      <th>gamma[0]</th>\n",
       "      <td>0.004486</td>\n",
       "      <td>0.002078</td>\n",
       "      <td>2.159226</td>\n",
       "      <td>1.551394e-02</td>\n",
       "    </tr>\n",
       "  </tbody>\n",
       "</table>\n",
       "</div>"
      ],
      "text/plain": [
       "              coef   std err          t          P>|t|\n",
       "omega     0.433496  1.208450   0.358721   3.599331e-01\n",
       "alpha     0.155555  0.024147   6.442063   8.473074e-11\n",
       "beta      0.828661  0.023355  35.480430  4.069086e-190\n",
       "gamma[0]  0.004486  0.002078   2.159226   1.551394e-02"
      ]
     },
     "execution_count": 325,
     "metadata": {},
     "output_type": "execute_result"
    }
   ],
   "source": [
    "# ! pip install scikit-learn\n",
    "from sklearn.decomposition import PCA\n",
    "\n",
    "pca = PCA(n_components=1)\n",
    "pca_exo_sentiment = pca.fit_transform(data_with_sentiment[exo_sentiment])\n",
    "# PCA non-differenced\n",
    "train_model(log_returns[10:], pca_exo_sentiment[10:],1000,100,False,'SLSQP')"
   ]
  },
  {
   "cell_type": "markdown",
   "metadata": {},
   "source": [
    "# PACF and ACF Plots for PCA S&P"
   ]
  },
  {
   "cell_type": "code",
   "execution_count": 349,
   "metadata": {},
   "outputs": [
    {
     "data": {
      "image/png": "[encoded data removed]",
      "text/plain": [
       "<Figure size 1600x1000 with 2 Axes>"
      ]
     },
     "metadata": {},
     "output_type": "display_data"
    }
   ],
   "source": [
    "import matplotlib.pyplot as plt\n",
    "from statsmodels.graphics.tsaplots import plot_acf, plot_pacf\n",
    "\n",
    "# Set figure size\n",
    "fig, axes = plt.subplots(1, 2, figsize=(16, 10))\n",
    "\n",
    "# ACF plot\n",
    "plot_acf((pca_exo_sentiment),alpha = 0.01, ax=axes[0])\n",
    "axes[0].set_title(\"Autocorrelation Function (ACF)\")\n",
    "\n",
    "# PACF plot\n",
    "plot_pacf((pca_exo_sentiment),alpha = 0.01, ax=axes[1])\n",
    "axes[1].set_title(\"Partial Autocorrelation Function (PACF)\")\n",
    "\n",
    "# Show plots\n",
    "plt.show()\n"
   ]
  },
  {
   "cell_type": "code",
   "execution_count": 320,
   "metadata": {},
   "outputs": [
    {
     "name": "stdout",
     "output_type": "stream",
     "text": [
      "ADF Test for X:\n",
      "ADF Statistic: -4.912682151197674\n",
      "p-value: 3.294533984159011e-05\n",
      "Critical Values:\n",
      "   1%: -3.4357748759345768\n",
      "   5%: -2.8639355566269677\n",
      "   10%: -2.5680454348767596\n",
      " The series is stationary (reject H0)\n"
     ]
    }
   ],
   "source": [
    "print(\"ADF Test for X:\")\n",
    "adf_test(pca_exo_sentiment)"
   ]
  },
  {
   "cell_type": "markdown",
   "metadata": {},
   "source": [
    "## Graph Plot for S&P Time series"
   ]
  },
  {
   "cell_type": "code",
   "execution_count": 321,
   "metadata": {},
   "outputs": [
    {
     "data": {
      "image/png": "[encoded data removed]",
      "text/plain": [
       "<Figure size 800x400 with 1 Axes>"
      ]
     },
     "metadata": {},
     "output_type": "display_data"
    }
   ],
   "source": [
    "import matplotlib.pyplot as plt\n",
    "\n",
    "# Create figure and axis\n",
    "fig, ax = plt.subplots(figsize=(8, 4))  # Adjust size as needed\n",
    "\n",
    "# Plot the log returns\n",
    "ax.plot(prices_df['log_returns'], color=\"red\", linewidth=1, label=\"Log Returns\")\n",
    "\n",
    "# Manually set the background to a subtle grey (like seaborn-darkgrid)\n",
    "#ax.set_facecolor(\"#f5f5f5\")  \n",
    "\n",
    "# Remove top and right spines for a cleaner look\n",
    "ax.spines['top'].set_visible(False)\n",
    "ax.spines['right'].set_visible(False)\n",
    "\n",
    "# Add axis labels\n",
    "ax.set_xlabel(\"Year\", fontsize=8)\n",
    "ax.set_ylabel(\"Log Returns\", fontsize=8)\n",
    "\n",
    "# Add a title\n",
    "#ax.set_title(\"Time Series of Log Returns\", fontsize=10)\n",
    "\n",
    "# Customize tick parameters for better readability\n",
    "ax.tick_params(axis=\"both\", which=\"major\", labelsize=10)\n",
    "\n",
    "# Add gridlines (light gray for a subtle effect)\n",
    "#ax.grid(True, linestyle=\"--\", linewidth=0.5, alpha=0.7, color=\"gray\")\n",
    "\n",
    "# Add a legend (optional)\n",
    "#ax.legend(frameon=False, fontsize=10)\n",
    "\n",
    "# Show the plot\n",
    "plt.show()\n"
   ]
  },
  {
   "cell_type": "markdown",
   "metadata": {},
   "source": []
  }
 ],
 "metadata": {
  "kernelspec": {
   "display_name": "venv",
   "language": "python",
   "name": "python3"
  },
  "language_info": {
   "codemirror_mode": {
    "name": "ipython",
    "version": 3
   },
   "file_extension": ".py",
   "mimetype": "text/x-python",
   "name": "python",
   "nbconvert_exporter": "python",
   "pygments_lexer": "ipython3",
   "version": "3.10.9"
  }
 },
 "nbformat": 4,
 "nbformat_minor": 2
}
