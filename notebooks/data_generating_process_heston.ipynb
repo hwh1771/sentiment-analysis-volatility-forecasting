{
 "cells": [
  {
   "cell_type": "code",
   "execution_count": 247,
   "metadata": {},
   "outputs": [],
   "source": [
    "import numpy as np\n",
    "#import seaborn as sns\n",
    "import matplotlib.pyplot as plt\n",
    "#from py_vollib_vectorized import vectorized_implied_volatility as implied_vol\n",
    "import random\n",
    "import pandas as pd"
   ]
  },
  {
   "cell_type": "markdown",
   "metadata": {},
   "source": [
    "### Heston Model SDE\n",
    "The heston model is defined by a system of SDEs, to describe the movement of asset prices, where an\n",
    "asset’s price and volatility follow random, Brownian motion processes (this is under real world measure $\\mathbb{P}$):\n",
    "\n",
    "$\\large dS_t = \\mu S_t dt + \\sqrt{v_t}S_t dW^\\mathbb{P}_{S,t}$\n",
    "    \n",
    "$\\large dv_t = \\kappa(\\theta - v_t)dt +\\sigma \\sqrt{v_t} dW^\\mathbb{P}_{v,t}$\n",
    "\n",
    "Where the variables are:\n",
    "- $\\sigma$ volatility of volatility\n",
    "- $\\theta$ long-term price variance\n",
    "- $\\kappa$ rate of reversion to the long-term price variance\n",
    "- $dW^\\mathbb{P}_{S,t}$ Brownian motion of asset price\n",
    "- $dW^\\mathbb{P}_{v,t}$ Brownian motion of asset's price variance\n",
    "- $\\rho^\\mathbb{P}$ correlation between $dW^\\mathbb{P}_{S,t}$ and $dW^\\mathbb{P}_{v,t}$\n",
    "\n",
    "Dynamics under risk-neutral measure $\\mathbb{Q}$:\n",
    "\n",
    "$\\large dS_t = r S_t dt + \\sqrt{v_t}S_t dW^\\mathbb{Q}_{S,t}$\n",
    "    \n",
    "$\\large dv_t = \\kappa^\\mathbb{Q}(\\theta^\\mathbb{Q} - v_t)dt +\\sigma^\\mathbb{Q} \\sqrt{v_t} dW^\\mathbb{Q}_{v,t}$"
   ]
  },
  {
   "cell_type": "markdown",
   "metadata": {},
   "source": []
  },
  {
   "cell_type": "code",
   "execution_count": null,
   "metadata": {},
   "outputs": [],
   "source": [
    "def heston_model_sim(S0, v0, rho, kappa, theta, sigma,T, N, M):\n",
    "    \"\"\"\n",
    "    Inputs:\n",
    "     - S0, v0: initial parameters for asset and variance\n",
    "     - rho   : correlation between asset returns and variance\n",
    "     - kappa : rate of mean reversion in variance process\n",
    "     - theta : long-term mean of variance process\n",
    "     - sigma : vol of vol / volatility of variance process\n",
    "     - T     : time of simulation\n",
    "     - N     : number of time steps\n",
    "     - M     : number of scenarios / simulations\n",
    "\n",
    "    Outputs:\n",
    "    - asset prices over time (numpy array)\n",
    "    - variance over time (numpy array)\n",
    "    \"\"\"\n",
    "    # initialise other parameters\n",
    "    \n",
    "    x = []\n",
    "    dt = T/N\n",
    "    mu = np.array([0,0])\n",
    "    cov = np.array([[1,rho],\n",
    "                    [rho,1]])\n",
    "\n",
    "    # arrays for storing prices and variances\n",
    "    S = np.full(shape=(N+1,M), fill_value=S0)\n",
    "    v = np.full(shape=(N+1,M), fill_value=v0)\n",
    "\n",
    "    # sampling correlated brownian motions under risk-neutral measure\n",
    "    Z = np.random.multivariate_normal(mu, cov, (N,M))\n",
    "    random.seed(420)\n",
    "    np.random.seed(420)\n",
    "    x = 0.02 * np.random.randn(N, 1)\n",
    "    print(x)\n",
    "    for i in range(1,N+1):\n",
    "        S[i] = S[i-1] * np.exp( (r - 0.5*v[i-1])*dt + np.sqrt(v[i-1] * dt) * Z[i-1,:,0] )\n",
    "        v[i] = np.maximum(v[i-1] + kappa*(theta-v[i-1])*dt + sigma*np.sqrt(v[i-1]*dt)*Z[i-1,:,1], 0)  #+ x[i-1] ** 2\n",
    "\n",
    "    return S, v"
   ]
  },
  {
   "cell_type": "code",
   "execution_count": 249,
   "metadata": {},
   "outputs": [],
   "source": [
    "def simulate_heston(\n",
    "    S0: float, V0: float, mu: float, kappa: float, theta: float,\n",
    "    sigma: float, rho: float, T: float, N: int, M: int\n",
    "):\n",
    "    \"\"\"\n",
    "    Simulates asset prices and variance using the Heston stochastic volatility model.\n",
    "\n",
    "    Parameters:\n",
    "        S0 (float): Initial asset price\n",
    "        V0 (float): Initial variance\n",
    "        mu (float): Drift of the asset price\n",
    "        kappa (float): Mean-reversion speed of variance\n",
    "        theta (float): Long-run mean of variance\n",
    "        sigma (float): Volatility of variance (vol of vol)\n",
    "        rho (float): Correlation between asset and variance processes\n",
    "        T (float): Total simulation time\n",
    "        N (int): Number of time steps\n",
    "        M (int): Number of simulation paths\n",
    "\n",
    "    Returns:\n",
    "        Tuple[np.ndarray, np.ndarray]: Simulated asset prices and variances (shape: (M, N+1))\n",
    "    \"\"\"\n",
    "    dt = T / N\n",
    "    \n",
    "    # Initialize arrays for asset prices (S) and variance (V)\n",
    "    S = np.zeros((M, N + 1))\n",
    "    V = np.zeros((M, N + 1))\n",
    "    \n",
    "    # Set initial values\n",
    "    S[:, 0] = S0\n",
    "    V[:, 0] = V0\n",
    "    \n",
    "    # Generate correlated Brownian motions\n",
    "    W_t1 = np.random.randn(M, N) * np.sqrt(dt)\n",
    "    W_t2 = rho * W_t1 + np.sqrt(1 - rho**2) * np.random.randn(M, N) * np.sqrt(dt)\n",
    "    \n",
    "    # Euler-Maruyama simulation\n",
    "    for t in range(N):\n",
    "        V_t = V[:, t]\n",
    "        V_t = np.maximum(V_t, 0)  # Ensure non-negative variance\n",
    "        \n",
    "        dV = kappa * (theta - V_t) * dt + sigma * np.sqrt(V_t) * W_t2[:, t]\n",
    "        dS = mu * S[:, t] * dt + np.sqrt(V_t) * S[:, t] * W_t1[:, t]\n",
    "        \n",
    "        V[:, t + 1] = V_t + dV\n",
    "        S[:, t + 1] = S[:, t] + dS\n",
    "    return S, V"
   ]
  },
  {
   "cell_type": "code",
   "execution_count": 259,
   "metadata": {},
   "outputs": [
    {
     "data": {
      "text/plain": [
       "(0.04000000000000001, 0.0625)"
      ]
     },
     "execution_count": 259,
     "metadata": {},
     "output_type": "execute_result"
    }
   ],
   "source": [
    "# Parameters\n",
    "# simulation dependent\n",
    "S0 = 100.0             # asset price\n",
    "T = 1.0                # time in years\n",
    "r = 0.02               # risk-free rate\n",
    "N = 252*6               # number of time steps in simulation\n",
    "M = 1                  # number of simulations\n",
    "\n",
    "# Heston dependent parameters\n",
    "kappa = 6            # rate of mean reversion of variance under risk-neutral dynamics\n",
    "theta = 0.20**2        # long-term mean of variance under risk-neutral dynamics\n",
    "v0 = 0.25**2           # initial variance under risk-neutral dynamics\n",
    "rho = 0.7              # correlation between returns and variances under risk-neutral dynamics\n",
    "sigma = 0.5            # volatility of volatility\n",
    "\n",
    "theta, v0"
   ]
  },
  {
   "cell_type": "code",
   "execution_count": 260,
   "metadata": {},
   "outputs": [
    {
     "data": {
      "text/plain": [
       "0.2300000000000001"
      ]
     },
     "execution_count": 260,
     "metadata": {},
     "output_type": "execute_result"
    }
   ],
   "source": [
    "2 * kappa * theta - sigma**2"
   ]
  },
  {
   "cell_type": "code",
   "execution_count": 261,
   "metadata": {},
   "outputs": [
    {
     "name": "stdout",
     "output_type": "stream",
     "text": [
      "[[-0.00970782]\n",
      " [-0.03810308]\n",
      " [-0.01052444]\n",
      " ...\n",
      " [ 0.010574  ]\n",
      " [ 0.01018284]\n",
      " [-0.00040897]]\n"
     ]
    }
   ],
   "source": [
    "rho_p = 0.98\n",
    "rho_n = -0.98\n",
    "random.seed(420)\n",
    "np.random.seed(420)\n",
    "S_p,v_p, v_no_x_p = heston_model_sim(S0, v0, rho_p, kappa, theta, sigma,T, N, M)\n",
    "#S_n,v_n = heston_model_sim(S0, v0, rho_n, kappa, theta, sigma,T, N, M)"
   ]
  },
  {
   "cell_type": "code",
   "execution_count": null,
   "metadata": {},
   "outputs": [],
   "source": [
    "#S_p ,v_p = simulate_heston(S0, v0, 0.1, kappa, theta, sigma, rho, T, N, M)"
   ]
  },
  {
   "cell_type": "code",
   "execution_count": 263,
   "metadata": {},
   "outputs": [
    {
     "data": {
      "text/plain": [
       "1"
      ]
     },
     "execution_count": 263,
     "metadata": {},
     "output_type": "execute_result"
    }
   ],
   "source": [
    "len(S_p)"
   ]
  },
  {
   "cell_type": "code",
   "execution_count": 264,
   "metadata": {},
   "outputs": [
    {
     "data": {
      "image/png": "[encoded data removed]",
      "text/plain": [
       "<Figure size 1200x500 with 2 Axes>"
      ]
     },
     "metadata": {},
     "output_type": "display_data"
    }
   ],
   "source": [
    "fig, (ax1, ax2)  = plt.subplots(1, 2, figsize=(12,5))\n",
    "time = np.linspace(0,T,N+1)\n",
    "ax1.plot(time, S_p[0])\n",
    "ax1.set_title('Heston Model Asset Prices')\n",
    "ax1.set_xlabel('Time')\n",
    "ax1.set_ylabel('Asset Prices')\n",
    "\n",
    "ax2.plot(time,v_p[0], label='with exo')\n",
    "ax2.set_title('Heston Model Variance Process')\n",
    "ax2.set_xlabel('Time')\n",
    "ax2.set_ylabel('Variance')\n",
    "\n",
    "ax2.plot(time,v_no_x_p, label='without exo')\n",
    "\n",
    "ax2.legend()\n",
    "\n",
    "plt.show()"
   ]
  },
  {
   "cell_type": "code",
   "execution_count": 238,
   "metadata": {},
   "outputs": [],
   "source": [
    "from garch import GARCH\n",
    "from arch import arch_model\n"
   ]
  },
  {
   "cell_type": "code",
   "execution_count": 239,
   "metadata": {},
   "outputs": [
    {
     "data": {
      "text/plain": [
       "112.18854012902774"
      ]
     },
     "execution_count": 239,
     "metadata": {},
     "output_type": "execute_result"
    }
   ],
   "source": [
    "np.mean(S_p)"
   ]
  },
  {
   "cell_type": "code",
   "execution_count": 240,
   "metadata": {},
   "outputs": [
    {
     "ename": "ValueError",
     "evalue": "Shape of passed values is (1, 1513), indices imply (1, 1)",
     "output_type": "error",
     "traceback": [
      "\u001b[1;31m---------------------------------------------------------------------------\u001b[0m",
      "\u001b[1;31mValueError\u001b[0m                                Traceback (most recent call last)",
      "Cell \u001b[1;32mIn[240], line 1\u001b[0m\n\u001b[1;32m----> 1\u001b[0m prices_df \u001b[38;5;241m=\u001b[39m \u001b[43mpd\u001b[49m\u001b[38;5;241;43m.\u001b[39;49m\u001b[43mDataFrame\u001b[49m\u001b[43m(\u001b[49m\u001b[43mS_p\u001b[49m\u001b[43m,\u001b[49m\u001b[43m \u001b[49m\u001b[43mcolumns\u001b[49m\u001b[43m \u001b[49m\u001b[38;5;241;43m=\u001b[39;49m\u001b[43m \u001b[49m\u001b[43m[\u001b[49m\u001b[38;5;124;43m'\u001b[39;49m\u001b[38;5;124;43mPrices\u001b[39;49m\u001b[38;5;124;43m'\u001b[39;49m\u001b[43m]\u001b[49m\u001b[43m)\u001b[49m\n",
      "File \u001b[1;32md:\\Programming\\sentiment-analysis-volatility-forecasting\\venv\\lib\\site-packages\\pandas\\core\\frame.py:827\u001b[0m, in \u001b[0;36mDataFrame.__init__\u001b[1;34m(self, data, index, columns, dtype, copy)\u001b[0m\n\u001b[0;32m    816\u001b[0m         mgr \u001b[38;5;241m=\u001b[39m dict_to_mgr(\n\u001b[0;32m    817\u001b[0m             \u001b[38;5;66;03m# error: Item \"ndarray\" of \"Union[ndarray, Series, Index]\" has no\u001b[39;00m\n\u001b[0;32m    818\u001b[0m             \u001b[38;5;66;03m# attribute \"name\"\u001b[39;00m\n\u001b[1;32m   (...)\u001b[0m\n\u001b[0;32m    824\u001b[0m             copy\u001b[38;5;241m=\u001b[39m_copy,\n\u001b[0;32m    825\u001b[0m         )\n\u001b[0;32m    826\u001b[0m     \u001b[38;5;28;01melse\u001b[39;00m:\n\u001b[1;32m--> 827\u001b[0m         mgr \u001b[38;5;241m=\u001b[39m \u001b[43mndarray_to_mgr\u001b[49m\u001b[43m(\u001b[49m\n\u001b[0;32m    828\u001b[0m \u001b[43m            \u001b[49m\u001b[43mdata\u001b[49m\u001b[43m,\u001b[49m\n\u001b[0;32m    829\u001b[0m \u001b[43m            \u001b[49m\u001b[43mindex\u001b[49m\u001b[43m,\u001b[49m\n\u001b[0;32m    830\u001b[0m \u001b[43m            \u001b[49m\u001b[43mcolumns\u001b[49m\u001b[43m,\u001b[49m\n\u001b[0;32m    831\u001b[0m \u001b[43m            \u001b[49m\u001b[43mdtype\u001b[49m\u001b[38;5;241;43m=\u001b[39;49m\u001b[43mdtype\u001b[49m\u001b[43m,\u001b[49m\n\u001b[0;32m    832\u001b[0m \u001b[43m            \u001b[49m\u001b[43mcopy\u001b[49m\u001b[38;5;241;43m=\u001b[39;49m\u001b[43mcopy\u001b[49m\u001b[43m,\u001b[49m\n\u001b[0;32m    833\u001b[0m \u001b[43m            \u001b[49m\u001b[43mtyp\u001b[49m\u001b[38;5;241;43m=\u001b[39;49m\u001b[43mmanager\u001b[49m\u001b[43m,\u001b[49m\n\u001b[0;32m    834\u001b[0m \u001b[43m        \u001b[49m\u001b[43m)\u001b[49m\n\u001b[0;32m    836\u001b[0m \u001b[38;5;66;03m# For data is list-like, or Iterable (will consume into list)\u001b[39;00m\n\u001b[0;32m    837\u001b[0m \u001b[38;5;28;01melif\u001b[39;00m is_list_like(data):\n",
      "File \u001b[1;32md:\\Programming\\sentiment-analysis-volatility-forecasting\\venv\\lib\\site-packages\\pandas\\core\\internals\\construction.py:336\u001b[0m, in \u001b[0;36mndarray_to_mgr\u001b[1;34m(values, index, columns, dtype, copy, typ)\u001b[0m\n\u001b[0;32m    331\u001b[0m \u001b[38;5;66;03m# _prep_ndarraylike ensures that values.ndim == 2 at this point\u001b[39;00m\n\u001b[0;32m    332\u001b[0m index, columns \u001b[38;5;241m=\u001b[39m _get_axes(\n\u001b[0;32m    333\u001b[0m     values\u001b[38;5;241m.\u001b[39mshape[\u001b[38;5;241m0\u001b[39m], values\u001b[38;5;241m.\u001b[39mshape[\u001b[38;5;241m1\u001b[39m], index\u001b[38;5;241m=\u001b[39mindex, columns\u001b[38;5;241m=\u001b[39mcolumns\n\u001b[0;32m    334\u001b[0m )\n\u001b[1;32m--> 336\u001b[0m \u001b[43m_check_values_indices_shape_match\u001b[49m\u001b[43m(\u001b[49m\u001b[43mvalues\u001b[49m\u001b[43m,\u001b[49m\u001b[43m \u001b[49m\u001b[43mindex\u001b[49m\u001b[43m,\u001b[49m\u001b[43m \u001b[49m\u001b[43mcolumns\u001b[49m\u001b[43m)\u001b[49m\n\u001b[0;32m    338\u001b[0m \u001b[38;5;28;01mif\u001b[39;00m typ \u001b[38;5;241m==\u001b[39m \u001b[38;5;124m\"\u001b[39m\u001b[38;5;124marray\u001b[39m\u001b[38;5;124m\"\u001b[39m:\n\u001b[0;32m    339\u001b[0m     \u001b[38;5;28;01mif\u001b[39;00m \u001b[38;5;28missubclass\u001b[39m(values\u001b[38;5;241m.\u001b[39mdtype\u001b[38;5;241m.\u001b[39mtype, \u001b[38;5;28mstr\u001b[39m):\n",
      "File \u001b[1;32md:\\Programming\\sentiment-analysis-volatility-forecasting\\venv\\lib\\site-packages\\pandas\\core\\internals\\construction.py:420\u001b[0m, in \u001b[0;36m_check_values_indices_shape_match\u001b[1;34m(values, index, columns)\u001b[0m\n\u001b[0;32m    418\u001b[0m passed \u001b[38;5;241m=\u001b[39m values\u001b[38;5;241m.\u001b[39mshape\n\u001b[0;32m    419\u001b[0m implied \u001b[38;5;241m=\u001b[39m (\u001b[38;5;28mlen\u001b[39m(index), \u001b[38;5;28mlen\u001b[39m(columns))\n\u001b[1;32m--> 420\u001b[0m \u001b[38;5;28;01mraise\u001b[39;00m \u001b[38;5;167;01mValueError\u001b[39;00m(\u001b[38;5;124mf\u001b[39m\u001b[38;5;124m\"\u001b[39m\u001b[38;5;124mShape of passed values is \u001b[39m\u001b[38;5;132;01m{\u001b[39;00mpassed\u001b[38;5;132;01m}\u001b[39;00m\u001b[38;5;124m, indices imply \u001b[39m\u001b[38;5;132;01m{\u001b[39;00mimplied\u001b[38;5;132;01m}\u001b[39;00m\u001b[38;5;124m\"\u001b[39m)\n",
      "\u001b[1;31mValueError\u001b[0m: Shape of passed values is (1, 1513), indices imply (1, 1)"
     ]
    }
   ],
   "source": [
    "prices_df = pd.DataFrame(S_p, columns = ['Prices'])\n"
   ]
  },
  {
   "cell_type": "code",
   "execution_count": 241,
   "metadata": {},
   "outputs": [],
   "source": [
    "prices_df['returns'] = prices_df['Prices'].pct_change()\n",
    "prices_df['log_returns'] = np.log(prices_df['Prices'] /prices_df['Prices'].shift(1))"
   ]
  },
  {
   "cell_type": "code",
   "execution_count": 242,
   "metadata": {},
   "outputs": [],
   "source": [
    "prices_df = prices_df[1:]"
   ]
  },
  {
   "cell_type": "code",
   "execution_count": 243,
   "metadata": {},
   "outputs": [
    {
     "data": {
      "application/vnd.microsoft.datawrangler.viewer.v0+json": {
       "columns": [
        {
         "name": "index",
         "rawType": "int64",
         "type": "integer"
        },
        {
         "name": "Prices",
         "rawType": "float64",
         "type": "float"
        },
        {
         "name": "returns",
         "rawType": "float64",
         "type": "float"
        },
        {
         "name": "log_returns",
         "rawType": "float64",
         "type": "float"
        }
       ],
       "conversionMethod": "pd.DataFrame",
       "ref": "ca7afdbd-3cb9-483a-bd6f-bf85bc12df35",
       "rows": [
        [
         "2",
         "100.7933570584214",
         "0.003586155323352269",
         "0.0035797404003828936"
        ],
        [
         "3",
         "100.51401993784678",
         "-0.002771384233315244",
         "-0.002775231628650868"
        ],
        [
         "4",
         "100.89646595654673",
         "0.0038049022309170066",
         "0.0037976818997309046"
        ],
        [
         "5",
         "99.9221651705062",
         "-0.009656441152856021",
         "-0.009703366915656472"
        ],
        [
         "6",
         "100.46202718477441",
         "0.005402825422637703",
         "0.005388282519691349"
        ],
        [
         "7",
         "100.9007212593865",
         "0.0043667651042440525",
         "0.004357258451006313"
        ],
        [
         "8",
         "100.53741382850974",
         "-0.0036006425557930655",
         "-0.003607140471671161"
        ],
        [
         "9",
         "100.94433687984461",
         "0.004047478802557736",
         "0.004039309795399298"
        ],
        [
         "10",
         "101.07076010666704",
         "0.001252405342688112",
         "0.0012516217373097192"
        ],
        [
         "11",
         "100.79095514284703",
         "-0.002768406644263033",
         "-0.002772245769079848"
        ],
        [
         "12",
         "101.97411292743612",
         "0.011738729759156019",
         "0.011670365358353795"
        ],
        [
         "13",
         "101.83715812686187",
         "-0.0013430349786098805",
         "-0.0013439376583976388"
        ],
        [
         "14",
         "100.88106780410759",
         "-0.009388423050486594",
         "-0.00943277209080494"
        ],
        [
         "15",
         "101.58217940940148",
         "0.006949882872525848",
         "0.006925843751669698"
        ],
        [
         "16",
         "101.15484852698432",
         "-0.00420675048420549",
         "-0.00421562375285186"
        ],
        [
         "17",
         "100.85452175132528",
         "-0.0029689805286884363",
         "-0.002973396694551362"
        ],
        [
         "18",
         "100.6104941407122",
         "-0.002419600097006702",
         "-0.0024225320597277902"
        ],
        [
         "19",
         "101.25020349372501",
         "0.006358276623888992",
         "0.0063381480600051355"
        ],
        [
         "20",
         "101.83492031861222",
         "0.005774969379922723",
         "0.005758358166403462"
        ],
        [
         "21",
         "100.19828493503562",
         "-0.016071455434501614",
         "-0.016202001878133622"
        ],
        [
         "22",
         "100.51782106108463",
         "0.0031890378788039797",
         "0.0031839636825151587"
        ],
        [
         "23",
         "100.45673904028638",
         "-0.0006076735463766969",
         "-0.0006078582547782434"
        ],
        [
         "24",
         "100.84290625059266",
         "0.003844114531245335",
         "0.00383674480366075"
        ],
        [
         "25",
         "101.27352595070296",
         "0.004270203191488964",
         "0.004261111746197425"
        ],
        [
         "26",
         "101.91486797602636",
         "0.0063327707740281625",
         "0.006312803037583369"
        ],
        [
         "27",
         "102.02565032372625",
         "0.00108700869559053",
         "0.0010864183294217599"
        ],
        [
         "28",
         "101.92273400968983",
         "-0.0010087298018671698",
         "-0.0010092389121723775"
        ],
        [
         "29",
         "102.3763980297449",
         "0.00445105819092273",
         "0.004441181528301476"
        ],
        [
         "30",
         "103.44139176556398",
         "0.010402727155038649",
         "0.010348991135061013"
        ],
        [
         "31",
         "102.45469767568457",
         "-0.009538677632215276",
         "-0.009584462199804536"
        ],
        [
         "32",
         "101.5097284093645",
         "-0.009223288807228003",
         "-0.009266086696902912"
        ],
        [
         "33",
         "101.82216700770196",
         "0.0030779177841702143",
         "0.003073190692476381"
        ],
        [
         "34",
         "102.60385683528976",
         "0.007677010326530009",
         "0.007647692038349651"
        ],
        [
         "35",
         "102.1276441134833",
         "-0.0046412750601658725",
         "-0.004652079220272438"
        ],
        [
         "36",
         "102.21799609542045",
         "0.0008846966237343601",
         "0.0008843055103371394"
        ],
        [
         "37",
         "102.48361330518128",
         "0.002598536656039263",
         "0.002595166297067844"
        ],
        [
         "38",
         "101.29903458215026",
         "-0.01155871348430626",
         "-0.011626034680078858"
        ],
        [
         "39",
         "102.26853281621331",
         "0.009570656206765893",
         "0.00952514761099461"
        ],
        [
         "40",
         "102.4069554583782",
         "0.0013535213457462891",
         "0.001352606161450834"
        ],
        [
         "41",
         "102.99372022224826",
         "0.005729735458335439",
         "0.0057133829580570845"
        ],
        [
         "42",
         "102.55526256232729",
         "-0.004257130036421919",
         "-0.004266217414432394"
        ],
        [
         "43",
         "102.92599591564846",
         "0.0036149617684988478",
         "0.0036084434983467816"
        ],
        [
         "44",
         "102.34930212187932",
         "-0.005602994546118012",
         "-0.00561875020018409"
        ],
        [
         "45",
         "102.57859027605888",
         "0.00224025127114702",
         "0.002237745649718031"
        ],
        [
         "46",
         "102.75197185022087",
         "0.0016902315940918733",
         "0.0016888047602312303"
        ],
        [
         "47",
         "102.94320923204675",
         "0.001861155347020027",
         "0.0018594255433634882"
        ],
        [
         "48",
         "102.5807588064847",
         "-0.003520877465021055",
         "-0.003527090341554408"
        ],
        [
         "49",
         "102.3897959042452",
         "-0.0018615859783192024",
         "-0.0018633208829469752"
        ],
        [
         "50",
         "103.16126741031742",
         "0.007534652249856055",
         "0.0075064085398919705"
        ],
        [
         "51",
         "102.94198980678782",
         "-0.0021255807439573005",
         "-0.002127842997009674"
        ]
       ],
       "shape": {
        "columns": 3,
        "rows": 1511
       }
      },
      "text/html": [
       "<div>\n",
       "<style scoped>\n",
       "    .dataframe tbody tr th:only-of-type {\n",
       "        vertical-align: middle;\n",
       "    }\n",
       "\n",
       "    .dataframe tbody tr th {\n",
       "        vertical-align: top;\n",
       "    }\n",
       "\n",
       "    .dataframe thead th {\n",
       "        text-align: right;\n",
       "    }\n",
       "</style>\n",
       "<table border=\"1\" class=\"dataframe\">\n",
       "  <thead>\n",
       "    <tr style=\"text-align: right;\">\n",
       "      <th></th>\n",
       "      <th>Prices</th>\n",
       "      <th>returns</th>\n",
       "      <th>log_returns</th>\n",
       "    </tr>\n",
       "  </thead>\n",
       "  <tbody>\n",
       "    <tr>\n",
       "      <th>2</th>\n",
       "      <td>100.793357</td>\n",
       "      <td>0.003586</td>\n",
       "      <td>0.003580</td>\n",
       "    </tr>\n",
       "    <tr>\n",
       "      <th>3</th>\n",
       "      <td>100.514020</td>\n",
       "      <td>-0.002771</td>\n",
       "      <td>-0.002775</td>\n",
       "    </tr>\n",
       "    <tr>\n",
       "      <th>4</th>\n",
       "      <td>100.896466</td>\n",
       "      <td>0.003805</td>\n",
       "      <td>0.003798</td>\n",
       "    </tr>\n",
       "    <tr>\n",
       "      <th>5</th>\n",
       "      <td>99.922165</td>\n",
       "      <td>-0.009656</td>\n",
       "      <td>-0.009703</td>\n",
       "    </tr>\n",
       "    <tr>\n",
       "      <th>6</th>\n",
       "      <td>100.462027</td>\n",
       "      <td>0.005403</td>\n",
       "      <td>0.005388</td>\n",
       "    </tr>\n",
       "    <tr>\n",
       "      <th>...</th>\n",
       "      <td>...</td>\n",
       "      <td>...</td>\n",
       "      <td>...</td>\n",
       "    </tr>\n",
       "    <tr>\n",
       "      <th>1508</th>\n",
       "      <td>71.338698</td>\n",
       "      <td>-0.019037</td>\n",
       "      <td>-0.019221</td>\n",
       "    </tr>\n",
       "    <tr>\n",
       "      <th>1509</th>\n",
       "      <td>70.773402</td>\n",
       "      <td>-0.007924</td>\n",
       "      <td>-0.007956</td>\n",
       "    </tr>\n",
       "    <tr>\n",
       "      <th>1510</th>\n",
       "      <td>71.082114</td>\n",
       "      <td>0.004362</td>\n",
       "      <td>0.004352</td>\n",
       "    </tr>\n",
       "    <tr>\n",
       "      <th>1511</th>\n",
       "      <td>70.375677</td>\n",
       "      <td>-0.009938</td>\n",
       "      <td>-0.009988</td>\n",
       "    </tr>\n",
       "    <tr>\n",
       "      <th>1512</th>\n",
       "      <td>71.118404</td>\n",
       "      <td>0.010554</td>\n",
       "      <td>0.010498</td>\n",
       "    </tr>\n",
       "  </tbody>\n",
       "</table>\n",
       "<p>1511 rows × 3 columns</p>\n",
       "</div>"
      ],
      "text/plain": [
       "          Prices   returns  log_returns\n",
       "2     100.793357  0.003586     0.003580\n",
       "3     100.514020 -0.002771    -0.002775\n",
       "4     100.896466  0.003805     0.003798\n",
       "5      99.922165 -0.009656    -0.009703\n",
       "6     100.462027  0.005403     0.005388\n",
       "...          ...       ...          ...\n",
       "1508   71.338698 -0.019037    -0.019221\n",
       "1509   70.773402 -0.007924    -0.007956\n",
       "1510   71.082114  0.004362     0.004352\n",
       "1511   70.375677 -0.009938    -0.009988\n",
       "1512   71.118404  0.010554     0.010498\n",
       "\n",
       "[1511 rows x 3 columns]"
      ]
     },
     "execution_count": 243,
     "metadata": {},
     "output_type": "execute_result"
    }
   ],
   "source": [
    "prices_df"
   ]
  },
  {
   "cell_type": "code",
   "execution_count": 244,
   "metadata": {},
   "outputs": [
    {
     "data": {
      "text/html": [
       "<table class=\"simpletable\">\n",
       "<caption>Zero Mean - GARCH Model Results</caption>\n",
       "<tr>\n",
       "  <th>Dep. Variable:</th>     <td>log_returns</td>    <th>  R-squared:         </th>  <td>   0.000</td> \n",
       "</tr>\n",
       "<tr>\n",
       "  <th>Mean Model:</th>         <td>Zero Mean</td>     <th>  Adj. R-squared:    </th>  <td>   0.001</td> \n",
       "</tr>\n",
       "<tr>\n",
       "  <th>Vol Model:</th>            <td>GARCH</td>       <th>  Log-Likelihood:    </th> <td>  -1184.06</td>\n",
       "</tr>\n",
       "<tr>\n",
       "  <th>Distribution:</th>        <td>Normal</td>       <th>  AIC:               </th> <td>   2374.12</td>\n",
       "</tr>\n",
       "<tr>\n",
       "  <th>Method:</th>        <td>Maximum Likelihood</td> <th>  BIC:               </th> <td>   2390.08</td>\n",
       "</tr>\n",
       "<tr>\n",
       "  <th></th>                        <td></td>          <th>  No. Observations:  </th>    <td>1511</td>   \n",
       "</tr>\n",
       "<tr>\n",
       "  <th>Date:</th>           <td>Fri, Mar 07 2025</td>  <th>  Df Residuals:      </th>    <td>1511</td>   \n",
       "</tr>\n",
       "<tr>\n",
       "  <th>Time:</th>               <td>22:44:17</td>      <th>  Df Model:          </th>      <td>0</td>    \n",
       "</tr>\n",
       "</table>\n",
       "<table class=\"simpletable\">\n",
       "<caption>Volatility Model</caption>\n",
       "<tr>\n",
       "      <td></td>        <th>coef</th>     <th>std err</th>      <th>t</th>       <th>P>|t|</th>      <th>95.0% Conf. Int.</th>   \n",
       "</tr>\n",
       "<tr>\n",
       "  <th>omega</th>    <td>3.5201e-03</td> <td>2.324e-03</td> <td>    1.515</td> <td>    0.130</td> <td>[-1.035e-03,8.075e-03]</td>\n",
       "</tr>\n",
       "<tr>\n",
       "  <th>alpha[1]</th> <td>    0.0151</td> <td>6.524e-03</td> <td>    2.320</td> <td>2.032e-02</td>  <td>[2.351e-03,2.792e-02]</td>\n",
       "</tr>\n",
       "<tr>\n",
       "  <th>beta[1]</th>  <td>    0.9725</td> <td>1.165e-02</td> <td>   83.443</td>   <td>0.000</td>      <td>[  0.950,  0.995]</td>  \n",
       "</tr>\n",
       "</table><br/><br/>Covariance estimator: robust"
      ],
      "text/latex": [
       "\\begin{center}\n",
       "\\begin{tabular}{lclc}\n",
       "\\toprule\n",
       "\\textbf{Dep. Variable:} &    log\\_returns    & \\textbf{  R-squared:         } &     0.000   \\\\\n",
       "\\textbf{Mean Model:}    &     Zero Mean      & \\textbf{  Adj. R-squared:    } &     0.001   \\\\\n",
       "\\textbf{Vol Model:}     &       GARCH        & \\textbf{  Log-Likelihood:    } &   -1184.06  \\\\\n",
       "\\textbf{Distribution:}  &       Normal       & \\textbf{  AIC:               } &    2374.12  \\\\\n",
       "\\textbf{Method:}        & Maximum Likelihood & \\textbf{  BIC:               } &    2390.08  \\\\\n",
       "\\textbf{}               &                    & \\textbf{  No. Observations:  } &    1511     \\\\\n",
       "\\textbf{Date:}          &  Fri, Mar 07 2025  & \\textbf{  Df Residuals:      } &    1511     \\\\\n",
       "\\textbf{Time:}          &      22:44:17      & \\textbf{  Df Model:          } &     0       \\\\\n",
       "\\bottomrule\n",
       "\\end{tabular}\n",
       "\\begin{tabular}{lccccc}\n",
       "                  & \\textbf{coef} & \\textbf{std err} & \\textbf{t} & \\textbf{P$> |$t$|$} & \\textbf{95.0\\% Conf. Int.}  \\\\\n",
       "\\midrule\n",
       "\\textbf{omega}    &   3.5201e-03  &    2.324e-03     &     1.515  &          0.130       &   [-1.035e-03,8.075e-03]    \\\\\n",
       "\\textbf{alpha[1]} &       0.0151  &    6.524e-03     &     2.320  &      2.032e-02       &   [2.351e-03,2.792e-02]     \\\\\n",
       "\\textbf{beta[1]}  &       0.9725  &    1.165e-02     &    83.443  &        0.000         &     [  0.950,  0.995]       \\\\\n",
       "\\bottomrule\n",
       "\\end{tabular}\n",
       "%\\caption{Zero Mean - GARCH Model Results}\n",
       "\\end{center}\n",
       "\n",
       "Covariance estimator: robust"
      ],
      "text/plain": [
       "<class 'statsmodels.iolib.summary.Summary'>\n",
       "\"\"\"\n",
       "                       Zero Mean - GARCH Model Results                        \n",
       "==============================================================================\n",
       "Dep. Variable:            log_returns   R-squared:                       0.000\n",
       "Mean Model:                 Zero Mean   Adj. R-squared:                  0.001\n",
       "Vol Model:                      GARCH   Log-Likelihood:               -1184.06\n",
       "Distribution:                  Normal   AIC:                           2374.12\n",
       "Method:            Maximum Likelihood   BIC:                           2390.08\n",
       "                                        No. Observations:                 1511\n",
       "Date:                Fri, Mar 07 2025   Df Residuals:                     1511\n",
       "Time:                        22:44:17   Df Model:                            0\n",
       "                               Volatility Model                              \n",
       "=============================================================================\n",
       "                 coef    std err          t      P>|t|       95.0% Conf. Int.\n",
       "-----------------------------------------------------------------------------\n",
       "omega      3.5201e-03  2.324e-03      1.515      0.130 [-1.035e-03,8.075e-03]\n",
       "alpha[1]       0.0151  6.524e-03      2.320  2.032e-02  [2.351e-03,2.792e-02]\n",
       "beta[1]        0.9725  1.165e-02     83.443      0.000      [  0.950,  0.995]\n",
       "=============================================================================\n",
       "\n",
       "Covariance estimator: robust\n",
       "\"\"\""
      ]
     },
     "execution_count": 244,
     "metadata": {},
     "output_type": "execute_result"
    }
   ],
   "source": [
    "# Fit using ARCH library, without exogeneous\n",
    "model = arch_model(100*prices_df['log_returns'], vol='GARCH', mean='zero', p=1, q=1)\n",
    "garch_fit = model.fit(disp='off')\n",
    "\n",
    "garch_fit.summary()"
   ]
  },
  {
   "cell_type": "code",
   "execution_count": 245,
   "metadata": {},
   "outputs": [],
   "source": [
    "random.seed(420)\n",
    "np.random.seed(420)\n",
    "exo = 0.01 * np.random.randn(N, 1)"
   ]
  },
  {
   "cell_type": "code",
   "execution_count": 246,
   "metadata": {},
   "outputs": [
    {
     "ename": "AssertionError",
     "evalue": "Length of y and x are not equal.",
     "output_type": "error",
     "traceback": [
      "\u001b[1;31m---------------------------------------------------------------------------\u001b[0m",
      "\u001b[1;31mAssertionError\u001b[0m                            Traceback (most recent call last)",
      "Cell \u001b[1;32mIn[246], line 2\u001b[0m\n\u001b[0;32m      1\u001b[0m garch_with_sentiment \u001b[38;5;241m=\u001b[39m GARCH(p\u001b[38;5;241m=\u001b[39m\u001b[38;5;241m1\u001b[39m, q\u001b[38;5;241m=\u001b[39m\u001b[38;5;241m1\u001b[39m, z\u001b[38;5;241m=\u001b[39m\u001b[38;5;241m1\u001b[39m, verbose\u001b[38;5;241m=\u001b[39m\u001b[38;5;28;01mTrue\u001b[39;00m)\n\u001b[1;32m----> 2\u001b[0m \u001b[43mgarch_with_sentiment\u001b[49m\u001b[38;5;241;43m.\u001b[39;49m\u001b[43mtrain\u001b[49m\u001b[43m(\u001b[49m\u001b[38;5;241;43m100\u001b[39;49m\u001b[38;5;241;43m*\u001b[39;49m\u001b[43mprices_df\u001b[49m\u001b[43m[\u001b[49m\u001b[38;5;124;43m'\u001b[39;49m\u001b[38;5;124;43mlog_returns\u001b[39;49m\u001b[38;5;124;43m'\u001b[39;49m\u001b[43m]\u001b[49m\u001b[43m,\u001b[49m\u001b[43m \u001b[49m\u001b[43mx\u001b[49m\u001b[43m \u001b[49m\u001b[38;5;241;43m=\u001b[39;49m\u001b[43m \u001b[49m\u001b[43mexo\u001b[49m\u001b[43m)\u001b[49m\n\u001b[0;32m      4\u001b[0m garch_with_sentiment\u001b[38;5;241m.\u001b[39msummary()\n",
      "File \u001b[1;32md:\\Programming\\sentiment-analysis-volatility-forecasting\\notebooks\\garch.py:124\u001b[0m, in \u001b[0;36mGARCH.train\u001b[1;34m(self, y, x, callback_func, maxiter, method)\u001b[0m\n\u001b[0;32m    121\u001b[0m e \u001b[38;5;241m=\u001b[39m \u001b[38;5;28mself\u001b[39m\u001b[38;5;241m.\u001b[39my \u001b[38;5;241m-\u001b[39m \u001b[38;5;28mself\u001b[39m\u001b[38;5;241m.\u001b[39mmu\n\u001b[0;32m    123\u001b[0m \u001b[38;5;28;01mif\u001b[39;00m x \u001b[38;5;129;01mis\u001b[39;00m \u001b[38;5;129;01mnot\u001b[39;00m \u001b[38;5;28;01mNone\u001b[39;00m:\n\u001b[1;32m--> 124\u001b[0m     \u001b[38;5;28;01massert\u001b[39;00m \u001b[38;5;28mlen\u001b[39m(x) \u001b[38;5;241m==\u001b[39m \u001b[38;5;28mlen\u001b[39m(y), \u001b[38;5;124m\"\u001b[39m\u001b[38;5;124mLength of y and x are not equal.\u001b[39m\u001b[38;5;124m\"\u001b[39m\n\u001b[0;32m    126\u001b[0m     \u001b[38;5;28;01mif\u001b[39;00m \u001b[38;5;28misinstance\u001b[39m(x, pd\u001b[38;5;241m.\u001b[39mDataFrame):\n\u001b[0;32m    127\u001b[0m         \u001b[38;5;28mself\u001b[39m\u001b[38;5;241m.\u001b[39mx \u001b[38;5;241m=\u001b[39m x\u001b[38;5;241m.\u001b[39mto_numpy()\n",
      "\u001b[1;31mAssertionError\u001b[0m: Length of y and x are not equal."
     ]
    }
   ],
   "source": [
    "garch_with_sentiment = GARCH(p=1, q=1, z=1, verbose=True)\n",
    "garch_with_sentiment.train(100*prices_df['log_returns'], x = exo)\n",
    "\n",
    "garch_with_sentiment.summary()"
   ]
  },
  {
   "cell_type": "code",
   "execution_count": 219,
   "metadata": {},
   "outputs": [
    {
     "data": {
      "text/plain": [
       "array([1.82978208e-05, 4.95540798e-05, 2.08777151e-04, 3.71546099e+02])"
      ]
     },
     "execution_count": 219,
     "metadata": {},
     "output_type": "execute_result"
    }
   ],
   "source": [
    "info_matrix = garch_with_sentiment.information_matrix\n",
    "np.linalg.inv(info_matrix).diagonal()"
   ]
  },
  {
   "cell_type": "code",
   "execution_count": 122,
   "metadata": {},
   "outputs": [
    {
     "data": {
      "text/html": [
       "<div>\n",
       "<style scoped>\n",
       "    .dataframe tbody tr th:only-of-type {\n",
       "        vertical-align: middle;\n",
       "    }\n",
       "\n",
       "    .dataframe tbody tr th {\n",
       "        vertical-align: top;\n",
       "    }\n",
       "\n",
       "    .dataframe thead th {\n",
       "        text-align: right;\n",
       "    }\n",
       "</style>\n",
       "<table border=\"1\" class=\"dataframe\">\n",
       "  <thead>\n",
       "    <tr style=\"text-align: right;\">\n",
       "      <th></th>\n",
       "      <th>Prices</th>\n",
       "      <th>returns</th>\n",
       "      <th>log_returns</th>\n",
       "    </tr>\n",
       "  </thead>\n",
       "  <tbody>\n",
       "    <tr>\n",
       "      <th>1</th>\n",
       "      <td>101.061753</td>\n",
       "      <td>0.010618</td>\n",
       "      <td>0.010562</td>\n",
       "    </tr>\n",
       "    <tr>\n",
       "      <th>2</th>\n",
       "      <td>101.977255</td>\n",
       "      <td>0.009059</td>\n",
       "      <td>0.009018</td>\n",
       "    </tr>\n",
       "    <tr>\n",
       "      <th>3</th>\n",
       "      <td>101.074066</td>\n",
       "      <td>-0.008857</td>\n",
       "      <td>-0.008896</td>\n",
       "    </tr>\n",
       "    <tr>\n",
       "      <th>4</th>\n",
       "      <td>102.286712</td>\n",
       "      <td>0.011998</td>\n",
       "      <td>0.011926</td>\n",
       "    </tr>\n",
       "    <tr>\n",
       "      <th>5</th>\n",
       "      <td>99.112675</td>\n",
       "      <td>-0.031031</td>\n",
       "      <td>-0.031522</td>\n",
       "    </tr>\n",
       "    <tr>\n",
       "      <th>...</th>\n",
       "      <td>...</td>\n",
       "      <td>...</td>\n",
       "      <td>...</td>\n",
       "    </tr>\n",
       "    <tr>\n",
       "      <th>248</th>\n",
       "      <td>29.405478</td>\n",
       "      <td>0.018074</td>\n",
       "      <td>0.017913</td>\n",
       "    </tr>\n",
       "    <tr>\n",
       "      <th>249</th>\n",
       "      <td>29.143106</td>\n",
       "      <td>-0.008923</td>\n",
       "      <td>-0.008963</td>\n",
       "    </tr>\n",
       "    <tr>\n",
       "      <th>250</th>\n",
       "      <td>29.158024</td>\n",
       "      <td>0.000512</td>\n",
       "      <td>0.000512</td>\n",
       "    </tr>\n",
       "    <tr>\n",
       "      <th>251</th>\n",
       "      <td>28.948963</td>\n",
       "      <td>-0.007170</td>\n",
       "      <td>-0.007196</td>\n",
       "    </tr>\n",
       "    <tr>\n",
       "      <th>252</th>\n",
       "      <td>31.601674</td>\n",
       "      <td>0.091634</td>\n",
       "      <td>0.087676</td>\n",
       "    </tr>\n",
       "  </tbody>\n",
       "</table>\n",
       "<p>252 rows × 3 columns</p>\n",
       "</div>"
      ],
      "text/plain": [
       "         Prices   returns  log_returns\n",
       "1    101.061753  0.010618     0.010562\n",
       "2    101.977255  0.009059     0.009018\n",
       "3    101.074066 -0.008857    -0.008896\n",
       "4    102.286712  0.011998     0.011926\n",
       "5     99.112675 -0.031031    -0.031522\n",
       "..          ...       ...          ...\n",
       "248   29.405478  0.018074     0.017913\n",
       "249   29.143106 -0.008923    -0.008963\n",
       "250   29.158024  0.000512     0.000512\n",
       "251   28.948963 -0.007170    -0.007196\n",
       "252   31.601674  0.091634     0.087676\n",
       "\n",
       "[252 rows x 3 columns]"
      ]
     },
     "execution_count": 122,
     "metadata": {},
     "output_type": "execute_result"
    }
   ],
   "source": [
    "prices_df"
   ]
  },
  {
   "cell_type": "code",
   "execution_count": 125,
   "metadata": {},
   "outputs": [
    {
     "data": {
      "text/plain": [
       "[<matplotlib.lines.Line2D at 0x1592c7070>]"
      ]
     },
     "execution_count": 125,
     "metadata": {},
     "output_type": "execute_result"
    },
    {
     "data": {
      "image/png": "[encoded data removed]",
      "text/plain": [
       "<Figure size 640x480 with 1 Axes>"
      ]
     },
     "metadata": {},
     "output_type": "display_data"
    }
   ],
   "source": [
    "plt.plot(exo)"
   ]
  },
  {
   "cell_type": "code",
   "execution_count": null,
   "metadata": {},
   "outputs": [],
   "source": []
  }
 ],
 "metadata": {
  "kernelspec": {
   "display_name": "venv",
   "language": "python",
   "name": "python3"
  },
  "language_info": {
   "codemirror_mode": {
    "name": "ipython",
    "version": 3
   },
   "file_extension": ".py",
   "mimetype": "text/x-python",
   "name": "python",
   "nbconvert_exporter": "python",
   "pygments_lexer": "ipython3",
   "version": "3.9.0"
  }
 },
 "nbformat": 4,
 "nbformat_minor": 2
}
