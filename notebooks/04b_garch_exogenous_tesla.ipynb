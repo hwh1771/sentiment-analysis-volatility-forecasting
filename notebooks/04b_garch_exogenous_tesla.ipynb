{
 "cells": [
  {
   "cell_type": "markdown",
   "metadata": {},
   "source": [
    "# In this file we fit our model with the real data."
   ]
  },
  {
   "cell_type": "code",
   "execution_count": 296,
   "metadata": {},
   "outputs": [],
   "source": [
    "from datetime import datetime\n",
    "import random\n",
    "\n",
    "import numpy as np\n",
    "import pandas as pd\n",
    "from matplotlib import pyplot as plt\n",
    "import matplotlib.dates as mdates\n",
    "from scipy.stats import norm, chi2\n",
    "\n",
    "from statsmodels.tsa.stattools import adfuller\n",
    "from statsmodels.stats.diagnostic import acorr_ljungbox  \n",
    "\n",
    "from Garch import GARCH"
   ]
  },
  {
   "cell_type": "markdown",
   "metadata": {},
   "source": [
    "#### Define helper functions "
   ]
  },
  {
   "cell_type": "code",
   "execution_count": 297,
   "metadata": {},
   "outputs": [],
   "source": [
    "def adf_test(series):\n",
    "    result = adfuller(series, autolag='AIC')  \n",
    "    print(f\"ADF Statistic: {result[0]}\")\n",
    "    print(f\"p-value: {result[1]}\")\n",
    "    print(\"Critical Values:\")\n",
    "    for key, value in result[4].items():\n",
    "        print(f\"   {key}: {value}\")\n",
    "\n",
    "    if result[1] <= 0.05:\n",
    "        print(\" The series is stationary (reject H0)\")\n",
    "    else:\n",
    "        print(\" The series is non-stationary (fail to reject H0)\")"
   ]
  },
  {
   "cell_type": "code",
   "execution_count": 298,
   "metadata": {},
   "outputs": [],
   "source": [
    "def generate_ar_data(ar_coef, T):\n",
    "    res = [0]\n",
    "    for t in range(1,T):\n",
    "        res.append(ar_coef * res[-1] + random.gauss(0, 1))\n",
    "\n",
    "    return res"
   ]
  },
  {
   "cell_type": "code",
   "execution_count": 299,
   "metadata": {},
   "outputs": [],
   "source": [
    "def likelihood_ratio_test(ll_null: float, ll_alternative: float, df: int):\n",
    "    if df <= 0:\n",
    "        raise ValueError(\"Degrees of freedom must be positive.\")\n",
    "    if ll_alternative < ll_null:\n",
    "        raise ValueError(\"ll_null should be smaller than ll_alternative.\")\n",
    "    \n",
    "    # Compute test statistic\n",
    "    lr_stat = 2 * (ll_alternative - ll_null)\n",
    "    \n",
    "    # Compute p-value\n",
    "    p_value = 1 - chi2.cdf(lr_stat, df)\n",
    "    \n",
    "    return p_value"
   ]
  },
  {
   "cell_type": "code",
   "execution_count": null,
   "metadata": {},
   "outputs": [],
   "source": [
    "def merge_cleanup(prices_df, union_sentiment_df, stock_name):\n",
    "    \"\"\"\n",
    "    Cleans and merges stock price data with sentiment data. Use stock sentiment when available; otherwise, replace it with market sentiment.\n",
    "\n",
    "\n",
    "    Parameters\n",
    "    ----------\n",
    "    prices_df : pandas.DataFrame\n",
    "        DataFrame containing stock price data with a datetime index.\n",
    "    union_sentiment_df : pandas.DataFrame\n",
    "        DataFrame containing sentiment data with a datetime index.\n",
    "       \n",
    "    stock_name : str\n",
    "        The stock name (e.g., \"Tesla\", \"Microsoft\") as found in the \"News\" column of `union_sentiment_df`. \n",
    "        This is used to filter stock-specific sentiment data.\n",
    "\n",
    "    Returns\n",
    "    -------\n",
    "    pandas.DataFrame\n",
    "        A merged DataFrame with sentiment data adjusted according to the selected option.\n",
    "    \"\"\"\n",
    "    stocksentiment_df = union_sentiment_df[union_sentiment_df['News'] == stock_name] \n",
    "    marketsentiment_df = union_sentiment_df[union_sentiment_df['News'] == 'Market']\n",
    "\n",
    "    # On days where there is no stock sentiment, we replace it with market sentiment. \n",
    "    # On days with, we just use stock sentiment alone\n",
    "\n",
    "    agg_func = {\n",
    "        'pos_sentiment': 'mean',\n",
    "        'neg_sentiment': 'mean',\n",
    "        'neutral_sentiment': 'mean'}\n",
    "    column_rename = {\n",
    "        'pos_sentiment': 'mean_pos_sentiment',\n",
    "        'neg_sentiment': 'mean_neg_sentiment',\n",
    "        'neutral_sentiment': 'mean_neutral_sentiment'}\n",
    "    #stocksentiment_df = stocksentiment_df.drop(columns=['adjusted_date'])\n",
    "    #marketsentiment_df = marketsentiment_df.drop(columns=['adjusted_date'])\n",
    "    stocksentiment_df_agg = stocksentiment_df.groupby(by='adjusted_date').agg(agg_func).rename(columns=column_rename).reset_index()\n",
    "    stocksentiment_df_agg['News'] = stock_name\n",
    "    marketsentiment_df_agg = marketsentiment_df.groupby(by='adjusted_date').agg(agg_func).rename(columns=column_rename).reset_index()\n",
    "    marketsentiment_df_agg['News'] = 'Market'\n",
    "    stocksentiment_df_agg.index = pd.DatetimeIndex(stocksentiment_df_agg['adjusted_date'])\n",
    "    marketsentiment_df_agg.index = pd.DatetimeIndex(marketsentiment_df_agg['adjusted_date'])\n",
    "    data_with_sentiment = prices_df.join(stocksentiment_df_agg, how='left')#.join(vix[['VIX Close']], how='left')\n",
    "    data_with_sentiment = data_with_sentiment.join(marketsentiment_df_agg, how='left',lsuffix= stock_name, rsuffix= 'market')#.join(vix[['VIX Close']], how='left')\n",
    "    #print(data_with_sentiment)\n",
    "    data_with_sentiment.rename(columns={\n",
    "        'mean_pos_sentimenttesla': 'mean_pos_sentiment',\n",
    "        'mean_neg_sentimenttesla': 'mean_neg_sentiment',\n",
    "        'mean_neutral_sentimenttesla': 'mean_neutral_sentiment',\n",
    "        'Newstesla':'News'}, inplace=True)\n",
    "    \n",
    "    sentiment_columns = [\"mean_pos_sentiment\", \"mean_neg_sentiment\", \"mean_neutral_sentiment\",'News']\n",
    "    \n",
    "    stock_columns = [col for col in sentiment_columns]\n",
    "    market_columns = [col + \"market\" for col in sentiment_columns]\n",
    "    # Ensure stock_columns and market_columns are correctly aligned\n",
    "    for stock_col, market_col in zip(stock_columns, market_columns):\n",
    "        data_with_sentiment[stock_col] = data_with_sentiment[stock_col].where(\n",
    "        data_with_sentiment[stock_col].notna(),  # Keep stock sentiment if it's NOT NaN\n",
    "        data_with_sentiment[market_col]  # Otherwise, replace with market sentiment\n",
    "        )\n",
    "\n",
    "    #rename_columns = {col + stock_name : col for col in sentiment_columns}\n",
    "    #data_with_sentiment.rename(columns=rename_columns, inplace=True)\n",
    "    market_sentiment_cols = [col + \"market\" for col in sentiment_columns]\n",
    "    data_with_sentiment.drop(columns=market_sentiment_cols, inplace=True)\n",
    "    #display(data_with_sentiment)\n",
    "\n",
    "    return data_with_sentiment\n",
    "\n"
   ]
  },
  {
   "cell_type": "markdown",
   "metadata": {},
   "source": [
    "## 1. Load Data\n"
   ]
  },
  {
   "cell_type": "code",
   "execution_count": null,
   "metadata": {},
   "outputs": [],
   "source": [
    "# Load S&P data\n",
    "prices_df = pd.read_csv('../data/Tesla/tesla_prices.csv')\n",
    "prices_df.index = pd.to_datetime(prices_df['Date'], format='%Y-%m-%d %H:%M:%S%z', utc=True).dt.date\n",
    "\n",
    "tesla_sentiment = pd.read_csv('../data/Tesla/tesla_gpt_summarised_sentiments.csv')\n",
    "market_sentiment = pd.read_csv('../data/S&P_market/market_gpt_summarised_sentiments.csv')\n",
    "\n",
    "# Load US interest rate data\n",
    "#t_rates_df = pd.read_csv('../data/daily-treasury-rates.csv')\n",
    "#t_rates_df.index = pd.DatetimeIndex(t_rates_df['Date'])\n",
    "#t_rates_df = t_rates_df.drop(columns=['Date','Unnamed: 11',\t'Unnamed: 12', '26 WEEKS BANK DISCOUNT', '26 WEEKS COUPON EQUIVALENT'])"
   ]
  },
  {
   "cell_type": "markdown",
   "metadata": {},
   "source": [
    "## Data Cleaning"
   ]
  },
  {
   "cell_type": "code",
   "execution_count": null,
   "metadata": {},
   "outputs": [],
   "source": [
    "tesla_sentiment = tesla_sentiment.drop(columns = 'Unnamed: 0')\n",
    "market_sentiment = market_sentiment.drop(columns = 'Unnamed: 0')\n",
    "tesla_sentiment['News'] = 'tesla'\n",
    "market_sentiment['News'] = 'Market'\n",
    "tesla_sentiment['adjusted_date'] = pd.to_datetime(tesla_sentiment['adjusted_date'], format=\"%d/%m/%y\").dt.strftime(\"%Y-%m-%d\")\n",
    "tesla_sentiment_with_market = pd.concat([tesla_sentiment, market_sentiment],ignore_index=True)\n",
    "tesla_sentiment_with_market.index = pd.DatetimeIndex(tesla_sentiment_with_market['adjusted_date'])\n",
    "tesla_sentiment_with_market = tesla_sentiment_with_market.drop(columns = 'adjusted_date')\n"
   ]
  },
  {
   "cell_type": "code",
   "execution_count": null,
   "metadata": {},
   "outputs": [],
   "source": [
    "relevant_columns_final = ['Date','log_returns','mean_pos_sentiment','mean_neg_sentiment','mean_neutral_sentiment']\n",
    "\n",
    "#Final df\n",
    "tesla_final = merge_cleanup(prices_df, tesla_sentiment_with_market,'tesla')\n",
    "tesla_final = tesla_final[relevant_columns_final]\n",
    "tesla_final = tesla_final.dropna()\n",
    "tesla_final = tesla_final[1:]\n",
    "\n"
   ]
  },
  {
   "cell_type": "markdown",
   "metadata": {},
   "source": [
    "## GARCH X Model Function"
   ]
  },
  {
   "cell_type": "code",
   "execution_count": 304,
   "metadata": {},
   "outputs": [],
   "source": [
    "def train_model(log_returns,exo_sentiment, log_returns_scale_factor, exo_scale_factor, use_constraints, method = 'L-BFGS-B', z = 1):\n",
    "    garch_with_sentiment = GARCH(p=1, q=1, z=z, verbose=True)\n",
    "    garch_with_sentiment.train(log_returns_scale_factor*log_returns, x = exo_scale_factor * exo_sentiment,use_constraints= use_constraints, method = method)\n",
    "    return garch_with_sentiment.summary()\n",
    "\n",
    "\n",
    "\n",
    "    "
   ]
  },
  {
   "cell_type": "code",
   "execution_count": null,
   "metadata": {},
   "outputs": [],
   "source": [
    "exo_sentiment = ['mean_pos_sentiment', 'mean_neg_sentiment','mean_neutral_sentiment']\n",
    "neg_sentiment = ['mean_neg_sentiment']\n",
    "\n"
   ]
  },
  {
   "cell_type": "markdown",
   "metadata": {},
   "source": [
    "## GARCH Baseline"
   ]
  },
  {
   "cell_type": "code",
   "execution_count": null,
   "metadata": {},
   "outputs": [
    {
     "name": "stdout",
     "output_type": "stream",
     "text": [
      "Optimising...\n",
      "Optimising finished in 3.849s\n",
      " message: Optimization terminated successfully\n",
      " success: True\n",
      "  status: 0\n",
      "     fun: 8.337579299164906\n",
      "       x: [ 4.090e+00 -2.675e+00 -1.103e-01]\n",
      "     nit: 43\n",
      "     jac: [-7.951e-05 -1.903e-04 -6.520e-04]\n",
      "    nfev: 187\n",
      "    njev: 43\n",
      "{'omega': 59.742524925158776, 'alpha': 0.06889154237808952, 'beta': 0.895522032504999, 'gamma': array([], shape=(0, 1), dtype=float64)}\n"
     ]
    },
    {
     "data": {
      "text/html": [
       "<div>\n",
       "<style scoped>\n",
       "    .dataframe tbody tr th:only-of-type {\n",
       "        vertical-align: middle;\n",
       "    }\n",
       "\n",
       "    .dataframe tbody tr th {\n",
       "        vertical-align: top;\n",
       "    }\n",
       "\n",
       "    .dataframe thead th {\n",
       "        text-align: right;\n",
       "    }\n",
       "</style>\n",
       "<table border=\"1\" class=\"dataframe\">\n",
       "  <thead>\n",
       "    <tr style=\"text-align: right;\">\n",
       "      <th></th>\n",
       "      <th>coef</th>\n",
       "      <th>std err</th>\n",
       "      <th>t</th>\n",
       "      <th>P&gt;|t|</th>\n",
       "    </tr>\n",
       "  </thead>\n",
       "  <tbody>\n",
       "    <tr>\n",
       "      <th>omega</th>\n",
       "      <td>59.742525</td>\n",
       "      <td>19.170459</td>\n",
       "      <td>3.116385</td>\n",
       "      <td>9.367392e-04</td>\n",
       "    </tr>\n",
       "    <tr>\n",
       "      <th>alpha</th>\n",
       "      <td>0.068892</td>\n",
       "      <td>0.013267</td>\n",
       "      <td>5.192750</td>\n",
       "      <td>1.212449e-07</td>\n",
       "    </tr>\n",
       "    <tr>\n",
       "      <th>beta</th>\n",
       "      <td>0.895522</td>\n",
       "      <td>0.020342</td>\n",
       "      <td>44.022617</td>\n",
       "      <td>9.604858e-255</td>\n",
       "    </tr>\n",
       "  </tbody>\n",
       "</table>\n",
       "</div>"
      ],
      "text/plain": [
       "            coef    std err          t          P>|t|\n",
       "omega  59.742525  19.170459   3.116385   9.367392e-04\n",
       "alpha   0.068892   0.013267   5.192750   1.212449e-07\n",
       "beta    0.895522   0.020342  44.022617  9.604858e-255"
      ]
     },
     "metadata": {},
     "output_type": "display_data"
    }
   ],
   "source": [
    "#GARCH Baseline\n",
    "train_model(tesla_final['log_returns'][10:], tesla_final[neg_sentiment][10:],1000,10,False,'SLSQP', 0)"
   ]
  },
  {
   "cell_type": "markdown",
   "metadata": {},
   "source": [
    "### Garch with 3 exo"
   ]
  },
  {
   "cell_type": "code",
   "execution_count": null,
   "metadata": {},
   "outputs": [
    {
     "name": "stdout",
     "output_type": "stream",
     "text": [
      "Optimising...\n",
      "Optimising finished in 9.165s\n",
      " message: Optimization terminated successfully\n",
      " success: True\n",
      "  status: 0\n",
      "     fun: 3.7324328935868576\n",
      "       x: [-8.137e+00 -2.562e+00 -1.213e-01 -3.977e+00 -5.131e+00\n",
      "           -8.993e+01]\n",
      "     nit: 93\n",
      "     jac: [ 1.192e-06  2.366e-05  2.547e-04 -2.086e-07  5.960e-06\n",
      "            0.000e+00]\n",
      "    nfev: 664\n",
      "    njev: 93\n",
      "{'omega': 0.000292490828812872, 'alpha': 0.07713428428029827, 'beta': 0.8857721333702432, 'gamma': array([[1.87406302e-02, 5.91207913e-03, 8.77483191e-40]])}\n"
     ]
    },
    {
     "data": {
      "text/html": [
       "<div>\n",
       "<style scoped>\n",
       "    .dataframe tbody tr th:only-of-type {\n",
       "        vertical-align: middle;\n",
       "    }\n",
       "\n",
       "    .dataframe tbody tr th {\n",
       "        vertical-align: top;\n",
       "    }\n",
       "\n",
       "    .dataframe thead th {\n",
       "        text-align: right;\n",
       "    }\n",
       "</style>\n",
       "<table border=\"1\" class=\"dataframe\">\n",
       "  <thead>\n",
       "    <tr style=\"text-align: right;\">\n",
       "      <th></th>\n",
       "      <th>coef</th>\n",
       "      <th>std err</th>\n",
       "      <th>t</th>\n",
       "      <th>P&gt;|t|</th>\n",
       "    </tr>\n",
       "  </thead>\n",
       "  <tbody>\n",
       "    <tr>\n",
       "      <th>omega</th>\n",
       "      <td>2.924908e-04</td>\n",
       "      <td>1.516457</td>\n",
       "      <td>1.928778e-04</td>\n",
       "      <td>4.999231e-01</td>\n",
       "    </tr>\n",
       "    <tr>\n",
       "      <th>alpha</th>\n",
       "      <td>7.713428e-02</td>\n",
       "      <td>0.016565</td>\n",
       "      <td>4.656390e+00</td>\n",
       "      <td>1.784816e-06</td>\n",
       "    </tr>\n",
       "    <tr>\n",
       "      <th>beta</th>\n",
       "      <td>8.857721e-01</td>\n",
       "      <td>0.033296</td>\n",
       "      <td>2.660262e+01</td>\n",
       "      <td>1.098476e-123</td>\n",
       "    </tr>\n",
       "    <tr>\n",
       "      <th>gamma[0]</th>\n",
       "      <td>1.874063e-02</td>\n",
       "      <td>0.020070</td>\n",
       "      <td>9.337548e-01</td>\n",
       "      <td>1.753074e-01</td>\n",
       "    </tr>\n",
       "    <tr>\n",
       "      <th>gamma[1]</th>\n",
       "      <td>5.912079e-03</td>\n",
       "      <td>0.017283</td>\n",
       "      <td>3.420739e-01</td>\n",
       "      <td>3.661770e-01</td>\n",
       "    </tr>\n",
       "    <tr>\n",
       "      <th>gamma[2]</th>\n",
       "      <td>8.774832e-40</td>\n",
       "      <td>0.057887</td>\n",
       "      <td>1.515858e-38</td>\n",
       "      <td>5.000000e-01</td>\n",
       "    </tr>\n",
       "  </tbody>\n",
       "</table>\n",
       "</div>"
      ],
      "text/plain": [
       "                  coef   std err             t          P>|t|\n",
       "omega     2.924908e-04  1.516457  1.928778e-04   4.999231e-01\n",
       "alpha     7.713428e-02  0.016565  4.656390e+00   1.784816e-06\n",
       "beta      8.857721e-01  0.033296  2.660262e+01  1.098476e-123\n",
       "gamma[0]  1.874063e-02  0.020070  9.337548e-01   1.753074e-01\n",
       "gamma[1]  5.912079e-03  0.017283  3.420739e-01   3.661770e-01\n",
       "gamma[2]  8.774832e-40  0.057887  1.515858e-38   5.000000e-01"
      ]
     },
     "execution_count": 308,
     "metadata": {},
     "output_type": "execute_result"
    }
   ],
   "source": [
    "## V2_2 with 3 exo variables\n",
    "train_model(tesla_final['log_returns'][10:], tesla_final[exo_sentiment][10:],100,10,False,'SLSQP')"
   ]
  },
  {
   "cell_type": "code",
   "execution_count": null,
   "metadata": {},
   "outputs": [
    {
     "name": "stdout",
     "output_type": "stream",
     "text": [
      "Optimising...\n",
      "Optimising finished in 1.765s\n",
      " message: Optimization terminated successfully\n",
      " success: True\n",
      "  status: 0\n",
      "     fun: 8.33189866891644\n",
      "       x: [-7.853e-01 -2.512e+00 -1.170e-01  1.051e+00]\n",
      "     nit: 24\n",
      "     jac: [-7.749e-06 -8.798e-05 -5.486e-04  1.124e-04]\n",
      "    nfev: 128\n",
      "    njev: 24\n",
      "{'omega': 0.45599498587047016, 'alpha': 0.08114006616472814, 'beta': 0.889617279942654, 'gamma': array([[2.86087217]])}\n"
     ]
    },
    {
     "data": {
      "text/html": [
       "<div>\n",
       "<style scoped>\n",
       "    .dataframe tbody tr th:only-of-type {\n",
       "        vertical-align: middle;\n",
       "    }\n",
       "\n",
       "    .dataframe tbody tr th {\n",
       "        vertical-align: top;\n",
       "    }\n",
       "\n",
       "    .dataframe thead th {\n",
       "        text-align: right;\n",
       "    }\n",
       "</style>\n",
       "<table border=\"1\" class=\"dataframe\">\n",
       "  <thead>\n",
       "    <tr style=\"text-align: right;\">\n",
       "      <th></th>\n",
       "      <th>coef</th>\n",
       "      <th>std err</th>\n",
       "      <th>t</th>\n",
       "      <th>P&gt;|t|</th>\n",
       "    </tr>\n",
       "  </thead>\n",
       "  <tbody>\n",
       "    <tr>\n",
       "      <th>omega</th>\n",
       "      <td>0.455995</td>\n",
       "      <td>22.432055</td>\n",
       "      <td>0.020328</td>\n",
       "      <td>4.918926e-01</td>\n",
       "    </tr>\n",
       "    <tr>\n",
       "      <th>alpha</th>\n",
       "      <td>0.081140</td>\n",
       "      <td>0.013700</td>\n",
       "      <td>5.922600</td>\n",
       "      <td>2.056960e-09</td>\n",
       "    </tr>\n",
       "    <tr>\n",
       "      <th>beta</th>\n",
       "      <td>0.889617</td>\n",
       "      <td>0.018052</td>\n",
       "      <td>49.281764</td>\n",
       "      <td>5.430668e-293</td>\n",
       "    </tr>\n",
       "    <tr>\n",
       "      <th>gamma[0]</th>\n",
       "      <td>2.860872</td>\n",
       "      <td>1.058140</td>\n",
       "      <td>2.703681</td>\n",
       "      <td>3.476381e-03</td>\n",
       "    </tr>\n",
       "  </tbody>\n",
       "</table>\n",
       "</div>"
      ],
      "text/plain": [
       "              coef    std err          t          P>|t|\n",
       "omega     0.455995  22.432055   0.020328   4.918926e-01\n",
       "alpha     0.081140   0.013700   5.922600   2.056960e-09\n",
       "beta      0.889617   0.018052  49.281764  5.430668e-293\n",
       "gamma[0]  2.860872   1.058140   2.703681   3.476381e-03"
      ]
     },
     "execution_count": 314,
     "metadata": {},
     "output_type": "execute_result"
    }
   ],
   "source": [
    "## V2_2 with PCA\n",
    "# ! pip install scikit-learn\n",
    "from sklearn.decomposition import PCA\n",
    "\n",
    "pca = PCA(n_components=1)\n",
    "pca_tesla = pca.fit_transform(tesla_final[exo_sentiment])\n",
    "train_model(tesla_final['log_returns'][10:], pca_tesla[10:],1000,10,False,'SLSQP')"
   ]
  },
  {
   "cell_type": "markdown",
   "metadata": {},
   "source": [
    "### ACF and PACF Plots for Tesla PCA"
   ]
  },
  {
   "cell_type": "code",
   "execution_count": null,
   "metadata": {},
   "outputs": [
    {
     "data": {
      "image/png": "[encoded data removed]",
      "text/plain": [
       "<Figure size 1600x1000 with 2 Axes>"
      ]
     },
     "metadata": {},
     "output_type": "display_data"
    }
   ],
   "source": [
    "import matplotlib.pyplot as plt\n",
    "from statsmodels.graphics.tsaplots import plot_acf, plot_pacf\n",
    "\n",
    "# Set figure size\n",
    "fig, axes = plt.subplots(1, 2, figsize=(16, 10))\n",
    "\n",
    "# ACF plot\n",
    "plot_acf((pca_tesla**2),alpha = 0.01, ax=axes[0])\n",
    "axes[0].set_title(\"Autocorrelation Function (ACF)\")\n",
    "\n",
    "# PACF plot\n",
    "plot_pacf((pca_tesla**2),alpha = 0.01, ax=axes[1])\n",
    "axes[1].set_title(\"Partial Autocorrelation Function (PACF)\")\n",
    "\n",
    "\n",
    "# Show plots\n",
    "plt.show()\n"
   ]
  },
  {
   "cell_type": "markdown",
   "metadata": {},
   "source": [
    "## ADF Test for PCA"
   ]
  },
  {
   "cell_type": "code",
   "execution_count": null,
   "metadata": {},
   "outputs": [
    {
     "name": "stdout",
     "output_type": "stream",
     "text": [
      "ADF Statistic: -34.082855671347865\n",
      "p-value: 0.0\n",
      "Critical Values:\n",
      "   1%: -3.4356560275160835\n",
      "   5%: -2.8638831211270817\n",
      "   10%: -2.568017509711682\n",
      " The series is stationary (reject H0)\n"
     ]
    }
   ],
   "source": [
    "adf_test(pca_tesla)"
   ]
  },
  {
   "cell_type": "code",
   "execution_count": null,
   "metadata": {},
   "outputs": [
    {
     "name": "stdout",
     "output_type": "stream",
     "text": [
      "ADF Statistic: -18.87072759647954\n",
      "p-value: 0.0\n",
      "Critical Values:\n",
      "   1%: -3.4356646522289815\n",
      "   5%: -2.863886926389418\n",
      "   10%: -2.568019536239491\n",
      " The series is stationary (reject H0)\n"
     ]
    }
   ],
   "source": [
    "adf_test(tesla_final['log_returns'])"
   ]
  },
  {
   "cell_type": "markdown",
   "metadata": {},
   "source": [
    "## Plot time series for Tesla log returns"
   ]
  },
  {
   "cell_type": "code",
   "execution_count": 313,
   "metadata": {},
   "outputs": [
    {
     "data": {
      "image/png": "[encoded data removed]",
      "text/plain": [
       "<Figure size 800x400 with 1 Axes>"
      ]
     },
     "metadata": {},
     "output_type": "display_data"
    }
   ],
   "source": [
    "import matplotlib.pyplot as plt\n",
    "\n",
    "# Create figure and axis\n",
    "fig, ax = plt.subplots(figsize=(8, 4))  # Adjust size as needed\n",
    "\n",
    "# Plot the log returns\n",
    "ax.plot(prices_df['log_returns'], color=\"red\", linewidth=1, label=\"Log Returns\")\n",
    "\n",
    "# Manually set the background to a subtle grey (like seaborn-darkgrid)\n",
    "#ax.set_facecolor(\"#f5f5f5\")  \n",
    "\n",
    "# Remove top and right spines for a cleaner look\n",
    "ax.spines['top'].set_visible(False)\n",
    "ax.spines['right'].set_visible(False)\n",
    "\n",
    "# Add axis labels\n",
    "ax.set_xlabel(\"Year\", fontsize=8)\n",
    "ax.set_ylabel(\"Log Returns\", fontsize=8)\n",
    "\n",
    "# Add a title\n",
    "#ax.set_title(\"Time Series of Log Returns\", fontsize=10)\n",
    "\n",
    "# Customize tick parameters for better readability\n",
    "ax.tick_params(axis=\"both\", which=\"major\", labelsize=10)\n",
    "\n",
    "# Add gridlines (light gray for a subtle effect)\n",
    "#ax.grid(True, linestyle=\"--\", linewidth=0.5, alpha=0.7, color=\"gray\")\n",
    "\n",
    "# Add a legend (optional)\n",
    "#ax.legend(frameon=False, fontsize=10)\n",
    "\n",
    "# Show the plot\n",
    "plt.show()\n"
   ]
  },
  {
   "cell_type": "code",
   "execution_count": null,
   "metadata": {},
   "outputs": [],
   "source": []
  }
 ],
 "metadata": {
  "kernelspec": {
   "display_name": "venv",
   "language": "python",
   "name": "python3"
  },
  "language_info": {
   "codemirror_mode": {
    "name": "ipython",
    "version": 3
   },
   "file_extension": ".py",
   "mimetype": "text/x-python",
   "name": "python",
   "nbconvert_exporter": "python",
   "pygments_lexer": "ipython3",
   "version": "3.10.9"
  }
 },
 "nbformat": 4,
 "nbformat_minor": 2
}
