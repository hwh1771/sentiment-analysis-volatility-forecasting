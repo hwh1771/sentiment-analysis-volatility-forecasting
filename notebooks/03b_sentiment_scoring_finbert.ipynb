{
 "cells": [
  {
   "cell_type": "markdown",
   "metadata": {},
   "source": [
    "## Sentiment scores generation using Finbert model\n",
    " - [Finbert github](https://github.com/ProsusAI/finBERT/tree/master)\n",
    " - [Huggingface link](https://huggingface.co/ProsusAI/finbert)"
   ]
  },
  {
   "cell_type": "code",
   "execution_count": 31,
   "metadata": {},
   "outputs": [],
   "source": [
    "from transformers import AutoTokenizer, AutoModelForSequenceClassification\n",
    "from torch import nn\n",
    "\n",
    "import numpy as np\n",
    "import pandas as pd"
   ]
  },
  {
   "cell_type": "code",
   "execution_count": 2,
   "metadata": {},
   "outputs": [],
   "source": [
    "pd.set_option('display.max_colwidth', None)"
   ]
  },
  {
   "cell_type": "code",
   "execution_count": 3,
   "metadata": {},
   "outputs": [
    {
     "name": "stderr",
     "output_type": "stream",
     "text": [
      "/Users/junwei/Desktop/FYP Code/sentiment-analysis-volatility-forecasting-1/venv/lib/python3.10/site-packages/transformers/tokenization_utils_base.py:1601: FutureWarning: `clean_up_tokenization_spaces` was not set. It will be set to `True` by default. This behavior will be depracted in transformers v4.45, and will be then set to `False` by default. For more details check this issue: https://github.com/huggingface/transformers/issues/31884\n",
      "  warnings.warn(\n"
     ]
    }
   ],
   "source": [
    "tokenizer = AutoTokenizer.from_pretrained(\"ProsusAI/finbert\")\n",
    "model = AutoModelForSequenceClassification.from_pretrained(\"ProsusAI/finbert\")"
   ]
  },
  {
   "cell_type": "code",
   "execution_count": 4,
   "metadata": {},
   "outputs": [],
   "source": [
    "def generate_sentiment_values(text: str) -> list[float]:\n",
    "    inputs = tokenizer(text, return_tensors='pt', padding=True)\n",
    "    logits = model(**inputs)[0]\n",
    "\n",
    "    # Convert logits to softmax probabilities.\n",
    "    probabilities = nn.functional.softmax(logits, dim=-1)\n",
    "\n",
    "    # The probability labels are 'positive', 'negative', 'neutral' (NEED TO CONFIRM)\n",
    "    return probabilities.detach().numpy().reshape((3,))"
   ]
  },
  {
   "cell_type": "markdown",
   "metadata": {},
   "source": [
    "### Sense check"
   ]
  },
  {
   "cell_type": "code",
   "execution_count": 5,
   "metadata": {},
   "outputs": [
    {
     "data": {
      "text/plain": [
       "array([0.02060783, 0.08169658, 0.8976956 ], dtype=float32)"
      ]
     },
     "execution_count": 5,
     "metadata": {},
     "output_type": "execute_result"
    }
   ],
   "source": [
    "test_string = 'Earnings reported are falling'\n",
    "generate_sentiment_values(test_string)"
   ]
  },
  {
   "cell_type": "markdown",
   "metadata": {},
   "source": [
    "## Finbert on Tesla news\n"
   ]
  },
  {
   "cell_type": "markdown",
   "metadata": {},
   "source": [
    "1. Get sentiment for each article"
   ]
  },
  {
   "cell_type": "code",
   "execution_count": 26,
   "metadata": {},
   "outputs": [],
   "source": [
    "tesla_df = pd.read_csv('../data/Tesla/tesla_gpt_summarised_sentiments.csv')\n",
    "#df = df[['timestamp','article_url','lead_paragraph','abstract','adjusted_date']]"
   ]
  },
  {
   "cell_type": "code",
   "execution_count": null,
   "metadata": {},
   "outputs": [
    {
     "data": {
      "text/html": [
       "<div>\n",
       "<style scoped>\n",
       "    .dataframe tbody tr th:only-of-type {\n",
       "        vertical-align: middle;\n",
       "    }\n",
       "\n",
       "    .dataframe tbody tr th {\n",
       "        vertical-align: top;\n",
       "    }\n",
       "\n",
       "    .dataframe thead th {\n",
       "        text-align: right;\n",
       "    }\n",
       "</style>\n",
       "<table border=\"1\" class=\"dataframe\">\n",
       "  <thead>\n",
       "    <tr style=\"text-align: right;\">\n",
       "      <th></th>\n",
       "      <th>adjusted_date</th>\n",
       "      <th>gpt_summary</th>\n",
       "    </tr>\n",
       "  </thead>\n",
       "  <tbody>\n",
       "    <tr>\n",
       "      <th>0</th>\n",
       "      <td>2019-10-02</td>\n",
       "      <td>The news of a potential legal battle involving a prominent figure against a political figure could create a sense of uncertainty around the market, potentially leading to negative sentiment surrounding companies involved in similar sectors, such as Tesla. Investors may perceive this as a distraction that could hinder innovation and long-term growth. Increased regulatory scrutiny could also lead to volatility in the tech market, influencing negative sentiment towards related stocks, including Tesla. Consequently, the overall reaction may lean towards pessimism, likely causing a decline in Tesla's stock price.</td>\n",
       "    </tr>\n",
       "    <tr>\n",
       "      <th>1</th>\n",
       "      <td>2019-10-03</td>\n",
       "      <td>This news presents a mixed outlook for Tesla, suggesting a cautiously optimistic scenario. The record quarterly deliveries highlight robust demand, boosting investor confidence and indicating strong operational performance. However, lingering skepticism regarding profit generation causes concern, potentially dampening enthusiasm. Overall, while the positive news of increased deliveries could initially support a favorable stock response, the uncertainty about profits may temper gains, leading to a cautious investor sentiment.</td>\n",
       "    </tr>\n",
       "    <tr>\n",
       "      <th>2</th>\n",
       "      <td>2019-10-09</td>\n",
       "      <td>This news may have a negative impact on Tesla's stock price. The proposed corporate tax rules could complicate Tesla's ability to optimize its tax strategy, potentially increasing its overall tax burden. This added financial strain might deter investors, fearing reduced profitability in the face of heavier taxation. Moreover, the reference to challenges faced by American businesses in foreign markets, exemplified by the N.B.A., adds an additional layer of uncertainty regarding Tesla’s operations and growth potential, particularly in crucial markets like China. Overall, these factors may lead to decreased investor confidence and could negatively influence Tesla's stock performance.</td>\n",
       "    </tr>\n",
       "    <tr>\n",
       "      <th>3</th>\n",
       "      <td>2019-10-10</td>\n",
       "      <td>Negative sentiment surrounding Tesla's actions in response to criticism from China's state media may lead to a decline in its stock price, as investors could perceive the company's decision as a weakness or potential vulnerability in its international operations. The backlash could raise concerns about regulatory challenges in China, which is a significant market for Tesla, potentially harming future sales and profitability. As a result, this development might create uncertainty in the market, further exerting downward pressure on Tesla's stock value.</td>\n",
       "    </tr>\n",
       "    <tr>\n",
       "      <th>4</th>\n",
       "      <td>2019-10-11</td>\n",
       "      <td>This news could negatively impact Tesla's stock price as it highlights the challenges faced by American tech companies, suggesting potential barriers to entry and strained relations in the crucial Chinese market. Difficulties in accessing customers may lead to reduced sales opportunities and weakened growth prospects for Tesla, raising concerns among investors about its ability to capitalize on one of the largest automotive markets globally. Additionally, this precarious situation might prompt uncertainty regarding future collaborations and profitability, further diminishing investor confidence.</td>\n",
       "    </tr>\n",
       "  </tbody>\n",
       "</table>\n",
       "</div>"
      ],
      "text/plain": [
       "  adjusted_date  \\\n",
       "0    2019-10-02   \n",
       "1    2019-10-03   \n",
       "2    2019-10-09   \n",
       "3    2019-10-10   \n",
       "4    2019-10-11   \n",
       "\n",
       "                                                                                                                                                                                                                                                                                                                                                                                                                                                                                                                                                                                                                                                                                                         gpt_summary  \n",
       "0                                                                            The news of a potential legal battle involving a prominent figure against a political figure could create a sense of uncertainty around the market, potentially leading to negative sentiment surrounding companies involved in similar sectors, such as Tesla. Investors may perceive this as a distraction that could hinder innovation and long-term growth. Increased regulatory scrutiny could also lead to volatility in the tech market, influencing negative sentiment towards related stocks, including Tesla. Consequently, the overall reaction may lean towards pessimism, likely causing a decline in Tesla's stock price.  \n",
       "1                                                                                                                                                                 This news presents a mixed outlook for Tesla, suggesting a cautiously optimistic scenario. The record quarterly deliveries highlight robust demand, boosting investor confidence and indicating strong operational performance. However, lingering skepticism regarding profit generation causes concern, potentially dampening enthusiasm. Overall, while the positive news of increased deliveries could initially support a favorable stock response, the uncertainty about profits may temper gains, leading to a cautious investor sentiment.  \n",
       "2  This news may have a negative impact on Tesla's stock price. The proposed corporate tax rules could complicate Tesla's ability to optimize its tax strategy, potentially increasing its overall tax burden. This added financial strain might deter investors, fearing reduced profitability in the face of heavier taxation. Moreover, the reference to challenges faced by American businesses in foreign markets, exemplified by the N.B.A., adds an additional layer of uncertainty regarding Tesla’s operations and growth potential, particularly in crucial markets like China. Overall, these factors may lead to decreased investor confidence and could negatively influence Tesla's stock performance.  \n",
       "3                                                                                                                                      Negative sentiment surrounding Tesla's actions in response to criticism from China's state media may lead to a decline in its stock price, as investors could perceive the company's decision as a weakness or potential vulnerability in its international operations. The backlash could raise concerns about regulatory challenges in China, which is a significant market for Tesla, potentially harming future sales and profitability. As a result, this development might create uncertainty in the market, further exerting downward pressure on Tesla's stock value.  \n",
       "4                                                                                         This news could negatively impact Tesla's stock price as it highlights the challenges faced by American tech companies, suggesting potential barriers to entry and strained relations in the crucial Chinese market. Difficulties in accessing customers may lead to reduced sales opportunities and weakened growth prospects for Tesla, raising concerns among investors about its ability to capitalize on one of the largest automotive markets globally. Additionally, this precarious situation might prompt uncertainty regarding future collaborations and profitability, further diminishing investor confidence.  "
      ]
     },
     "execution_count": 28,
     "metadata": {},
     "output_type": "execute_result"
    }
   ],
   "source": [
    "tesla_df"
   ]
  },
  {
   "cell_type": "code",
   "execution_count": null,
   "metadata": {},
   "outputs": [],
   "source": [
    "for i, row in tesla_df.iterrows():\n",
    "    output = generate_sentiment_values(row['gpt_summary'])\n",
    "    preamble_tesla = \"Evaluate the above news on Tesla's stock price.\"\n",
    "    combined_str = f\"\"\"<news>{row['gpt_summary']}</news> <instructions>{preamble_tesla}</instructions> \"\"\"    \n",
    "    output = generate_sentiment_values(combined_str)\n",
    "    tesla_df.at[i, 'pos_sentiment'] = output[0]\n",
    "    tesla_df.at[i, 'neg_sentiment'] = output[1]\n",
    "    tesla_df.at[i, 'neutral_sentiment'] = output[2]"
   ]
  },
  {
   "cell_type": "markdown",
   "metadata": {},
   "source": [
    "Save to the same file first"
   ]
  },
  {
   "cell_type": "code",
   "execution_count": 29,
   "metadata": {},
   "outputs": [
    {
     "data": {
      "text/html": [
       "<div>\n",
       "<style scoped>\n",
       "    .dataframe tbody tr th:only-of-type {\n",
       "        vertical-align: middle;\n",
       "    }\n",
       "\n",
       "    .dataframe tbody tr th {\n",
       "        vertical-align: top;\n",
       "    }\n",
       "\n",
       "    .dataframe thead th {\n",
       "        text-align: right;\n",
       "    }\n",
       "</style>\n",
       "<table border=\"1\" class=\"dataframe\">\n",
       "  <thead>\n",
       "    <tr style=\"text-align: right;\">\n",
       "      <th></th>\n",
       "      <th>Unnamed: 0</th>\n",
       "      <th>adjusted_date</th>\n",
       "      <th>gpt_summary</th>\n",
       "      <th>pos_sentiment</th>\n",
       "      <th>neg_sentiment</th>\n",
       "      <th>neutral_sentiment</th>\n",
       "    </tr>\n",
       "  </thead>\n",
       "  <tbody>\n",
       "    <tr>\n",
       "      <th>0</th>\n",
       "      <td>394</td>\n",
       "      <td>2019-10-02</td>\n",
       "      <td>The news of a potential legal battle involving a prominent figure against a political figure could create a sense of uncertainty around the market, potentially leading to negative sentiment surrounding companies involved in similar sectors, such as Tesla. Investors may perceive this as a distraction that could hinder innovation and long-term growth. Increased regulatory scrutiny could also lead to volatility in the tech market, influencing negative sentiment towards related stocks, including Tesla. Consequently, the overall reaction may lean towards pessimism, likely causing a decline in Tesla's stock price.</td>\n",
       "      <td>0.008944</td>\n",
       "      <td>0.961645</td>\n",
       "      <td>0.029411</td>\n",
       "    </tr>\n",
       "    <tr>\n",
       "      <th>1</th>\n",
       "      <td>50</td>\n",
       "      <td>2019-10-03</td>\n",
       "      <td>This news presents a mixed outlook for Tesla, suggesting a cautiously optimistic scenario. The record quarterly deliveries highlight robust demand, boosting investor confidence and indicating strong operational performance. However, lingering skepticism regarding profit generation causes concern, potentially dampening enthusiasm. Overall, while the positive news of increased deliveries could initially support a favorable stock response, the uncertainty about profits may temper gains, leading to a cautious investor sentiment.</td>\n",
       "      <td>0.807424</td>\n",
       "      <td>0.148471</td>\n",
       "      <td>0.044106</td>\n",
       "    </tr>\n",
       "    <tr>\n",
       "      <th>2</th>\n",
       "      <td>207</td>\n",
       "      <td>2019-10-09</td>\n",
       "      <td>This news may have a negative impact on Tesla's stock price. The proposed corporate tax rules could complicate Tesla's ability to optimize its tax strategy, potentially increasing its overall tax burden. This added financial strain might deter investors, fearing reduced profitability in the face of heavier taxation. Moreover, the reference to challenges faced by American businesses in foreign markets, exemplified by the N.B.A., adds an additional layer of uncertainty regarding Tesla’s operations and growth potential, particularly in crucial markets like China. Overall, these factors may lead to decreased investor confidence and could negatively influence Tesla's stock performance.</td>\n",
       "      <td>0.009642</td>\n",
       "      <td>0.966554</td>\n",
       "      <td>0.023804</td>\n",
       "    </tr>\n",
       "    <tr>\n",
       "      <th>3</th>\n",
       "      <td>372</td>\n",
       "      <td>2019-10-10</td>\n",
       "      <td>Negative sentiment surrounding Tesla's actions in response to criticism from China's state media may lead to a decline in its stock price, as investors could perceive the company's decision as a weakness or potential vulnerability in its international operations. The backlash could raise concerns about regulatory challenges in China, which is a significant market for Tesla, potentially harming future sales and profitability. As a result, this development might create uncertainty in the market, further exerting downward pressure on Tesla's stock value.</td>\n",
       "      <td>0.008986</td>\n",
       "      <td>0.966405</td>\n",
       "      <td>0.024610</td>\n",
       "    </tr>\n",
       "    <tr>\n",
       "      <th>4</th>\n",
       "      <td>272</td>\n",
       "      <td>2019-10-11</td>\n",
       "      <td>This news could negatively impact Tesla's stock price as it highlights the challenges faced by American tech companies, suggesting potential barriers to entry and strained relations in the crucial Chinese market. Difficulties in accessing customers may lead to reduced sales opportunities and weakened growth prospects for Tesla, raising concerns among investors about its ability to capitalize on one of the largest automotive markets globally. Additionally, this precarious situation might prompt uncertainty regarding future collaborations and profitability, further diminishing investor confidence.</td>\n",
       "      <td>0.008820</td>\n",
       "      <td>0.967364</td>\n",
       "      <td>0.023817</td>\n",
       "    </tr>\n",
       "  </tbody>\n",
       "</table>\n",
       "</div>"
      ],
      "text/plain": [
       "   Unnamed: 0 adjusted_date  \\\n",
       "0         394    2019-10-02   \n",
       "1          50    2019-10-03   \n",
       "2         207    2019-10-09   \n",
       "3         372    2019-10-10   \n",
       "4         272    2019-10-11   \n",
       "\n",
       "                                                                                                                                                                                                                                                                                                                                                                                                                                                                                                                                                                                                                                                                                                         gpt_summary  \\\n",
       "0                                                                            The news of a potential legal battle involving a prominent figure against a political figure could create a sense of uncertainty around the market, potentially leading to negative sentiment surrounding companies involved in similar sectors, such as Tesla. Investors may perceive this as a distraction that could hinder innovation and long-term growth. Increased regulatory scrutiny could also lead to volatility in the tech market, influencing negative sentiment towards related stocks, including Tesla. Consequently, the overall reaction may lean towards pessimism, likely causing a decline in Tesla's stock price.   \n",
       "1                                                                                                                                                                 This news presents a mixed outlook for Tesla, suggesting a cautiously optimistic scenario. The record quarterly deliveries highlight robust demand, boosting investor confidence and indicating strong operational performance. However, lingering skepticism regarding profit generation causes concern, potentially dampening enthusiasm. Overall, while the positive news of increased deliveries could initially support a favorable stock response, the uncertainty about profits may temper gains, leading to a cautious investor sentiment.   \n",
       "2  This news may have a negative impact on Tesla's stock price. The proposed corporate tax rules could complicate Tesla's ability to optimize its tax strategy, potentially increasing its overall tax burden. This added financial strain might deter investors, fearing reduced profitability in the face of heavier taxation. Moreover, the reference to challenges faced by American businesses in foreign markets, exemplified by the N.B.A., adds an additional layer of uncertainty regarding Tesla’s operations and growth potential, particularly in crucial markets like China. Overall, these factors may lead to decreased investor confidence and could negatively influence Tesla's stock performance.   \n",
       "3                                                                                                                                      Negative sentiment surrounding Tesla's actions in response to criticism from China's state media may lead to a decline in its stock price, as investors could perceive the company's decision as a weakness or potential vulnerability in its international operations. The backlash could raise concerns about regulatory challenges in China, which is a significant market for Tesla, potentially harming future sales and profitability. As a result, this development might create uncertainty in the market, further exerting downward pressure on Tesla's stock value.   \n",
       "4                                                                                         This news could negatively impact Tesla's stock price as it highlights the challenges faced by American tech companies, suggesting potential barriers to entry and strained relations in the crucial Chinese market. Difficulties in accessing customers may lead to reduced sales opportunities and weakened growth prospects for Tesla, raising concerns among investors about its ability to capitalize on one of the largest automotive markets globally. Additionally, this precarious situation might prompt uncertainty regarding future collaborations and profitability, further diminishing investor confidence.   \n",
       "\n",
       "   pos_sentiment  neg_sentiment  neutral_sentiment  \n",
       "0       0.008944       0.961645           0.029411  \n",
       "1       0.807424       0.148471           0.044106  \n",
       "2       0.009642       0.966554           0.023804  \n",
       "3       0.008986       0.966405           0.024610  \n",
       "4       0.008820       0.967364           0.023817  "
      ]
     },
     "execution_count": 29,
     "metadata": {},
     "output_type": "execute_result"
    }
   ],
   "source": [
    "tesla_df"
   ]
  },
  {
   "cell_type": "code",
   "execution_count": null,
   "metadata": {},
   "outputs": [
    {
     "name": "stdout",
     "output_type": "stream",
     "text": [
      "\n"
     ]
    }
   ],
   "source": [
    "tesla_df.to_csv('../data/Tesla/tesla_gpt_summarised_sentiments.csv', index=False)"
   ]
  },
  {
   "cell_type": "code",
   "execution_count": null,
   "metadata": {},
   "outputs": [],
   "source": []
  },
  {
   "cell_type": "markdown",
   "metadata": {},
   "source": [
    "## Finbert on S&P news\n"
   ]
  },
  {
   "cell_type": "markdown",
   "metadata": {},
   "source": [
    "1. Get sentiment for each article"
   ]
  },
  {
   "cell_type": "code",
   "execution_count": 38,
   "metadata": {},
   "outputs": [],
   "source": [
    "spy_df = pd.read_csv('../data/S&P_market/s&p_gpt_summarised_sentiments.csv')\n",
    "#df = df[['timestamp','article_url','lead_paragraph','abstract','adjusted_date']]"
   ]
  },
  {
   "cell_type": "code",
   "execution_count": null,
   "metadata": {},
   "outputs": [
    {
     "data": {
      "text/html": [
       "<div>\n",
       "<style scoped>\n",
       "    .dataframe tbody tr th:only-of-type {\n",
       "        vertical-align: middle;\n",
       "    }\n",
       "\n",
       "    .dataframe tbody tr th {\n",
       "        vertical-align: top;\n",
       "    }\n",
       "\n",
       "    .dataframe thead th {\n",
       "        text-align: right;\n",
       "    }\n",
       "</style>\n",
       "<table border=\"1\" class=\"dataframe\">\n",
       "  <thead>\n",
       "    <tr style=\"text-align: right;\">\n",
       "      <th></th>\n",
       "      <th>adjusted_date</th>\n",
       "      <th>gpt_summary</th>\n",
       "    </tr>\n",
       "  </thead>\n",
       "  <tbody>\n",
       "    <tr>\n",
       "      <th>0</th>\n",
       "      <td>2019-09-30</td>\n",
       "      <td>The decision by WeWork to postpone its initial public offering signifies a significant setback, which could lead to negative market sentiment, as it reflects deepening concerns about the company's sustainability and viability. Such developments may contribute to a cautious outlook among investors, potentially dampening confidence in high-growth sectors like commercial real estate, and this can negatively impact the S&amp;P price index as broader market sentiments could shift toward pessimism and risk aversion.</td>\n",
       "    </tr>\n",
       "    <tr>\n",
       "      <th>1</th>\n",
       "      <td>2019-09-30</td>\n",
       "      <td>The increase in taxes would negatively impact consumer spending and could lead to a decline in economic activity, ultimately resulting in a bearish sentiment that may pull down the S&amp;P price index as investors react to the potential decrease in growth and profitability for companies reliant on consumer demand.</td>\n",
       "    </tr>\n",
       "    <tr>\n",
       "      <th>2</th>\n",
       "      <td>2019-09-30</td>\n",
       "      <td>This news presents a negative outlook for the S&amp;P price index as it highlights challenges for Seamless and Grubhub, two significant players in the food delivery sector. With restaurant owners expressing dissatisfaction and a city council investigation looming, concerns arise over potential regulatory impacts and a decline in profit margins, which could lead to decreased investor confidence. Additionally, these issues may result in increased operational costs and a potential reduction in market share, further dampening financial performance for companies within this sector.</td>\n",
       "    </tr>\n",
       "    <tr>\n",
       "      <th>3</th>\n",
       "      <td>2019-09-30</td>\n",
       "      <td>This piece of news could have a negative impact on the S&amp;P price index. The mention of failures in major companies like Uber and WeWork underscores a broader concern regarding the sustainability and foundational strength of tech startups, which could lead to decreased investor confidence in the market. Such failures may suggest vulnerabilities in other sectors or similar companies, leading to cautious sentiment among investors and a potential downturn in market performance.</td>\n",
       "    </tr>\n",
       "    <tr>\n",
       "      <th>4</th>\n",
       "      <td>2019-09-30</td>\n",
       "      <td>This news presents a troubling outlook for the S&amp;P price index, as it underscores the potential for government overreach and increased scrutiny of high-profile business figures. The implications of state pressure on influential tycoons like Li Ka-shing signal instability in the market, fostering a climate of uncertainty among investors. Such a narrative could deter investment and lead to heightened volatility, as concerns over regulatory interventions might lead to declining confidence in the broader economic landscape. In sum, the atmosphere of unease surrounding business operations may negatively impact the S&amp;P price index.</td>\n",
       "    </tr>\n",
       "  </tbody>\n",
       "</table>\n",
       "</div>"
      ],
      "text/plain": [
       "  adjusted_date  \\\n",
       "0    2019-09-30   \n",
       "1    2019-09-30   \n",
       "2    2019-09-30   \n",
       "3    2019-09-30   \n",
       "4    2019-09-30   \n",
       "\n",
       "                                                                                                                                                                                                                                                                                                                                                                                                                                                                                                                                                                                                                                                 gpt_summary  \n",
       "0                                                                                                                            The decision by WeWork to postpone its initial public offering signifies a significant setback, which could lead to negative market sentiment, as it reflects deepening concerns about the company's sustainability and viability. Such developments may contribute to a cautious outlook among investors, potentially dampening confidence in high-growth sectors like commercial real estate, and this can negatively impact the S&P price index as broader market sentiments could shift toward pessimism and risk aversion.  \n",
       "1                                                                                                                                                                                                                                                                                                                                    The increase in taxes would negatively impact consumer spending and could lead to a decline in economic activity, ultimately resulting in a bearish sentiment that may pull down the S&P price index as investors react to the potential decrease in growth and profitability for companies reliant on consumer demand.  \n",
       "2                                                        This news presents a negative outlook for the S&P price index as it highlights challenges for Seamless and Grubhub, two significant players in the food delivery sector. With restaurant owners expressing dissatisfaction and a city council investigation looming, concerns arise over potential regulatory impacts and a decline in profit margins, which could lead to decreased investor confidence. Additionally, these issues may result in increased operational costs and a potential reduction in market share, further dampening financial performance for companies within this sector.  \n",
       "3                                                                                                                                                             This piece of news could have a negative impact on the S&P price index. The mention of failures in major companies like Uber and WeWork underscores a broader concern regarding the sustainability and foundational strength of tech startups, which could lead to decreased investor confidence in the market. Such failures may suggest vulnerabilities in other sectors or similar companies, leading to cautious sentiment among investors and a potential downturn in market performance.  \n",
       "4  This news presents a troubling outlook for the S&P price index, as it underscores the potential for government overreach and increased scrutiny of high-profile business figures. The implications of state pressure on influential tycoons like Li Ka-shing signal instability in the market, fostering a climate of uncertainty among investors. Such a narrative could deter investment and lead to heightened volatility, as concerns over regulatory interventions might lead to declining confidence in the broader economic landscape. In sum, the atmosphere of unease surrounding business operations may negatively impact the S&P price index.  "
      ]
     },
     "execution_count": 40,
     "metadata": {},
     "output_type": "execute_result"
    }
   ],
   "source": [
    "spy_df"
   ]
  },
  {
   "cell_type": "code",
   "execution_count": null,
   "metadata": {},
   "outputs": [],
   "source": [
    "for i, row in spy_df.iterrows():\n",
    "    output = generate_sentiment_values(row['gpt_summary'])\n",
    "    preamble_spy = \"Evaluate the above news on S&P stock index.\"\n",
    "    combined_str = f\"\"\"<news>{row['gpt_summary']}</news> <instructions>{preamble_spy}</instructions> \"\"\"    \n",
    "    output = generate_sentiment_values(combined_str)\n",
    "    spy_df.at[i, 'pos_sentiment'] = output[0]\n",
    "    spy_df.at[i, 'neg_sentiment'] = output[1]\n",
    "    spy_df.at[i, 'neutral_sentiment'] = output[2]"
   ]
  },
  {
   "cell_type": "code",
   "execution_count": 41,
   "metadata": {},
   "outputs": [
    {
     "data": {
      "text/html": [
       "<div>\n",
       "<style scoped>\n",
       "    .dataframe tbody tr th:only-of-type {\n",
       "        vertical-align: middle;\n",
       "    }\n",
       "\n",
       "    .dataframe tbody tr th {\n",
       "        vertical-align: top;\n",
       "    }\n",
       "\n",
       "    .dataframe thead th {\n",
       "        text-align: right;\n",
       "    }\n",
       "</style>\n",
       "<table border=\"1\" class=\"dataframe\">\n",
       "  <thead>\n",
       "    <tr style=\"text-align: right;\">\n",
       "      <th></th>\n",
       "      <th>Unnamed: 0</th>\n",
       "      <th>adjusted_date</th>\n",
       "      <th>gpt_summary</th>\n",
       "      <th>pos_sentiment</th>\n",
       "      <th>neg_sentiment</th>\n",
       "      <th>neutral_sentiment</th>\n",
       "    </tr>\n",
       "  </thead>\n",
       "  <tbody>\n",
       "    <tr>\n",
       "      <th>0</th>\n",
       "      <td>2</td>\n",
       "      <td>2019-09-30</td>\n",
       "      <td>The decision by WeWork to postpone its initial public offering signifies a significant setback, which could lead to negative market sentiment, as it reflects deepening concerns about the company's sustainability and viability. Such developments may contribute to a cautious outlook among investors, potentially dampening confidence in high-growth sectors like commercial real estate, and this can negatively impact the S&amp;P price index as broader market sentiments could shift toward pessimism and risk aversion.</td>\n",
       "      <td>0.009970</td>\n",
       "      <td>0.959472</td>\n",
       "      <td>0.030558</td>\n",
       "    </tr>\n",
       "    <tr>\n",
       "      <th>1</th>\n",
       "      <td>3</td>\n",
       "      <td>2019-09-30</td>\n",
       "      <td>The increase in taxes would negatively impact consumer spending and could lead to a decline in economic activity, ultimately resulting in a bearish sentiment that may pull down the S&amp;P price index as investors react to the potential decrease in growth and profitability for companies reliant on consumer demand.</td>\n",
       "      <td>0.009024</td>\n",
       "      <td>0.962636</td>\n",
       "      <td>0.028340</td>\n",
       "    </tr>\n",
       "    <tr>\n",
       "      <th>2</th>\n",
       "      <td>4</td>\n",
       "      <td>2019-09-30</td>\n",
       "      <td>This news presents a negative outlook for the S&amp;P price index as it highlights challenges for Seamless and Grubhub, two significant players in the food delivery sector. With restaurant owners expressing dissatisfaction and a city council investigation looming, concerns arise over potential regulatory impacts and a decline in profit margins, which could lead to decreased investor confidence. Additionally, these issues may result in increased operational costs and a potential reduction in market share, further dampening financial performance for companies within this sector.</td>\n",
       "      <td>0.008275</td>\n",
       "      <td>0.970685</td>\n",
       "      <td>0.021040</td>\n",
       "    </tr>\n",
       "    <tr>\n",
       "      <th>3</th>\n",
       "      <td>5</td>\n",
       "      <td>2019-09-30</td>\n",
       "      <td>This piece of news could have a negative impact on the S&amp;P price index. The mention of failures in major companies like Uber and WeWork underscores a broader concern regarding the sustainability and foundational strength of tech startups, which could lead to decreased investor confidence in the market. Such failures may suggest vulnerabilities in other sectors or similar companies, leading to cautious sentiment among investors and a potential downturn in market performance.</td>\n",
       "      <td>0.009357</td>\n",
       "      <td>0.946452</td>\n",
       "      <td>0.044191</td>\n",
       "    </tr>\n",
       "    <tr>\n",
       "      <th>4</th>\n",
       "      <td>6</td>\n",
       "      <td>2019-09-30</td>\n",
       "      <td>This news presents a troubling outlook for the S&amp;P price index, as it underscores the potential for government overreach and increased scrutiny of high-profile business figures. The implications of state pressure on influential tycoons like Li Ka-shing signal instability in the market, fostering a climate of uncertainty among investors. Such a narrative could deter investment and lead to heightened volatility, as concerns over regulatory interventions might lead to declining confidence in the broader economic landscape. In sum, the atmosphere of unease surrounding business operations may negatively impact the S&amp;P price index.</td>\n",
       "      <td>0.010739</td>\n",
       "      <td>0.963194</td>\n",
       "      <td>0.026067</td>\n",
       "    </tr>\n",
       "    <tr>\n",
       "      <th>...</th>\n",
       "      <td>...</td>\n",
       "      <td>...</td>\n",
       "      <td>...</td>\n",
       "      <td>...</td>\n",
       "      <td>...</td>\n",
       "      <td>...</td>\n",
       "    </tr>\n",
       "    <tr>\n",
       "      <th>12045</th>\n",
       "      <td>12049</td>\n",
       "      <td>2024-09-27</td>\n",
       "      <td>This piece of news would likely have a positive impact on the S&amp;P price index. The stimulus measures from China signal robust economic support and could enhance global investor confidence, leading to increased trading activity and encouraging capital inflows. As China's stock market experiences strong performance, it may boost sentiment in the U.S. markets as well, facilitating optimism and potential gains in the S&amp;P index.</td>\n",
       "      <td>0.946426</td>\n",
       "      <td>0.014552</td>\n",
       "      <td>0.039022</td>\n",
       "    </tr>\n",
       "    <tr>\n",
       "      <th>12046</th>\n",
       "      <td>12040</td>\n",
       "      <td>2024-09-28</td>\n",
       "      <td>The news about Hurricane Helene indicates significant damage to homes, suggesting a negative impact on the S&amp;P price index. This disaster can lead to increased insurance claims, economic uncertainty, and potential disruptions in the housing market, all of which typically contribute to decreased investor confidence. Consequently, the anticipation of long-term recovery efforts might further dampen market sentiment, leading to a decline in stock prices within the index.</td>\n",
       "      <td>0.008694</td>\n",
       "      <td>0.966439</td>\n",
       "      <td>0.024868</td>\n",
       "    </tr>\n",
       "    <tr>\n",
       "      <th>12047</th>\n",
       "      <td>12041</td>\n",
       "      <td>2024-09-28</td>\n",
       "      <td>This news presents a negative outlook for the S&amp;P price index. OpenAI's unclear financial health raises concerns among investors, inducing skepticism about its profitability. The lack of transparency regarding losses and the need for additional cash can create uncertainty in the market, potentially leading to declines in stock prices. Moreover, the dependence on outside investors may signal instability, further impacting market confidence negatively.</td>\n",
       "      <td>0.008590</td>\n",
       "      <td>0.965667</td>\n",
       "      <td>0.025743</td>\n",
       "    </tr>\n",
       "    <tr>\n",
       "      <th>12048</th>\n",
       "      <td>12042</td>\n",
       "      <td>2024-09-28</td>\n",
       "      <td>The news of a firm backed by Elliott Investment Management being named as the leading contender to acquire Citgo Petroleum carries optimistic implications for the S&amp;P price index. The potential acquisition signals a resolution to the long-standing legal battle over Venezuela's debts, which may alleviate financial anxiety for U.S. energy companies. A successful sale could enhance market confidence, possibly leading to increased investments in the energy sector and positively influencing overall market sentiment, thus contributing to an uplift in the S&amp;P price index.</td>\n",
       "      <td>0.942329</td>\n",
       "      <td>0.015862</td>\n",
       "      <td>0.041808</td>\n",
       "    </tr>\n",
       "    <tr>\n",
       "      <th>12049</th>\n",
       "      <td>12043</td>\n",
       "      <td>2024-09-28</td>\n",
       "      <td>The announcement of the debate rules and format is likely to generate positive sentiment in the market, as it signifies increased political engagement and transparency. Investors may view this as a sign of stability, potentially fostering confidence in the political landscape. Consequently, this positive sentiment could lead to a slight upward movement in the S&amp;P price index, as the market reacts favorably to the clarity and structure surrounding important political events.</td>\n",
       "      <td>0.635107</td>\n",
       "      <td>0.023596</td>\n",
       "      <td>0.341297</td>\n",
       "    </tr>\n",
       "  </tbody>\n",
       "</table>\n",
       "<p>12050 rows × 6 columns</p>\n",
       "</div>"
      ],
      "text/plain": [
       "       Unnamed: 0 adjusted_date  \\\n",
       "0               2    2019-09-30   \n",
       "1               3    2019-09-30   \n",
       "2               4    2019-09-30   \n",
       "3               5    2019-09-30   \n",
       "4               6    2019-09-30   \n",
       "...           ...           ...   \n",
       "12045       12049    2024-09-27   \n",
       "12046       12040    2024-09-28   \n",
       "12047       12041    2024-09-28   \n",
       "12048       12042    2024-09-28   \n",
       "12049       12043    2024-09-28   \n",
       "\n",
       "                                                                                                                                                                                                                                                                                                                                                                                                                                                                                                                                                                                                                                                     gpt_summary  \\\n",
       "0                                                                                                                                The decision by WeWork to postpone its initial public offering signifies a significant setback, which could lead to negative market sentiment, as it reflects deepening concerns about the company's sustainability and viability. Such developments may contribute to a cautious outlook among investors, potentially dampening confidence in high-growth sectors like commercial real estate, and this can negatively impact the S&P price index as broader market sentiments could shift toward pessimism and risk aversion.   \n",
       "1                                                                                                                                                                                                                                                                                                                                        The increase in taxes would negatively impact consumer spending and could lead to a decline in economic activity, ultimately resulting in a bearish sentiment that may pull down the S&P price index as investors react to the potential decrease in growth and profitability for companies reliant on consumer demand.   \n",
       "2                                                            This news presents a negative outlook for the S&P price index as it highlights challenges for Seamless and Grubhub, two significant players in the food delivery sector. With restaurant owners expressing dissatisfaction and a city council investigation looming, concerns arise over potential regulatory impacts and a decline in profit margins, which could lead to decreased investor confidence. Additionally, these issues may result in increased operational costs and a potential reduction in market share, further dampening financial performance for companies within this sector.   \n",
       "3                                                                                                                                                                 This piece of news could have a negative impact on the S&P price index. The mention of failures in major companies like Uber and WeWork underscores a broader concern regarding the sustainability and foundational strength of tech startups, which could lead to decreased investor confidence in the market. Such failures may suggest vulnerabilities in other sectors or similar companies, leading to cautious sentiment among investors and a potential downturn in market performance.   \n",
       "4      This news presents a troubling outlook for the S&P price index, as it underscores the potential for government overreach and increased scrutiny of high-profile business figures. The implications of state pressure on influential tycoons like Li Ka-shing signal instability in the market, fostering a climate of uncertainty among investors. Such a narrative could deter investment and lead to heightened volatility, as concerns over regulatory interventions might lead to declining confidence in the broader economic landscape. In sum, the atmosphere of unease surrounding business operations may negatively impact the S&P price index.   \n",
       "...                                                                                                                                                                                                                                                                                                                                                                                                                                                                                                                                                                                                                                                          ...   \n",
       "12045                                                                                                                                                                                                                This piece of news would likely have a positive impact on the S&P price index. The stimulus measures from China signal robust economic support and could enhance global investor confidence, leading to increased trading activity and encouraging capital inflows. As China's stock market experiences strong performance, it may boost sentiment in the U.S. markets as well, facilitating optimism and potential gains in the S&P index.   \n",
       "12046                                                                                                                                                                    The news about Hurricane Helene indicates significant damage to homes, suggesting a negative impact on the S&P price index. This disaster can lead to increased insurance claims, economic uncertainty, and potential disruptions in the housing market, all of which typically contribute to decreased investor confidence. Consequently, the anticipation of long-term recovery efforts might further dampen market sentiment, leading to a decline in stock prices within the index.   \n",
       "12047                                                                                                                                                                                     This news presents a negative outlook for the S&P price index. OpenAI's unclear financial health raises concerns among investors, inducing skepticism about its profitability. The lack of transparency regarding losses and the need for additional cash can create uncertainty in the market, potentially leading to declines in stock prices. Moreover, the dependence on outside investors may signal instability, further impacting market confidence negatively.   \n",
       "12048                                                                The news of a firm backed by Elliott Investment Management being named as the leading contender to acquire Citgo Petroleum carries optimistic implications for the S&P price index. The potential acquisition signals a resolution to the long-standing legal battle over Venezuela's debts, which may alleviate financial anxiety for U.S. energy companies. A successful sale could enhance market confidence, possibly leading to increased investments in the energy sector and positively influencing overall market sentiment, thus contributing to an uplift in the S&P price index.   \n",
       "12049                                                                                                                                                             The announcement of the debate rules and format is likely to generate positive sentiment in the market, as it signifies increased political engagement and transparency. Investors may view this as a sign of stability, potentially fostering confidence in the political landscape. Consequently, this positive sentiment could lead to a slight upward movement in the S&P price index, as the market reacts favorably to the clarity and structure surrounding important political events.   \n",
       "\n",
       "       pos_sentiment  neg_sentiment  neutral_sentiment  \n",
       "0           0.009970       0.959472           0.030558  \n",
       "1           0.009024       0.962636           0.028340  \n",
       "2           0.008275       0.970685           0.021040  \n",
       "3           0.009357       0.946452           0.044191  \n",
       "4           0.010739       0.963194           0.026067  \n",
       "...              ...            ...                ...  \n",
       "12045       0.946426       0.014552           0.039022  \n",
       "12046       0.008694       0.966439           0.024868  \n",
       "12047       0.008590       0.965667           0.025743  \n",
       "12048       0.942329       0.015862           0.041808  \n",
       "12049       0.635107       0.023596           0.341297  \n",
       "\n",
       "[12050 rows x 6 columns]"
      ]
     },
     "execution_count": 41,
     "metadata": {},
     "output_type": "execute_result"
    }
   ],
   "source": [
    "spy_df"
   ]
  },
  {
   "cell_type": "code",
   "execution_count": null,
   "metadata": {},
   "outputs": [
    {
     "name": "stdout",
     "output_type": "stream",
     "text": [
      "\n"
     ]
    }
   ],
   "source": [
    "tesla_df.to_csv('../data/S&P_market/s&p_gpt_summarised_sentiments.csv', index=False)"
   ]
  },
  {
   "cell_type": "code",
   "execution_count": null,
   "metadata": {},
   "outputs": [],
   "source": []
  }
 ],
 "metadata": {
  "kernelspec": {
   "display_name": "venv",
   "language": "python",
   "name": "python3"
  },
  "language_info": {
   "codemirror_mode": {
    "name": "ipython",
    "version": 3
   },
   "file_extension": ".py",
   "mimetype": "text/x-python",
   "name": "python",
   "nbconvert_exporter": "python",
   "pygments_lexer": "ipython3",
   "version": "3.10.9"
  }
 },
 "nbformat": 4,
 "nbformat_minor": 2
}
