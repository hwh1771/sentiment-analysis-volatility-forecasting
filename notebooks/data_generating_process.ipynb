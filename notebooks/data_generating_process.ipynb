{
 "cells": [
  {
   "cell_type": "code",
   "execution_count": 4,
   "metadata": {},
   "outputs": [],
   "source": [
    "import random\n",
    "\n",
    "from matplotlib import pyplot as plt\n",
    "import numpy as np\n",
    "\n",
    "from arch import arch_model\n",
    "\n",
    "from Garch import GARCH"
   ]
  },
  {
   "cell_type": "markdown",
   "metadata": {},
   "source": [
    "### 1. Generate synthetic data for basic GARCH(1,1)\n",
    "\n",
    "Mean Model\n",
    "$$ r_t = e_t $$ \n",
    "$$e_t \\sim N(0, \\sigma_t^2)$$\n",
    "\n",
    "Volatility Model \n",
    "$$ \\sigma_t^2 = \\omega +  \\alpha e_{t-1}^2 + \\beta \\sigma_{t-i}^2  $$"
   ]
  },
  {
   "cell_type": "code",
   "execution_count": 2,
   "metadata": {},
   "outputs": [],
   "source": [
    "e = [0]  # errors e_t\n",
    "sigma2 = [1] # sigma sigma_t\n",
    "omega, alpha, beta = 0.2, 0.3, 0.5\n",
    "\n",
    "for t in range(1000):\n",
    "    sigma2_t = omega + alpha * e[-1]**2 + beta * sigma2[-1]\n",
    "    e_t = random.gauss(0, sigma2_t**0.5)\n",
    "    \n",
    "    e.append(e_t)\n",
    "    sigma2.append(sigma2_t)\n",
    "\n",
    "e = e[1:]\n",
    "sigma2 = sigma2[1:]"
   ]
  },
  {
   "cell_type": "code",
   "execution_count": 3,
   "metadata": {},
   "outputs": [
    {
     "data": {
      "text/html": [
       "<table class=\"simpletable\">\n",
       "<caption>Zero Mean - GARCH Model Results</caption>\n",
       "<tr>\n",
       "  <th>Dep. Variable:</th>          <td>y</td>         <th>  R-squared:         </th>  <td>   0.000</td> \n",
       "</tr>\n",
       "<tr>\n",
       "  <th>Mean Model:</th>         <td>Zero Mean</td>     <th>  Adj. R-squared:    </th>  <td>   0.000</td> \n",
       "</tr>\n",
       "<tr>\n",
       "  <th>Vol Model:</th>            <td>GARCH</td>       <th>  Log-Likelihood:    </th> <td>  -128924.</td>\n",
       "</tr>\n",
       "<tr>\n",
       "  <th>Distribution:</th>        <td>Normal</td>       <th>  AIC:               </th> <td>   257855.</td>\n",
       "</tr>\n",
       "<tr>\n",
       "  <th>Method:</th>        <td>Maximum Likelihood</td> <th>  BIC:               </th> <td>   257883.</td>\n",
       "</tr>\n",
       "<tr>\n",
       "  <th></th>                        <td></td>          <th>  No. Observations:  </th>   <td>100000</td>  \n",
       "</tr>\n",
       "<tr>\n",
       "  <th>Date:</th>           <td>Tue, Feb 04 2025</td>  <th>  Df Residuals:      </th>   <td>100000</td>  \n",
       "</tr>\n",
       "<tr>\n",
       "  <th>Time:</th>               <td>21:41:04</td>      <th>  Df Model:          </th>      <td>0</td>    \n",
       "</tr>\n",
       "</table>\n",
       "<table class=\"simpletable\">\n",
       "<caption>Volatility Model</caption>\n",
       "<tr>\n",
       "      <td></td>        <th>coef</th>     <th>std err</th>      <th>t</th>        <th>P>|t|</th>   <th>95.0% Conf. Int.</th> \n",
       "</tr>\n",
       "<tr>\n",
       "  <th>omega</th>    <td>    0.1524</td> <td>4.350e-03</td> <td>   35.033</td> <td>6.978e-269</td> <td>[  0.144,  0.161]</td>\n",
       "</tr>\n",
       "<tr>\n",
       "  <th>alpha[1]</th> <td>    0.2135</td> <td>4.325e-03</td> <td>   49.352</td>    <td>0.000</td>   <td>[  0.205,  0.222]</td>\n",
       "</tr>\n",
       "<tr>\n",
       "  <th>beta[1]</th>  <td>    0.6094</td> <td>7.794e-03</td> <td>   78.188</td>    <td>0.000</td>   <td>[  0.594,  0.625]</td>\n",
       "</tr>\n",
       "</table><br/><br/>Covariance estimator: robust"
      ],
      "text/latex": [
       "\\begin{center}\n",
       "\\begin{tabular}{lclc}\n",
       "\\toprule\n",
       "\\textbf{Dep. Variable:} &         y          & \\textbf{  R-squared:         } &     0.000   \\\\\n",
       "\\textbf{Mean Model:}    &     Zero Mean      & \\textbf{  Adj. R-squared:    } &     0.000   \\\\\n",
       "\\textbf{Vol Model:}     &       GARCH        & \\textbf{  Log-Likelihood:    } &   -128924.  \\\\\n",
       "\\textbf{Distribution:}  &       Normal       & \\textbf{  AIC:               } &    257855.  \\\\\n",
       "\\textbf{Method:}        & Maximum Likelihood & \\textbf{  BIC:               } &    257883.  \\\\\n",
       "\\textbf{}               &                    & \\textbf{  No. Observations:  } &   100000    \\\\\n",
       "\\textbf{Date:}          &  Tue, Feb 04 2025  & \\textbf{  Df Residuals:      } &   100000    \\\\\n",
       "\\textbf{Time:}          &      21:41:04      & \\textbf{  Df Model:          } &     0       \\\\\n",
       "\\bottomrule\n",
       "\\end{tabular}\n",
       "\\begin{tabular}{lccccc}\n",
       "                  & \\textbf{coef} & \\textbf{std err} & \\textbf{t} & \\textbf{P$> |$t$|$} & \\textbf{95.0\\% Conf. Int.}  \\\\\n",
       "\\midrule\n",
       "\\textbf{omega}    &       0.1524  &    4.350e-03     &    35.033  &      6.978e-269      &     [  0.144,  0.161]       \\\\\n",
       "\\textbf{alpha[1]} &       0.2135  &    4.325e-03     &    49.352  &        0.000         &     [  0.205,  0.222]       \\\\\n",
       "\\textbf{beta[1]}  &       0.6094  &    7.794e-03     &    78.188  &        0.000         &     [  0.594,  0.625]       \\\\\n",
       "\\bottomrule\n",
       "\\end{tabular}\n",
       "%\\caption{Zero Mean - GARCH Model Results}\n",
       "\\end{center}\n",
       "\n",
       "Covariance estimator: robust"
      ],
      "text/plain": [
       "<class 'statsmodels.iolib.summary.Summary'>\n",
       "\"\"\"\n",
       "                       Zero Mean - GARCH Model Results                        \n",
       "==============================================================================\n",
       "Dep. Variable:                      y   R-squared:                       0.000\n",
       "Mean Model:                 Zero Mean   Adj. R-squared:                  0.000\n",
       "Vol Model:                      GARCH   Log-Likelihood:               -128924.\n",
       "Distribution:                  Normal   AIC:                           257855.\n",
       "Method:            Maximum Likelihood   BIC:                           257883.\n",
       "                                        No. Observations:               100000\n",
       "Date:                Tue, Feb 04 2025   Df Residuals:                   100000\n",
       "Time:                        21:41:04   Df Model:                            0\n",
       "                            Volatility Model                            \n",
       "========================================================================\n",
       "                 coef    std err          t      P>|t|  95.0% Conf. Int.\n",
       "------------------------------------------------------------------------\n",
       "omega          0.1524  4.350e-03     35.033 6.978e-269 [  0.144,  0.161]\n",
       "alpha[1]       0.2135  4.325e-03     49.352      0.000 [  0.205,  0.222]\n",
       "beta[1]        0.6094  7.794e-03     78.188      0.000 [  0.594,  0.625]\n",
       "========================================================================\n",
       "\n",
       "Covariance estimator: robust\n",
       "\"\"\""
      ]
     },
     "execution_count": 3,
     "metadata": {},
     "output_type": "execute_result"
    }
   ],
   "source": [
    "# Fit using ARCH library\n",
    "model = arch_model(100*e, vol='GARCH', mean='zero', p=1, q=1)\n",
    "garch_fit = model.fit(disp='off')\n",
    "\n",
    "garch_fit.summary()"
   ]
  },
  {
   "cell_type": "markdown",
   "metadata": {},
   "source": [
    "### 2. Generate synthetic data for GARCH(1,1) with one exo variable in the volatility model\n",
    "\n",
    "* Assumption: exo variable is normally distributed with $ X \\sim N(0, 1) $\n",
    "\n",
    "Mean Model\n",
    "$$ r_t = e_t $$ \n",
    "$$e_t \\sim N(0, \\sigma_t^2)$$\n",
    "\n",
    "Volatility Model \n",
    "$$ \\sigma_t^2 = \\omega +  \\alpha e_{t-1}^2 + \\beta \\sigma_{t-i}^2 + \n",
    "    \\gamma x_t$$\n",
    "\n",
    "$$x_t \\sim N(0, 1)$$"
   ]
  },
  {
   "cell_type": "code",
   "execution_count": 9,
   "metadata": {},
   "outputs": [],
   "source": [
    "# Define volatility component coefficients\n",
    "omega, alpha, beta, gamma = 0.1, 0.1, 0.4, 0.05\n",
    "\n",
    "T = 1000"
   ]
  },
  {
   "cell_type": "code",
   "execution_count": 6,
   "metadata": {},
   "outputs": [],
   "source": [
    "e = [0]  # errors e_t\n",
    "sigma2 = [1] # sigma sigma_t\n",
    "x = np.random.randn(T, 1)\n",
    "\n",
    "for t in range(T):\n",
    "    sigma2_t = omega + alpha * e[-1]**2 + beta * sigma2[-1] + gamma * x[t]**2\n",
    "    e_t = random.gauss(0, sigma2_t**0.5) \n",
    "\n",
    "    e.append(e_t)\n",
    "    sigma2.append(sigma2_t)\n",
    "\n",
    "e = e[1:]\n",
    "sigma2 = sigma2[1:]"
   ]
  },
  {
   "cell_type": "code",
   "execution_count": 8,
   "metadata": {},
   "outputs": [
    {
     "data": {
      "text/html": [
       "<table class=\"simpletable\">\n",
       "<caption>Zero Mean - GARCH Model Results</caption>\n",
       "<tr>\n",
       "  <th>Dep. Variable:</th>          <td>y</td>         <th>  R-squared:         </th>  <td>   0.000</td> \n",
       "</tr>\n",
       "<tr>\n",
       "  <th>Mean Model:</th>         <td>Zero Mean</td>     <th>  Adj. R-squared:    </th>  <td>   0.001</td> \n",
       "</tr>\n",
       "<tr>\n",
       "  <th>Vol Model:</th>            <td>GARCH</td>       <th>  Log-Likelihood:    </th> <td>  -820.942</td>\n",
       "</tr>\n",
       "<tr>\n",
       "  <th>Distribution:</th>        <td>Normal</td>       <th>  AIC:               </th> <td>   1647.88</td>\n",
       "</tr>\n",
       "<tr>\n",
       "  <th>Method:</th>        <td>Maximum Likelihood</td> <th>  BIC:               </th> <td>   1662.61</td>\n",
       "</tr>\n",
       "<tr>\n",
       "  <th></th>                        <td></td>          <th>  No. Observations:  </th>    <td>1000</td>   \n",
       "</tr>\n",
       "<tr>\n",
       "  <th>Date:</th>           <td>Tue, Feb 04 2025</td>  <th>  Df Residuals:      </th>    <td>1000</td>   \n",
       "</tr>\n",
       "<tr>\n",
       "  <th>Time:</th>               <td>21:43:25</td>      <th>  Df Model:          </th>      <td>0</td>    \n",
       "</tr>\n",
       "</table>\n",
       "<table class=\"simpletable\">\n",
       "<caption>Volatility Model</caption>\n",
       "<tr>\n",
       "      <td></td>        <th>coef</th>     <th>std err</th>      <th>t</th>       <th>P>|t|</th>    <th>95.0% Conf. Int.</th>  \n",
       "</tr>\n",
       "<tr>\n",
       "  <th>omega</th>    <td>    0.2241</td> <td>5.002e-02</td> <td>    4.479</td> <td>7.484e-06</td>  <td>[  0.126,  0.322]</td> \n",
       "</tr>\n",
       "<tr>\n",
       "  <th>alpha[1]</th> <td>    0.1700</td> <td>4.583e-02</td> <td>    3.709</td> <td>2.083e-04</td> <td>[8.014e-02,  0.260]</td>\n",
       "</tr>\n",
       "<tr>\n",
       "  <th>beta[1]</th>  <td>    0.1061</td> <td>    0.168</td> <td>    0.631</td> <td>    0.528</td>  <td>[ -0.223,  0.436]</td> \n",
       "</tr>\n",
       "</table><br/><br/>Covariance estimator: robust"
      ],
      "text/latex": [
       "\\begin{center}\n",
       "\\begin{tabular}{lclc}\n",
       "\\toprule\n",
       "\\textbf{Dep. Variable:} &         y          & \\textbf{  R-squared:         } &     0.000   \\\\\n",
       "\\textbf{Mean Model:}    &     Zero Mean      & \\textbf{  Adj. R-squared:    } &     0.001   \\\\\n",
       "\\textbf{Vol Model:}     &       GARCH        & \\textbf{  Log-Likelihood:    } &   -820.942  \\\\\n",
       "\\textbf{Distribution:}  &       Normal       & \\textbf{  AIC:               } &    1647.88  \\\\\n",
       "\\textbf{Method:}        & Maximum Likelihood & \\textbf{  BIC:               } &    1662.61  \\\\\n",
       "\\textbf{}               &                    & \\textbf{  No. Observations:  } &    1000     \\\\\n",
       "\\textbf{Date:}          &  Tue, Feb 04 2025  & \\textbf{  Df Residuals:      } &    1000     \\\\\n",
       "\\textbf{Time:}          &      21:43:25      & \\textbf{  Df Model:          } &     0       \\\\\n",
       "\\bottomrule\n",
       "\\end{tabular}\n",
       "\\begin{tabular}{lccccc}\n",
       "                  & \\textbf{coef} & \\textbf{std err} & \\textbf{t} & \\textbf{P$> |$t$|$} & \\textbf{95.0\\% Conf. Int.}  \\\\\n",
       "\\midrule\n",
       "\\textbf{omega}    &       0.2241  &    5.002e-02     &     4.479  &      7.484e-06       &     [  0.126,  0.322]       \\\\\n",
       "\\textbf{alpha[1]} &       0.1700  &    4.583e-02     &     3.709  &      2.083e-04       &    [8.014e-02,  0.260]      \\\\\n",
       "\\textbf{beta[1]}  &       0.1061  &        0.168     &     0.631  &          0.528       &     [ -0.223,  0.436]       \\\\\n",
       "\\bottomrule\n",
       "\\end{tabular}\n",
       "%\\caption{Zero Mean - GARCH Model Results}\n",
       "\\end{center}\n",
       "\n",
       "Covariance estimator: robust"
      ],
      "text/plain": [
       "<class 'statsmodels.iolib.summary.Summary'>\n",
       "\"\"\"\n",
       "                       Zero Mean - GARCH Model Results                        \n",
       "==============================================================================\n",
       "Dep. Variable:                      y   R-squared:                       0.000\n",
       "Mean Model:                 Zero Mean   Adj. R-squared:                  0.001\n",
       "Vol Model:                      GARCH   Log-Likelihood:               -820.942\n",
       "Distribution:                  Normal   AIC:                           1647.88\n",
       "Method:            Maximum Likelihood   BIC:                           1662.61\n",
       "                                        No. Observations:                 1000\n",
       "Date:                Tue, Feb 04 2025   Df Residuals:                     1000\n",
       "Time:                        21:43:25   Df Model:                            0\n",
       "                             Volatility Model                             \n",
       "==========================================================================\n",
       "                 coef    std err          t      P>|t|    95.0% Conf. Int.\n",
       "--------------------------------------------------------------------------\n",
       "omega          0.2241  5.002e-02      4.479  7.484e-06   [  0.126,  0.322]\n",
       "alpha[1]       0.1700  4.583e-02      3.709  2.083e-04 [8.014e-02,  0.260]\n",
       "beta[1]        0.1061      0.168      0.631      0.528   [ -0.223,  0.436]\n",
       "==========================================================================\n",
       "\n",
       "Covariance estimator: robust\n",
       "\"\"\""
      ]
     },
     "execution_count": 8,
     "metadata": {},
     "output_type": "execute_result"
    }
   ],
   "source": [
    "# Fit using ARCH library, without exogeneous\n",
    "model = arch_model(e, vol='GARCH', mean='zero', p=1, q=1)\n",
    "garch_fit = model.fit(disp='off')\n",
    "\n",
    "garch_fit.summary()"
   ]
  },
  {
   "cell_type": "code",
   "execution_count": 10,
   "metadata": {},
   "outputs": [
    {
     "name": "stdout",
     "output_type": "stream",
     "text": [
      "optimising\n",
      "optimising finished\n",
      "omega=0.22167227843418752\n",
      " alpha=array([0.17082962])\n",
      " beta=array([0.1131281])\n",
      "\n"
     ]
    }
   ],
   "source": [
    "# Fit without exogenous\n",
    "garch_without_exo = GARCH(p=1, q=1, z=0)\n",
    "garch_without_exo.train(e)"
   ]
  },
  {
   "cell_type": "code",
   "execution_count": 13,
   "metadata": {},
   "outputs": [
    {
     "name": "stdout",
     "output_type": "stream",
     "text": [
      "optimising\n",
      "optimising finished\n",
      "omega=0.1089387896364006\n",
      " alpha=array([0.1250687])\n",
      " beta=array([0.36885773])\n",
      " gammas=array([[0.04418365]])\n"
     ]
    }
   ],
   "source": [
    "garch_with_exo = GARCH(p=1, q=1, z=1)\n",
    "garch_with_exo.train(e, x=x)"
   ]
  }
 ],
 "metadata": {
  "kernelspec": {
   "display_name": "venv",
   "language": "python",
   "name": "python3"
  },
  "language_info": {
   "codemirror_mode": {
    "name": "ipython",
    "version": 3
   },
   "file_extension": ".py",
   "mimetype": "text/x-python",
   "name": "python",
   "nbconvert_exporter": "python",
   "pygments_lexer": "ipython3",
   "version": "3.9.0"
  }
 },
 "nbformat": 4,
 "nbformat_minor": 2
}
