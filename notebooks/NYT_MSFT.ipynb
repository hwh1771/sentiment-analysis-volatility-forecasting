{
 "cells": [
  {
   "cell_type": "markdown",
   "metadata": {},
   "source": [
    "### To get API key: https://developer.nytimes.com/get-started"
   ]
  },
  {
   "cell_type": "code",
   "execution_count": 1,
   "metadata": {},
   "outputs": [],
   "source": [
    "from pynytimes import NYTAPI\n",
    "import datetime\n",
    "import pandas as pd\n",
    "\n",
    "import numpy as np"
   ]
  },
  {
   "cell_type": "code",
   "execution_count": null,
   "metadata": {},
   "outputs": [],
   "source": [
    "def get_news_specific_stock(start_date: datetime.datetime, end_date: datetime.datetime, nyt=None, k=100):\n",
    "    \"\"\"\n",
    "    get top k most relevent finance news headings on each day from NY times\n",
    "    \"\"\"\n",
    "    res = []\n",
    "    try:\n",
    "        #if not nyt:\n",
    "        #    nyt = NYTAPI(api_key, parse_dates=True)\n",
    "\n",
    "        articles = nyt.article_search(\n",
    "            query = \"Microsoft\", \n",
    "            results = k,\n",
    "            dates = {\n",
    "                \"begin\": start_date,\n",
    "                \"end\": end_date\n",
    "            },\n",
    "            options = {\n",
    "                \"sort\": \"relevance\", \n",
    "                \"sources\": [\n",
    "                    \"New York Times\",\n",
    "                    \"AP\",\n",
    "                    \"Reuters\",\n",
    "                    \"International Herald Tribune\"\n",
    "                ],\n",
    "                # Only get information from these news desk\n",
    "                \"news_desk\": [\n",
    "                    \"Business\",\n",
    "                    \"Financial\",\n",
    "                    \"Technology\"\n",
    "                ],\n",
    "                \"body\": [\n",
    "                    \"Microsoft\",\n",
    "                ],\n",
    "            }\n",
    "        )\n",
    "        \n",
    "        for i in range(len(articles)):\n",
    "            timestamp = articles[i]['pub_date']\n",
    "            article_url = articles[i]['web_url']\n",
    "            lead_paragraph = articles[i]['lead_paragraph']\n",
    "            abstract = articles[i]['abstract']\n",
    "            #print(articles[i])\n",
    "            res.append({'timestamp': timestamp,\n",
    "                        'article_url': article_url,\n",
    "                        'lead_paragraph': lead_paragraph,\n",
    "                        'abstract': abstract,\n",
    "                        })\n",
    "        \n",
    "    except Exception as e:\n",
    "        res.append({})\n",
    "    \n",
    "    df = pd.DataFrame(data=res)\n",
    "\n",
    "    return df"
   ]
  },
  {
   "cell_type": "markdown",
   "metadata": {},
   "source": [
    "### Change api key, start and end date"
   ]
  },
  {
   "cell_type": "code",
   "execution_count": null,
   "metadata": {},
   "outputs": [],
   "source": [
    "api_key = \"uLZTQY03vZfRZfk6nmzKcSc82EEUj4lK\"\n",
    "\n",
    "start_date = datetime.datetime(2024, 1, 1)\n",
    "end_date = datetime.datetime(2024, 1, 31)"
   ]
  },
  {
   "cell_type": "markdown",
   "metadata": {},
   "source": [
    "### Get articles"
   ]
  },
  {
   "cell_type": "code",
   "execution_count": null,
   "metadata": {},
   "outputs": [],
   "source": [
    "nyt = NYTAPI(api_key, parse_dates=True)\n",
    "k_results = (end_date - start_date).days * 1.2  # How many results to pull for. (x1.2 as an estimate for the max articles that exist.)\n",
    "\n",
    "article_df = get_news_specific_stock(start_date, end_date, nyt, k=k_results)"
   ]
  },
  {
   "cell_type": "code",
   "execution_count": null,
   "metadata": {},
   "outputs": [],
   "source": [
    "article_df"
   ]
  },
  {
   "cell_type": "markdown",
   "metadata": {},
   "source": [
    "#### Check if the news falls before or after market closes on each day. If it's after close, then the news should be categorised as a next day news."
   ]
  },
  {
   "cell_type": "code",
   "execution_count": null,
   "metadata": {},
   "outputs": [],
   "source": [
    "threshold_time = pd.Timestamp('16:00:00').time()\n",
    "\n",
    "article_df['adjusted_date'] = article_df['timestamp'].apply(lambda x: x.date() if x.time() < threshold_time else (x + pd.Timedelta(days=1)).date())\n",
    "article_df.head()"
   ]
  },
  {
   "cell_type": "markdown",
   "metadata": {},
   "source": [
    "### Save file "
   ]
  },
  {
   "cell_type": "code",
   "execution_count": null,
   "metadata": {},
   "outputs": [],
   "source": [
    "filename = \"../data/nyt_microsoft.csv\"\n",
    "article_df.to_csv(filename, index=False)"
   ]
  }
 ],
 "metadata": {
  "kernelspec": {
   "display_name": "venv",
   "language": "python",
   "name": "python3"
  },
  "language_info": {
   "codemirror_mode": {
    "name": "ipython",
    "version": 3
   },
   "file_extension": ".py",
   "mimetype": "text/x-python",
   "name": "python",
   "nbconvert_exporter": "python",
   "pygments_lexer": "ipython3",
   "version": "3.9.0"
  }
 },
 "nbformat": 4,
 "nbformat_minor": 2
}
