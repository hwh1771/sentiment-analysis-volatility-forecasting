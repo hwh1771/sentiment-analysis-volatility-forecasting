{
 "cells": [
  {
   "cell_type": "code",
   "execution_count": 5,
   "metadata": {},
   "outputs": [],
   "source": [
    "import random\n",
    "\n",
    "from matplotlib import pyplot as plt\n",
    "import numpy as np\n",
    "import pandas as pd\n",
    "\n",
    "from arch import arch_model\n",
    "\n",
    "from garch import GARCH"
   ]
  },
  {
   "cell_type": "code",
   "execution_count": 59,
   "metadata": {},
   "outputs": [],
   "source": [
    "random.seed(420)\n",
    "np.random.seed(420)"
   ]
  },
  {
   "cell_type": "markdown",
   "metadata": {},
   "source": [
    "#### Define a function to generate synthetic data."
   ]
  },
  {
   "cell_type": "code",
   "execution_count": 20,
   "metadata": {},
   "outputs": [],
   "source": [
    "def generate_ar_data(ar_coef, T):\n",
    "    res = [0]\n",
    "    for t in range(1,T):\n",
    "        res.append(ar_coef * res[-1] + random.gauss(0, 1))\n",
    "\n",
    "    return res"
   ]
  },
  {
   "cell_type": "code",
   "execution_count": null,
   "metadata": {},
   "outputs": [],
   "source": [
    "def generate_data(omega: float, alpha: float, beta: float, gamma: float, T: int = 1000, exo_var_count=1):\n",
    "    e = np.zeros(T)\n",
    "    sigma2 = np.zeros(T)\n",
    "    x =np.random.randn(T, exo_var_count)  # generate_ar_data(0.8, T)#\n",
    "\n",
    "    sigma2[0] = 1  \n",
    "\n",
    "    for t in range(1, T):  \n",
    "        sigma2[t] = omega + alpha * e[t-1]**2 + beta * sigma2[t-1] + gamma * x[t-1]**2 \n",
    "        e[t] = np.random.normal(0, np.sqrt(sigma2[t]))\n",
    "\n",
    "    return e, sigma2, x"
   ]
  },
  {
   "cell_type": "markdown",
   "metadata": {},
   "source": [
    "### 1. Generate synthetic data for basic GARCH(1,1)"
   ]
  },
  {
   "cell_type": "code",
   "execution_count": 49,
   "metadata": {},
   "outputs": [],
   "source": [
    "omega, alpha, beta, gamma = 0.2, 0.3, 0.5, 0\n",
    "e, sigma2, _ = generate_data(omega, alpha, beta, gamma)"
   ]
  },
  {
   "cell_type": "markdown",
   "metadata": {},
   "source": [
    "### 2. Generate synthetic data for GARCH(1,1) with one exo variable in the volatility model\n",
    "\n",
    "### Our GARCH model\n",
    "\n",
    "* Assumption: exo variable is normally distributed with $ X_t \\sim N(0, 1) $\n",
    "\n",
    "Mean Model\n",
    "$$ r_t = e_t $$ \n",
    "$$e_t \\sim N(0, \\sigma_t^2)$$\n",
    "\n",
    "Volatility Model \n",
    "$$ \\sigma_t^2 = \\omega +  \\alpha e_{t-1}^2 + \\beta \\sigma_{t-i}^2 + \n",
    "    \\gamma x_t^2$$\n",
    "\n",
    "$$x_t \\sim N(0, 1)$$"
   ]
  },
  {
   "cell_type": "markdown",
   "metadata": {},
   "source": [
    "### Log likelihood\n",
    " $$ l(\\omega, \\alpha, \\beta, \\gamma) =  \\sum_{t=1}^T {\\frac{1}{2} ({-\\log{2\\pi} -\\log{\\sigma_t^2} - \\frac{e_t^2}{\\sigma_t^2}})} $$"
   ]
  },
  {
   "cell_type": "code",
   "execution_count": 50,
   "metadata": {},
   "outputs": [],
   "source": [
    "# Define volatility component coefficients\n",
    "omega, alpha, beta, gamma = 0.1, 0.1, 0.4, 0.3\n",
    "e, sigma2, x = generate_data(omega, alpha, beta, gamma)"
   ]
  },
  {
   "cell_type": "code",
   "execution_count": 57,
   "metadata": {},
   "outputs": [
    {
     "data": {
      "application/vnd.microsoft.datawrangler.viewer.v0+json": {
       "columns": [
        {
         "name": "index",
         "rawType": "int32",
         "type": "integer"
        },
        {
         "name": "lb_stat",
         "rawType": "float64",
         "type": "float"
        },
        {
         "name": "lb_pvalue",
         "rawType": "float64",
         "type": "float"
        }
       ],
       "conversionMethod": "pd.DataFrame",
       "ref": "c7f11a80-2171-4ef3-9237-44fe4f0bf27e",
       "rows": [
        [
         "0",
         "1409.3546774240222",
         null
        ],
        [
         "1",
         "610.7288173574808",
         "7.766582777650056e-135"
        ],
        [
         "2",
         "976.8505529115741",
         "7.578750557347685e-213"
        ],
        [
         "3",
         "1188.4744810541308",
         "2.3219103710864583e-257"
        ],
        [
         "4",
         "1325.0935594647976",
         "1.206316047632518e-285"
        ],
        [
         "5",
         "1409.3546774240222",
         "1.2935810924665114e-302"
        ]
       ],
       "shape": {
        "columns": 2,
        "rows": 6
       }
      },
      "text/html": [
       "<div>\n",
       "<style scoped>\n",
       "    .dataframe tbody tr th:only-of-type {\n",
       "        vertical-align: middle;\n",
       "    }\n",
       "\n",
       "    .dataframe tbody tr th {\n",
       "        vertical-align: top;\n",
       "    }\n",
       "\n",
       "    .dataframe thead th {\n",
       "        text-align: right;\n",
       "    }\n",
       "</style>\n",
       "<table border=\"1\" class=\"dataframe\">\n",
       "  <thead>\n",
       "    <tr style=\"text-align: right;\">\n",
       "      <th></th>\n",
       "      <th>lb_stat</th>\n",
       "      <th>lb_pvalue</th>\n",
       "    </tr>\n",
       "  </thead>\n",
       "  <tbody>\n",
       "    <tr>\n",
       "      <th>0</th>\n",
       "      <td>1409.354677</td>\n",
       "      <td>NaN</td>\n",
       "    </tr>\n",
       "    <tr>\n",
       "      <th>1</th>\n",
       "      <td>610.728817</td>\n",
       "      <td>7.766583e-135</td>\n",
       "    </tr>\n",
       "    <tr>\n",
       "      <th>2</th>\n",
       "      <td>976.850553</td>\n",
       "      <td>7.578751e-213</td>\n",
       "    </tr>\n",
       "    <tr>\n",
       "      <th>3</th>\n",
       "      <td>1188.474481</td>\n",
       "      <td>2.321910e-257</td>\n",
       "    </tr>\n",
       "    <tr>\n",
       "      <th>4</th>\n",
       "      <td>1325.093559</td>\n",
       "      <td>1.206316e-285</td>\n",
       "    </tr>\n",
       "    <tr>\n",
       "      <th>5</th>\n",
       "      <td>1409.354677</td>\n",
       "      <td>1.293581e-302</td>\n",
       "    </tr>\n",
       "  </tbody>\n",
       "</table>\n",
       "</div>"
      ],
      "text/plain": [
       "       lb_stat      lb_pvalue\n",
       "0  1409.354677            NaN\n",
       "1   610.728817  7.766583e-135\n",
       "2   976.850553  7.578751e-213\n",
       "3  1188.474481  2.321910e-257\n",
       "4  1325.093559  1.206316e-285\n",
       "5  1409.354677  1.293581e-302"
      ]
     },
     "execution_count": 57,
     "metadata": {},
     "output_type": "execute_result"
    }
   ],
   "source": [
    "from statsmodels.stats.diagnostic import acorr_ljungbox\n",
    "result = acorr_ljungbox(x, lags=[x for x in range(6)], return_df=True)\n",
    "result"
   ]
  },
  {
   "cell_type": "code",
   "execution_count": 51,
   "metadata": {},
   "outputs": [
    {
     "data": {
      "text/html": [
       "<table class=\"simpletable\">\n",
       "<caption>Zero Mean - GARCH Model Results</caption>\n",
       "<tr>\n",
       "  <th>Dep. Variable:</th>          <td>y</td>         <th>  R-squared:         </th>  <td>   0.000</td> \n",
       "</tr>\n",
       "<tr>\n",
       "  <th>Mean Model:</th>         <td>Zero Mean</td>     <th>  Adj. R-squared:    </th>  <td>   0.001</td> \n",
       "</tr>\n",
       "<tr>\n",
       "  <th>Vol Model:</th>            <td>GARCH</td>       <th>  Log-Likelihood:    </th> <td>  -1661.20</td>\n",
       "</tr>\n",
       "<tr>\n",
       "  <th>Distribution:</th>        <td>Normal</td>       <th>  AIC:               </th> <td>   3328.40</td>\n",
       "</tr>\n",
       "<tr>\n",
       "  <th>Method:</th>        <td>Maximum Likelihood</td> <th>  BIC:               </th> <td>   3343.12</td>\n",
       "</tr>\n",
       "<tr>\n",
       "  <th></th>                        <td></td>          <th>  No. Observations:  </th>    <td>1000</td>   \n",
       "</tr>\n",
       "<tr>\n",
       "  <th>Date:</th>           <td>Sat, Mar 01 2025</td>  <th>  Df Residuals:      </th>    <td>1000</td>   \n",
       "</tr>\n",
       "<tr>\n",
       "  <th>Time:</th>               <td>01:39:59</td>      <th>  Df Model:          </th>      <td>0</td>    \n",
       "</tr>\n",
       "</table>\n",
       "<table class=\"simpletable\">\n",
       "<caption>Volatility Model</caption>\n",
       "<tr>\n",
       "      <td></td>        <th>coef</th>     <th>std err</th>      <th>t</th>       <th>P>|t|</th>   <th>95.0% Conf. Int.</th> \n",
       "</tr>\n",
       "<tr>\n",
       "  <th>omega</th>    <td>    0.3924</td> <td>8.880e-02</td> <td>    4.419</td> <td>9.893e-06</td> <td>[  0.218,  0.566]</td>\n",
       "</tr>\n",
       "<tr>\n",
       "  <th>alpha[1]</th> <td>    0.2572</td> <td>4.713e-02</td> <td>    5.457</td> <td>4.837e-08</td> <td>[  0.165,  0.350]</td>\n",
       "</tr>\n",
       "<tr>\n",
       "  <th>beta[1]</th>  <td>    0.5416</td> <td>7.044e-02</td> <td>    7.688</td> <td>1.490e-14</td> <td>[  0.403,  0.680]</td>\n",
       "</tr>\n",
       "</table><br/><br/>Covariance estimator: classic"
      ],
      "text/latex": [
       "\\begin{center}\n",
       "\\begin{tabular}{lclc}\n",
       "\\toprule\n",
       "\\textbf{Dep. Variable:} &         y          & \\textbf{  R-squared:         } &     0.000   \\\\\n",
       "\\textbf{Mean Model:}    &     Zero Mean      & \\textbf{  Adj. R-squared:    } &     0.001   \\\\\n",
       "\\textbf{Vol Model:}     &       GARCH        & \\textbf{  Log-Likelihood:    } &   -1661.20  \\\\\n",
       "\\textbf{Distribution:}  &       Normal       & \\textbf{  AIC:               } &    3328.40  \\\\\n",
       "\\textbf{Method:}        & Maximum Likelihood & \\textbf{  BIC:               } &    3343.12  \\\\\n",
       "\\textbf{}               &                    & \\textbf{  No. Observations:  } &    1000     \\\\\n",
       "\\textbf{Date:}          &  Sat, Mar 01 2025  & \\textbf{  Df Residuals:      } &    1000     \\\\\n",
       "\\textbf{Time:}          &      01:39:59      & \\textbf{  Df Model:          } &     0       \\\\\n",
       "\\bottomrule\n",
       "\\end{tabular}\n",
       "\\begin{tabular}{lccccc}\n",
       "                  & \\textbf{coef} & \\textbf{std err} & \\textbf{t} & \\textbf{P$> |$t$|$} & \\textbf{95.0\\% Conf. Int.}  \\\\\n",
       "\\midrule\n",
       "\\textbf{omega}    &       0.3924  &    8.880e-02     &     4.419  &      9.893e-06       &     [  0.218,  0.566]       \\\\\n",
       "\\textbf{alpha[1]} &       0.2572  &    4.713e-02     &     5.457  &      4.837e-08       &     [  0.165,  0.350]       \\\\\n",
       "\\textbf{beta[1]}  &       0.5416  &    7.044e-02     &     7.688  &      1.490e-14       &     [  0.403,  0.680]       \\\\\n",
       "\\bottomrule\n",
       "\\end{tabular}\n",
       "%\\caption{Zero Mean - GARCH Model Results}\n",
       "\\end{center}\n",
       "\n",
       "Covariance estimator: classic"
      ],
      "text/plain": [
       "<class 'statsmodels.iolib.summary.Summary'>\n",
       "\"\"\"\n",
       "                       Zero Mean - GARCH Model Results                        \n",
       "==============================================================================\n",
       "Dep. Variable:                      y   R-squared:                       0.000\n",
       "Mean Model:                 Zero Mean   Adj. R-squared:                  0.001\n",
       "Vol Model:                      GARCH   Log-Likelihood:               -1661.20\n",
       "Distribution:                  Normal   AIC:                           3328.40\n",
       "Method:            Maximum Likelihood   BIC:                           3343.12\n",
       "                                        No. Observations:                 1000\n",
       "Date:                Sat, Mar 01 2025   Df Residuals:                     1000\n",
       "Time:                        01:39:59   Df Model:                            0\n",
       "                            Volatility Model                            \n",
       "========================================================================\n",
       "                 coef    std err          t      P>|t|  95.0% Conf. Int.\n",
       "------------------------------------------------------------------------\n",
       "omega          0.3924  8.880e-02      4.419  9.893e-06 [  0.218,  0.566]\n",
       "alpha[1]       0.2572  4.713e-02      5.457  4.837e-08 [  0.165,  0.350]\n",
       "beta[1]        0.5416  7.044e-02      7.688  1.490e-14 [  0.403,  0.680]\n",
       "========================================================================\n",
       "\n",
       "Covariance estimator: classic\n",
       "\"\"\""
      ]
     },
     "execution_count": 51,
     "metadata": {},
     "output_type": "execute_result"
    }
   ],
   "source": [
    "# Fit using ARCH library, without exogeneous\n",
    "model = arch_model(e, vol='GARCH', mean='zero', p=1, q=1)\n",
    "garch_fit = model.fit(disp='off', cov_type='classic')\n",
    "\n",
    "garch_fit.summary()"
   ]
  },
  {
   "cell_type": "code",
   "execution_count": 52,
   "metadata": {},
   "outputs": [
    {
     "name": "stdout",
     "output_type": "stream",
     "text": [
      "1.48535458202156\n"
     ]
    },
    {
     "data": {
      "application/vnd.microsoft.datawrangler.viewer.v0+json": {
       "columns": [
        {
         "name": "index",
         "rawType": "object",
         "type": "string"
        },
        {
         "name": "coef",
         "rawType": "float64",
         "type": "float"
        },
        {
         "name": "std err",
         "rawType": "float64",
         "type": "float"
        },
        {
         "name": "t",
         "rawType": "float64",
         "type": "float"
        },
        {
         "name": "P>|t|",
         "rawType": "float64",
         "type": "float"
        }
       ],
       "conversionMethod": "pd.DataFrame",
       "ref": "242e92af-6156-4b2a-9689-57e374d4db79",
       "rows": [
        [
         "omega",
         "0.4011916301783171",
         "0.09311913809212137",
         "4.308369239644639",
         "9.037112991660541e-06"
        ],
        [
         "alpha",
         "0.2561619192346006",
         "0.047861538380316565",
         "5.352145541146023",
         "5.392957973699308e-08"
        ],
        [
         "beta",
         "0.5365685853221238",
         "0.0738894586782811",
         "7.261774479339115",
         "3.843623077754918e-13"
        ]
       ],
       "shape": {
        "columns": 4,
        "rows": 3
       }
      },
      "text/html": [
       "<div>\n",
       "<style scoped>\n",
       "    .dataframe tbody tr th:only-of-type {\n",
       "        vertical-align: middle;\n",
       "    }\n",
       "\n",
       "    .dataframe tbody tr th {\n",
       "        vertical-align: top;\n",
       "    }\n",
       "\n",
       "    .dataframe thead th {\n",
       "        text-align: right;\n",
       "    }\n",
       "</style>\n",
       "<table border=\"1\" class=\"dataframe\">\n",
       "  <thead>\n",
       "    <tr style=\"text-align: right;\">\n",
       "      <th></th>\n",
       "      <th>coef</th>\n",
       "      <th>std err</th>\n",
       "      <th>t</th>\n",
       "      <th>P&gt;|t|</th>\n",
       "    </tr>\n",
       "  </thead>\n",
       "  <tbody>\n",
       "    <tr>\n",
       "      <th>omega</th>\n",
       "      <td>0.401192</td>\n",
       "      <td>0.093119</td>\n",
       "      <td>4.308369</td>\n",
       "      <td>9.037113e-06</td>\n",
       "    </tr>\n",
       "    <tr>\n",
       "      <th>alpha</th>\n",
       "      <td>0.256162</td>\n",
       "      <td>0.047862</td>\n",
       "      <td>5.352146</td>\n",
       "      <td>5.392958e-08</td>\n",
       "    </tr>\n",
       "    <tr>\n",
       "      <th>beta</th>\n",
       "      <td>0.536569</td>\n",
       "      <td>0.073889</td>\n",
       "      <td>7.261774</td>\n",
       "      <td>3.843623e-13</td>\n",
       "    </tr>\n",
       "  </tbody>\n",
       "</table>\n",
       "</div>"
      ],
      "text/plain": [
       "           coef   std err         t         P>|t|\n",
       "omega  0.401192  0.093119  4.308369  9.037113e-06\n",
       "alpha  0.256162  0.047862  5.352146  5.392958e-08\n",
       "beta   0.536569  0.073889  7.261774  3.843623e-13"
      ]
     },
     "execution_count": 52,
     "metadata": {},
     "output_type": "execute_result"
    }
   ],
   "source": [
    "# Fit without exogenous\n",
    "garch_without_exo = GARCH(p=1, q=1, z=0)\n",
    "garch_without_exo.train(e)\n",
    "\n",
    "garch_without_exo.summary()"
   ]
  },
  {
   "cell_type": "code",
   "execution_count": 53,
   "metadata": {},
   "outputs": [
    {
     "name": "stdout",
     "output_type": "stream",
     "text": [
      "1.3339855001194463\n"
     ]
    },
    {
     "data": {
      "application/vnd.microsoft.datawrangler.viewer.v0+json": {
       "columns": [
        {
         "name": "index",
         "rawType": "object",
         "type": "string"
        },
        {
         "name": "coef",
         "rawType": "float64",
         "type": "float"
        },
        {
         "name": "std err",
         "rawType": "float64",
         "type": "float"
        },
        {
         "name": "t",
         "rawType": "float64",
         "type": "float"
        },
        {
         "name": "P>|t|",
         "rawType": "float64",
         "type": "float"
        }
       ],
       "conversionMethod": "pd.DataFrame",
       "ref": "87abf887-d7f1-4c20-9088-9fca8cb79ca6",
       "rows": [
        [
         "omega",
         "0.10155079266971415",
         "0.033376401545666234",
         "3.042592609355158",
         "0.001203488788544365"
        ],
        [
         "alpha",
         "0.06914143514955541",
         "0.029629981012237922",
         "2.3334957629908124",
         "0.00991017997610744"
        ],
        [
         "beta",
         "0.5994430315845285",
         "0.05135248726770584",
         "11.673106084610271",
         "6.69923862683309e-30"
        ],
        [
         "gamma[0]",
         "0.18098427720445642",
         "0.026642058728515557",
         "6.793179125108119",
         "9.42082422399637e-12"
        ]
       ],
       "shape": {
        "columns": 4,
        "rows": 4
       }
      },
      "text/html": [
       "<div>\n",
       "<style scoped>\n",
       "    .dataframe tbody tr th:only-of-type {\n",
       "        vertical-align: middle;\n",
       "    }\n",
       "\n",
       "    .dataframe tbody tr th {\n",
       "        vertical-align: top;\n",
       "    }\n",
       "\n",
       "    .dataframe thead th {\n",
       "        text-align: right;\n",
       "    }\n",
       "</style>\n",
       "<table border=\"1\" class=\"dataframe\">\n",
       "  <thead>\n",
       "    <tr style=\"text-align: right;\">\n",
       "      <th></th>\n",
       "      <th>coef</th>\n",
       "      <th>std err</th>\n",
       "      <th>t</th>\n",
       "      <th>P&gt;|t|</th>\n",
       "    </tr>\n",
       "  </thead>\n",
       "  <tbody>\n",
       "    <tr>\n",
       "      <th>omega</th>\n",
       "      <td>0.101551</td>\n",
       "      <td>0.033376</td>\n",
       "      <td>3.042593</td>\n",
       "      <td>1.203489e-03</td>\n",
       "    </tr>\n",
       "    <tr>\n",
       "      <th>alpha</th>\n",
       "      <td>0.069141</td>\n",
       "      <td>0.029630</td>\n",
       "      <td>2.333496</td>\n",
       "      <td>9.910180e-03</td>\n",
       "    </tr>\n",
       "    <tr>\n",
       "      <th>beta</th>\n",
       "      <td>0.599443</td>\n",
       "      <td>0.051352</td>\n",
       "      <td>11.673106</td>\n",
       "      <td>6.699239e-30</td>\n",
       "    </tr>\n",
       "    <tr>\n",
       "      <th>gamma[0]</th>\n",
       "      <td>0.180984</td>\n",
       "      <td>0.026642</td>\n",
       "      <td>6.793179</td>\n",
       "      <td>9.420824e-12</td>\n",
       "    </tr>\n",
       "  </tbody>\n",
       "</table>\n",
       "</div>"
      ],
      "text/plain": [
       "              coef   std err          t         P>|t|\n",
       "omega     0.101551  0.033376   3.042593  1.203489e-03\n",
       "alpha     0.069141  0.029630   2.333496  9.910180e-03\n",
       "beta      0.599443  0.051352  11.673106  6.699239e-30\n",
       "gamma[0]  0.180984  0.026642   6.793179  9.420824e-12"
      ]
     },
     "execution_count": 53,
     "metadata": {},
     "output_type": "execute_result"
    }
   ],
   "source": [
    "garch_with_exo = GARCH(p=1, q=1, z=1)\n",
    "garch_with_exo.train(e, x=np.array(x))\n",
    "\n",
    "garch_with_exo.summary()"
   ]
  },
  {
   "cell_type": "code",
   "execution_count": 44,
   "metadata": {},
   "outputs": [],
   "source": [
    "from scipy.stats import chi2\n",
    "\n",
    "def likelihood_ratio_test(ll_null: float, ll_alternative: float, df: int):\n",
    "\n",
    "    if df <= 0:\n",
    "        raise ValueError(\"Degrees of freedom must be positive.\")\n",
    "    \n",
    "    # Compute test statistic\n",
    "    lr_stat = 2 * (ll_alternative - ll_null)\n",
    "    \n",
    "    # Compute p-value\n",
    "    p_value = 1 - chi2.cdf(lr_stat, df)\n",
    "    \n",
    "    return p_value"
   ]
  },
  {
   "cell_type": "code",
   "execution_count": 45,
   "metadata": {},
   "outputs": [
    {
     "data": {
      "text/plain": [
       "0.0"
      ]
     },
     "execution_count": 45,
     "metadata": {},
     "output_type": "execute_result"
    }
   ],
   "source": [
    "likelihood_ratio_test(garch_without_exo.loglikelihood, garch_with_exo.loglikelihood, 1)"
   ]
  },
  {
   "cell_type": "code",
   "execution_count": 46,
   "metadata": {},
   "outputs": [],
   "source": [
    "def mse(arr1, arr2):\n",
    "    if len(arr1) != len(arr2):\n",
    "        return False\n",
    "    return np.sum(np.square(np.array(arr1) - np.array(arr2)))"
   ]
  },
  {
   "cell_type": "code",
   "execution_count": 47,
   "metadata": {},
   "outputs": [
    {
     "name": "stdout",
     "output_type": "stream",
     "text": [
      "1847.567961942183\n",
      "519.2068882787012\n"
     ]
    }
   ],
   "source": [
    "print(mse(sigma2, garch_without_exo.sigma2))\n",
    "print(mse(sigma2, garch_with_exo.sigma2))\n"
   ]
  },
  {
   "cell_type": "code",
   "execution_count": 48,
   "metadata": {},
   "outputs": [
    {
     "data": {
      "text/plain": [
       "<matplotlib.legend.Legend at 0x137ebca6310>"
      ]
     },
     "execution_count": 48,
     "metadata": {},
     "output_type": "execute_result"
    },
    {
     "data": {
      "image/png": "[encoded data removed]",
      "text/plain": [
       "<Figure size 1400x700 with 1 Axes>"
      ]
     },
     "metadata": {},
     "output_type": "display_data"
    }
   ],
   "source": [
    "\n",
    "f, axs = plt.subplots(figsize=(14,7))\n",
    "\n",
    "plt.plot(sigma2, label='ground truth')\n",
    "plt.plot(garch_without_exo.sigma2, label='fit without exo. data')\n",
    "plt.plot(garch_with_exo.sigma2, label='fit with exo. data')\n",
    "\n",
    "plt.legend()"
   ]
  },
  {
   "cell_type": "markdown",
   "metadata": {},
   "source": [
    "### More rigorous approach: Using a grid of model parameters (see below) to define varying data. For each generated data we fit two models, one without using the exogenous data and another with the exogenous data. We then compare   "
   ]
  },
  {
   "cell_type": "code",
   "execution_count": 1,
   "metadata": {},
   "outputs": [],
   "source": [
    "import itertools"
   ]
  },
  {
   "cell_type": "code",
   "execution_count": null,
   "metadata": {},
   "outputs": [],
   "source": []
  },
  {
   "cell_type": "code",
   "execution_count": 2,
   "metadata": {},
   "outputs": [
    {
     "ename": "NameError",
     "evalue": "name 'generate_data' is not defined",
     "output_type": "error",
     "traceback": [
      "\u001b[1;31m---------------------------------------------------------------------------\u001b[0m",
      "\u001b[1;31mNameError\u001b[0m                                 Traceback (most recent call last)",
      "Cell \u001b[1;32mIn[2], line 10\u001b[0m\n\u001b[0;32m      6\u001b[0m results \u001b[38;5;241m=\u001b[39m []\n\u001b[0;32m      8\u001b[0m \u001b[38;5;28;01mfor\u001b[39;00m params \u001b[38;5;129;01min\u001b[39;00m itertools\u001b[38;5;241m.\u001b[39mproduct(omegas, alphas, betas, gammas):\n\u001b[1;32m---> 10\u001b[0m     e, sigma2, x \u001b[38;5;241m=\u001b[39m \u001b[43mgenerate_data\u001b[49m(\u001b[38;5;241m*\u001b[39mparams)\n\u001b[0;32m     12\u001b[0m     param_data \u001b[38;5;241m=\u001b[39m [\u001b[38;5;241m*\u001b[39mparams]\n\u001b[0;32m     14\u001b[0m     garch_without_exo \u001b[38;5;241m=\u001b[39m GARCH(p\u001b[38;5;241m=\u001b[39m\u001b[38;5;241m1\u001b[39m, q\u001b[38;5;241m=\u001b[39m\u001b[38;5;241m1\u001b[39m, z\u001b[38;5;241m=\u001b[39m\u001b[38;5;241m0\u001b[39m)\n",
      "\u001b[1;31mNameError\u001b[0m: name 'generate_data' is not defined"
     ]
    }
   ],
   "source": [
    "omegas = [0.1]\n",
    "alphas = [0.1, 0.4]\n",
    "betas = [0.1, 0.4]\n",
    "gammas = [0, 0.1, 0.4]\n",
    "\n",
    "results = []\n",
    "\n",
    "for params in itertools.product(omegas, alphas, betas, gammas):\n",
    "\n",
    "    e, sigma2, x = generate_data(*params)\n",
    "\n",
    "    param_data = [*params]\n",
    "\n",
    "    garch_without_exo = GARCH(p=1, q=1, z=0)\n",
    "    garch_without_exo.train(e)\n",
    "    model_params = garch_without_exo.omega, garch_without_exo.alpha[0], garch_without_exo.beta[0]\n",
    "    param_data.extend(model_params)\n",
    "\n",
    "    garch_with_exo = GARCH(p=1, q=1, z=1)\n",
    "    garch_with_exo.train(e, x=x)\n",
    "    model_params = garch_with_exo.omega, garch_with_exo.alpha[0], garch_with_exo.beta[0], garch_with_exo.gammas[0][0]\n",
    "    param_data.extend(model_params)\n",
    "\n",
    "    without_exo_MSE = mse(sigma2, garch_without_exo.sigma2)\n",
    "    with_exo_MSE = mse(sigma2, garch_with_exo.sigma2)\n",
    "    param_data.extend([without_exo_MSE, with_exo_MSE])\n",
    "\n",
    "    results.append(param_data)\n",
    "\n",
    "columns = ['omega', 'alpha', 'beta', 'gamma',\n",
    "            'omega_wo_exo', 'alpha_wo_exo', 'beta_wo_exo',\n",
    "            'omega_with_exo', 'alpha_with_exo', 'beta_with_exo', \n",
    "            'gamma_with_exo', 'without_exo_MSE', 'with_exo_MSE']\n",
    "result_df = pd.DataFrame(columns=columns, data=results)\n"
   ]
  },
  {
   "cell_type": "code",
   "execution_count": 18,
   "metadata": {},
   "outputs": [
    {
     "data": {
      "text/html": [
       "<div>\n",
       "<style scoped>\n",
       "    .dataframe tbody tr th:only-of-type {\n",
       "        vertical-align: middle;\n",
       "    }\n",
       "\n",
       "    .dataframe tbody tr th {\n",
       "        vertical-align: top;\n",
       "    }\n",
       "\n",
       "    .dataframe thead th {\n",
       "        text-align: right;\n",
       "    }\n",
       "</style>\n",
       "<table border=\"1\" class=\"dataframe\">\n",
       "  <thead>\n",
       "    <tr style=\"text-align: right;\">\n",
       "      <th></th>\n",
       "      <th>omega</th>\n",
       "      <th>alpha</th>\n",
       "      <th>beta</th>\n",
       "      <th>gamma</th>\n",
       "      <th>omega_wo_exo</th>\n",
       "      <th>alpha_wo_exo</th>\n",
       "      <th>beta_wo_exo</th>\n",
       "      <th>omega_with_exo</th>\n",
       "      <th>alpha_with_exo</th>\n",
       "      <th>beta_with_exo</th>\n",
       "      <th>gamma_with_exo</th>\n",
       "      <th>without_exo_MSE</th>\n",
       "      <th>with_exo_MSE</th>\n",
       "    </tr>\n",
       "  </thead>\n",
       "  <tbody>\n",
       "    <tr>\n",
       "      <th>0</th>\n",
       "      <td>0.1</td>\n",
       "      <td>0.1</td>\n",
       "      <td>0.1</td>\n",
       "      <td>0.0</td>\n",
       "      <td>0.060115</td>\n",
       "      <td>0.069034</td>\n",
       "      <td>0.425111</td>\n",
       "      <td>0.060734</td>\n",
       "      <td>0.069872</td>\n",
       "      <td>0.410767</td>\n",
       "      <td>0.001010</td>\n",
       "      <td>0.850953</td>\n",
       "      <td>0.851011</td>\n",
       "    </tr>\n",
       "    <tr>\n",
       "      <th>1</th>\n",
       "      <td>0.1</td>\n",
       "      <td>0.1</td>\n",
       "      <td>0.1</td>\n",
       "      <td>0.1</td>\n",
       "      <td>0.240615</td>\n",
       "      <td>0.177396</td>\n",
       "      <td>0.000002</td>\n",
       "      <td>0.032689</td>\n",
       "      <td>0.036000</td>\n",
       "      <td>0.640756</td>\n",
       "      <td>0.056651</td>\n",
       "      <td>29.752821</td>\n",
       "      <td>24.561271</td>\n",
       "    </tr>\n",
       "    <tr>\n",
       "      <th>2</th>\n",
       "      <td>0.1</td>\n",
       "      <td>0.1</td>\n",
       "      <td>0.1</td>\n",
       "      <td>0.4</td>\n",
       "      <td>0.626758</td>\n",
       "      <td>0.101287</td>\n",
       "      <td>0.000011</td>\n",
       "      <td>0.048452</td>\n",
       "      <td>0.016102</td>\n",
       "      <td>0.601432</td>\n",
       "      <td>0.233402</td>\n",
       "      <td>325.637593</td>\n",
       "      <td>284.984435</td>\n",
       "    </tr>\n",
       "    <tr>\n",
       "      <th>3</th>\n",
       "      <td>0.1</td>\n",
       "      <td>0.1</td>\n",
       "      <td>0.4</td>\n",
       "      <td>0.0</td>\n",
       "      <td>0.035745</td>\n",
       "      <td>0.119297</td>\n",
       "      <td>0.718996</td>\n",
       "      <td>0.029391</td>\n",
       "      <td>0.114549</td>\n",
       "      <td>0.734211</td>\n",
       "      <td>0.004327</td>\n",
       "      <td>2.664934</td>\n",
       "      <td>2.777533</td>\n",
       "    </tr>\n",
       "    <tr>\n",
       "      <th>4</th>\n",
       "      <td>0.1</td>\n",
       "      <td>0.1</td>\n",
       "      <td>0.4</td>\n",
       "      <td>0.1</td>\n",
       "      <td>0.234409</td>\n",
       "      <td>0.110701</td>\n",
       "      <td>0.265145</td>\n",
       "      <td>0.060127</td>\n",
       "      <td>0.065154</td>\n",
       "      <td>0.672560</td>\n",
       "      <td>0.039831</td>\n",
       "      <td>23.059488</td>\n",
       "      <td>16.365343</td>\n",
       "    </tr>\n",
       "    <tr>\n",
       "      <th>5</th>\n",
       "      <td>0.1</td>\n",
       "      <td>0.1</td>\n",
       "      <td>0.4</td>\n",
       "      <td>0.4</td>\n",
       "      <td>0.414029</td>\n",
       "      <td>0.120824</td>\n",
       "      <td>0.424739</td>\n",
       "      <td>0.064527</td>\n",
       "      <td>0.046369</td>\n",
       "      <td>0.718954</td>\n",
       "      <td>0.149170</td>\n",
       "      <td>369.749171</td>\n",
       "      <td>245.634956</td>\n",
       "    </tr>\n",
       "    <tr>\n",
       "      <th>6</th>\n",
       "      <td>0.1</td>\n",
       "      <td>0.4</td>\n",
       "      <td>0.1</td>\n",
       "      <td>0.0</td>\n",
       "      <td>0.090968</td>\n",
       "      <td>0.308092</td>\n",
       "      <td>0.206223</td>\n",
       "      <td>0.080596</td>\n",
       "      <td>0.307659</td>\n",
       "      <td>0.222610</td>\n",
       "      <td>0.007809</td>\n",
       "      <td>1.491740</td>\n",
       "      <td>1.601078</td>\n",
       "    </tr>\n",
       "    <tr>\n",
       "      <th>7</th>\n",
       "      <td>0.1</td>\n",
       "      <td>0.4</td>\n",
       "      <td>0.1</td>\n",
       "      <td>0.1</td>\n",
       "      <td>0.165407</td>\n",
       "      <td>0.366075</td>\n",
       "      <td>0.064542</td>\n",
       "      <td>0.040547</td>\n",
       "      <td>0.246871</td>\n",
       "      <td>0.461125</td>\n",
       "      <td>0.045289</td>\n",
       "      <td>23.159489</td>\n",
       "      <td>25.645883</td>\n",
       "    </tr>\n",
       "    <tr>\n",
       "      <th>8</th>\n",
       "      <td>0.1</td>\n",
       "      <td>0.4</td>\n",
       "      <td>0.1</td>\n",
       "      <td>0.4</td>\n",
       "      <td>0.434722</td>\n",
       "      <td>0.516096</td>\n",
       "      <td>0.089266</td>\n",
       "      <td>0.041392</td>\n",
       "      <td>0.280495</td>\n",
       "      <td>0.414280</td>\n",
       "      <td>0.290890</td>\n",
       "      <td>379.441858</td>\n",
       "      <td>405.975398</td>\n",
       "    </tr>\n",
       "    <tr>\n",
       "      <th>9</th>\n",
       "      <td>0.1</td>\n",
       "      <td>0.4</td>\n",
       "      <td>0.4</td>\n",
       "      <td>0.0</td>\n",
       "      <td>0.095923</td>\n",
       "      <td>0.414584</td>\n",
       "      <td>0.431059</td>\n",
       "      <td>0.085292</td>\n",
       "      <td>0.423097</td>\n",
       "      <td>0.417035</td>\n",
       "      <td>0.015110</td>\n",
       "      <td>9.137705</td>\n",
       "      <td>9.438881</td>\n",
       "    </tr>\n",
       "    <tr>\n",
       "      <th>10</th>\n",
       "      <td>0.1</td>\n",
       "      <td>0.4</td>\n",
       "      <td>0.4</td>\n",
       "      <td>0.1</td>\n",
       "      <td>0.255174</td>\n",
       "      <td>0.464883</td>\n",
       "      <td>0.309812</td>\n",
       "      <td>0.198882</td>\n",
       "      <td>0.442208</td>\n",
       "      <td>0.342064</td>\n",
       "      <td>0.042353</td>\n",
       "      <td>42.137993</td>\n",
       "      <td>28.944152</td>\n",
       "    </tr>\n",
       "    <tr>\n",
       "      <th>11</th>\n",
       "      <td>0.1</td>\n",
       "      <td>0.4</td>\n",
       "      <td>0.4</td>\n",
       "      <td>0.4</td>\n",
       "      <td>0.619292</td>\n",
       "      <td>0.439901</td>\n",
       "      <td>0.333983</td>\n",
       "      <td>0.156768</td>\n",
       "      <td>0.351787</td>\n",
       "      <td>0.502696</td>\n",
       "      <td>0.247830</td>\n",
       "      <td>440.875495</td>\n",
       "      <td>411.988266</td>\n",
       "    </tr>\n",
       "  </tbody>\n",
       "</table>\n",
       "</div>"
      ],
      "text/plain": [
       "    omega  alpha  beta  gamma  omega_wo_exo  alpha_wo_exo  beta_wo_exo  \\\n",
       "0     0.1    0.1   0.1    0.0      0.060115      0.069034     0.425111   \n",
       "1     0.1    0.1   0.1    0.1      0.240615      0.177396     0.000002   \n",
       "2     0.1    0.1   0.1    0.4      0.626758      0.101287     0.000011   \n",
       "3     0.1    0.1   0.4    0.0      0.035745      0.119297     0.718996   \n",
       "4     0.1    0.1   0.4    0.1      0.234409      0.110701     0.265145   \n",
       "5     0.1    0.1   0.4    0.4      0.414029      0.120824     0.424739   \n",
       "6     0.1    0.4   0.1    0.0      0.090968      0.308092     0.206223   \n",
       "7     0.1    0.4   0.1    0.1      0.165407      0.366075     0.064542   \n",
       "8     0.1    0.4   0.1    0.4      0.434722      0.516096     0.089266   \n",
       "9     0.1    0.4   0.4    0.0      0.095923      0.414584     0.431059   \n",
       "10    0.1    0.4   0.4    0.1      0.255174      0.464883     0.309812   \n",
       "11    0.1    0.4   0.4    0.4      0.619292      0.439901     0.333983   \n",
       "\n",
       "    omega_with_exo  alpha_with_exo  beta_with_exo  gamma_with_exo  \\\n",
       "0         0.060734        0.069872       0.410767        0.001010   \n",
       "1         0.032689        0.036000       0.640756        0.056651   \n",
       "2         0.048452        0.016102       0.601432        0.233402   \n",
       "3         0.029391        0.114549       0.734211        0.004327   \n",
       "4         0.060127        0.065154       0.672560        0.039831   \n",
       "5         0.064527        0.046369       0.718954        0.149170   \n",
       "6         0.080596        0.307659       0.222610        0.007809   \n",
       "7         0.040547        0.246871       0.461125        0.045289   \n",
       "8         0.041392        0.280495       0.414280        0.290890   \n",
       "9         0.085292        0.423097       0.417035        0.015110   \n",
       "10        0.198882        0.442208       0.342064        0.042353   \n",
       "11        0.156768        0.351787       0.502696        0.247830   \n",
       "\n",
       "    without_exo_MSE  with_exo_MSE  \n",
       "0          0.850953      0.851011  \n",
       "1         29.752821     24.561271  \n",
       "2        325.637593    284.984435  \n",
       "3          2.664934      2.777533  \n",
       "4         23.059488     16.365343  \n",
       "5        369.749171    245.634956  \n",
       "6          1.491740      1.601078  \n",
       "7         23.159489     25.645883  \n",
       "8        379.441858    405.975398  \n",
       "9          9.137705      9.438881  \n",
       "10        42.137993     28.944152  \n",
       "11       440.875495    411.988266  "
      ]
     },
     "execution_count": 18,
     "metadata": {},
     "output_type": "execute_result"
    }
   ],
   "source": [
    "result_df"
   ]
  },
  {
   "cell_type": "code",
   "execution_count": null,
   "metadata": {},
   "outputs": [],
   "source": []
  }
 ],
 "metadata": {
  "kernelspec": {
   "display_name": "venv",
   "language": "python",
   "name": "python3"
  },
  "language_info": {
   "codemirror_mode": {
    "name": "ipython",
    "version": 3
   },
   "file_extension": ".py",
   "mimetype": "text/x-python",
   "name": "python",
   "nbconvert_exporter": "python",
   "pygments_lexer": "ipython3",
   "version": "3.9.0"
  }
 },
 "nbformat": 4,
 "nbformat_minor": 2
}
