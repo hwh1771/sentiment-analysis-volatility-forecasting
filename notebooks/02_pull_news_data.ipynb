{
 "cells": [
  {
   "cell_type": "markdown",
   "metadata": {},
   "source": [
    "## Retrieve news articles from NYT API\n",
    "- To get API key: https://developer.nytimes.com/get-started"
   ]
  },
  {
   "cell_type": "code",
   "execution_count": 3,
   "metadata": {},
   "outputs": [],
   "source": [
    "import os\n",
    "import datetime\n",
    "from dotenv import load_dotenv\n",
    "\n",
    "import pandas as pd\n",
    "import numpy as np\n",
    "\n",
    "from pynytimes import NYTAPI"
   ]
  },
  {
   "cell_type": "code",
   "execution_count": null,
   "metadata": {},
   "outputs": [],
   "source": [
    "def get_news(nyt: NYTAPI,start_date: datetime.datetime, end_date: datetime.datetime, *, k=100, query=\"\"):\n",
    "    \"\"\"\n",
    "    get top k most relevent finance news headings on each day from NY times\n",
    "    \"\"\"\n",
    "    res = []\n",
    "    try:\n",
    "        articles = nyt.article_search(\n",
    "            query = query, \n",
    "            results = k,\n",
    "            dates = {\n",
    "                \"begin\": start_date,\n",
    "                \"end\": end_date\n",
    "            },\n",
    "            options = {\n",
    "                \"sort\": \"relevance\", \n",
    "                \"sources\": [\n",
    "                    \"New York Times\",\n",
    "                    \"AP\",\n",
    "                    \"Reuters\",\n",
    "                    \"International Herald Tribune\"\n",
    "                ],\n",
    "                # Only get information from these news desk\n",
    "                \"news_desk\": [\n",
    "                    \"Business\",\n",
    "                    \"Financial\",\n",
    "                    \"Technology\"\n",
    "                ],\n",
    "                # \"body\": [\n",
    "                # ],\n",
    "            }\n",
    "        )\n",
    "        \n",
    "        for i in range(len(articles)):\n",
    "            timestamp = articles[i]['pub_date']\n",
    "            article_url = articles[i]['web_url']\n",
    "            lead_paragraph = articles[i]['lead_paragraph']\n",
    "            abstract = articles[i]['abstract']\n",
    "            #print(articles[i])\n",
    "            res.append({'timestamp': timestamp,\n",
    "                        'article_url': article_url,\n",
    "                        'lead_paragraph': lead_paragraph,\n",
    "                        'abstract': abstract,\n",
    "                        })\n",
    "        \n",
    "    except Exception as e:\n",
    "        print(e)\n",
    "        res.append({})\n",
    "    \n",
    "    df = pd.DataFrame(data=res)\n",
    "\n",
    "    return df"
   ]
  },
  {
   "cell_type": "markdown",
   "metadata": {},
   "source": [
    "#### Function to check if the news falls before or after market closes on each day. If it's after close, then the news should be categorised as a next day news."
   ]
  },
  {
   "cell_type": "code",
   "execution_count": 14,
   "metadata": {},
   "outputs": [],
   "source": [
    "def adjust_dates(df: pd.DataFrame) -> pd.DataFrame:\n",
    "    threshold_time = pd.Timestamp('16:00:00').time()\n",
    "    df['adjusted_date'] = df['timestamp'].apply(lambda x: x.date() if x.time() < threshold_time else (x + pd.Timedelta(days=1)).date())\n",
    "    return df"
   ]
  },
  {
   "cell_type": "markdown",
   "metadata": {},
   "source": [
    "#### Set NYTAPI"
   ]
  },
  {
   "cell_type": "code",
   "execution_count": null,
   "metadata": {},
   "outputs": [],
   "source": [
    "load_dotenv(dotenv_path='../.env')\n",
    "NYT_API_KEY = os.getenv(\"NYT_API_KEY\")\n",
    "\n",
    "nyt = NYTAPI(NYT_API_KEY, parse_dates=True)"
   ]
  },
  {
   "cell_type": "markdown",
   "metadata": {},
   "source": [
    "## 1. Get articles tesla "
   ]
  },
  {
   "cell_type": "code",
   "execution_count": null,
   "metadata": {},
   "outputs": [],
   "source": [
    "start_date = datetime.datetime(2019, 9, 30)\n",
    "end_date = datetime.datetime(2024, 9, 27)"
   ]
  },
  {
   "cell_type": "code",
   "execution_count": null,
   "metadata": {},
   "outputs": [],
   "source": [
    "k_results = int((end_date - start_date).days * 3)  # How many results to pull for. (x3 as a (conservative) estimate for the max articles that exist.)\n",
    "\n",
    "article_df = get_news(nyt, start_date, end_date, k=k_results, query='Tesla') \n",
    "article_df = adjust_dates(article_df)\n",
    "article_df = article_df.sort_values(by='timestamp')"
   ]
  },
  {
   "cell_type": "code",
   "execution_count": null,
   "metadata": {},
   "outputs": [
    {
     "data": {
      "application/vnd.microsoft.datawrangler.viewer.v0+json": {
       "columns": [
        {
         "name": "index",
         "rawType": "int64",
         "type": "integer"
        },
        {
         "name": "timestamp",
         "rawType": "object",
         "type": "string"
        },
        {
         "name": "article_url",
         "rawType": "object",
         "type": "string"
        },
        {
         "name": "lead_paragraph",
         "rawType": "object",
         "type": "unknown"
        },
        {
         "name": "abstract",
         "rawType": "object",
         "type": "unknown"
        },
        {
         "name": "adjusted_date",
         "rawType": "object",
         "type": "string"
        }
       ],
       "conversionMethod": "pd.DataFrame",
       "ref": "08e66954-38a4-472d-823f-8892fe6da305",
       "rows": [
        [
         "394",
         "2019-10-02 10:56:22+00:00",
         "https://www.nytimes.com/2019/10/02/business/dealbook/warren-zuckerberg-facebook.html",
         "Good Wednesday morning. (Was this email forwarded to you? Sign up here.)",
         "In leaked audio conversations with employees, the Facebook chief said he would take Ms. Warren to court if she tried to break up the company.",
         "2/10/19"
        ],
        [
         "50",
         "2019-10-02 20:52:59+00:00",
         "https://www.nytimes.com/2019/10/02/business/tesla-sales.html",
         "Tesla reported record quarterly deliveries on Wednesday, putting the electric-car maker within reach of its goal for the year. But analysts remain skeptical that the company will show a profit for the period.",
         "The pace may allow the electric-car maker to fulfill its forecast for the year. But analysts are skeptical that sales are enough to yield a profit.",
         "3/10/19"
        ],
        [
         "207",
         "2019-10-09 10:12:51+00:00",
         "https://www.nytimes.com/2019/10/09/business/dealbook/china-companies-nba.html",
         "Good Wednesdayg. Breaking: The O.E.C.D. proposed new corporate tax rules this morning that would make it harder for multinationals to minimize their tax bills by shifting profits to different regions. (Sign up here to get this in your inbox every morning.)",
         "It once was clear what American businesses needed to avoid to succeed in China’s huge market. As the N.B.A. has shown, that’s no longer the case.",
         "9/10/19"
        ],
        [
         "372",
         "2019-10-10 10:29:53+00:00",
         "https://www.nytimes.com/2019/10/10/business/dealbook/apple-china-nba.html",
         "Good morning. ( Sign up here to get this in your inbox every morning.)",
         "The tech giant removed an app after facing criticism from China’s state media that it was being used to target and ambush police officers in Hong Kong.",
         "10/10/19"
        ],
        [
         "189",
         "2019-10-10 18:22:29+00:00",
         "https://www.nytimes.com/2019/10/10/business/pge-blackout-questions.html",
         "Pacific Gas & Electric’s unusual decision to cut power to hundreds of thousands of customers in Northern California to reduce the risk of wildfires has angered many residents and lawmakers. Many of them have questioned whether the company made the right call.",
         "The California utility turned off power to hundreds of thousands of customers to reduce the risk of wildfires. Many could be without electricity for days.",
         "11/10/19"
        ],
        [
         "272",
         "2019-10-11 13:00:09+00:00",
         "https://www.nytimes.com/2019/10/11/technology/china-apple-minefield.html",
         "Each week, we review the week’s news, offering analysis about the most important developments in the tech industry.",
         "American tech companies want access to customers in China. But they’re learning that can come with a lot of baggage.",
         "11/10/19"
        ],
        [
         "49",
         "2019-10-23 21:21:27+00:00",
         "https://www.nytimes.com/2019/10/23/business/tesla-earnings.html",
         "Just months ago, Tesla was mired in turmoil. It was scrambling to raise capital, closing stores and reeling from a sudden slump in sales.",
         "The electric-car maker’s revenue declined, but it said it had removed “substantial cost” from its operations.",
         "24/10/19"
        ],
        [
         "223",
         "2019-10-24 10:00:09+00:00",
         "https://www.nytimes.com/2019/10/24/business/electric-vehicle-noises-nhtsa.html",
         "Driving an electric vehicle in near silence can be a joy for those who don’t relish the rumble and whine of an internal combustion engine. But this hushed operation can be difficult to hear from more than a few feet away, making it a deadly problem for the vision-impaired who can’t see a vehicle approaching.",
         "All electric vehicles in the U.S. will soon be required to make warning sounds so pedestrians can hear them coming.",
         "24/10/19"
        ],
        [
         "214",
         "2019-10-24 10:22:28+00:00",
         "https://www.nytimes.com/2019/10/24/business/dealbook/mark-zuckerberg-facebook-libra.html",
         "Good Thursday. This year’s DealBook Summit will feature speakers like Bill Gates, Hillary Clinton, Dara Khosrowshahi of Uber and Gwyneth Paltrow. Apply to attend here. (Was this email forwarded to you? Sign up here.)",
         "The Facebook C.E.O. attempted to win lawmakers’ support for his cryptocurrency project. They seemed unimpressed, and also grilled him on a range of issues.",
         "24/10/19"
        ],
        [
         "418",
         "2019-10-26 09:00:14+00:00",
         "https://www.nytimes.com/2019/10/26/business/michael-milken-trump-opportunity-zones.html",
         "RENO, Nev. — In the 1980s, Michael Milken embodied Wall Street greed. A swashbuckling financier, he was charged with playing a central role in a vast insider-trading scheme and was sent to prison for violating federal securities and tax laws. He was an inspiration for the Gordon Gekko character in the film “Wall Street.”",
         "The financier Michael Milken is a major investor in a property that became eligible for a federal tax break — after his longtime friend, Steven Mnuchin, intervened.",
         "26/10/19"
        ],
        [
         "237",
         "2019-10-29 04:01:05+00:00",
         "https://www.nytimes.com/2019/10/29/business/pedestrian-deaths-collision-avoidance.html",
         "Almost 6,300 pedestrians were killed in 2018 in the United States, the highest number since 1990, federal officials said this month. Collision-avoidance systems on many new vehicles could reduce that toll, but there are significant differences in how well they work, according to new tests.",
         "As pedestrian deaths climb, collision-avoidance systems could reduce that toll, but new tests show significant differences in how well they work.",
         "29/10/19"
        ],
        [
         "195",
         "2019-10-30 07:29:39+00:00",
         "https://www.nytimes.com/2019/10/30/business/fiat-chrysler-peugeot-merger.html",
         "Fiat Chrysler and PSA of France are not exactly an automotive dream team. They lack a strong presence in China, lag in electric cars and rely heavily on the sputtering European market for sales.",
         "With the auto industry under extraordinary pressure in the shift to electric and self-driving cars, joining forces may be the best path to survival.",
         "30/10/19"
        ],
        [
         "45",
         "2019-11-02 01:28:00+00:00",
         "https://www.nytimes.com/2019/11/01/business/tesla-battery-safety-investigation.html",
         "The National Highway Traffic Safety Administration has started to look into possible battery defects in Tesla sedans and SUVs after some cars spontaneously burst into flames. The development raises yet more safety concerns for the high-profile electric vehicle manufacturer.",
         "The National Highway Traffic Safety Administration is looking into why a number of Tesla vehicles have spontaneously burst into flames.",
         "2/11/19"
        ],
        [
         "136",
         "2019-11-04 12:10:08+00:00",
         "https://www.nytimes.com/2019/11/04/business/dealbook/mcdonalds-ceo.html",
         "Good morning. Just in: Apple announced that it would spend $2.5 billion to help address the housing availability and affordability crisis in California. This year’s DealBook Summit will feature speakers including Bill Gates, Hillary Clinton, Ginni Rometty of IBM and the Instagram co-founder Kevin Systrom. Apply to attend here. (Was this email forwarded to you? Sign up here.)",
         "Steve Easterbrook’s behavior violated company policy. “I agree with the board that it is time for me to move on,” he said in an email to employees.",
         "4/11/19"
        ],
        [
         "236",
         "2019-11-04 18:07:02+00:00",
         "https://www.nytimes.com/2019/11/04/technology/digital-assistant-laser-hack.html",
         "SAN FRANCISCO — Since voice-controlled digital assistants were introduced a few years ago, security experts have fretted that systems like Apple’s Siri and Amazon’s Alexa were a privacy threat and could be easily hacked.",
         "Researchers in Japan and at the University of Michigan said they have found a way to take over the voice-controlled digital assistants.",
         "5/11/19"
        ],
        [
         "59",
         "2019-11-13 10:21:46+00:00",
         "https://www.nytimes.com/2019/11/13/business/tesla-elon-musk-berlin.html",
         "BERLIN — Tesla plans to open a factory near Berlin that would make batteries, powertrains and vehicles, starting with the company’s newest model, a compact sport utility vehicle called the Model Y.",
         "Tesla’s chairman, Elon Musk, provided few details about the plant, which would be Tesla’s first major factory in Europe.",
         "13/11/19"
        ],
        [
         "405",
         "2019-11-13 11:34:52+00:00",
         "https://www.nytimes.com/2019/11/13/business/dealbook/trump-economic-club.html",
         "Good Wednesday. (Was this email forwarded to you? Sign up here.)",
         "In a speech at the Economic Club of New York, the president defended his tariffs and argued that his policies could allow America’s prosperity to continue growing.",
         "13/11/19"
        ],
        [
         "292",
         "2019-11-15 14:00:06+00:00",
         "https://www.nytimes.com/2019/11/15/technology/algorithmic-ai-bias.html",
         "Each week, we review the week’s news, offering analysis about the most important developments in the tech industry.",
         "We keep stumbling across examples of discrimination in algorithms, but that’s far better than their remaining hidden.",
         "15/11/19"
        ],
        [
         "94",
         "2019-11-18 02:30:20+00:00",
         "https://www.nytimes.com/2019/11/17/business/ford-mustang-electric-suv.html",
         "Ford Motor’s latest offering seems like an oxymoron twice over: It’s a sport utility vehicle that’s electric … that’s a Mustang.",
         "Automakers have made battery-powered cars largely to meet environmental rules. Now they’re putting more skin in the game.",
         "18/11/19"
        ],
        [
         "46",
         "2019-11-20 21:15:51+00:00",
         "https://www.nytimes.com/2019/11/20/business/tesla-germany.html",
         "GRÜNHEIDE, Germany — The visitors from Palo Alto, Calif., were shown how Berlin, a hive of tech start-ups that likens itself to Silicon Valley, is just a short commute away.",
         "Elon Musk’s announcement of a factory in Germany took the industry by surprise, but the deal had been in the works for months.",
         "21/11/19"
        ],
        [
         "415",
         "2019-11-21 11:27:32+00:00",
         "https://www.nytimes.com/2019/11/21/business/dealbook/trump-apple-tim-cook.html",
         "Charles Schwab is reportedly in talks to buy TD Ameritrade in a $26 billion deal that could be announced as early as today. (Want this by email? Sign up here.)",
         "President Trump didn’t rule out exempting Apple from tariffs, while the company’s C.E.O., Tim Cook, stood in silence as the president made inaccurate claims about the firm.",
         "21/11/19"
        ],
        [
         "123",
         "2019-11-22 11:26:15+00:00",
         "https://www.nytimes.com/2019/11/22/business/dealbook/tesla-pickup-elon-musk.html",
         " (Want this by email? Sign up here.)",
         "Tesla yesterday unveiled his company’s new “Cybertruck,” an electric pickup that it hopes will rival Ford’s F-150.",
         "22/11/19"
        ],
        [
         "410",
         "2019-11-25 11:19:42+00:00",
         "https://www.nytimes.com/2019/11/25/business/dealbook/michael-bloomberg-2020.html",
         "Good morning. Charles Schwab said it would acquire TD Ameritrade for $26 billion — a deal that brings together two of the largest online brokerage firms totaling roughly $5 trillion in assets. (Was this email forwarded to you? Sign up here.)",
         "Michael Bloomberg announced yesterday that he would run for the 2020 Democratic presidential nomination, but people are already arguing against one billionaire taking over office from another.",
         "25/11/19"
        ],
        [
         "403",
         "2019-11-26 11:22:23+00:00",
         "https://www.nytimes.com/2019/11/26/business/dealbook/tom-barrack-colony-trump.html",
         "Good morning. (Want this by email? Sign up here.)",
         "Tom Barrack, the C.E.O. of Colony Capital and chairman of President Trump’s inaugural committee, is being pressed by an activist investor to resign.",
         "26/11/19"
        ],
        [
         "404",
         "2019-11-27 11:09:11+00:00",
         "https://www.nytimes.com/2019/11/27/business/dealbook/jeffrey-epstein-charity.html",
         " DealBook will take a Thanksgiving break tomorrow and Friday, and will be back on Monday. (Want this by email? Sign up here.)",
         "Jeffrey Epstein’s foundation looked like a charitable powerhouse. But it wasn’t officially a charity for much of its existence, allowing it to exaggerate its giving.",
         "27/11/19"
        ],
        [
         "97",
         "2019-12-03 21:45:31+00:00",
         "https://www.nytimes.com/2019/12/03/business/elon-musk-defamation-trial.html",
         "It all boils down to what, exactly, Elon Musk meant when he called a British cave explorer “pedo guy.”",
         "The Tesla billionaire took the stand in a civil defamation trial in Los Angeles.",
         "4/12/19"
        ],
        [
         "120",
         "2019-12-05 11:30:10+00:00",
         "https://www.nytimes.com/2019/12/05/business/gm-lg-battery.html",
         "After idling its car plant in Lordstown, Ohio, this year, General Motors promised that it would bring jobs back to the once-mighty manufacturing region.",
         "A deal with LG Chem of South Korea will further the automaker’s plans for electric vehicles and fulfill a pledge made after its Lordstown plant was idled.",
         "5/12/19"
        ],
        [
         "126",
         "2019-12-06 00:29:51+00:00",
         "https://www.nytimes.com/2019/12/05/business/pedo-guy-tweet-didnt-hurt-cave-explorers-reputation-musk-says.html",
         "The billionaire Elon Musk’s Twitter post calling the cave explorer Vernon Unsworth “pedo guy” led to hundreds of articles online, a Penn State University professor testified on Thursday.",
         "As the billionaire’s defamation trial in Los Angeles entered its third day, a professor testified that the Twitter message had generated hundreds of articles.",
         "6/12/19"
        ],
        [
         "408",
         "2019-12-06 11:39:16+00:00",
         "https://www.nytimes.com/2019/12/06/business/dealbook/saudi-aramco-ipo.html",
         " (Want this by email? Sign up here.)",
         "Saudi Arabia’s state-owned oil company priced its offering at a level that would raise $25.6 billion, becoming the largest stock market debut on record.",
         "6/12/19"
        ],
        [
         "291",
         "2019-12-06 14:00:12+00:00",
         "https://www.nytimes.com/2019/12/06/technology/what-is-quantum-computer.html",
         "Each week, we review the week’s news, offering analysis about the most important developments in the tech industry.",
         "The question isn’t so easy to answer. Also, Google’s founders stepped away just as their company enters a turbulent adulthood.",
         "6/12/19"
        ],
        [
         "297",
         "2019-12-08 20:25:51+00:00",
         "https://www.nytimes.com/2019/12/08/technology/David-Cicilline-antitrust-tech.html",
         "WASHINGTON — At a hearing this summer about the rising power of the country’s biggest tech companies, Representative David Cicilline zeroed in on Amazon. Unhappy with a response from one of the company’s top lawyers, he delivered a biting retort.",
         "Representative David Cicilline doesn’t just want to enforce the laws governing the tech industry. He wants to change them.",
         "9/12/19"
        ],
        [
         "222",
         "2019-12-12 11:00:10+00:00",
         "https://www.nytimes.com/2019/12/12/business/electric-car-conversions.html",
         "CHATSWORTH, Calif. — A vintage Fiat 124 Spider — so pretty you could pinch its little orange cheeks — accelerates up a canyon road in the San Fernando Valley. But there’s something strange about this Pininfarina-designed Italian roadster. First, it feels downright peppy as it chugs uphill. And there’s actually no “chugging,” but rather a spacey, high-pitched whir.",
         "A California company has developed a “crate motor” to relatively simply (but not so cheaply) convert gasoline cars to modern electric engines.",
         "12/12/19"
        ],
        [
         "409",
         "2019-12-16 10:00:01+00:00",
         "https://www.nytimes.com/interactive/2019/12/16/business/trump-midwest-swing-jobs.html",
         "The U.S. economy found its footing after a summer recession scare, but the Midwest is still stumbling.",
         "The U.S. economy found its footing after a summer recession scare, but the Midwest is still stumbling.",
         "16/12/19"
        ],
        [
         "385",
         "2019-12-19 11:38:02+00:00",
         "https://www.nytimes.com/2019/12/19/business/dealbook/trump-impeachment-markets.html",
         " Breaking: IAC and the online dating company Match Group have agreed to separate in a tax-free transaction. (Want this by email? Sign up here.)",
         "Investors don’t expect the Republican-controlled Senate to remove President Trump from office, according to a survey by RBC Capital Markets.",
         "19/12/19"
        ],
        [
         "90",
         "2019-12-23 23:59:11+00:00",
         "https://www.nytimes.com/2019/12/23/business/rivian-truck-investment.html",
         "Rivian, an electric-vehicle start-up that has drawn an impressive roster of backers, announced Monday that it had received a $1.3 billion investment led by T. Rowe Price, the mutual fund company.",
         "T. Rowe Price led a new funding round for the start-up, a potential competitor to Tesla that was already backed by Amazon and Ford.",
         "24/12/19"
        ],
        [
         "56",
         "2019-12-24 10:00:22+00:00",
         "https://www.nytimes.com/2019/12/24/business/tesla-stock-price.html",
         "Back in August 2018, Elon Musk casually announced on Twitter that he planned to take Tesla private at a price of $420 a share, a 20 percent premium at the time. He added that he had “funding secured.”",
         "After a two-month surge, the electric-car maker is now above the share price offered last year in an abortive bid to take the company private.",
         "24/12/19"
        ],
        [
         "283",
         "2019-12-26 08:00:15+00:00",
         "https://www.nytimes.com/2019/12/26/business/uaw-gary-jones-investigation.html",
         "On a single day in December 2015, Gary Jones, who resigned last month as president of the United Automobile Workers, spent more than $13,000 of the union’s money at a cigar store in Arizona. His purchases included a dozen $268 boxes of Ashton Double Magnums and a dozen boxes of Ashton Monarchs at $274.50 each. “Hi Gary, Thank you & Happy New Year,” read a handwritten note from the store.",
         "A federal investigation has led to accusations that union leaders diverted funds to perks like a $6,500 steak dinner and golf outings and gear costing $80,000.",
         "26/12/19"
        ],
        [
         "337",
         "2019-12-26 10:00:26+00:00",
         "https://www.nytimes.com/2019/12/26/business/2020-corvette-stingray.html",
         "From its dream-car debut in 1953 at the Motorama show at the Waldorf-Astoria hotel, the Chevrolet Corvette has kept its engine up front, where sports-car tradition says it belongs.",
         "The $60,000 Stingray pushes its engine to the middle and expectations through the roof.",
         "26/12/19"
        ],
        [
         "295",
         "2019-12-31 10:00:25+00:00",
         "https://www.nytimes.com/2019/12/31/business/electric-cars-germany-economy.html",
         "ÖHRINGEN, Germany — Öhringen lies deep in automaking country, homeland of Germany’s biggest industry and a source of national pride. And by most appearances, life is pretty good. ",
         "Automakers and suppliers are cutting costs so they can invest in new technology. Workers are feeling the impact.",
         "31/12/19"
        ],
        [
         "63",
         "2020-01-03 13:55:06+00:00",
         "https://www.nytimes.com/2020/01/03/business/tesla-sales.html",
         "Tesla said on Friday that it had produced over 100,000 vehicles and delivered even more in the fourth quarter of 2019, meeting a goal it had laid out to investors and ending the year on stronger footing than at the start.",
         "The electric-car maker ended a volatile year with a 50 percent jump in deliveries, sending its shares to a new high.",
         "3/1/20"
        ],
        [
         "194",
         "2020-01-04 08:00:08+00:00",
         "https://www.nytimes.com/2020/01/04/business/auto-sales-price.html",
         "The auto industry has been on a roll for a decade, and its resurgence shows few signs of coming to a halt — at least for now.",
         "Americans are also continuing to buy ever bigger cars, at prices escalating faster than the overall inflation rate.",
         "4/1/20"
        ],
        [
         "176",
         "2020-01-09 11:08:49+00:00",
         "https://www.nytimes.com/2020/01/09/business/dealbook/facebook-political-ads.html",
         "Want this in your inbox each morning? Sign up here.",
         "The tech giant said it would not impose limits on such advertising, despite pressure from liberal and conservative critics.",
         "9/1/20"
        ],
        [
         "313",
         "2020-01-10 11:14:42+00:00",
         "https://www.nytimes.com/2020/01/10/business/dealbook/boeing-737-max.html",
         "Good Friday. The Labor Department’s job report for December will be released at 8:30 a.m. Eastern — tell us your predictions. (Want this in your inbox each morning? Sign up here.)",
         "Boeing released more than 100 pages of internal messages about the 737 Max to Congress. It didn’t make for comfortable reading.",
         "10/1/20"
        ],
        [
         "320",
         "2020-01-14 14:00:16+00:00",
         "https://www.nytimes.com/2020/01/14/business/aventura-shopping-mall-entertainment.html",
         "Some retailers have turned to extras like virtual-reality headsets and touch-screen mirrors to give shoppers an experience they can’t get online. ",
         "Aventura Mall, near Miami, isn’t shy about investing in its infrastructure and is widely considered one of the most successful malls in the country.",
         "14/1/20"
        ],
        [
         "208",
         "2020-01-21 21:30:53+00:00",
         "https://www.nytimes.com/2020/01/21/business/mitsubishi-diesel-emissions-cheating.html",
         "FRANKFURT — Mitsubishi Motors is under investigation for possibly selling diesel vehicles in Germany that had been programmed to cheat on emissions tests, Frankfurt prosecutors said Tuesday as the police raided offices of the Japanese carmaker.",
         "The police raided offices in the latest diesel investigation of a major carmaker, adding to the troubles of the Renault-Nissan-Mitsubishi alliance.",
         "22/1/20"
        ],
        [
         "216",
         "2020-01-22 05:02:21+00:00",
         "https://www.nytimes.com/2020/01/22/technology/cruise-gm-self-driving-car.html",
         "SAN FRANCISCO — Cruise, the autonomous vehicle division of General Motors, unveiled an ambitious new vehicle on Tuesday that its executives said was “the beginning of the future beyond the car.”",
         "The futuristic Origin, which seats six passengers and lacks a steering wheel, will require intensive testing and regulatory scrutiny before it can hit the streets.",
         "22/1/20"
        ],
        [
         "67",
         "2020-01-22 20:03:46+00:00",
         "https://www.nytimes.com/2020/01/22/business/elon-musk-tesla-bonus.html",
         "Tesla’s share price hit a record high on Wednesday, surpassing a threshold that could ultimately unlock hundreds of millions of dollars in bonus compensation for its chief executive, Elon Musk.",
         "The chief executive could get a stock award worth hundreds of millions if the carmaker’s market capitalization is sustained in the months ahead.",
         "23/1/20"
        ],
        [
         "154",
         "2020-01-23 08:13:06+00:00",
         "https://www.nytimes.com/2020/01/23/business/climate-change-central-banks.html",
         "FRANKFURT — Climate change has already been blamed for deadly bush fires in Australia, withering coral reefs, rising sea levels and ever more cataclysmic storms. Could it also cause the next financial crisis?",
         "Like other central banks, the E.C.B., which met on Thursday, is scrambling to prepare for what a report warns could be a coming economic upheaval.",
         "23/1/20"
        ],
        [
         "134",
         "2020-01-23 11:50:57+00:00",
         "https://www.nytimes.com/2020/01/23/business/dealbook/coronavirus-davos-world-economic-forum.html",
         "Hello from Davos, Switzerland, where business leaders are worried about the growing coronavirus outbreak. More below. (Want this in your inbox each morning? Sign up here.)",
         "As China closes off cities affected by the growing viral outbreak, business leaders at the World Economic Forum fear a replay of the SARS epidemic.",
         "23/1/20"
        ],
        [
         "311",
         "2020-01-24 14:00:10+00:00",
         "https://www.nytimes.com/2020/01/24/technology/clearview-ai-bezos-phone-hack.html",
         "Each week, we review the week’s news, offering analysis about the most important developments in the tech industry.",
         "An analysis of a phone belonging to Jeff Bezos found malicious code was hidden in a video sent from a WhatsApp account belonging to Crown Prince Mohammed bin Salman.",
         "24/1/20"
        ]
       ],
       "shape": {
        "columns": 5,
        "rows": 1365
       }
      },
      "text/html": [
       "<div>\n",
       "<style scoped>\n",
       "    .dataframe tbody tr th:only-of-type {\n",
       "        vertical-align: middle;\n",
       "    }\n",
       "\n",
       "    .dataframe tbody tr th {\n",
       "        vertical-align: top;\n",
       "    }\n",
       "\n",
       "    .dataframe thead th {\n",
       "        text-align: right;\n",
       "    }\n",
       "</style>\n",
       "<table border=\"1\" class=\"dataframe\">\n",
       "  <thead>\n",
       "    <tr style=\"text-align: right;\">\n",
       "      <th></th>\n",
       "      <th>timestamp</th>\n",
       "      <th>article_url</th>\n",
       "      <th>lead_paragraph</th>\n",
       "      <th>abstract</th>\n",
       "      <th>adjusted_date</th>\n",
       "    </tr>\n",
       "  </thead>\n",
       "  <tbody>\n",
       "    <tr>\n",
       "      <th>394</th>\n",
       "      <td>2019-10-02 10:56:22+00:00</td>\n",
       "      <td>https://www.nytimes.com/2019/10/02/business/de...</td>\n",
       "      <td>Good Wednesday morning. (Was this email forwar...</td>\n",
       "      <td>In leaked audio conversations with employees, ...</td>\n",
       "      <td>2/10/19</td>\n",
       "    </tr>\n",
       "    <tr>\n",
       "      <th>50</th>\n",
       "      <td>2019-10-02 20:52:59+00:00</td>\n",
       "      <td>https://www.nytimes.com/2019/10/02/business/te...</td>\n",
       "      <td>Tesla reported record quarterly deliveries on ...</td>\n",
       "      <td>The pace may allow the electric-car maker to f...</td>\n",
       "      <td>3/10/19</td>\n",
       "    </tr>\n",
       "    <tr>\n",
       "      <th>207</th>\n",
       "      <td>2019-10-09 10:12:51+00:00</td>\n",
       "      <td>https://www.nytimes.com/2019/10/09/business/de...</td>\n",
       "      <td>Good Wednesdayg. Breaking: The O.E.C.D. propos...</td>\n",
       "      <td>It once was clear what American businesses nee...</td>\n",
       "      <td>9/10/19</td>\n",
       "    </tr>\n",
       "    <tr>\n",
       "      <th>372</th>\n",
       "      <td>2019-10-10 10:29:53+00:00</td>\n",
       "      <td>https://www.nytimes.com/2019/10/10/business/de...</td>\n",
       "      <td>Good morning. ( Sign up here to get this in yo...</td>\n",
       "      <td>The tech giant removed an app after facing cri...</td>\n",
       "      <td>10/10/19</td>\n",
       "    </tr>\n",
       "    <tr>\n",
       "      <th>189</th>\n",
       "      <td>2019-10-10 18:22:29+00:00</td>\n",
       "      <td>https://www.nytimes.com/2019/10/10/business/pg...</td>\n",
       "      <td>Pacific Gas &amp; Electric’s unusual decision to c...</td>\n",
       "      <td>The California utility turned off power to hun...</td>\n",
       "      <td>11/10/19</td>\n",
       "    </tr>\n",
       "    <tr>\n",
       "      <th>...</th>\n",
       "      <td>...</td>\n",
       "      <td>...</td>\n",
       "      <td>...</td>\n",
       "      <td>...</td>\n",
       "      <td>...</td>\n",
       "    </tr>\n",
       "    <tr>\n",
       "      <th>1080</th>\n",
       "      <td>2024-09-13 11:58:07+00:00</td>\n",
       "      <td>https://www.nytimes.com/2024/09/13/business/de...</td>\n",
       "      <td>Months after the Miami Dolphins owner Stephen ...</td>\n",
       "      <td>Owner Stephen Ross is talking to private equit...</td>\n",
       "      <td>13/9/24</td>\n",
       "    </tr>\n",
       "    <tr>\n",
       "      <th>919</th>\n",
       "      <td>2024-09-18 12:00:08+00:00</td>\n",
       "      <td>https://www.nytimes.com/2024/09/18/business/en...</td>\n",
       "      <td>Owners of electric cars and pickup trucks made...</td>\n",
       "      <td>After a delay of several months, General Motor...</td>\n",
       "      <td>18/9/24</td>\n",
       "    </tr>\n",
       "    <tr>\n",
       "      <th>1316</th>\n",
       "      <td>2024-09-23 12:03:19+00:00</td>\n",
       "      <td>https://www.nytimes.com/2024/09/23/business/de...</td>\n",
       "      <td>First came news that Qualcomm had made an info...</td>\n",
       "      <td>Rivals and at least one big investor are circl...</td>\n",
       "      <td>23/9/24</td>\n",
       "    </tr>\n",
       "    <tr>\n",
       "      <th>1333</th>\n",
       "      <td>2024-09-23 12:03:19+00:00</td>\n",
       "      <td>https://www.nytimes.com/2024/09/23/business/de...</td>\n",
       "      <td>First came news that Qualcomm had made an info...</td>\n",
       "      <td>Rivals and at least one big investor are circl...</td>\n",
       "      <td>23/9/24</td>\n",
       "    </tr>\n",
       "    <tr>\n",
       "      <th>921</th>\n",
       "      <td>2024-09-24 01:34:09+00:00</td>\n",
       "      <td>https://www.nytimes.com/2024/09/23/business/el...</td>\n",
       "      <td>Elon Musk, the chief executive of Tesla, and G...</td>\n",
       "      <td>Mr. Musk described Prime Minister Giorgia Melo...</td>\n",
       "      <td>24/9/24</td>\n",
       "    </tr>\n",
       "  </tbody>\n",
       "</table>\n",
       "<p>1365 rows × 5 columns</p>\n",
       "</div>"
      ],
      "text/plain": [
       "                      timestamp  \\\n",
       "394   2019-10-02 10:56:22+00:00   \n",
       "50    2019-10-02 20:52:59+00:00   \n",
       "207   2019-10-09 10:12:51+00:00   \n",
       "372   2019-10-10 10:29:53+00:00   \n",
       "189   2019-10-10 18:22:29+00:00   \n",
       "...                         ...   \n",
       "1080  2024-09-13 11:58:07+00:00   \n",
       "919   2024-09-18 12:00:08+00:00   \n",
       "1316  2024-09-23 12:03:19+00:00   \n",
       "1333  2024-09-23 12:03:19+00:00   \n",
       "921   2024-09-24 01:34:09+00:00   \n",
       "\n",
       "                                            article_url  \\\n",
       "394   https://www.nytimes.com/2019/10/02/business/de...   \n",
       "50    https://www.nytimes.com/2019/10/02/business/te...   \n",
       "207   https://www.nytimes.com/2019/10/09/business/de...   \n",
       "372   https://www.nytimes.com/2019/10/10/business/de...   \n",
       "189   https://www.nytimes.com/2019/10/10/business/pg...   \n",
       "...                                                 ...   \n",
       "1080  https://www.nytimes.com/2024/09/13/business/de...   \n",
       "919   https://www.nytimes.com/2024/09/18/business/en...   \n",
       "1316  https://www.nytimes.com/2024/09/23/business/de...   \n",
       "1333  https://www.nytimes.com/2024/09/23/business/de...   \n",
       "921   https://www.nytimes.com/2024/09/23/business/el...   \n",
       "\n",
       "                                         lead_paragraph  \\\n",
       "394   Good Wednesday morning. (Was this email forwar...   \n",
       "50    Tesla reported record quarterly deliveries on ...   \n",
       "207   Good Wednesdayg. Breaking: The O.E.C.D. propos...   \n",
       "372   Good morning. ( Sign up here to get this in yo...   \n",
       "189   Pacific Gas & Electric’s unusual decision to c...   \n",
       "...                                                 ...   \n",
       "1080  Months after the Miami Dolphins owner Stephen ...   \n",
       "919   Owners of electric cars and pickup trucks made...   \n",
       "1316  First came news that Qualcomm had made an info...   \n",
       "1333  First came news that Qualcomm had made an info...   \n",
       "921   Elon Musk, the chief executive of Tesla, and G...   \n",
       "\n",
       "                                               abstract adjusted_date  \n",
       "394   In leaked audio conversations with employees, ...       2/10/19  \n",
       "50    The pace may allow the electric-car maker to f...       3/10/19  \n",
       "207   It once was clear what American businesses nee...       9/10/19  \n",
       "372   The tech giant removed an app after facing cri...      10/10/19  \n",
       "189   The California utility turned off power to hun...      11/10/19  \n",
       "...                                                 ...           ...  \n",
       "1080  Owner Stephen Ross is talking to private equit...       13/9/24  \n",
       "919   After a delay of several months, General Motor...       18/9/24  \n",
       "1316  Rivals and at least one big investor are circl...       23/9/24  \n",
       "1333  Rivals and at least one big investor are circl...       23/9/24  \n",
       "921   Mr. Musk described Prime Minister Giorgia Melo...       24/9/24  \n",
       "\n",
       "[1365 rows x 5 columns]"
      ]
     },
     "execution_count": 21,
     "metadata": {},
     "output_type": "execute_result"
    }
   ],
   "source": [
    "article_df"
   ]
  },
  {
   "cell_type": "code",
   "execution_count": null,
   "metadata": {},
   "outputs": [
    {
     "data": {
      "text/plain": [
       "'test'"
      ]
     },
     "execution_count": 22,
     "metadata": {},
     "output_type": "execute_result"
    }
   ],
   "source": [
    "filename = '../data/Tesla/tesla_headlines.csv'\n",
    "article_df.to_csv(filename, index=False)"
   ]
  },
  {
   "cell_type": "markdown",
   "metadata": {},
   "source": [
    "## 1. Get articles S&P (Market) "
   ]
  },
  {
   "cell_type": "code",
   "execution_count": 29,
   "metadata": {},
   "outputs": [],
   "source": [
    "start_date = datetime.datetime(2019, 9, 30)\n",
    "end_date = datetime.datetime(2024, 9, 27)"
   ]
  },
  {
   "cell_type": "code",
   "execution_count": null,
   "metadata": {},
   "outputs": [
    {
     "data": {
      "text/plain": [
       "'test'"
      ]
     },
     "execution_count": 30,
     "metadata": {},
     "output_type": "execute_result"
    }
   ],
   "source": [
    "k_results = int((end_date - start_date).days * 3)  # How many results to pull for. (x3 as a (conservative) estimate for the max articles that exist.)\n",
    "\n",
    "article_df = get_news(nyt, start_date, end_date, k=k_results) \n",
    "article_df = adjust_dates(article_df)\n",
    "article_df = article_df.sort_values(by='timestamp')"
   ]
  },
  {
   "cell_type": "code",
   "execution_count": null,
   "metadata": {},
   "outputs": [
    {
     "data": {
      "application/vnd.microsoft.datawrangler.viewer.v0+json": {
       "columns": [
        {
         "name": "index",
         "rawType": "int64",
         "type": "integer"
        },
        {
         "name": "timestamp",
         "rawType": "object",
         "type": "string"
        },
        {
         "name": "article_url",
         "rawType": "object",
         "type": "string"
        },
        {
         "name": "lead_paragraph",
         "rawType": "object",
         "type": "unknown"
        },
        {
         "name": "abstract",
         "rawType": "object",
         "type": "unknown"
        },
        {
         "name": "adjusted_date",
         "rawType": "object",
         "type": "string"
        }
       ],
       "conversionMethod": "pd.DataFrame",
       "ref": "224e16e0-2407-48cc-8b50-103f0be2b5ac",
       "rows": [
        [
         "8",
         "2019-09-30 00:00:15+00:00",
         "https://www.nytimes.com/2019/09/29/business/hong-kong-china-power.html",
         "In a part of the world familiar with conflict, dislocation and ruthless ideological extremism, Hong Kong has long beckoned as an oasis of stability.",
         "The territory’s traditional role as a gateway is under assault from President Trump’s trade war and a crackdown on pro-democracy demonstrators.",
         "30/9/19"
        ],
        [
         "7",
         "2019-09-30 01:04:31+00:00",
         "https://www.nytimes.com/2019/09/29/business/forever-21-bankruptcy.html",
         "Forever 21, the California retailer that helped popularize fast fashion in the United States with its bustling stores and $5 tops, said on Sunday night that it would file for bankruptcy, a sign of the eroding power of shopping malls and the shifting tastes of young consumers.",
         "The retailer fell victim to the eroding power of shopping malls and said it would cease operations in 40 countries and close up to 178 stores in the U.S.",
         "30/9/19"
        ],
        [
         "6",
         "2019-09-30 09:00:07+00:00",
         "https://www.nytimes.com/2019/09/30/business/china-hong-kong-li-ka-shing-business.html",
         "“Fight the Landlord” is one of the most popular card games in China. The name comes from the 1950s, when the Chinese Communist Party confiscated property from landowners, often violently, in the name of the masses. As many as two million people were killed. ",
         "State media puts pressure on Li Ka-shing, a powerful property tycoon, showing the Communist Party’s view of business as a means of control.",
         "30/9/19"
        ],
        [
         "5",
         "2019-09-30 10:30:01+00:00",
         "https://www.nytimes.com/2019/09/30/business/dealbook/public-markets-tech-ipos.html",
         "Good Monday morning. (Was this email forwarded to you? Sign up here.)",
         "The venture capitalist Fred Wilson has come up with a simple reason for the failures of Uber and WeWork: They were spoiled by private investors.",
         "30/9/19"
        ],
        [
         "4",
         "2019-09-30 14:34:31+00:00",
         "https://www.nytimes.com/2019/09/30/business/grubhub-seamless-restaurants-delivery-apps-fees.html",
         "Seamless, the food delivery service started two decades ago in Midtown Manhattan, calls itself “the most New York app in New York.” In advertisements, the company cracks jokes about the L train and takes unsubtle jabs at New Jersey. “Eat Like a True New Yorker,” one subway ad declares.",
         "Restaurant owners say Grubhub’s business model has cut into their profit margins. A New York City Council committee is investigating.",
         "30/9/19"
        ],
        [
         "3",
         "2019-09-30 15:00:08+00:00",
         "https://www.nytimes.com/2019/09/30/business/japan-abe-consumption-tax.html",
         "TOKYO — Yasuo Sugiuchi can’t avoid death, but he knew that — if he hurried — he would be able to escape taxes. ",
         "The increase, to 10 percent from 8 percent on a wide array of goods and services, will hit consumers who have helped sustain the Japanese economy.",
         "30/9/19"
        ],
        [
         "2",
         "2019-09-30 15:01:19+00:00",
         "https://www.nytimes.com/2019/09/30/business/wework-ipo.html",
         "WeWork shelved its plans for an initial public offering on Monday, a startling retreat for a company that expanded rapidly in recent years as it sought to transform commercial real estate in the world’s biggest cities.",
         "The company, which built an office-space behemoth, struggled to win over Wall Street and to convince investors that its business was sustainable.",
         "30/9/19"
        ],
        [
         "1",
         "2019-09-30 18:44:40+00:00",
         "https://www.nytimes.com/2019/09/30/business/economy/state-local-tax.html",
         "Congress didn’t unconstitutionally penalize Democratic-leaning states when it imposed a cap on federal deductions for state and local taxes, a federal judge ruled Monday.",
         "A federal judge rejected a suit by four states, including New York, over a part of the 2017 tax overhaul that they said penalized Democratic states.",
         "1/10/19"
        ],
        [
         "0",
         "2019-09-30 19:20:11+00:00",
         "https://www.nytimes.com/2019/09/30/business/business-conferences-venues.html",
         "Cannes has been a hub for meetings and events since the Cannes Film Festival began in 1946. But, said Régis Faure, director of tourism for Cannes, the gatherings are moving beyond the convention center, the Palais des Festivals et des Congrès, and are looking “more and more like a festival.”",
         "While the largest gatherings still go to the biggest cities, more smaller cities are playing up their distinct offerings. Hence, the Floating Pavilion in Rotterdam.",
         "1/10/19"
        ],
        [
         "17",
         "2019-10-01 09:48:52+00:00",
         "https://www.nytimes.com/2019/10/01/business/wto-global-trade.html",
         "LONDON — As President Trump intensifies his trade war with China, and as factories slow in major industrial nations, world commerce is deteriorating rapidly, a perilous development that threatens the health of the global economy.",
         "Growth in global trade is slowing dramatically as the world economy weakens and as the United States and China escalate their trade war.",
         "1/10/19"
        ],
        [
         "16",
         "2019-10-01 10:52:25+00:00",
         "https://www.nytimes.com/2019/10/01/business/dealbook/credit-suisse-spying.html",
         "Good Tuesday morning. (Was this email forwarded to you? Sign up here.)",
         "Pierre-Olivier Bouée has resigned after revelations that the Swiss bank had snooped on a former executive. But Credit Suisse’s C.E.O. was found not to be involved.",
         "1/10/19"
        ],
        [
         "15",
         "2019-10-01 11:12:06+00:00",
         "https://www.nytimes.com/2019/10/01/business/ford-india.html",
         "Ford Motor announced Tuesday that it would put most of its operations in India into a joint venture to be headed by the Indian vehicle maker Mahindra & Mahindra, a bid to bolster Ford’s position there.",
         "The move is the latest streamlining effort by the Detroit automaker, which has closed plants in Europe and is cutting its salaried ranks worldwide.",
         "1/10/19"
        ],
        [
         "14",
         "2019-10-01 13:00:08+00:00",
         "https://www.nytimes.com/2019/10/01/business/hard-hat-history.html",
         "In 1919, when Edward W. Bullard had just returned to the United States after serving in the cavalry in France, he saw skyscrapers going up all across the country, and dams and bridges were growing ever larger. ",
         "The hard hat was designed 100 years ago as protective gear for miners and other laborers, but it has grown to become a symbol of status and masculinity.",
         "1/10/19"
        ],
        [
         "13",
         "2019-10-01 13:08:00+00:00",
         "https://www.nytimes.com/2019/10/01/business/dealbook/credit-suisse-spy-scandal.html",
         "When Tidjane Thiam joined Credit Suisse as chief executive in 2015, he was charged with turning around the Swiss bank and steadying its profit. ",
         "Pierre-Olivier Bouée, the bank’s chief operating officer, had hired an investigator to track the head of wealth management, who left for a rival.",
         "1/10/19"
        ],
        [
         "12",
         "2019-10-01 15:38:58+00:00",
         "https://www.nytimes.com/2019/10/01/technology/net-neutrality-repeal-broadband.html",
         "WASHINGTON — A federal appeals court upheld on Tuesday the government’s repeal of strict regulations for the companies that connect consumers to the internet. But the court also said the Federal Communications Commission had overstepped by broadly stopping state and local governments from writing their own rules.",
         "The mixed ruling gave both supporters and opponents a chance to declare victory on an issue that has bubbled up occasionally for more than a decade.",
         "1/10/19"
        ],
        [
         "11",
         "2019-10-01 21:58:47+00:00",
         "https://www.nytimes.com/2019/10/01/business/gm-strike.html",
         "The United Auto Workers reported Tuesday that it had exchanged contract proposals with General Motors, but said many issues remained unresolved in talks that would end the strike that has shut down 34 factories in the United States for more than two weeks.",
         "The union said a company offer fell short on wages, health care and other issues. But developments suggested that talks might be in their final phase.",
         "2/10/19"
        ],
        [
         "10",
         "2019-10-01 23:26:14+00:00",
         "https://www.nytimes.com/2019/10/01/technology/national-privacy-law.html",
         "WASHINGTON — A rare thing emerged in Washington early this year: agreement. Republicans and Democrats in Congress, as well as the Trump White House, all said they wanted a new federal law to protect people’s online privacy. Numerous tech companies urged them on.",
         "Even amid a bipartisan backlash against tech companies, lawmakers have struggled to channel that into a federal privacy law.",
         "2/10/19"
        ],
        [
         "9",
         "2019-10-01 23:57:52+00:00",
         "https://www.nytimes.com/2019/10/01/business/overwatch-fan-base.html",
         "PHILADELPHIA — Jenna Papagni stood amid a crowd of hundreds outside the Wells Fargo Center on Sunday. She was at the Philadelphia arena for the Overwatch League Grand Finals, an annual e-sports tournament, and she came dressed for battle. ",
         "Thousands gathered in Philadelphia for the Overwatch League Grand Finals, an e-sports tournament that draws a hugely diverse and rabid fan base.",
         "2/10/19"
        ],
        [
         "27",
         "2019-10-02 10:56:22+00:00",
         "https://www.nytimes.com/2019/10/02/business/dealbook/warren-zuckerberg-facebook.html",
         "Good Wednesday morning. (Was this email forwarded to you? Sign up here.)",
         "In leaked audio conversations with employees, the Facebook chief said he would take Ms. Warren to court if she tried to break up the company.",
         "2/10/19"
        ],
        [
         "26",
         "2019-10-02 11:07:46+00:00",
         "https://www.nytimes.com/2019/10/02/business/economy/markets-world-trade.html",
         "For much of the last year, America’s trade war was the rest of the world’s problem. ",
         "A recent wave of selling has ended a relatively calm stretch for stock markets.",
         "2/10/19"
        ],
        [
         "25",
         "2019-10-02 13:00:08+00:00",
         "https://www.nytimes.com/2019/10/02/technology/personaltech/police-data-and-the-citizen-app-partners-in-crime-coverage.html",
         "How do New York Times journalists use technology in their jobs and in their personal lives? Ali Watkins, who covers crime and law enforcement in New York, discussed the tech she’s using.",
         "On her New York City law enforcement beat, Ali Watkins mines CompStat for trends and crowdsourcing for breaking news. You can, too.",
         "2/10/19"
        ],
        [
         "24",
         "2019-10-02 13:00:21+00:00",
         "https://www.nytimes.com/2019/10/02/business/boeing-737-max-crashes.html",
         "A senior Boeing engineer filed an internal ethics complaint this year saying that during the development of the 737 Max jet the company had rejected a safety system to minimize costs, equipment that he felt could have reduced risks that contributed to two fatal crashes.",
         "The company passed on the concerns to the Department of Justice as part of a criminal investigation into the engineering of the plane after two fatal crashes.",
         "2/10/19"
        ],
        [
         "23",
         "2019-10-02 14:47:45+00:00",
         "https://www.nytimes.com/2019/10/02/business/china-consumers.html",
         "ZHENGZHOU, China — Forty years after China began its near-miraculous run as the world’s most powerful economic growth engine, its people are experiencing something new and unsettling: a feeling that the best times may be behind them. ",
         "Chinese consumers, a $4.9 trillion force, transformed the global economy. With their own economy slowing, they are pulling back.",
         "2/10/19"
        ],
        [
         "22",
         "2019-10-02 18:00:08+00:00",
         "https://www.nytimes.com/2019/10/02/business/media/october-democratic-debate.html",
         "It’s official: Biggest. Debate. Ever.",
         "Rather than split the contenders into two groups, party officials will guarantee that the leading candidates have a chance to face off against one another.",
         "3/10/19"
        ],
        [
         "21",
         "2019-10-02 18:08:50+00:00",
         "https://www.nytimes.com/2019/10/02/business/advocare-pyramid-scheme-ftc.html",
         "The N.F.L. star quarterback Drew Brees called it a “rewarding” opportunity, a chance to market health products trusted by thousands of people. Former President George W. Bush spoke at a sales conference in Texas designed to tout its “economic value.”",
         "AdvoCare will pay $150 million to settle charges that it duped customers into thinking they could earn “unlimited income” distributing its products.",
         "3/10/19"
        ],
        [
         "20",
         "2019-10-02 19:42:45+00:00",
         "https://www.nytimes.com/2019/10/02/business/vice-media-refinery29.html",
         "Vice Media, the insurgent media brand known for its arch take on youth culture and entertainment, has acquired the women’s lifestyle publisher Refinery29.",
         "The fashion and lifestyle site had something that Vice lacked: an audience made up largely of women.",
         "3/10/19"
        ],
        [
         "19",
         "2019-10-02 20:52:59+00:00",
         "https://www.nytimes.com/2019/10/02/business/tesla-sales.html",
         "Tesla reported record quarterly deliveries on Wednesday, putting the electric-car maker within reach of its goal for the year. But analysts remain skeptical that the company will show a profit for the period.",
         "The pace may allow the electric-car maker to fulfill its forecast for the year. But analysts are skeptical that sales are enough to yield a profit.",
         "3/10/19"
        ],
        [
         "18",
         "2019-10-02 23:45:39+00:00",
         "https://www.nytimes.com/2019/10/02/business/media/trump-media-attack.html",
         "“Are you talking to me?” President Trump asked, his brow creased in disgust.",
         "After his profane tweet pushed CNN to allow an exception to its standards, the president trotted out his latest sobriquet: “corrupt news media.”",
         "3/10/19"
        ],
        [
         "37",
         "2019-10-03 09:05:17+00:00",
         "https://www.nytimes.com/2019/10/03/technology/hong-kong-china-tech-surveillance.html",
         "HONG KONG — There’s no sign to mark it. But when travelers from Hong Kong cross into Shenzhen in mainland China, they reach a digital cutoff point.",
         "The first major place in China to rebel against Beijing’s technologies of control is one of the last not yet fully under their thrall.",
         "3/10/19"
        ],
        [
         "36",
         "2019-10-03 10:19:32+00:00",
         "https://www.nytimes.com/2019/10/03/business/dealbook/europe-facebook-content.html",
         "Good Thursday morning. Vanity Fair just published its latest New Establishment list, and those riding high include Jeff Bezos, Susan Wojcicki of YouTube and Ted Sarandos of Netflix. (Was this email forwarded to you? Sign up here.). ",
         "The E.U.’s top court ruled that an individual country can order the social network to take down content worldwide, adding new burden to global internet companies.",
         "3/10/19"
        ],
        [
         "35",
         "2019-10-03 16:39:22+00:00",
         "https://www.nytimes.com/2019/10/03/business/trump-tariffs.html",
         "American shoppers may not have paid close attention to a 15-year controversy involving generous subsidies that the European Union provided Airbus, its largest aircraft manufacturer.",
         "A 15-year fight over airplane subsidies is going to raise the cost of Parmesan cheese, French wine and Scotch whisky.",
         "4/10/19"
        ],
        [
         "34",
         "2019-10-03 18:05:22+00:00",
         "https://www.nytimes.com/2019/10/03/business/media/cnn-trump-campaign-ad.html",
         "The 2020 campaign ad wars have begun.",
         "The network declined to run a pair of 30-second ads that express the president’s view of the impeachment inquiry, calling them “demonstrably false.”",
         "4/10/19"
        ],
        [
         "33",
         "2019-10-03 19:03:30+00:00",
         "https://www.nytimes.com/2019/10/03/movies/joker-movie.html",
         "LOS ANGELES — Hollywood’s latest comic book movie, “Joker,” arrives in multiplexes on Thursday night, and it has all the makings of a juggernaut.",
         "The studio set out to make a boundary-pushing film. The early reaction has included critical praise and deep unease about the film’s violence and message.",
         "4/10/19"
        ],
        [
         "32",
         "2019-10-03 19:45:57+00:00",
         "https://www.nytimes.com/2019/10/03/business/student-loans-forgiveness-pheaa.html",
         "The student loan servicer that manages a deeply troubled program intended to forgive public servants’ education debts failed in its most basic tasks, depriving thousands of borrowers of a benefit they had earned, New York’s attorney general said in a federal lawsuit filed Thursday.",
         "A company that handles the federal government’s troubled Public Service Loan Forgiveness Program failed in its most basic tasks, the lawsuit said.",
         "4/10/19"
        ],
        [
         "31",
         "2019-10-03 20:27:31+00:00",
         "https://www.nytimes.com/2019/10/03/business/media/sesame-street-hbo-max.html",
         "“Sesame Street” is moving to a new streaming home.",
         "New episodes will appear on the streaming platform nine months before they are shown on PBS. More than 4,500 shows from the “Sesame Street” library will also be available.",
         "4/10/19"
        ],
        [
         "30",
         "2019-10-03 20:50:18+00:00",
         "https://www.nytimes.com/2019/10/03/business/media/bob-woodward-interview-she-said.html",
         "During a career spanning nearly five decades, Bob Woodward has interviewed several presidents, dozens of cabinet officials and, most famously, W. Mark Felt, an associate F.B.I. director who helped him piece together the narrative that led to the resignation of President Richard M. Nixon.",
         "The veteran investigative journalist was heckled and called out online for his many interruptions of Jodi Kantor and Megan Twohey at an event in Washington.",
         "4/10/19"
        ],
        [
         "29",
         "2019-10-03 21:46:45+00:00",
         "https://www.nytimes.com/2019/10/03/business/economy/weak-economic-data-fed-rate-cut.html",
         "Top Federal Reserve officials have said they are open-minded about whether additional interest rate cuts will be necessary in 2019, but recent economic data are putting that equanimity to the test. ",
         "Key officials said they were open-minded about the need for further cuts. Then a flurry of bad economic data rolled in.",
         "4/10/19"
        ],
        [
         "28",
         "2019-10-03 23:14:49+00:00",
         "https://www.nytimes.com/2019/10/03/business/media/sports-illustrated-layoffs.html",
         "Sports Illustrated, which set a standard for sportswriting and photography during its 20th-century heyday, was transferred to a new company Thursday. Along with the change, there were layoffs, according to three people with knowledge of the moves.",
         "The magazine was transferred to a new steward, Maven, and people familiar with the move said layoffs followed.",
         "4/10/19"
        ],
        [
         "47",
         "2019-10-04 07:58:36+00:00",
         "https://www.nytimes.com/2019/10/04/business/bp-ceo-bob-dudley-bernard-looney.html",
         "LONDON — Bob Dudley, the chief executive of BP, will retire in February after nearly a decade in the job, the oil company announced Friday. The company’s chairman, Helge Lund, said in a statement that the move came at a “logical time for a change,” with BP charting its course through a global “energy transition.” ",
         "Mr. Dudley was credited with steadying the oil company after a deadly blowout in the Gulf of Mexico. Bernard Looney will replace him in February.",
         "4/10/19"
        ],
        [
         "46",
         "2019-10-04 08:01:19+00:00",
         "https://www.nytimes.com/2019/10/04/business/economy/jobs-report.html",
         "The cavalcade of payroll gains continued for the 108th month in September, pushing down the jobless rate to a half-century low and countering anxieties that had been piqued by slowing global growth, declining factory orders and a jittery stock market. ",
         "Job growth was steady last month. The economy  lost some momentum, though, as the trade war hurt manufacturing and global growth cooled.",
         "4/10/19"
        ],
        [
         "45",
         "2019-10-04 10:24:11+00:00",
         "https://www.nytimes.com/2019/10/04/business/dealbook/jobs-report-economy.html",
         "Good Friday morning. (Was this email forwarded to you? Sign up here.)",
         "Analysts expect employers to have created 147,000 jobs last month. If that estimate comes true, it’d be a bright spot in a week full of bad economic news.",
         "4/10/19"
        ],
        [
         "44",
         "2019-10-04 13:00:10+00:00",
         "https://www.nytimes.com/2019/10/04/technology/the-week-in-tech-facebook-fights-back.html",
         "Each week, we review the week’s news, offering analysis about the most important developments in the tech industry.",
         "A remarkable leak from an internal meeting shows the company is gearing up to fight government intervention.",
         "4/10/19"
        ],
        [
         "43",
         "2019-10-04 17:06:14+00:00",
         "https://www.nytimes.com/2019/10/04/technology/iranian-campaign-hackers-microsoft.html",
         "SAN FRANCISCO — The 2020 presidential election is still 13 months away, but already Iranians are following in the footsteps of Russia and have begun cyberattacks aimed at disrupting the campaigns.",
         "The news, according to two people with knowledge of the attacks, followed a Microsoft report that said hackers had targeted a campaign, U.S. officials and journalists.",
         "5/10/19"
        ],
        [
         "42",
         "2019-10-04 17:51:27+00:00",
         "https://www.nytimes.com/2019/10/04/business/media/disney-netflix-advertising.html",
         "LOS ANGELES — Dear Netflix: Keep your money.",
         "ABC, Freeform and other Disney-owned entertainment networks will no longer accept Netflix ads in another sign of how the streaming wars are intensifying.",
         "5/10/19"
        ],
        [
         "41",
         "2019-10-04 20:55:05+00:00",
         "https://www.nytimes.com/2019/10/04/technology/paypal-facebook-cryptocurrency-libra.html",
         "SAN FRANCISCO — PayPal said on Friday that it had pulled out of the coalition of companies involved in a Facebook-backed cryptocurrency initiative, in the latest headache for the social network’s effort.",
         "The move deals a blow to the heavily criticized effort, which Facebook unveiled in June.",
         "5/10/19"
        ],
        [
         "40",
         "2019-10-04 21:29:03+00:00",
         "https://www.nytimes.com/2019/10/04/business/media/online-advertising-chumbox-merger.html",
         "On many websites, readers who scroll to the very end of an article are likely to encounter rows of small advertisements belonging to a weird subgenre of digital marketing known as chumbox ads.",
         "The two biggest companies behind an internet subgenre — the “chumbox ad” — have joined forces to form a company that will generate $2 billion a year.",
         "5/10/19"
        ],
        [
         "39",
         "2019-10-04 21:32:49+00:00",
         "https://www.nytimes.com/2019/10/04/business/economy/trump-biden-china-trade.html",
         "WASHINGTON — President Trump’s public call for the Chinese government to investigate a political rival could complicate next week’s trade talks, which are set to resume Thursday when American and Chinese negotiators meet in Washington to see if they can find a path to a trade deal.",
         "The U.S. and China are trying to reach agreement, but President Trump’s request is likely to increase scrutiny of any trade pact.",
         "5/10/19"
        ],
        [
         "38",
         "2019-10-04 22:04:50+00:00",
         "https://www.nytimes.com/2019/10/04/technology/google-facial-recognition-atlanta-homeless.html",
         "Atlanta officials are seeking answers from Google after a news report said that company contractors had sought out black homeless people in the city to scan their faces to improve Google’s facial-recognition technology.",
         "City officials asked Google to verify a report that its contractors sought to scan the faces of black homeless people to improve facial-recognition software.",
         "5/10/19"
        ],
        [
         "55",
         "2019-10-07 10:28:27+00:00",
         "https://www.nytimes.com/2019/10/07/sports/basketball/nba-china.html",
         "Good Monday morning. (Was this email forwarded to you? Sign up here.)",
         "A quickly deleted post by a Houston Rockets executive opened the league, which has had huge success in China, up to blowback in a vital overseas market.",
         "7/10/19"
        ],
        [
         "54",
         "2019-10-07 13:37:47+00:00",
         "https://www.nytimes.com/2019/10/07/business/media/quartz-delaney-out.html",
         "Kevin Delaney, the editor in chief of Quartz and one of the digital publication’s co-founders, is stepping down as part of a shake-up of the company’s leadership.",
         "Kevin Delaney co-founded the digital publication in 2012.",
         "7/10/19"
        ]
       ],
       "shape": {
        "columns": 5,
        "rows": 12050
       }
      },
      "text/html": [
       "<div>\n",
       "<style scoped>\n",
       "    .dataframe tbody tr th:only-of-type {\n",
       "        vertical-align: middle;\n",
       "    }\n",
       "\n",
       "    .dataframe tbody tr th {\n",
       "        vertical-align: top;\n",
       "    }\n",
       "\n",
       "    .dataframe thead th {\n",
       "        text-align: right;\n",
       "    }\n",
       "</style>\n",
       "<table border=\"1\" class=\"dataframe\">\n",
       "  <thead>\n",
       "    <tr style=\"text-align: right;\">\n",
       "      <th></th>\n",
       "      <th>timestamp</th>\n",
       "      <th>article_url</th>\n",
       "      <th>lead_paragraph</th>\n",
       "      <th>abstract</th>\n",
       "      <th>adjusted_date</th>\n",
       "    </tr>\n",
       "  </thead>\n",
       "  <tbody>\n",
       "    <tr>\n",
       "      <th>8</th>\n",
       "      <td>2019-09-30 00:00:15+00:00</td>\n",
       "      <td>https://www.nytimes.com/2019/09/29/business/ho...</td>\n",
       "      <td>In a part of the world familiar with conflict,...</td>\n",
       "      <td>The territory’s traditional role as a gateway ...</td>\n",
       "      <td>30/9/19</td>\n",
       "    </tr>\n",
       "    <tr>\n",
       "      <th>7</th>\n",
       "      <td>2019-09-30 01:04:31+00:00</td>\n",
       "      <td>https://www.nytimes.com/2019/09/29/business/fo...</td>\n",
       "      <td>Forever 21, the California retailer that helpe...</td>\n",
       "      <td>The retailer fell victim to the eroding power ...</td>\n",
       "      <td>30/9/19</td>\n",
       "    </tr>\n",
       "    <tr>\n",
       "      <th>6</th>\n",
       "      <td>2019-09-30 09:00:07+00:00</td>\n",
       "      <td>https://www.nytimes.com/2019/09/30/business/ch...</td>\n",
       "      <td>“Fight the Landlord” is one of the most popula...</td>\n",
       "      <td>State media puts pressure on Li Ka-shing, a po...</td>\n",
       "      <td>30/9/19</td>\n",
       "    </tr>\n",
       "    <tr>\n",
       "      <th>5</th>\n",
       "      <td>2019-09-30 10:30:01+00:00</td>\n",
       "      <td>https://www.nytimes.com/2019/09/30/business/de...</td>\n",
       "      <td>Good Monday morning. (Was this email forwarded...</td>\n",
       "      <td>The venture capitalist Fred Wilson has come up...</td>\n",
       "      <td>30/9/19</td>\n",
       "    </tr>\n",
       "    <tr>\n",
       "      <th>4</th>\n",
       "      <td>2019-09-30 14:34:31+00:00</td>\n",
       "      <td>https://www.nytimes.com/2019/09/30/business/gr...</td>\n",
       "      <td>Seamless, the food delivery service started tw...</td>\n",
       "      <td>Restaurant owners say Grubhub’s business model...</td>\n",
       "      <td>30/9/19</td>\n",
       "    </tr>\n",
       "    <tr>\n",
       "      <th>...</th>\n",
       "      <td>...</td>\n",
       "      <td>...</td>\n",
       "      <td>...</td>\n",
       "      <td>...</td>\n",
       "      <td>...</td>\n",
       "    </tr>\n",
       "    <tr>\n",
       "      <th>12044</th>\n",
       "      <td>2024-09-27 15:11:30+00:00</td>\n",
       "      <td>https://www.nytimes.com/2024/09/27/technology/...</td>\n",
       "      <td>Over the past week, Google has called more tha...</td>\n",
       "      <td>The tech giant, which wrapped up its arguments...</td>\n",
       "      <td>27/9/24</td>\n",
       "    </tr>\n",
       "    <tr>\n",
       "      <th>12043</th>\n",
       "      <td>2024-09-27 17:45:52+00:00</td>\n",
       "      <td>https://www.nytimes.com/2024/09/27/business/me...</td>\n",
       "      <td>The brief era of muted microphones appears to ...</td>\n",
       "      <td>CBS News has announced the rules and format fo...</td>\n",
       "      <td>28/9/24</td>\n",
       "    </tr>\n",
       "    <tr>\n",
       "      <th>12042</th>\n",
       "      <td>2024-09-27 19:38:45+00:00</td>\n",
       "      <td>https://www.nytimes.com/2024/09/27/business/en...</td>\n",
       "      <td>A firm backed by Elliott Investment Management...</td>\n",
       "      <td>The sale, which requires a judge’s approval, w...</td>\n",
       "      <td>28/9/24</td>\n",
       "    </tr>\n",
       "    <tr>\n",
       "      <th>12041</th>\n",
       "      <td>2024-09-27 20:53:49+00:00</td>\n",
       "      <td>https://www.nytimes.com/2024/09/27/technology/...</td>\n",
       "      <td>OpenAI, the San Francisco start-up behind Chat...</td>\n",
       "      <td>As the company looks for more outside investor...</td>\n",
       "      <td>28/9/24</td>\n",
       "    </tr>\n",
       "    <tr>\n",
       "      <th>12040</th>\n",
       "      <td>2024-09-27 21:10:45+00:00</td>\n",
       "      <td>https://www.nytimes.com/2024/09/27/business/hu...</td>\n",
       "      <td>If your home is damaged or destroyed because o...</td>\n",
       "      <td>If your home has been damaged, you may be at t...</td>\n",
       "      <td>28/9/24</td>\n",
       "    </tr>\n",
       "  </tbody>\n",
       "</table>\n",
       "<p>12050 rows × 5 columns</p>\n",
       "</div>"
      ],
      "text/plain": [
       "                       timestamp  \\\n",
       "8      2019-09-30 00:00:15+00:00   \n",
       "7      2019-09-30 01:04:31+00:00   \n",
       "6      2019-09-30 09:00:07+00:00   \n",
       "5      2019-09-30 10:30:01+00:00   \n",
       "4      2019-09-30 14:34:31+00:00   \n",
       "...                          ...   \n",
       "12044  2024-09-27 15:11:30+00:00   \n",
       "12043  2024-09-27 17:45:52+00:00   \n",
       "12042  2024-09-27 19:38:45+00:00   \n",
       "12041  2024-09-27 20:53:49+00:00   \n",
       "12040  2024-09-27 21:10:45+00:00   \n",
       "\n",
       "                                             article_url  \\\n",
       "8      https://www.nytimes.com/2019/09/29/business/ho...   \n",
       "7      https://www.nytimes.com/2019/09/29/business/fo...   \n",
       "6      https://www.nytimes.com/2019/09/30/business/ch...   \n",
       "5      https://www.nytimes.com/2019/09/30/business/de...   \n",
       "4      https://www.nytimes.com/2019/09/30/business/gr...   \n",
       "...                                                  ...   \n",
       "12044  https://www.nytimes.com/2024/09/27/technology/...   \n",
       "12043  https://www.nytimes.com/2024/09/27/business/me...   \n",
       "12042  https://www.nytimes.com/2024/09/27/business/en...   \n",
       "12041  https://www.nytimes.com/2024/09/27/technology/...   \n",
       "12040  https://www.nytimes.com/2024/09/27/business/hu...   \n",
       "\n",
       "                                          lead_paragraph  \\\n",
       "8      In a part of the world familiar with conflict,...   \n",
       "7      Forever 21, the California retailer that helpe...   \n",
       "6      “Fight the Landlord” is one of the most popula...   \n",
       "5      Good Monday morning. (Was this email forwarded...   \n",
       "4      Seamless, the food delivery service started tw...   \n",
       "...                                                  ...   \n",
       "12044  Over the past week, Google has called more tha...   \n",
       "12043  The brief era of muted microphones appears to ...   \n",
       "12042  A firm backed by Elliott Investment Management...   \n",
       "12041  OpenAI, the San Francisco start-up behind Chat...   \n",
       "12040  If your home is damaged or destroyed because o...   \n",
       "\n",
       "                                                abstract adjusted_date  \n",
       "8      The territory’s traditional role as a gateway ...       30/9/19  \n",
       "7      The retailer fell victim to the eroding power ...       30/9/19  \n",
       "6      State media puts pressure on Li Ka-shing, a po...       30/9/19  \n",
       "5      The venture capitalist Fred Wilson has come up...       30/9/19  \n",
       "4      Restaurant owners say Grubhub’s business model...       30/9/19  \n",
       "...                                                  ...           ...  \n",
       "12044  The tech giant, which wrapped up its arguments...       27/9/24  \n",
       "12043  CBS News has announced the rules and format fo...       28/9/24  \n",
       "12042  The sale, which requires a judge’s approval, w...       28/9/24  \n",
       "12041  As the company looks for more outside investor...       28/9/24  \n",
       "12040  If your home has been damaged, you may be at t...       28/9/24  \n",
       "\n",
       "[12050 rows x 5 columns]"
      ]
     },
     "execution_count": 31,
     "metadata": {},
     "output_type": "execute_result"
    }
   ],
   "source": [
    "article_df"
   ]
  },
  {
   "cell_type": "code",
   "execution_count": null,
   "metadata": {},
   "outputs": [],
   "source": [
    "filename = '../data/S&P_market/s&p_headlines.csv'\n",
    "article_df.to_csv(filename, index=False)"
   ]
  }
 ],
 "metadata": {
  "kernelspec": {
   "display_name": ".venv",
   "language": "python",
   "name": "python3"
  },
  "language_info": {
   "codemirror_mode": {
    "name": "ipython",
    "version": 3
   },
   "file_extension": ".py",
   "mimetype": "text/x-python",
   "name": "python",
   "nbconvert_exporter": "python",
   "pygments_lexer": "ipython3",
   "version": "3.9.0"
  }
 },
 "nbformat": 4,
 "nbformat_minor": 2
}
