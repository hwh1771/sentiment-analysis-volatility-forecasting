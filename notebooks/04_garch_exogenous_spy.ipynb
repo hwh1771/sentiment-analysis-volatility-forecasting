{
 "cells": [
  {
   "cell_type": "markdown",
   "metadata": {},
   "source": [
    "# In this file we fit our model with the real data."
   ]
  },
  {
   "cell_type": "code",
   "execution_count": 7,
   "metadata": {},
   "outputs": [],
   "source": [
    "from datetime import datetime\n",
    "import random\n",
    "\n",
    "import numpy as np\n",
    "import pandas as pd\n",
    "from matplotlib import pyplot as plt\n",
    "import matplotlib.dates as mdates\n",
    "from scipy.stats import norm, chi2\n",
    "\n",
    "from statsmodels.tsa.stattools import adfuller\n",
    "from statsmodels.stats.diagnostic import acorr_ljungbox  \n",
    "\n",
    "from Garch import GARCH"
   ]
  },
  {
   "cell_type": "markdown",
   "metadata": {},
   "source": [
    "#### Define helper functions "
   ]
  },
  {
   "cell_type": "code",
   "execution_count": 8,
   "metadata": {},
   "outputs": [],
   "source": [
    "def adf_test(series):\n",
    "    result = adfuller(series, autolag='AIC')  \n",
    "    print(f\"ADF Statistic: {result[0]}\")\n",
    "    print(f\"p-value: {result[1]}\")\n",
    "    print(\"Critical Values:\")\n",
    "    for key, value in result[4].items():\n",
    "        print(f\"   {key}: {value}\")\n",
    "\n",
    "    if result[1] <= 0.05:\n",
    "        print(\" The series is stationary (reject H0)\")\n",
    "    else:\n",
    "        print(\" The series is non-stationary (fail to reject H0)\")"
   ]
  },
  {
   "cell_type": "code",
   "execution_count": 9,
   "metadata": {},
   "outputs": [],
   "source": [
    "def generate_ar_data(ar_coef, T):\n",
    "    res = [0]\n",
    "    for t in range(1,T):\n",
    "        res.append(ar_coef * res[-1] + random.gauss(0, 1))\n",
    "\n",
    "    return res"
   ]
  },
  {
   "cell_type": "code",
   "execution_count": 10,
   "metadata": {},
   "outputs": [],
   "source": [
    "def likelihood_ratio_test(ll_null: float, ll_alternative: float, df: int):\n",
    "    if df <= 0:\n",
    "        raise ValueError(\"Degrees of freedom must be positive.\")\n",
    "    if ll_alternative < ll_null:\n",
    "        raise ValueError(\"ll_null should be smaller than ll_alternative.\")\n",
    "    \n",
    "    # Compute test statistic\n",
    "    lr_stat = 2 * (ll_alternative - ll_null)\n",
    "    \n",
    "    # Compute p-value\n",
    "    p_value = 1 - chi2.cdf(lr_stat, df)\n",
    "    \n",
    "    return p_value"
   ]
  },
  {
   "cell_type": "markdown",
   "metadata": {},
   "source": [
    "## 1. Load Data\n",
    "1. S&P500 data\n",
    "2. Sentiment data (consisting of mean Positive, Negative and Neutral sentiment per day)\n",
    "3. VIX (for comparison purpose)"
   ]
  },
  {
   "cell_type": "code",
   "execution_count": 11,
   "metadata": {},
   "outputs": [],
   "source": [
    "start = '2019-10-01'\n",
    "end = '2024-09-27'"
   ]
  },
  {
   "cell_type": "code",
   "execution_count": 12,
   "metadata": {},
   "outputs": [
    {
     "ename": "DateParseError",
     "evalue": "Unknown datetime string format, unable to parse: adjusted_date, at position 1497",
     "output_type": "error",
     "traceback": [
      "\u001b[1;31m---------------------------------------------------------------------------\u001b[0m",
      "\u001b[1;31mDateParseError\u001b[0m                            Traceback (most recent call last)",
      "Cell \u001b[1;32mIn[12], line 7\u001b[0m\n\u001b[0;32m      5\u001b[0m \u001b[38;5;66;03m# Load Sentiment data\u001b[39;00m\n\u001b[0;32m      6\u001b[0m sentiment_df \u001b[38;5;241m=\u001b[39m pd\u001b[38;5;241m.\u001b[39mread_csv(\u001b[38;5;124m'\u001b[39m\u001b[38;5;124m../data/nyt_sentiment.csv\u001b[39m\u001b[38;5;124m'\u001b[39m)\n\u001b[1;32m----> 7\u001b[0m sentiment_df\u001b[38;5;241m.\u001b[39mindex \u001b[38;5;241m=\u001b[39m \u001b[43mpd\u001b[49m\u001b[38;5;241;43m.\u001b[39;49m\u001b[43mDatetimeIndex\u001b[49m\u001b[43m(\u001b[49m\u001b[43msentiment_df\u001b[49m\u001b[43m[\u001b[49m\u001b[38;5;124;43m'\u001b[39;49m\u001b[38;5;124;43madjusted_date\u001b[39;49m\u001b[38;5;124;43m'\u001b[39;49m\u001b[43m]\u001b[49m\u001b[43m)\u001b[49m\n\u001b[0;32m      9\u001b[0m \u001b[38;5;66;03m# Load US interest rate data\u001b[39;00m\n\u001b[0;32m     10\u001b[0m t_rates_df \u001b[38;5;241m=\u001b[39m pd\u001b[38;5;241m.\u001b[39mread_csv(\u001b[38;5;124m'\u001b[39m\u001b[38;5;124m../data/daily-treasury-rates.csv\u001b[39m\u001b[38;5;124m'\u001b[39m)\n",
      "File \u001b[1;32md:\\Programming\\sentiment-analysis-volatility-forecasting\\venv\\lib\\site-packages\\pandas\\core\\indexes\\datetimes.py:370\u001b[0m, in \u001b[0;36mDatetimeIndex.__new__\u001b[1;34m(cls, data, freq, tz, normalize, closed, ambiguous, dayfirst, yearfirst, dtype, copy, name)\u001b[0m\n\u001b[0;32m    367\u001b[0m         data \u001b[38;5;241m=\u001b[39m data\u001b[38;5;241m.\u001b[39mcopy()\n\u001b[0;32m    368\u001b[0m     \u001b[38;5;28;01mreturn\u001b[39;00m \u001b[38;5;28mcls\u001b[39m\u001b[38;5;241m.\u001b[39m_simple_new(data, name\u001b[38;5;241m=\u001b[39mname)\n\u001b[1;32m--> 370\u001b[0m dtarr \u001b[38;5;241m=\u001b[39m \u001b[43mDatetimeArray\u001b[49m\u001b[38;5;241;43m.\u001b[39;49m\u001b[43m_from_sequence_not_strict\u001b[49m\u001b[43m(\u001b[49m\n\u001b[0;32m    371\u001b[0m \u001b[43m    \u001b[49m\u001b[43mdata\u001b[49m\u001b[43m,\u001b[49m\n\u001b[0;32m    372\u001b[0m \u001b[43m    \u001b[49m\u001b[43mdtype\u001b[49m\u001b[38;5;241;43m=\u001b[39;49m\u001b[43mdtype\u001b[49m\u001b[43m,\u001b[49m\n\u001b[0;32m    373\u001b[0m \u001b[43m    \u001b[49m\u001b[43mcopy\u001b[49m\u001b[38;5;241;43m=\u001b[39;49m\u001b[43mcopy\u001b[49m\u001b[43m,\u001b[49m\n\u001b[0;32m    374\u001b[0m \u001b[43m    \u001b[49m\u001b[43mtz\u001b[49m\u001b[38;5;241;43m=\u001b[39;49m\u001b[43mtz\u001b[49m\u001b[43m,\u001b[49m\n\u001b[0;32m    375\u001b[0m \u001b[43m    \u001b[49m\u001b[43mfreq\u001b[49m\u001b[38;5;241;43m=\u001b[39;49m\u001b[43mfreq\u001b[49m\u001b[43m,\u001b[49m\n\u001b[0;32m    376\u001b[0m \u001b[43m    \u001b[49m\u001b[43mdayfirst\u001b[49m\u001b[38;5;241;43m=\u001b[39;49m\u001b[43mdayfirst\u001b[49m\u001b[43m,\u001b[49m\n\u001b[0;32m    377\u001b[0m \u001b[43m    \u001b[49m\u001b[43myearfirst\u001b[49m\u001b[38;5;241;43m=\u001b[39;49m\u001b[43myearfirst\u001b[49m\u001b[43m,\u001b[49m\n\u001b[0;32m    378\u001b[0m \u001b[43m    \u001b[49m\u001b[43mambiguous\u001b[49m\u001b[38;5;241;43m=\u001b[39;49m\u001b[43mambiguous\u001b[49m\u001b[43m,\u001b[49m\n\u001b[0;32m    379\u001b[0m \u001b[43m\u001b[49m\u001b[43m)\u001b[49m\n\u001b[0;32m    380\u001b[0m refs \u001b[38;5;241m=\u001b[39m \u001b[38;5;28;01mNone\u001b[39;00m\n\u001b[0;32m    381\u001b[0m \u001b[38;5;28;01mif\u001b[39;00m \u001b[38;5;129;01mnot\u001b[39;00m copy \u001b[38;5;129;01mand\u001b[39;00m \u001b[38;5;28misinstance\u001b[39m(data, (Index, ABCSeries)):\n",
      "File \u001b[1;32md:\\Programming\\sentiment-analysis-volatility-forecasting\\venv\\lib\\site-packages\\pandas\\core\\arrays\\datetimes.py:369\u001b[0m, in \u001b[0;36mDatetimeArray._from_sequence_not_strict\u001b[1;34m(cls, data, dtype, copy, tz, freq, dayfirst, yearfirst, ambiguous)\u001b[0m\n\u001b[0;32m    366\u001b[0m \u001b[38;5;28;01mif\u001b[39;00m \u001b[38;5;28misinstance\u001b[39m(data, DatetimeArray):\n\u001b[0;32m    367\u001b[0m     inferred_freq \u001b[38;5;241m=\u001b[39m data\u001b[38;5;241m.\u001b[39mfreq\n\u001b[1;32m--> 369\u001b[0m subarr, tz \u001b[38;5;241m=\u001b[39m \u001b[43m_sequence_to_dt64\u001b[49m\u001b[43m(\u001b[49m\n\u001b[0;32m    370\u001b[0m \u001b[43m    \u001b[49m\u001b[43mdata\u001b[49m\u001b[43m,\u001b[49m\n\u001b[0;32m    371\u001b[0m \u001b[43m    \u001b[49m\u001b[43mcopy\u001b[49m\u001b[38;5;241;43m=\u001b[39;49m\u001b[43mcopy\u001b[49m\u001b[43m,\u001b[49m\n\u001b[0;32m    372\u001b[0m \u001b[43m    \u001b[49m\u001b[43mtz\u001b[49m\u001b[38;5;241;43m=\u001b[39;49m\u001b[43mtz\u001b[49m\u001b[43m,\u001b[49m\n\u001b[0;32m    373\u001b[0m \u001b[43m    \u001b[49m\u001b[43mdayfirst\u001b[49m\u001b[38;5;241;43m=\u001b[39;49m\u001b[43mdayfirst\u001b[49m\u001b[43m,\u001b[49m\n\u001b[0;32m    374\u001b[0m \u001b[43m    \u001b[49m\u001b[43myearfirst\u001b[49m\u001b[38;5;241;43m=\u001b[39;49m\u001b[43myearfirst\u001b[49m\u001b[43m,\u001b[49m\n\u001b[0;32m    375\u001b[0m \u001b[43m    \u001b[49m\u001b[43mambiguous\u001b[49m\u001b[38;5;241;43m=\u001b[39;49m\u001b[43mambiguous\u001b[49m\u001b[43m,\u001b[49m\n\u001b[0;32m    376\u001b[0m \u001b[43m    \u001b[49m\u001b[43mout_unit\u001b[49m\u001b[38;5;241;43m=\u001b[39;49m\u001b[43munit\u001b[49m\u001b[43m,\u001b[49m\n\u001b[0;32m    377\u001b[0m \u001b[43m\u001b[49m\u001b[43m)\u001b[49m\n\u001b[0;32m    378\u001b[0m \u001b[38;5;66;03m# We have to call this again after possibly inferring a tz above\u001b[39;00m\n\u001b[0;32m    379\u001b[0m _validate_tz_from_dtype(dtype, tz, explicit_tz_none)\n",
      "File \u001b[1;32md:\\Programming\\sentiment-analysis-volatility-forecasting\\venv\\lib\\site-packages\\pandas\\core\\arrays\\datetimes.py:2248\u001b[0m, in \u001b[0;36m_sequence_to_dt64\u001b[1;34m(data, copy, tz, dayfirst, yearfirst, ambiguous, out_unit)\u001b[0m\n\u001b[0;32m   2246\u001b[0m     \u001b[38;5;28;01mreturn\u001b[39;00m result, tz\n\u001b[0;32m   2247\u001b[0m \u001b[38;5;28;01melse\u001b[39;00m:\n\u001b[1;32m-> 2248\u001b[0m     converted, inferred_tz \u001b[38;5;241m=\u001b[39m \u001b[43mobjects_to_datetime64\u001b[49m\u001b[43m(\u001b[49m\n\u001b[0;32m   2249\u001b[0m \u001b[43m        \u001b[49m\u001b[43mdata\u001b[49m\u001b[43m,\u001b[49m\n\u001b[0;32m   2250\u001b[0m \u001b[43m        \u001b[49m\u001b[43mdayfirst\u001b[49m\u001b[38;5;241;43m=\u001b[39;49m\u001b[43mdayfirst\u001b[49m\u001b[43m,\u001b[49m\n\u001b[0;32m   2251\u001b[0m \u001b[43m        \u001b[49m\u001b[43myearfirst\u001b[49m\u001b[38;5;241;43m=\u001b[39;49m\u001b[43myearfirst\u001b[49m\u001b[43m,\u001b[49m\n\u001b[0;32m   2252\u001b[0m \u001b[43m        \u001b[49m\u001b[43mallow_object\u001b[49m\u001b[38;5;241;43m=\u001b[39;49m\u001b[38;5;28;43;01mFalse\u001b[39;49;00m\u001b[43m,\u001b[49m\n\u001b[0;32m   2253\u001b[0m \u001b[43m        \u001b[49m\u001b[43mout_unit\u001b[49m\u001b[38;5;241;43m=\u001b[39;49m\u001b[43mout_unit\u001b[49m\u001b[43m \u001b[49m\u001b[38;5;129;43;01mor\u001b[39;49;00m\u001b[43m \u001b[49m\u001b[38;5;124;43m\"\u001b[39;49m\u001b[38;5;124;43mns\u001b[39;49m\u001b[38;5;124;43m\"\u001b[39;49m\u001b[43m,\u001b[49m\n\u001b[0;32m   2254\u001b[0m \u001b[43m    \u001b[49m\u001b[43m)\u001b[49m\n\u001b[0;32m   2255\u001b[0m     copy \u001b[38;5;241m=\u001b[39m \u001b[38;5;28;01mFalse\u001b[39;00m\n\u001b[0;32m   2256\u001b[0m     \u001b[38;5;28;01mif\u001b[39;00m tz \u001b[38;5;129;01mand\u001b[39;00m inferred_tz:\n\u001b[0;32m   2257\u001b[0m         \u001b[38;5;66;03m#  two timezones: convert to intended from base UTC repr\u001b[39;00m\n\u001b[0;32m   2258\u001b[0m         \u001b[38;5;66;03m# GH#42505 by convention, these are _already_ UTC\u001b[39;00m\n",
      "File \u001b[1;32md:\\Programming\\sentiment-analysis-volatility-forecasting\\venv\\lib\\site-packages\\pandas\\core\\arrays\\datetimes.py:2398\u001b[0m, in \u001b[0;36mobjects_to_datetime64\u001b[1;34m(data, dayfirst, yearfirst, utc, errors, allow_object, out_unit)\u001b[0m\n\u001b[0;32m   2395\u001b[0m \u001b[38;5;66;03m# if str-dtype, convert\u001b[39;00m\n\u001b[0;32m   2396\u001b[0m data \u001b[38;5;241m=\u001b[39m np\u001b[38;5;241m.\u001b[39masarray(data, dtype\u001b[38;5;241m=\u001b[39mnp\u001b[38;5;241m.\u001b[39mobject_)\n\u001b[1;32m-> 2398\u001b[0m result, tz_parsed \u001b[38;5;241m=\u001b[39m \u001b[43mtslib\u001b[49m\u001b[38;5;241;43m.\u001b[39;49m\u001b[43marray_to_datetime\u001b[49m\u001b[43m(\u001b[49m\n\u001b[0;32m   2399\u001b[0m \u001b[43m    \u001b[49m\u001b[43mdata\u001b[49m\u001b[43m,\u001b[49m\n\u001b[0;32m   2400\u001b[0m \u001b[43m    \u001b[49m\u001b[43merrors\u001b[49m\u001b[38;5;241;43m=\u001b[39;49m\u001b[43merrors\u001b[49m\u001b[43m,\u001b[49m\n\u001b[0;32m   2401\u001b[0m \u001b[43m    \u001b[49m\u001b[43mutc\u001b[49m\u001b[38;5;241;43m=\u001b[39;49m\u001b[43mutc\u001b[49m\u001b[43m,\u001b[49m\n\u001b[0;32m   2402\u001b[0m \u001b[43m    \u001b[49m\u001b[43mdayfirst\u001b[49m\u001b[38;5;241;43m=\u001b[39;49m\u001b[43mdayfirst\u001b[49m\u001b[43m,\u001b[49m\n\u001b[0;32m   2403\u001b[0m \u001b[43m    \u001b[49m\u001b[43myearfirst\u001b[49m\u001b[38;5;241;43m=\u001b[39;49m\u001b[43myearfirst\u001b[49m\u001b[43m,\u001b[49m\n\u001b[0;32m   2404\u001b[0m \u001b[43m    \u001b[49m\u001b[43mcreso\u001b[49m\u001b[38;5;241;43m=\u001b[39;49m\u001b[43mabbrev_to_npy_unit\u001b[49m\u001b[43m(\u001b[49m\u001b[43mout_unit\u001b[49m\u001b[43m)\u001b[49m\u001b[43m,\u001b[49m\n\u001b[0;32m   2405\u001b[0m \u001b[43m\u001b[49m\u001b[43m)\u001b[49m\n\u001b[0;32m   2407\u001b[0m \u001b[38;5;28;01mif\u001b[39;00m tz_parsed \u001b[38;5;129;01mis\u001b[39;00m \u001b[38;5;129;01mnot\u001b[39;00m \u001b[38;5;28;01mNone\u001b[39;00m:\n\u001b[0;32m   2408\u001b[0m     \u001b[38;5;66;03m# We can take a shortcut since the datetime64 numpy array\u001b[39;00m\n\u001b[0;32m   2409\u001b[0m     \u001b[38;5;66;03m#  is in UTC\u001b[39;00m\n\u001b[0;32m   2410\u001b[0m     \u001b[38;5;28;01mreturn\u001b[39;00m result, tz_parsed\n",
      "File \u001b[1;32mtslib.pyx:414\u001b[0m, in \u001b[0;36mpandas._libs.tslib.array_to_datetime\u001b[1;34m()\u001b[0m\n",
      "File \u001b[1;32mtslib.pyx:596\u001b[0m, in \u001b[0;36mpandas._libs.tslib.array_to_datetime\u001b[1;34m()\u001b[0m\n",
      "File \u001b[1;32mtslib.pyx:553\u001b[0m, in \u001b[0;36mpandas._libs.tslib.array_to_datetime\u001b[1;34m()\u001b[0m\n",
      "File \u001b[1;32mconversion.pyx:641\u001b[0m, in \u001b[0;36mpandas._libs.tslibs.conversion.convert_str_to_tsobject\u001b[1;34m()\u001b[0m\n",
      "File \u001b[1;32mparsing.pyx:336\u001b[0m, in \u001b[0;36mpandas._libs.tslibs.parsing.parse_datetime_string\u001b[1;34m()\u001b[0m\n",
      "File \u001b[1;32mparsing.pyx:666\u001b[0m, in \u001b[0;36mpandas._libs.tslibs.parsing.dateutil_parse\u001b[1;34m()\u001b[0m\n",
      "\u001b[1;31mDateParseError\u001b[0m: Unknown datetime string format, unable to parse: adjusted_date, at position 1497"
     ]
    }
   ],
   "source": [
    "# Load S&P data\n",
    "prices_df = pd.read_csv('../data/spy_prices.csv')\n",
    "prices_df.index = pd.to_datetime(prices_df['Date'], format='%Y-%m-%d %H:%M:%S%z', utc=True).dt.date\n",
    "\n",
    "# Load Sentiment data\n",
    "sentiment_df = pd.read_csv('../data/nyt_sentiment.csv')\n",
    "sentiment_df.index = pd.DatetimeIndex(sentiment_df['adjusted_date'])\n",
    "\n",
    "# Load US interest rate data\n",
    "t_rates_df = pd.read_csv('../data/daily-treasury-rates.csv')\n",
    "t_rates_df.index = pd.DatetimeIndex(t_rates_df['Date'])\n",
    "t_rates_df = t_rates_df.drop(columns=['Date','Unnamed: 11',\t'Unnamed: 12', '26 WEEKS BANK DISCOUNT', '26 WEEKS COUPON EQUIVALENT'])"
   ]
  },
  {
   "cell_type": "code",
   "execution_count": 13,
   "metadata": {},
   "outputs": [
    {
     "ename": "NameError",
     "evalue": "name 't_rates_df' is not defined",
     "output_type": "error",
     "traceback": [
      "\u001b[1;31m---------------------------------------------------------------------------\u001b[0m",
      "\u001b[1;31mNameError\u001b[0m                                 Traceback (most recent call last)",
      "Cell \u001b[1;32mIn[13], line 10\u001b[0m\n\u001b[0;32m      7\u001b[0m data_with_sentiment[\u001b[38;5;124m'\u001b[39m\u001b[38;5;124mneg_sentiment_diff\u001b[39m\u001b[38;5;124m'\u001b[39m] \u001b[38;5;241m=\u001b[39m data_with_sentiment[\u001b[38;5;124m'\u001b[39m\u001b[38;5;124mmean_neg_sentiment\u001b[39m\u001b[38;5;124m'\u001b[39m] \u001b[38;5;241m-\u001b[39m data_with_sentiment[\u001b[38;5;124m'\u001b[39m\u001b[38;5;124mneg_sentiment_lag1\u001b[39m\u001b[38;5;124m'\u001b[39m]\n\u001b[0;32m      8\u001b[0m data_with_sentiment \u001b[38;5;241m=\u001b[39m data_with_sentiment\u001b[38;5;241m.\u001b[39mdropna()\n\u001b[1;32m---> 10\u001b[0m data_with_sentiment \u001b[38;5;241m=\u001b[39m data_with_sentiment\u001b[38;5;241m.\u001b[39mjoin(\u001b[43mt_rates_df\u001b[49m)\n\u001b[0;32m     11\u001b[0m \u001b[38;5;66;03m# Fill missing i/r data. Missing data is sparse, but might have to investigate.\u001b[39;00m\n\u001b[0;32m     12\u001b[0m data_with_sentiment \u001b[38;5;241m=\u001b[39m data_with_sentiment\u001b[38;5;241m.\u001b[39mffill()\n",
      "\u001b[1;31mNameError\u001b[0m: name 't_rates_df' is not defined"
     ]
    }
   ],
   "source": [
    "# Merge all into one dataframe\n",
    "#vix.index = pd.DatetimeIndex(vix.index.tz_localize(None))\n",
    "data_with_sentiment = prices_df.join(sentiment_df, how='inner')#.join(vix[['VIX Close']], how='left')\n",
    "data_with_sentiment = data_with_sentiment.drop(columns=['Date', 'adjusted_date'])\n",
    "\n",
    "data_with_sentiment['neg_sentiment_lag1'] = data_with_sentiment['mean_neg_sentiment'].shift(1)\n",
    "data_with_sentiment['neg_sentiment_diff'] = data_with_sentiment['mean_neg_sentiment'] - data_with_sentiment['neg_sentiment_lag1']\n",
    "data_with_sentiment = data_with_sentiment.dropna()\n",
    "\n",
    "data_with_sentiment = data_with_sentiment.join(t_rates_df)\n",
    "# Fill missing i/r data. Missing data is sparse, but might have to investigate.\n",
    "data_with_sentiment = data_with_sentiment.ffill()\n",
    "\n",
    "log_returns = data_with_sentiment['log_returns']\n",
    "\n",
    "data_with_sentiment.head()"
   ]
  },
  {
   "cell_type": "markdown",
   "metadata": {},
   "source": [
    "## 2. Fit a baseline GARCH(1,1) model without the exogenous term. "
   ]
  },
  {
   "cell_type": "code",
   "execution_count": 7,
   "metadata": {},
   "outputs": [
    {
     "name": "stdout",
     "output_type": "stream",
     "text": [
      "Optimising...\n",
      "Optimising finished in 1.946s\n",
      "{'omega': 0.03623706316334024, 'alpha': 0.15244767730571898, 'beta': 0.8239142716887397}\n"
     ]
    },
    {
     "data": {
      "application/vnd.microsoft.datawrangler.viewer.v0+json": {
       "columns": [
        {
         "name": "index",
         "rawType": "object",
         "type": "string"
        },
        {
         "name": "coef",
         "rawType": "float64",
         "type": "float"
        },
        {
         "name": "std err",
         "rawType": "float64",
         "type": "float"
        },
        {
         "name": "t",
         "rawType": "float64",
         "type": "float"
        },
        {
         "name": "P>|t|",
         "rawType": "float64",
         "type": "float"
        }
       ],
       "conversionMethod": "pd.DataFrame",
       "ref": "09c25609-a37c-40f2-a9a0-1f363b6ca89a",
       "rows": [
        [
         "omega",
         "0.03623706316334024",
         "0.00976492204417921",
         "3.7109423914900432",
         "0.00010787168534583157"
        ],
        [
         "alpha",
         "0.15244767730571898",
         "0.02316947577314488",
         "6.579677451417222",
         "3.4838291183586515e-11"
        ],
        [
         "beta",
         "0.8239142716887397",
         "0.024031930634586127",
         "34.284148211670676",
         "1.7019652864332842e-181"
        ]
       ],
       "shape": {
        "columns": 4,
        "rows": 3
       }
      },
      "text/html": [
       "<div>\n",
       "<style scoped>\n",
       "    .dataframe tbody tr th:only-of-type {\n",
       "        vertical-align: middle;\n",
       "    }\n",
       "\n",
       "    .dataframe tbody tr th {\n",
       "        vertical-align: top;\n",
       "    }\n",
       "\n",
       "    .dataframe thead th {\n",
       "        text-align: right;\n",
       "    }\n",
       "</style>\n",
       "<table border=\"1\" class=\"dataframe\">\n",
       "  <thead>\n",
       "    <tr style=\"text-align: right;\">\n",
       "      <th></th>\n",
       "      <th>coef</th>\n",
       "      <th>std err</th>\n",
       "      <th>t</th>\n",
       "      <th>P&gt;|t|</th>\n",
       "    </tr>\n",
       "  </thead>\n",
       "  <tbody>\n",
       "    <tr>\n",
       "      <th>omega</th>\n",
       "      <td>0.036237</td>\n",
       "      <td>0.009765</td>\n",
       "      <td>3.710942</td>\n",
       "      <td>1.078717e-04</td>\n",
       "    </tr>\n",
       "    <tr>\n",
       "      <th>alpha</th>\n",
       "      <td>0.152448</td>\n",
       "      <td>0.023169</td>\n",
       "      <td>6.579677</td>\n",
       "      <td>3.483829e-11</td>\n",
       "    </tr>\n",
       "    <tr>\n",
       "      <th>beta</th>\n",
       "      <td>0.823914</td>\n",
       "      <td>0.024032</td>\n",
       "      <td>34.284148</td>\n",
       "      <td>1.701965e-181</td>\n",
       "    </tr>\n",
       "  </tbody>\n",
       "</table>\n",
       "</div>"
      ],
      "text/plain": [
       "           coef   std err          t          P>|t|\n",
       "omega  0.036237  0.009765   3.710942   1.078717e-04\n",
       "alpha  0.152448  0.023169   6.579677   3.483829e-11\n",
       "beta   0.823914  0.024032  34.284148  1.701965e-181"
      ]
     },
     "execution_count": 7,
     "metadata": {},
     "output_type": "execute_result"
    }
   ],
   "source": [
    "garch_baseline = GARCH(p=1, q=1, z=0, verbose=True)\n",
    "garch_baseline.train(100*log_returns)\n",
    "\n",
    "garch_baseline.summary()"
   ]
  },
  {
   "cell_type": "code",
   "execution_count": 8,
   "metadata": {},
   "outputs": [
    {
     "name": "stdout",
     "output_type": "stream",
     "text": [
      "Log likelihood: -1766.938\n"
     ]
    }
   ],
   "source": [
    "baseline_log_like = garch_baseline.loglikelihood\n",
    "print(f\"Log likelihood: {baseline_log_like:.3f}\")"
   ]
  },
  {
   "cell_type": "markdown",
   "metadata": {},
   "source": [
    "## 2. Fit model with the exogenous variables. "
   ]
  },
  {
   "cell_type": "code",
   "execution_count": 9,
   "metadata": {},
   "outputs": [],
   "source": [
    "exo_sentiment = data_with_sentiment[['mean_pos_sentiment',\t'mean_neg_sentiment', 'mean_neutral_sentiment']].to_numpy()"
   ]
  },
  {
   "cell_type": "markdown",
   "metadata": {},
   "source": [
    "#### Try alternative data using PCA since the three sentiments features are correlated.  "
   ]
  },
  {
   "cell_type": "code",
   "execution_count": 10,
   "metadata": {},
   "outputs": [
    {
     "name": "stdout",
     "output_type": "stream",
     "text": [
      "Requirement already satisfied: scikit-learn in d:\\programming\\sentiment-analysis-volatility-forecasting\\venv\\lib\\site-packages (1.6.1)\n",
      "Requirement already satisfied: threadpoolctl>=3.1.0 in d:\\programming\\sentiment-analysis-volatility-forecasting\\venv\\lib\\site-packages (from scikit-learn) (3.5.0)\n",
      "Requirement already satisfied: joblib>=1.2.0 in d:\\programming\\sentiment-analysis-volatility-forecasting\\venv\\lib\\site-packages (from scikit-learn) (1.4.2)\n",
      "Requirement already satisfied: numpy>=1.19.5 in d:\\programming\\sentiment-analysis-volatility-forecasting\\venv\\lib\\site-packages (from scikit-learn) (1.26.3)\n",
      "Requirement already satisfied: scipy>=1.6.0 in d:\\programming\\sentiment-analysis-volatility-forecasting\\venv\\lib\\site-packages (from scikit-learn) (1.13.1)\n"
     ]
    },
    {
     "name": "stderr",
     "output_type": "stream",
     "text": [
      "WARNING: You are using pip version 20.2.3; however, version 25.0.1 is available.\n",
      "You should consider upgrading via the 'd:\\programming\\sentiment-analysis-volatility-forecasting\\venv\\scripts\\python.exe -m pip install --upgrade pip' command.\n"
     ]
    }
   ],
   "source": [
    "# ! pip install scikit-learn\n",
    "# from sklearn.decomposition import PCA\n",
    "\n",
    "# pca = PCA(n_components=1)\n",
    "# pca_exo_sentiment = pca.fit_transform(exo_sentiment)"
   ]
  },
  {
   "cell_type": "code",
   "execution_count": 11,
   "metadata": {},
   "outputs": [
    {
     "name": "stdout",
     "output_type": "stream",
     "text": [
      "Optimising...\n",
      "Optimising finished in 13.238s\n",
      "{'omega': 1.1046467547436256e-06, 'alpha': 0.1650554008369235, 'beta': 0.8032110131541966, 'gamma': array([[1.11526057e-11, 1.81513449e-01, 3.31085876e-02]])}\n"
     ]
    },
    {
     "data": {
      "application/vnd.microsoft.datawrangler.viewer.v0+json": {
       "columns": [
        {
         "name": "index",
         "rawType": "object",
         "type": "string"
        },
        {
         "name": "coef",
         "rawType": "float64",
         "type": "float"
        },
        {
         "name": "std err",
         "rawType": "float64",
         "type": "float"
        },
        {
         "name": "t",
         "rawType": "float64",
         "type": "float"
        },
        {
         "name": "P>|t|",
         "rawType": "float64",
         "type": "float"
        }
       ],
       "conversionMethod": "pd.DataFrame",
       "ref": "5aeba6a7-514b-4b9f-8085-e9257821ab14",
       "rows": [
        [
         "omega",
         "1.1046467547436256e-06",
         "0.10763815891836089",
         "1.026259428667351e-05",
         "0.49999590665269467"
        ],
        [
         "alpha",
         "0.1650554008369235",
         "0.02635011315331513",
         "6.263935182234985",
         "2.5931121112414013e-10"
        ],
        [
         "beta",
         "0.8032110131541966",
         "0.029498979760497868",
         "27.228433650094498",
         "2.3932972910633763e-128"
        ],
        [
         "gamma[0]",
         "1.1152605711578209e-11",
         "0.5956252149424219",
         "1.872420010401392e-11",
         "0.49999999999253164"
        ],
        [
         "gamma[1]",
         "0.1815134493571011",
         "0.23635942554071268",
         "0.767955197648065",
         "0.22133090339776074"
        ],
        [
         "gamma[2]",
         "0.03310858755615344",
         "0.25588940698545554",
         "0.12938631554230492",
         "0.44853660783367355"
        ]
       ],
       "shape": {
        "columns": 4,
        "rows": 6
       }
      },
      "text/html": [
       "<div>\n",
       "<style scoped>\n",
       "    .dataframe tbody tr th:only-of-type {\n",
       "        vertical-align: middle;\n",
       "    }\n",
       "\n",
       "    .dataframe tbody tr th {\n",
       "        vertical-align: top;\n",
       "    }\n",
       "\n",
       "    .dataframe thead th {\n",
       "        text-align: right;\n",
       "    }\n",
       "</style>\n",
       "<table border=\"1\" class=\"dataframe\">\n",
       "  <thead>\n",
       "    <tr style=\"text-align: right;\">\n",
       "      <th></th>\n",
       "      <th>coef</th>\n",
       "      <th>std err</th>\n",
       "      <th>t</th>\n",
       "      <th>P&gt;|t|</th>\n",
       "    </tr>\n",
       "  </thead>\n",
       "  <tbody>\n",
       "    <tr>\n",
       "      <th>omega</th>\n",
       "      <td>1.104647e-06</td>\n",
       "      <td>0.107638</td>\n",
       "      <td>1.026259e-05</td>\n",
       "      <td>4.999959e-01</td>\n",
       "    </tr>\n",
       "    <tr>\n",
       "      <th>alpha</th>\n",
       "      <td>1.650554e-01</td>\n",
       "      <td>0.026350</td>\n",
       "      <td>6.263935e+00</td>\n",
       "      <td>2.593112e-10</td>\n",
       "    </tr>\n",
       "    <tr>\n",
       "      <th>beta</th>\n",
       "      <td>8.032110e-01</td>\n",
       "      <td>0.029499</td>\n",
       "      <td>2.722843e+01</td>\n",
       "      <td>2.393297e-128</td>\n",
       "    </tr>\n",
       "    <tr>\n",
       "      <th>gamma[0]</th>\n",
       "      <td>1.115261e-11</td>\n",
       "      <td>0.595625</td>\n",
       "      <td>1.872420e-11</td>\n",
       "      <td>5.000000e-01</td>\n",
       "    </tr>\n",
       "    <tr>\n",
       "      <th>gamma[1]</th>\n",
       "      <td>1.815134e-01</td>\n",
       "      <td>0.236359</td>\n",
       "      <td>7.679552e-01</td>\n",
       "      <td>2.213309e-01</td>\n",
       "    </tr>\n",
       "    <tr>\n",
       "      <th>gamma[2]</th>\n",
       "      <td>3.310859e-02</td>\n",
       "      <td>0.255889</td>\n",
       "      <td>1.293863e-01</td>\n",
       "      <td>4.485366e-01</td>\n",
       "    </tr>\n",
       "  </tbody>\n",
       "</table>\n",
       "</div>"
      ],
      "text/plain": [
       "                  coef   std err             t          P>|t|\n",
       "omega     1.104647e-06  0.107638  1.026259e-05   4.999959e-01\n",
       "alpha     1.650554e-01  0.026350  6.263935e+00   2.593112e-10\n",
       "beta      8.032110e-01  0.029499  2.722843e+01  2.393297e-128\n",
       "gamma[0]  1.115261e-11  0.595625  1.872420e-11   5.000000e-01\n",
       "gamma[1]  1.815134e-01  0.236359  7.679552e-01   2.213309e-01\n",
       "gamma[2]  3.310859e-02  0.255889  1.293863e-01   4.485366e-01"
      ]
     },
     "execution_count": 11,
     "metadata": {},
     "output_type": "execute_result"
    }
   ],
   "source": [
    "garch_with_sentiment = GARCH(p=1, q=1, z=1, verbose=True)\n",
    "garch_with_sentiment.train(100*log_returns, x=exo_sentiment)\n",
    "\n",
    "garch_with_sentiment.summary()"
   ]
  },
  {
   "cell_type": "code",
   "execution_count": 12,
   "metadata": {},
   "outputs": [
    {
     "name": "stdout",
     "output_type": "stream",
     "text": [
      "Log likelihood: -1765.046\n"
     ]
    }
   ],
   "source": [
    "with_sentiment_log_like = garch_with_sentiment.loglikelihood\n",
    "print(f\"Log likelihood: {with_sentiment_log_like:.3f}\")"
   ]
  },
  {
   "cell_type": "markdown",
   "metadata": {},
   "source": [
    "## 2.2 Fit with only negative sentiment."
   ]
  },
  {
   "cell_type": "code",
   "execution_count": 13,
   "metadata": {},
   "outputs": [],
   "source": [
    "neg_sentiment = data_with_sentiment['mean_neg_sentiment'].to_numpy()#exo_sentiment[:, [1]]\n",
    "#neg_sentiment_normalised = (neg_sentiment - np.mean(neg_sentiment)) / np.var(neg_sentiment)"
   ]
  },
  {
   "cell_type": "markdown",
   "metadata": {},
   "source": [
    "#### Run Ljung-Box test (default lags=10)\n"
   ]
  },
  {
   "cell_type": "code",
   "execution_count": 14,
   "metadata": {},
   "outputs": [],
   "source": [
    "#result = acorr_ljungbox(neg_sentiment, lags=[x for x in range(11)], return_df=True)\n",
    "#print(result)"
   ]
  },
  {
   "cell_type": "markdown",
   "metadata": {},
   "source": [
    "#### Test exogenous data for stationarity\n"
   ]
  },
  {
   "cell_type": "code",
   "execution_count": 15,
   "metadata": {},
   "outputs": [
    {
     "name": "stdout",
     "output_type": "stream",
     "text": [
      "ADF Test for X:\n",
      "ADF Statistic: -4.243249057941488\n",
      "p-value: 0.0005562151981538337\n",
      "Critical Values:\n",
      "   1%: -3.4357748759345768\n",
      "   5%: -2.8639355566269677\n",
      "   10%: -2.5680454348767596\n",
      " The series is stationary (reject H0)\n"
     ]
    }
   ],
   "source": [
    "print(\"ADF Test for X:\")\n",
    "adf_test(neg_sentiment)"
   ]
  },
  {
   "cell_type": "code",
   "execution_count": 16,
   "metadata": {},
   "outputs": [
    {
     "name": "stdout",
     "output_type": "stream",
     "text": [
      "Optimising...\n",
      "Optimising finished in 5.050s\n",
      "{'omega': 0.003168880615102086, 'alpha': 0.16563081648344297, 'beta': 0.8018300421493844, 'gamma': array([[0.19929919]])}\n"
     ]
    }
   ],
   "source": [
    "garch_with_neg_sentiment = GARCH(p=1, q=1, z=1, verbose=True)\n",
    "garch_with_neg_sentiment.train(100*log_returns, x=neg_sentiment)"
   ]
  },
  {
   "cell_type": "code",
   "execution_count": 18,
   "metadata": {},
   "outputs": [
    {
     "data": {
      "application/vnd.microsoft.datawrangler.viewer.v0+json": {
       "columns": [
        {
         "name": "index",
         "rawType": "object",
         "type": "string"
        },
        {
         "name": "coef",
         "rawType": "float64",
         "type": "float"
        },
        {
         "name": "std err",
         "rawType": "float64",
         "type": "float"
        },
        {
         "name": "t",
         "rawType": "float64",
         "type": "float"
        },
        {
         "name": "P>|t|",
         "rawType": "float64",
         "type": "float"
        }
       ],
       "conversionMethod": "pd.DataFrame",
       "ref": "38191730-81bf-4317-9777-edaf7f4495e5",
       "rows": [
        [
         "omega",
         "0.003168880615102086",
         "0.020560839811212303",
         "0.1541221391829541",
         "0.438769409353768"
        ],
        [
         "alpha",
         "0.16563081648344297",
         "0.026192996938198192",
         "6.323477106275592",
         "1.7880382642364351e-10"
        ],
        [
         "beta",
         "0.8018300421493844",
         "0.02922485805620178",
         "27.436576102693124",
         "6.9534457313038914e-130"
        ],
        [
         "gamma[0]",
         "0.19929918994107879",
         "0.11935702128377994",
         "1.669773489631838",
         "0.04760983620219457"
        ]
       ],
       "shape": {
        "columns": 4,
        "rows": 4
       }
      },
      "text/html": [
       "<div>\n",
       "<style scoped>\n",
       "    .dataframe tbody tr th:only-of-type {\n",
       "        vertical-align: middle;\n",
       "    }\n",
       "\n",
       "    .dataframe tbody tr th {\n",
       "        vertical-align: top;\n",
       "    }\n",
       "\n",
       "    .dataframe thead th {\n",
       "        text-align: right;\n",
       "    }\n",
       "</style>\n",
       "<table border=\"1\" class=\"dataframe\">\n",
       "  <thead>\n",
       "    <tr style=\"text-align: right;\">\n",
       "      <th></th>\n",
       "      <th>coef</th>\n",
       "      <th>std err</th>\n",
       "      <th>t</th>\n",
       "      <th>P&gt;|t|</th>\n",
       "    </tr>\n",
       "  </thead>\n",
       "  <tbody>\n",
       "    <tr>\n",
       "      <th>omega</th>\n",
       "      <td>0.003169</td>\n",
       "      <td>0.020561</td>\n",
       "      <td>0.154122</td>\n",
       "      <td>4.387694e-01</td>\n",
       "    </tr>\n",
       "    <tr>\n",
       "      <th>alpha</th>\n",
       "      <td>0.165631</td>\n",
       "      <td>0.026193</td>\n",
       "      <td>6.323477</td>\n",
       "      <td>1.788038e-10</td>\n",
       "    </tr>\n",
       "    <tr>\n",
       "      <th>beta</th>\n",
       "      <td>0.801830</td>\n",
       "      <td>0.029225</td>\n",
       "      <td>27.436576</td>\n",
       "      <td>6.953446e-130</td>\n",
       "    </tr>\n",
       "    <tr>\n",
       "      <th>gamma[0]</th>\n",
       "      <td>0.199299</td>\n",
       "      <td>0.119357</td>\n",
       "      <td>1.669773</td>\n",
       "      <td>4.760984e-02</td>\n",
       "    </tr>\n",
       "  </tbody>\n",
       "</table>\n",
       "</div>"
      ],
      "text/plain": [
       "              coef   std err          t          P>|t|\n",
       "omega     0.003169  0.020561   0.154122   4.387694e-01\n",
       "alpha     0.165631  0.026193   6.323477   1.788038e-10\n",
       "beta      0.801830  0.029225  27.436576  6.953446e-130\n",
       "gamma[0]  0.199299  0.119357   1.669773   4.760984e-02"
      ]
     },
     "execution_count": 18,
     "metadata": {},
     "output_type": "execute_result"
    }
   ],
   "source": [
    "garch_with_neg_sentiment.summary()"
   ]
  },
  {
   "cell_type": "code",
   "execution_count": 19,
   "metadata": {},
   "outputs": [
    {
     "name": "stdout",
     "output_type": "stream",
     "text": [
      "Log likelihood: -1765.046\n"
     ]
    }
   ],
   "source": [
    "with_neg_sentiment_log_like = garch_with_sentiment.loglikelihood\n",
    "print(f\"Log likelihood: {with_neg_sentiment_log_like:.3f}\")"
   ]
  },
  {
   "cell_type": "markdown",
   "metadata": {},
   "source": [
    "## 2.3 Fit with other data."
   ]
  },
  {
   "cell_type": "code",
   "execution_count": 32,
   "metadata": {},
   "outputs": [],
   "source": [
    "rf_data = data_with_sentiment[['4 WEEKS BANK DISCOUNT', 'mean_neg_sentiment']]   # '8 WEEKS BANK DISCOUNT',"
   ]
  },
  {
   "cell_type": "code",
   "execution_count": 33,
   "metadata": {},
   "outputs": [
    {
     "name": "stdout",
     "output_type": "stream",
     "text": [
      "Optimising...\n",
      "Optimising finished in 10.487s\n",
      "{'omega': 0.0015569817707142767, 'alpha': 0.16578033629485042, 'beta': 0.8014779205806908, 'gamma': array([[6.34962711e-07, 2.07599812e-01]])}\n"
     ]
    }
   ],
   "source": [
    "garch_with_neg_sentiment = GARCH(p=1, q=1, z=1, verbose=True)\n",
    "garch_with_neg_sentiment.train(100*log_returns, x=rf_data)"
   ]
  },
  {
   "cell_type": "code",
   "execution_count": 34,
   "metadata": {},
   "outputs": [
    {
     "data": {
      "application/vnd.microsoft.datawrangler.viewer.v0+json": {
       "columns": [
        {
         "name": "index",
         "rawType": "object",
         "type": "string"
        },
        {
         "name": "coef",
         "rawType": "float64",
         "type": "float"
        },
        {
         "name": "std err",
         "rawType": "float64",
         "type": "float"
        },
        {
         "name": "t",
         "rawType": "float64",
         "type": "float"
        },
        {
         "name": "P>|t|",
         "rawType": "float64",
         "type": "float"
        }
       ],
       "conversionMethod": "pd.DataFrame",
       "ref": "5731f2f2-3e10-44e9-ae41-37f738875b4e",
       "rows": [
        [
         "omega",
         "0.0015569817707142767",
         "0.011936446769858777",
         "0.13043930080146438",
         "0.44812014536202005"
        ],
        [
         "alpha",
         "0.16578033629485042",
         "0.03251740832577825",
         "5.098202619162231",
         "1.9845586043054604e-07"
        ],
        [
         "beta",
         "0.8014779205806908",
         "0.034867850288015124",
         "22.9861581359427",
         "8.475966871611767e-98"
        ],
        [
         "gamma[0]",
         "6.349627112702144e-07",
         "0.0005513631625654797",
         "0.0011516233843330195",
         "0.4995406625944093"
        ],
        [
         "gamma[1]",
         "0.20759981183500545",
         "0.05328712672157638",
         "3.895871753786016",
         "5.1568086828130154e-05"
        ]
       ],
       "shape": {
        "columns": 4,
        "rows": 5
       }
      },
      "text/html": [
       "<div>\n",
       "<style scoped>\n",
       "    .dataframe tbody tr th:only-of-type {\n",
       "        vertical-align: middle;\n",
       "    }\n",
       "\n",
       "    .dataframe tbody tr th {\n",
       "        vertical-align: top;\n",
       "    }\n",
       "\n",
       "    .dataframe thead th {\n",
       "        text-align: right;\n",
       "    }\n",
       "</style>\n",
       "<table border=\"1\" class=\"dataframe\">\n",
       "  <thead>\n",
       "    <tr style=\"text-align: right;\">\n",
       "      <th></th>\n",
       "      <th>coef</th>\n",
       "      <th>std err</th>\n",
       "      <th>t</th>\n",
       "      <th>P&gt;|t|</th>\n",
       "    </tr>\n",
       "  </thead>\n",
       "  <tbody>\n",
       "    <tr>\n",
       "      <th>omega</th>\n",
       "      <td>1.556982e-03</td>\n",
       "      <td>0.011936</td>\n",
       "      <td>0.130439</td>\n",
       "      <td>4.481201e-01</td>\n",
       "    </tr>\n",
       "    <tr>\n",
       "      <th>alpha</th>\n",
       "      <td>1.657803e-01</td>\n",
       "      <td>0.032517</td>\n",
       "      <td>5.098203</td>\n",
       "      <td>1.984559e-07</td>\n",
       "    </tr>\n",
       "    <tr>\n",
       "      <th>beta</th>\n",
       "      <td>8.014779e-01</td>\n",
       "      <td>0.034868</td>\n",
       "      <td>22.986158</td>\n",
       "      <td>8.475967e-98</td>\n",
       "    </tr>\n",
       "    <tr>\n",
       "      <th>gamma[0]</th>\n",
       "      <td>6.349627e-07</td>\n",
       "      <td>0.000551</td>\n",
       "      <td>0.001152</td>\n",
       "      <td>4.995407e-01</td>\n",
       "    </tr>\n",
       "    <tr>\n",
       "      <th>gamma[1]</th>\n",
       "      <td>2.075998e-01</td>\n",
       "      <td>0.053287</td>\n",
       "      <td>3.895872</td>\n",
       "      <td>5.156809e-05</td>\n",
       "    </tr>\n",
       "  </tbody>\n",
       "</table>\n",
       "</div>"
      ],
      "text/plain": [
       "                  coef   std err          t         P>|t|\n",
       "omega     1.556982e-03  0.011936   0.130439  4.481201e-01\n",
       "alpha     1.657803e-01  0.032517   5.098203  1.984559e-07\n",
       "beta      8.014779e-01  0.034868  22.986158  8.475967e-98\n",
       "gamma[0]  6.349627e-07  0.000551   0.001152  4.995407e-01\n",
       "gamma[1]  2.075998e-01  0.053287   3.895872  5.156809e-05"
      ]
     },
     "execution_count": 34,
     "metadata": {},
     "output_type": "execute_result"
    }
   ],
   "source": [
    "garch_with_neg_sentiment.summary()"
   ]
  },
  {
   "cell_type": "code",
   "execution_count": 23,
   "metadata": {},
   "outputs": [
    {
     "name": "stdout",
     "output_type": "stream",
     "text": [
      "Log likelihood: -1766.900\n"
     ]
    }
   ],
   "source": [
    "with_neg_sentiment_log_like = garch_with_neg_sentiment.loglikelihood\n",
    "print(f\"Log likelihood: {with_neg_sentiment_log_like:.3f}\")"
   ]
  },
  {
   "cell_type": "code",
   "execution_count": 54,
   "metadata": {},
   "outputs": [
    {
     "data": {
      "text/plain": [
       "0.9625447383437402"
      ]
     },
     "execution_count": 54,
     "metadata": {},
     "output_type": "execute_result"
    }
   ],
   "source": [
    "likelihood_ratio_test(garch_baseline.loglikelihood, \n",
    "                      garch_with_neg_sentiment.loglikelihood, 2)"
   ]
  },
  {
   "cell_type": "markdown",
   "metadata": {},
   "source": [
    "---"
   ]
  },
  {
   "cell_type": "code",
   "execution_count": 15,
   "metadata": {},
   "outputs": [
    {
     "name": "stdout",
     "output_type": "stream",
     "text": [
      "MSE baseline: 509949.092\n",
      "MSE with sentiment: 511752.741\n"
     ]
    }
   ],
   "source": [
    "def mse(actual, pred):\n",
    "    return np.sum((actual-pred) ** 2)\n",
    "\n",
    "mse_baseline = mse(data_with_sentiment['VIX Close'], garch_baseline.sigma2)\n",
    "mse_sentiment = mse(data_with_sentiment['VIX Close'], garch_with_sentiment.sigma2)\n",
    "\n",
    "print(f\"MSE baseline: {mse_baseline:.3f}\")\n",
    "print(f\"MSE with sentiment: {mse_sentiment:.3f}\")"
   ]
  },
  {
   "cell_type": "markdown",
   "metadata": {},
   "source": [
    "## Checking with arch library to make sure we are correct."
   ]
  },
  {
   "cell_type": "code",
   "execution_count": 99,
   "metadata": {},
   "outputs": [],
   "source": [
    "from arch import arch_model\n",
    "\n",
    "model = arch_model(100*log_returns, vol='GARCH', mean='ARX', p=1, q=1)\n",
    "garch_fit = model.fit(disp='off')"
   ]
  },
  {
   "cell_type": "code",
   "execution_count": 100,
   "metadata": {},
   "outputs": [
    {
     "data": {
      "text/html": [
       "<table class=\"simpletable\">\n",
       "<caption>AR - GARCH Model Results</caption>\n",
       "<tr>\n",
       "  <th>Dep. Variable:</th>     <td>log_returns</td>    <th>  R-squared:         </th>  <td>   0.000</td> \n",
       "</tr>\n",
       "<tr>\n",
       "  <th>Mean Model:</th>            <td>AR</td>         <th>  Adj. R-squared:    </th>  <td>   0.000</td> \n",
       "</tr>\n",
       "<tr>\n",
       "  <th>Vol Model:</th>            <td>GARCH</td>       <th>  Log-Likelihood:    </th> <td>  -1766.91</td>\n",
       "</tr>\n",
       "<tr>\n",
       "  <th>Distribution:</th>        <td>Normal</td>       <th>  AIC:               </th> <td>   3541.82</td>\n",
       "</tr>\n",
       "<tr>\n",
       "  <th>Method:</th>        <td>Maximum Likelihood</td> <th>  BIC:               </th> <td>   3562.27</td>\n",
       "</tr>\n",
       "<tr>\n",
       "  <th></th>                        <td></td>          <th>  No. Observations:  </th>    <td>1229</td>   \n",
       "</tr>\n",
       "<tr>\n",
       "  <th>Date:</th>           <td>Sat, Mar 01 2025</td>  <th>  Df Residuals:      </th>    <td>1228</td>   \n",
       "</tr>\n",
       "<tr>\n",
       "  <th>Time:</th>               <td>05:23:16</td>      <th>  Df Model:          </th>      <td>1</td>    \n",
       "</tr>\n",
       "</table>\n",
       "<table class=\"simpletable\">\n",
       "<caption>Mean Model</caption>\n",
       "<tr>\n",
       "    <td></td>       <th>coef</th>     <th>std err</th>      <th>t</th>       <th>P>|t|</th>    <th>95.0% Conf. Int.</th>  \n",
       "</tr>\n",
       "<tr>\n",
       "  <th>Const</th> <td>    0.0974</td> <td>2.528e-02</td> <td>    3.854</td> <td>1.163e-04</td> <td>[4.788e-02,  0.147]</td>\n",
       "</tr>\n",
       "</table>\n",
       "<table class=\"simpletable\">\n",
       "<caption>Volatility Model</caption>\n",
       "<tr>\n",
       "      <td></td>        <th>coef</th>     <th>std err</th>      <th>t</th>        <th>P>|t|</th>     <th>95.0% Conf. Int.</th>   \n",
       "</tr>\n",
       "<tr>\n",
       "  <th>omega</th>    <td>    0.0359</td> <td>1.396e-02</td> <td>    2.569</td>  <td>1.020e-02</td> <td>[8.504e-03,6.323e-02]</td>\n",
       "</tr>\n",
       "<tr>\n",
       "  <th>alpha[1]</th> <td>    0.1567</td> <td>3.461e-02</td> <td>    4.527</td>  <td>5.980e-06</td>  <td>[8.886e-02,  0.225]</td> \n",
       "</tr>\n",
       "<tr>\n",
       "  <th>beta[1]</th>  <td>    0.8226</td> <td>3.520e-02</td> <td>   23.368</td> <td>9.138e-121</td>   <td>[  0.754,  0.892]</td>  \n",
       "</tr>\n",
       "</table><br/><br/>Covariance estimator: robust"
      ],
      "text/latex": [
       "\\begin{center}\n",
       "\\begin{tabular}{lclc}\n",
       "\\toprule\n",
       "\\textbf{Dep. Variable:} &    log\\_returns    & \\textbf{  R-squared:         } &     0.000   \\\\\n",
       "\\textbf{Mean Model:}    &         AR         & \\textbf{  Adj. R-squared:    } &     0.000   \\\\\n",
       "\\textbf{Vol Model:}     &       GARCH        & \\textbf{  Log-Likelihood:    } &   -1766.91  \\\\\n",
       "\\textbf{Distribution:}  &       Normal       & \\textbf{  AIC:               } &    3541.82  \\\\\n",
       "\\textbf{Method:}        & Maximum Likelihood & \\textbf{  BIC:               } &    3562.27  \\\\\n",
       "\\textbf{}               &                    & \\textbf{  No. Observations:  } &    1229     \\\\\n",
       "\\textbf{Date:}          &  Sat, Mar 01 2025  & \\textbf{  Df Residuals:      } &    1228     \\\\\n",
       "\\textbf{Time:}          &      05:23:16      & \\textbf{  Df Model:          } &     1       \\\\\n",
       "\\bottomrule\n",
       "\\end{tabular}\n",
       "\\begin{tabular}{lccccc}\n",
       "               & \\textbf{coef} & \\textbf{std err} & \\textbf{t} & \\textbf{P$> |$t$|$} & \\textbf{95.0\\% Conf. Int.}  \\\\\n",
       "\\midrule\n",
       "\\textbf{Const} &       0.0974  &    2.528e-02     &     3.854  &      1.163e-04       &    [4.788e-02,  0.147]      \\\\\n",
       "                  & \\textbf{coef} & \\textbf{std err} & \\textbf{t} & \\textbf{P$> |$t$|$} & \\textbf{95.0\\% Conf. Int.}  \\\\\n",
       "\\midrule\n",
       "\\textbf{omega}    &       0.0359  &    1.396e-02     &     2.569  &      1.020e-02       &   [8.504e-03,6.323e-02]     \\\\\n",
       "\\textbf{alpha[1]} &       0.1567  &    3.461e-02     &     4.527  &      5.980e-06       &    [8.886e-02,  0.225]      \\\\\n",
       "\\textbf{beta[1]}  &       0.8226  &    3.520e-02     &    23.368  &      9.138e-121      &     [  0.754,  0.892]       \\\\\n",
       "\\bottomrule\n",
       "\\end{tabular}\n",
       "%\\caption{AR - GARCH Model Results}\n",
       "\\end{center}\n",
       "\n",
       "Covariance estimator: robust"
      ],
      "text/plain": [
       "<class 'statsmodels.iolib.summary.Summary'>\n",
       "\"\"\"\n",
       "                           AR - GARCH Model Results                           \n",
       "==============================================================================\n",
       "Dep. Variable:            log_returns   R-squared:                       0.000\n",
       "Mean Model:                        AR   Adj. R-squared:                  0.000\n",
       "Vol Model:                      GARCH   Log-Likelihood:               -1766.91\n",
       "Distribution:                  Normal   AIC:                           3541.82\n",
       "Method:            Maximum Likelihood   BIC:                           3562.27\n",
       "                                        No. Observations:                 1229\n",
       "Date:                Sat, Mar 01 2025   Df Residuals:                     1228\n",
       "Time:                        05:23:16   Df Model:                            1\n",
       "                                Mean Model                                \n",
       "==========================================================================\n",
       "                 coef    std err          t      P>|t|    95.0% Conf. Int.\n",
       "--------------------------------------------------------------------------\n",
       "Const          0.0974  2.528e-02      3.854  1.163e-04 [4.788e-02,  0.147]\n",
       "                              Volatility Model                              \n",
       "============================================================================\n",
       "                 coef    std err          t      P>|t|      95.0% Conf. Int.\n",
       "----------------------------------------------------------------------------\n",
       "omega          0.0359  1.396e-02      2.569  1.020e-02 [8.504e-03,6.323e-02]\n",
       "alpha[1]       0.1567  3.461e-02      4.527  5.980e-06   [8.886e-02,  0.225]\n",
       "beta[1]        0.8226  3.520e-02     23.368 9.138e-121     [  0.754,  0.892]\n",
       "============================================================================\n",
       "\n",
       "Covariance estimator: robust\n",
       "\"\"\""
      ]
     },
     "execution_count": 100,
     "metadata": {},
     "output_type": "execute_result"
    }
   ],
   "source": [
    "garch_fit.summary()"
   ]
  }
 ],
 "metadata": {
  "kernelspec": {
   "display_name": "venv",
   "language": "python",
   "name": "python3"
  },
  "language_info": {
   "codemirror_mode": {
    "name": "ipython",
    "version": 3
   },
   "file_extension": ".py",
   "mimetype": "text/x-python",
   "name": "python",
   "nbconvert_exporter": "python",
   "pygments_lexer": "ipython3",
   "version": "3.9.0"
  }
 },
 "nbformat": 4,
 "nbformat_minor": 2
}
