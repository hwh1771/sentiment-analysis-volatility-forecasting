{
 "cells": [
  {
   "cell_type": "code",
   "execution_count": 1,
   "metadata": {},
   "outputs": [
    {
     "name": "stderr",
     "output_type": "stream",
     "text": [
      "d:\\Programming\\sentiment-analysis-volatility-forecasting\\venv\\lib\\site-packages\\tqdm\\auto.py:21: TqdmWarning: IProgress not found. Please update jupyter and ipywidgets. See https://ipywidgets.readthedocs.io/en/stable/user_install.html\n",
      "  from .autonotebook import tqdm as notebook_tqdm\n"
     ]
    }
   ],
   "source": [
    "from transformers import AutoTokenizer, AutoModelForSequenceClassification\n",
    "from torch import nn\n",
    "\n",
    "import numpy as np\n",
    "import pandas as pd"
   ]
  },
  {
   "cell_type": "code",
   "execution_count": 2,
   "metadata": {},
   "outputs": [],
   "source": [
    "pd.set_option('display.max_colwidth', None)"
   ]
  },
  {
   "cell_type": "code",
   "execution_count": 3,
   "metadata": {},
   "outputs": [
    {
     "name": "stderr",
     "output_type": "stream",
     "text": [
      "d:\\Programming\\sentiment-analysis-volatility-forecasting\\venv\\lib\\site-packages\\transformers\\tokenization_utils_base.py:1601: FutureWarning: `clean_up_tokenization_spaces` was not set. It will be set to `True` by default. This behavior will be depracted in transformers v4.45, and will be then set to `False` by default. For more details check this issue: https://github.com/huggingface/transformers/issues/31884\n",
      "  warnings.warn(\n"
     ]
    }
   ],
   "source": [
    "tokenizer = AutoTokenizer.from_pretrained(\"ProsusAI/finbert\")\n",
    "model = AutoModelForSequenceClassification.from_pretrained(\"ProsusAI/finbert\")"
   ]
  },
  {
   "cell_type": "code",
   "execution_count": 4,
   "metadata": {},
   "outputs": [],
   "source": [
    "test_string = \"\"\"Stocks\"\"\""
   ]
  },
  {
   "cell_type": "code",
   "execution_count": 5,
   "metadata": {},
   "outputs": [
    {
     "name": "stdout",
     "output_type": "stream",
     "text": [
      "[0.04868224 0.05188207 0.8994357 ]\n"
     ]
    }
   ],
   "source": [
    "inputs = tokenizer(test_string, return_tensors='pt', padding=True)\n",
    "logits = model(**inputs)[0]\n",
    "\n",
    "# Convert logits to softmax probabilities.\n",
    "probabilities = nn.functional.softmax(logits, dim=-1)\n",
    "\n",
    "# The probability labels are 'positive', 'negative', 'neutral' (NEED TO CONFIRM)\n",
    "\n",
    "print(probabilities.detach().numpy().reshape((3,)))"
   ]
  },
  {
   "cell_type": "code",
   "execution_count": 6,
   "metadata": {},
   "outputs": [],
   "source": [
    "def generate_sentiment_values(text: str) -> list[float]:\n",
    "    inputs = tokenizer(text, return_tensors='pt', padding=True)\n",
    "    logits = model(**inputs)[0]\n",
    "\n",
    "    # Convert logits to softmax probabilities.\n",
    "    probabilities = nn.functional.softmax(logits, dim=-1)\n",
    "\n",
    "    # The probability labels are 'positive', 'negative', 'neutral' (NEED TO CONFIRM)\n",
    "    return probabilities.detach().numpy().reshape((3,))"
   ]
  },
  {
   "cell_type": "markdown",
   "metadata": {},
   "source": [
    "### Finbert on NYTimes news"
   ]
  },
  {
   "cell_type": "code",
   "execution_count": 7,
   "metadata": {},
   "outputs": [
    {
     "data": {
      "text/html": [
       "<div>\n",
       "<style scoped>\n",
       "    .dataframe tbody tr th:only-of-type {\n",
       "        vertical-align: middle;\n",
       "    }\n",
       "\n",
       "    .dataframe tbody tr th {\n",
       "        vertical-align: top;\n",
       "    }\n",
       "\n",
       "    .dataframe thead th {\n",
       "        text-align: right;\n",
       "    }\n",
       "</style>\n",
       "<table border=\"1\" class=\"dataframe\">\n",
       "  <thead>\n",
       "    <tr style=\"text-align: right;\">\n",
       "      <th></th>\n",
       "      <th>timestamp</th>\n",
       "      <th>article_url</th>\n",
       "      <th>lead_paragraph</th>\n",
       "      <th>abstract</th>\n",
       "      <th>adjusted_date</th>\n",
       "    </tr>\n",
       "  </thead>\n",
       "  <tbody>\n",
       "    <tr>\n",
       "      <th>0</th>\n",
       "      <td>2023-08-18 16:14:19+00:00</td>\n",
       "      <td>https://www.nytimes.com/interactive/2023/08/18/business/irs-cash-influx-staff.html</td>\n",
       "      <td>New funding has helped the I.R.S. increase staffing, but the agency faces an uncertain future.</td>\n",
       "      <td>New funding has helped the I.R.S. increase staffing, but the agency faces an uncertain future.</td>\n",
       "      <td>2023-08-19</td>\n",
       "    </tr>\n",
       "    <tr>\n",
       "      <th>1</th>\n",
       "      <td>2023-08-18 11:55:07+00:00</td>\n",
       "      <td>https://www.nytimes.com/2023/08/18/business/interest-rates-markets-tech-slump.html</td>\n",
       "      <td>In the span of a month, the bottom has dropped out of the bull-market rally as investors have come to grips with the prospect of “higher for longer” interest rates worldwide. The sell-off in global stocks and bonds picked up steam on Thursday. And weary market watchers will be looking for more hints on the Fed’s view at next week’s Jackson Hole summit of central bankers and policymakers.</td>\n",
       "      <td>Apple, Nvidia, Tesla and Microsoft are among the giants that have tumbled by at least 10 percent in the past month after powering a market rally earlier this year.</td>\n",
       "      <td>2023-08-18</td>\n",
       "    </tr>\n",
       "    <tr>\n",
       "      <th>2</th>\n",
       "      <td>2023-08-18 09:00:02+00:00</td>\n",
       "      <td>https://www.nytimes.com/interactive/2023/08/18/business/shoptalk-peak-china.html</td>\n",
       "      <td>The concept that China has reached the pinnacle of its economic power is hotly debated.</td>\n",
       "      <td>The concept that China has reached the pinnacle of its economic power is hotly debated.</td>\n",
       "      <td>2023-08-18</td>\n",
       "    </tr>\n",
       "    <tr>\n",
       "      <th>3</th>\n",
       "      <td>2023-08-18 08:06:58+00:00</td>\n",
       "      <td>https://www.nytimes.com/2023/08/18/business/hong-kong-stocks-bear-market.html</td>\n",
       "      <td>Stocks in Hong Kong entered a bear market on Friday, down 21 percent from their high near the start of the year, as investors around the world grew increasingly worried that the deteriorating condition of China’s real estate sector could spill over into the broader economy.</td>\n",
       "      <td>The Hang Seng Index has fallen more than 20 percent from its recent high, as investors grow more pessimistic about China’s post-pandemic recovery.</td>\n",
       "      <td>2023-08-18</td>\n",
       "    </tr>\n",
       "    <tr>\n",
       "      <th>4</th>\n",
       "      <td>2023-08-18 04:01:21+00:00</td>\n",
       "      <td>https://www.nytimes.com/2023/08/18/business/indonesia-nickel-china-us.html</td>\n",
       "      <td>He is known as the Minister for Everything. From the government offices of Indonesia’s capital to dusty mines on remote islands, Luhut Binsar Pandjaitan commands authority as the nation’s essential power broker.</td>\n",
       "      <td>The fate of Indonesia’s unrivaled stocks of nickel — a critical mineral used to make batteries for electric vehicles — is caught in the conflict between the United States and China.</td>\n",
       "      <td>2023-08-18</td>\n",
       "    </tr>\n",
       "  </tbody>\n",
       "</table>\n",
       "</div>"
      ],
      "text/plain": [
       "                   timestamp  \\\n",
       "0  2023-08-18 16:14:19+00:00   \n",
       "1  2023-08-18 11:55:07+00:00   \n",
       "2  2023-08-18 09:00:02+00:00   \n",
       "3  2023-08-18 08:06:58+00:00   \n",
       "4  2023-08-18 04:01:21+00:00   \n",
       "\n",
       "                                                                          article_url  \\\n",
       "0  https://www.nytimes.com/interactive/2023/08/18/business/irs-cash-influx-staff.html   \n",
       "1  https://www.nytimes.com/2023/08/18/business/interest-rates-markets-tech-slump.html   \n",
       "2    https://www.nytimes.com/interactive/2023/08/18/business/shoptalk-peak-china.html   \n",
       "3       https://www.nytimes.com/2023/08/18/business/hong-kong-stocks-bear-market.html   \n",
       "4          https://www.nytimes.com/2023/08/18/business/indonesia-nickel-china-us.html   \n",
       "\n",
       "                                                                                                                                                                                                                                                                                                                                                                                           lead_paragraph  \\\n",
       "0                                                                                                                                                                                                                                                                                                          New funding has helped the I.R.S. increase staffing, but the agency faces an uncertain future.   \n",
       "1  In the span of a month, the bottom has dropped out of the bull-market rally as investors have come to grips with the prospect of “higher for longer” interest rates worldwide. The sell-off in global stocks and bonds picked up steam on Thursday. And weary market watchers will be looking for more hints on the Fed’s view at next week’s Jackson Hole summit of central bankers and policymakers.   \n",
       "2                                                                                                                                                                                                                                                                                                                 The concept that China has reached the pinnacle of its economic power is hotly debated.   \n",
       "3                                                                                                                      Stocks in Hong Kong entered a bear market on Friday, down 21 percent from their high near the start of the year, as investors around the world grew increasingly worried that the deteriorating condition of China’s real estate sector could spill over into the broader economy.   \n",
       "4                                                                                                                                                                                     He is known as the Minister for Everything. From the government offices of Indonesia’s capital to dusty mines on remote islands, Luhut Binsar Pandjaitan commands authority as the nation’s essential power broker.   \n",
       "\n",
       "                                                                                                                                                                                abstract  \\\n",
       "0                                                                                         New funding has helped the I.R.S. increase staffing, but the agency faces an uncertain future.   \n",
       "1                    Apple, Nvidia, Tesla and Microsoft are among the giants that have tumbled by at least 10 percent in the past month after powering a market rally earlier this year.   \n",
       "2                                                                                                The concept that China has reached the pinnacle of its economic power is hotly debated.   \n",
       "3                                     The Hang Seng Index has fallen more than 20 percent from its recent high, as investors grow more pessimistic about China’s post-pandemic recovery.   \n",
       "4  The fate of Indonesia’s unrivaled stocks of nickel — a critical mineral used to make batteries for electric vehicles — is caught in the conflict between the United States and China.   \n",
       "\n",
       "  adjusted_date  \n",
       "0    2023-08-19  \n",
       "1    2023-08-18  \n",
       "2    2023-08-18  \n",
       "3    2023-08-18  \n",
       "4    2023-08-18  "
      ]
     },
     "execution_count": 7,
     "metadata": {},
     "output_type": "execute_result"
    }
   ],
   "source": [
    "df = pd.read_csv('../data/nyt_headlines_2.csv')\n",
    "df.head()"
   ]
  },
  {
   "cell_type": "code",
   "execution_count": 8,
   "metadata": {},
   "outputs": [],
   "source": [
    "for i, row in df.iterrows():\n",
    "    combined_str = str(row['lead_paragraph']) + ' ' + str(row['abstract'])\n",
    "    output = generate_sentiment_values(combined_str)\n",
    "    df.at[i, 'pos_sentiment'] = output[0]\n",
    "    df.at[i, 'neg_sentiment'] = output[1]\n",
    "    df.at[i, 'neutral_sentiment'] = output[2]"
   ]
  },
  {
   "cell_type": "code",
   "execution_count": 9,
   "metadata": {},
   "outputs": [
    {
     "data": {
      "text/html": [
       "<div>\n",
       "<style scoped>\n",
       "    .dataframe tbody tr th:only-of-type {\n",
       "        vertical-align: middle;\n",
       "    }\n",
       "\n",
       "    .dataframe tbody tr th {\n",
       "        vertical-align: top;\n",
       "    }\n",
       "\n",
       "    .dataframe thead th {\n",
       "        text-align: right;\n",
       "    }\n",
       "</style>\n",
       "<table border=\"1\" class=\"dataframe\">\n",
       "  <thead>\n",
       "    <tr style=\"text-align: right;\">\n",
       "      <th></th>\n",
       "      <th>timestamp</th>\n",
       "      <th>article_url</th>\n",
       "      <th>lead_paragraph</th>\n",
       "      <th>abstract</th>\n",
       "      <th>adjusted_date</th>\n",
       "      <th>pos_sentiment</th>\n",
       "      <th>neg_sentiment</th>\n",
       "      <th>neutral_sentiment</th>\n",
       "    </tr>\n",
       "  </thead>\n",
       "  <tbody>\n",
       "    <tr>\n",
       "      <th>0</th>\n",
       "      <td>2023-08-18 16:14:19+00:00</td>\n",
       "      <td>https://www.nytimes.com/interactive/2023/08/18/business/irs-cash-influx-staff.html</td>\n",
       "      <td>New funding has helped the I.R.S. increase staffing, but the agency faces an uncertain future.</td>\n",
       "      <td>New funding has helped the I.R.S. increase staffing, but the agency faces an uncertain future.</td>\n",
       "      <td>2023-08-19</td>\n",
       "      <td>0.747801</td>\n",
       "      <td>0.153354</td>\n",
       "      <td>0.098845</td>\n",
       "    </tr>\n",
       "    <tr>\n",
       "      <th>1</th>\n",
       "      <td>2023-08-18 11:55:07+00:00</td>\n",
       "      <td>https://www.nytimes.com/2023/08/18/business/interest-rates-markets-tech-slump.html</td>\n",
       "      <td>In the span of a month, the bottom has dropped out of the bull-market rally as investors have come to grips with the prospect of “higher for longer” interest rates worldwide. The sell-off in global stocks and bonds picked up steam on Thursday. And weary market watchers will be looking for more hints on the Fed’s view at next week’s Jackson Hole summit of central bankers and policymakers.</td>\n",
       "      <td>Apple, Nvidia, Tesla and Microsoft are among the giants that have tumbled by at least 10 percent in the past month after powering a market rally earlier this year.</td>\n",
       "      <td>2023-08-18</td>\n",
       "      <td>0.018421</td>\n",
       "      <td>0.950249</td>\n",
       "      <td>0.031330</td>\n",
       "    </tr>\n",
       "    <tr>\n",
       "      <th>2</th>\n",
       "      <td>2023-08-18 09:00:02+00:00</td>\n",
       "      <td>https://www.nytimes.com/interactive/2023/08/18/business/shoptalk-peak-china.html</td>\n",
       "      <td>The concept that China has reached the pinnacle of its economic power is hotly debated.</td>\n",
       "      <td>The concept that China has reached the pinnacle of its economic power is hotly debated.</td>\n",
       "      <td>2023-08-18</td>\n",
       "      <td>0.043680</td>\n",
       "      <td>0.099582</td>\n",
       "      <td>0.856738</td>\n",
       "    </tr>\n",
       "    <tr>\n",
       "      <th>3</th>\n",
       "      <td>2023-08-18 08:06:58+00:00</td>\n",
       "      <td>https://www.nytimes.com/2023/08/18/business/hong-kong-stocks-bear-market.html</td>\n",
       "      <td>Stocks in Hong Kong entered a bear market on Friday, down 21 percent from their high near the start of the year, as investors around the world grew increasingly worried that the deteriorating condition of China’s real estate sector could spill over into the broader economy.</td>\n",
       "      <td>The Hang Seng Index has fallen more than 20 percent from its recent high, as investors grow more pessimistic about China’s post-pandemic recovery.</td>\n",
       "      <td>2023-08-18</td>\n",
       "      <td>0.007548</td>\n",
       "      <td>0.974413</td>\n",
       "      <td>0.018039</td>\n",
       "    </tr>\n",
       "    <tr>\n",
       "      <th>4</th>\n",
       "      <td>2023-08-18 04:01:21+00:00</td>\n",
       "      <td>https://www.nytimes.com/2023/08/18/business/indonesia-nickel-china-us.html</td>\n",
       "      <td>He is known as the Minister for Everything. From the government offices of Indonesia’s capital to dusty mines on remote islands, Luhut Binsar Pandjaitan commands authority as the nation’s essential power broker.</td>\n",
       "      <td>The fate of Indonesia’s unrivaled stocks of nickel — a critical mineral used to make batteries for electric vehicles — is caught in the conflict between the United States and China.</td>\n",
       "      <td>2023-08-18</td>\n",
       "      <td>0.054345</td>\n",
       "      <td>0.137765</td>\n",
       "      <td>0.807891</td>\n",
       "    </tr>\n",
       "  </tbody>\n",
       "</table>\n",
       "</div>"
      ],
      "text/plain": [
       "                   timestamp  \\\n",
       "0  2023-08-18 16:14:19+00:00   \n",
       "1  2023-08-18 11:55:07+00:00   \n",
       "2  2023-08-18 09:00:02+00:00   \n",
       "3  2023-08-18 08:06:58+00:00   \n",
       "4  2023-08-18 04:01:21+00:00   \n",
       "\n",
       "                                                                          article_url  \\\n",
       "0  https://www.nytimes.com/interactive/2023/08/18/business/irs-cash-influx-staff.html   \n",
       "1  https://www.nytimes.com/2023/08/18/business/interest-rates-markets-tech-slump.html   \n",
       "2    https://www.nytimes.com/interactive/2023/08/18/business/shoptalk-peak-china.html   \n",
       "3       https://www.nytimes.com/2023/08/18/business/hong-kong-stocks-bear-market.html   \n",
       "4          https://www.nytimes.com/2023/08/18/business/indonesia-nickel-china-us.html   \n",
       "\n",
       "                                                                                                                                                                                                                                                                                                                                                                                           lead_paragraph  \\\n",
       "0                                                                                                                                                                                                                                                                                                          New funding has helped the I.R.S. increase staffing, but the agency faces an uncertain future.   \n",
       "1  In the span of a month, the bottom has dropped out of the bull-market rally as investors have come to grips with the prospect of “higher for longer” interest rates worldwide. The sell-off in global stocks and bonds picked up steam on Thursday. And weary market watchers will be looking for more hints on the Fed’s view at next week’s Jackson Hole summit of central bankers and policymakers.   \n",
       "2                                                                                                                                                                                                                                                                                                                 The concept that China has reached the pinnacle of its economic power is hotly debated.   \n",
       "3                                                                                                                      Stocks in Hong Kong entered a bear market on Friday, down 21 percent from their high near the start of the year, as investors around the world grew increasingly worried that the deteriorating condition of China’s real estate sector could spill over into the broader economy.   \n",
       "4                                                                                                                                                                                     He is known as the Minister for Everything. From the government offices of Indonesia’s capital to dusty mines on remote islands, Luhut Binsar Pandjaitan commands authority as the nation’s essential power broker.   \n",
       "\n",
       "                                                                                                                                                                                abstract  \\\n",
       "0                                                                                         New funding has helped the I.R.S. increase staffing, but the agency faces an uncertain future.   \n",
       "1                    Apple, Nvidia, Tesla and Microsoft are among the giants that have tumbled by at least 10 percent in the past month after powering a market rally earlier this year.   \n",
       "2                                                                                                The concept that China has reached the pinnacle of its economic power is hotly debated.   \n",
       "3                                     The Hang Seng Index has fallen more than 20 percent from its recent high, as investors grow more pessimistic about China’s post-pandemic recovery.   \n",
       "4  The fate of Indonesia’s unrivaled stocks of nickel — a critical mineral used to make batteries for electric vehicles — is caught in the conflict between the United States and China.   \n",
       "\n",
       "  adjusted_date  pos_sentiment  neg_sentiment  neutral_sentiment  \n",
       "0    2023-08-19       0.747801       0.153354           0.098845  \n",
       "1    2023-08-18       0.018421       0.950249           0.031330  \n",
       "2    2023-08-18       0.043680       0.099582           0.856738  \n",
       "3    2023-08-18       0.007548       0.974413           0.018039  \n",
       "4    2023-08-18       0.054345       0.137765           0.807891  "
      ]
     },
     "execution_count": 9,
     "metadata": {},
     "output_type": "execute_result"
    }
   ],
   "source": [
    "df.head()"
   ]
  },
  {
   "cell_type": "code",
   "execution_count": 10,
   "metadata": {},
   "outputs": [],
   "source": [
    "df.to_csv('../data/nyt_sentiment_2.csv', index=False)"
   ]
  },
  {
   "cell_type": "code",
   "execution_count": 12,
   "metadata": {},
   "outputs": [
    {
     "data": {
      "text/html": [
       "<div>\n",
       "<style scoped>\n",
       "    .dataframe tbody tr th:only-of-type {\n",
       "        vertical-align: middle;\n",
       "    }\n",
       "\n",
       "    .dataframe tbody tr th {\n",
       "        vertical-align: top;\n",
       "    }\n",
       "\n",
       "    .dataframe thead th {\n",
       "        text-align: right;\n",
       "    }\n",
       "</style>\n",
       "<table border=\"1\" class=\"dataframe\">\n",
       "  <thead>\n",
       "    <tr style=\"text-align: right;\">\n",
       "      <th></th>\n",
       "      <th>adjusted_date</th>\n",
       "      <th>mean_pos_sentiment</th>\n",
       "      <th>mean_neg_sentiment</th>\n",
       "      <th>mean_neutral_sentiment</th>\n",
       "    </tr>\n",
       "  </thead>\n",
       "  <tbody>\n",
       "    <tr>\n",
       "      <th>0</th>\n",
       "      <td>2023-08-18</td>\n",
       "      <td>0.029191</td>\n",
       "      <td>0.620925</td>\n",
       "      <td>0.349884</td>\n",
       "    </tr>\n",
       "    <tr>\n",
       "      <th>1</th>\n",
       "      <td>2023-08-19</td>\n",
       "      <td>0.747801</td>\n",
       "      <td>0.153354</td>\n",
       "      <td>0.098845</td>\n",
       "    </tr>\n",
       "    <tr>\n",
       "      <th>2</th>\n",
       "      <td>2023-08-21</td>\n",
       "      <td>0.125991</td>\n",
       "      <td>0.345267</td>\n",
       "      <td>0.528741</td>\n",
       "    </tr>\n",
       "    <tr>\n",
       "      <th>3</th>\n",
       "      <td>2023-08-22</td>\n",
       "      <td>0.297633</td>\n",
       "      <td>0.321896</td>\n",
       "      <td>0.380470</td>\n",
       "    </tr>\n",
       "    <tr>\n",
       "      <th>4</th>\n",
       "      <td>2023-08-23</td>\n",
       "      <td>0.049287</td>\n",
       "      <td>0.607605</td>\n",
       "      <td>0.343108</td>\n",
       "    </tr>\n",
       "  </tbody>\n",
       "</table>\n",
       "</div>"
      ],
      "text/plain": [
       "  adjusted_date  mean_pos_sentiment  mean_neg_sentiment  \\\n",
       "0    2023-08-18            0.029191            0.620925   \n",
       "1    2023-08-19            0.747801            0.153354   \n",
       "2    2023-08-21            0.125991            0.345267   \n",
       "3    2023-08-22            0.297633            0.321896   \n",
       "4    2023-08-23            0.049287            0.607605   \n",
       "\n",
       "   mean_neutral_sentiment  \n",
       "0                0.349884  \n",
       "1                0.098845  \n",
       "2                0.528741  \n",
       "3                0.380470  \n",
       "4                0.343108  "
      ]
     },
     "execution_count": 12,
     "metadata": {},
     "output_type": "execute_result"
    }
   ],
   "source": [
    "agg_func = {\n",
    "    'pos_sentiment': 'mean',\n",
    "    'neg_sentiment': 'mean',\n",
    "    'neutral_sentiment': 'mean'\n",
    "}\n",
    "column_rename = {\n",
    "    'pos_sentiment': 'mean_pos_sentiment',\n",
    "    'neg_sentiment': 'mean_neg_sentiment',\n",
    "    'neutral_sentiment': 'mean_neutral_sentiment'\n",
    "}\n",
    "grouped_by_date_df = df.groupby(by='adjusted_date').agg(agg_func).rename(columns=column_rename).reset_index()\n",
    "grouped_by_date_df.head()"
   ]
  },
  {
   "cell_type": "code",
   "execution_count": 14,
   "metadata": {},
   "outputs": [],
   "source": [
    "grouped_by_date_df.to_csv('../data/nyt_sentiment_2_grouped.csv', index=False)"
   ]
  },
  {
   "cell_type": "code",
   "execution_count": null,
   "metadata": {},
   "outputs": [],
   "source": []
  }
 ],
 "metadata": {
  "kernelspec": {
   "display_name": "venv",
   "language": "python",
   "name": "python3"
  },
  "language_info": {
   "codemirror_mode": {
    "name": "ipython",
    "version": 3
   },
   "file_extension": ".py",
   "mimetype": "text/x-python",
   "name": "python",
   "nbconvert_exporter": "python",
   "pygments_lexer": "ipython3",
   "version": "3.9.0"
  }
 },
 "nbformat": 4,
 "nbformat_minor": 2
}
