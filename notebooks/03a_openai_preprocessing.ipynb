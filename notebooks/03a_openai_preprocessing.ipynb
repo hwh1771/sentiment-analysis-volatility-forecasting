{
 "cells": [
  {
   "cell_type": "code",
   "execution_count": 1,
   "metadata": {},
   "outputs": [],
   "source": [
    "import os\n",
    "\n",
    "import pandas as pd\n",
    "from dotenv import load_dotenv\n",
    "from tqdm import tqdm\n",
    "from openai import OpenAI"
   ]
  },
  {
   "cell_type": "code",
   "execution_count": 2,
   "metadata": {},
   "outputs": [],
   "source": [
    "load_dotenv(dotenv_path='../.env')\n",
    "OPENAI_API_KEY = os.getenv(\"OPENAI_API_KEY\")"
   ]
  },
  {
   "cell_type": "code",
   "execution_count": 3,
   "metadata": {},
   "outputs": [],
   "source": [
    "client = OpenAI()"
   ]
  },
  {
   "cell_type": "markdown",
   "metadata": {},
   "source": [
    "## Preprocessing with GPT"
   ]
  },
  {
   "cell_type": "code",
   "execution_count": 5,
   "metadata": {},
   "outputs": [],
   "source": [
    "def parse_article_gpt(article, instructions):\n",
    "\n",
    "\n",
    "    completion = client.chat.completions.create(\n",
    "        model=\"gpt-4o-mini\",\n",
    "        messages=[\n",
    "            {\"role\": \"system\", \"content\": instructions},\n",
    "            {\n",
    "                \"role\": \"user\",\n",
    "                \"content\": f\"{article}\"\n",
    "            }\n",
    "        ]\n",
    "    )\n",
    "\n",
    "    return completion.choices[0].message.content"
   ]
  },
  {
   "cell_type": "markdown",
   "metadata": {},
   "source": [
    "### Test prompt"
   ]
  },
  {
   "cell_type": "code",
   "execution_count": 6,
   "metadata": {},
   "outputs": [
    {
     "data": {
      "text/plain": [
       "\"This piece of news is likely to have a mixed effect on Tesla's stock price. The record quarterly deliveries serve as a strong positive indicator of the company's growth and market demand for its vehicles, suggesting potential for increased revenue. However, the skepticism regarding profitability introduces a negative sentiment that could concern investors about the sustainability of this growth. Overall, the combination of record deliveries and profit uncertainty could lead to volatility in Tesla's stock price, influencing investors' sentiments either positively or negatively depending on their focus on growth potential versus profitability concerns.\""
      ]
     },
     "execution_count": 6,
     "metadata": {},
     "output_type": "execute_result"
    }
   ],
   "source": [
    "parse_article_gpt(\"Tesla reported record quarterly deliveries on Wednesday, putting the electric-car maker within reach of its goal for the year. But analysts remain skeptical that the company will show a profit for the period.\",\"Evaluate, in one paragraph, how this piece of news would affect the Tesla stock price, while only using strictly either postiive or negative words before passing it into another sentiment scoring model.\")"
   ]
  },
  {
   "cell_type": "markdown",
   "metadata": {
    "vscode": {
     "languageId": "plaintext"
    }
   },
   "source": [
    "### Load Data"
   ]
  },
  {
   "cell_type": "markdown",
   "metadata": {},
   "source": [
    "### Tesla"
   ]
  },
  {
   "cell_type": "code",
   "execution_count": null,
   "metadata": {},
   "outputs": [],
   "source": [
    "tesla_headlines = pd.read_csv('../data/Tesla/tesla_headlines.csv')"
   ]
  },
  {
   "cell_type": "code",
   "execution_count": null,
   "metadata": {},
   "outputs": [],
   "source": [
    "instructions_tesla = \"Evaluate, in one paragraph, how this piece of news would affect the Tesla stock price, while only using strictly either postiive or negative words before passing it into another sentiment scoring model.\"\n"
   ]
  },
  {
   "cell_type": "code",
   "execution_count": null,
   "metadata": {},
   "outputs": [
    {
     "name": "stderr",
     "output_type": "stream",
     "text": [
      "100%|██████████| 1365/1365 [6:31:58<00:00, 17.23s/it]  \n"
     ]
    }
   ],
   "source": [
    "for i, row in tqdm(tesla_headlines.iterrows(), total=tesla_headlines.shape[0]):\n",
    "    combined_string = f\"{row['lead_paragraph']} \\n {row['abstract']}\"\n",
    "    gpt_summary = parse_article_gpt(combined_string, instructions_tesla)\n",
    "    tesla_headlines.loc[i, 'gpt_summary'] = gpt_summary\n"
   ]
  },
  {
   "cell_type": "code",
   "execution_count": null,
   "metadata": {},
   "outputs": [],
   "source": [
    "tesla_headlines.to_csv('../data/Tesla/tesla_gpt_summarised_sentiments.csv')"
   ]
  },
  {
   "cell_type": "markdown",
   "metadata": {},
   "source": [
    "### S&P"
   ]
  },
  {
   "cell_type": "code",
   "execution_count": null,
   "metadata": {},
   "outputs": [],
   "source": [
    "spy_headlines = pd.read_csv('../data/S&P_market/s&p_headlines.csv')"
   ]
  },
  {
   "cell_type": "code",
   "execution_count": null,
   "metadata": {},
   "outputs": [],
   "source": [
    "instructions_spy = \"Evaluate, in one paragraph, how this piece of news would affect the S&P index price, while only using strictly either postiive or negative words before passing it into another sentiment scoring model.\"\n"
   ]
  },
  {
   "cell_type": "code",
   "execution_count": null,
   "metadata": {},
   "outputs": [
    {
     "name": "stderr",
     "output_type": "stream",
     "text": [
      "100%|██████████| 1365/1365 [6:31:58<00:00, 17.23s/it]  \n"
     ]
    }
   ],
   "source": [
    "for i, row in tqdm(spy_headlines.iterrows(), total=spy_headlines.shape[0]):\n",
    "    combined_string = f\"{row['lead_paragraph']} \\n {row['abstract']}\"\n",
    "    gpt_summary = parse_article_gpt(combined_string, instructions_spy)\n",
    "    spy_headlines.loc[i, 'gpt_summary'] = gpt_summary\n"
   ]
  },
  {
   "cell_type": "code",
   "execution_count": null,
   "metadata": {},
   "outputs": [],
   "source": [
    "spy_headlines.to_csv('../data/S&P_market/s&p_gpt_summarised_sentiments.csv')"
   ]
  },
  {
   "cell_type": "code",
   "execution_count": null,
   "metadata": {},
   "outputs": [],
   "source": []
  }
 ],
 "metadata": {
  "kernelspec": {
   "display_name": "venv",
   "language": "python",
   "name": "python3"
  },
  "language_info": {
   "codemirror_mode": {
    "name": "ipython",
    "version": 3
   },
   "file_extension": ".py",
   "mimetype": "text/x-python",
   "name": "python",
   "nbconvert_exporter": "python",
   "pygments_lexer": "ipython3",
   "version": "3.10.9"
  }
 },
 "nbformat": 4,
 "nbformat_minor": 2
}
