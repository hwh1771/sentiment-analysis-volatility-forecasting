{
 "cells": [
  {
   "cell_type": "markdown",
   "metadata": {},
   "source": [
    "# Get prices"
   ]
  },
  {
   "cell_type": "code",
   "execution_count": 6,
   "metadata": {},
   "outputs": [],
   "source": [
    "import pandas as pd\n",
    "import numpy as np\n",
    "import yfinance as yf"
   ]
  },
  {
   "cell_type": "code",
   "execution_count": 7,
   "metadata": {},
   "outputs": [
    {
     "data": {
      "text/plain": [
       "'0.2.54'"
      ]
     },
     "execution_count": 7,
     "metadata": {},
     "output_type": "execute_result"
    }
   ],
   "source": [
    "yf.__version__"
   ]
  },
  {
   "cell_type": "code",
   "execution_count": 8,
   "metadata": {},
   "outputs": [
    {
     "data": {
      "text/plain": [
       "1256"
      ]
     },
     "execution_count": 8,
     "metadata": {},
     "output_type": "execute_result"
    }
   ],
   "source": [
    "start = '2019-10-01'\n",
    "end = '2024-09-27'\n",
    "\n",
    "ticker = 'TSLA'\n",
    "\n",
    "ticker = yf.Ticker(ticker)\n",
    "prices = ticker.history(start=start, end=end)\n",
    "#prices = prices.drop()\n",
    "\n",
    "len(prices)"
   ]
  },
  {
   "cell_type": "code",
   "execution_count": 9,
   "metadata": {},
   "outputs": [
    {
     "data": {
      "application/vnd.microsoft.datawrangler.viewer.v0+json": {
       "columns": [
        {
         "name": "Date",
         "rawType": "datetime64[ns, America/New_York]",
         "type": "unknown"
        },
        {
         "name": "Open",
         "rawType": "float64",
         "type": "float"
        },
        {
         "name": "High",
         "rawType": "float64",
         "type": "float"
        },
        {
         "name": "Low",
         "rawType": "float64",
         "type": "float"
        },
        {
         "name": "Close",
         "rawType": "float64",
         "type": "float"
        },
        {
         "name": "Volume",
         "rawType": "int64",
         "type": "integer"
        },
        {
         "name": "Dividends",
         "rawType": "float64",
         "type": "float"
        },
        {
         "name": "Stock Splits",
         "rawType": "float64",
         "type": "float"
        },
        {
         "name": "returns",
         "rawType": "float64",
         "type": "float"
        },
        {
         "name": "log_returns",
         "rawType": "float64",
         "type": "float"
        }
       ],
       "conversionMethod": "pd.DataFrame",
       "ref": "9dbaca77-fb1a-4523-9c26-9b28743d9925",
       "rows": [
        [
         "2019-10-01 00:00:00-04:00",
         "16.100000381469727",
         "16.39666748046875",
         "15.942000389099121",
         "16.312667846679688",
         "92439000",
         "0.0",
         "0.0",
         null,
         null
        ],
        [
         "2019-10-02 00:00:00-04:00",
         "16.21933364868164",
         "16.309999465942383",
         "15.961999893188477",
         "16.208667755126953",
         "84471000",
         "0.0",
         "0.0",
         "-0.006375418940066435",
         "-0.006395828716893808"
        ],
        [
         "2019-10-03 00:00:00-04:00",
         "15.457332611083984",
         "15.631999969482422",
         "14.95199966430664",
         "15.535332679748535",
         "226267500",
         "0.0",
         "0.0",
         "-0.041541666813759925",
         "-0.04242918829553246"
        ],
        [
         "2019-10-04 00:00:00-04:00",
         "15.440667152404785",
         "15.652000427246094",
         "15.204667091369629",
         "15.428667068481445",
         "119925000",
         "0.0",
         "0.0",
         "-0.006866001099940178",
         "-0.006889680536428197"
        ],
        [
         "2019-10-07 00:00:00-04:00",
         "15.319999694824219",
         "15.904000282287598",
         "15.236666679382324",
         "15.847999572753906",
         "120963000",
         "0.0",
         "0.0",
         "0.027178790132110553",
         "0.026816005504508238"
        ]
       ],
       "shape": {
        "columns": 9,
        "rows": 5
       }
      },
      "text/html": [
       "<div>\n",
       "<style scoped>\n",
       "    .dataframe tbody tr th:only-of-type {\n",
       "        vertical-align: middle;\n",
       "    }\n",
       "\n",
       "    .dataframe tbody tr th {\n",
       "        vertical-align: top;\n",
       "    }\n",
       "\n",
       "    .dataframe thead th {\n",
       "        text-align: right;\n",
       "    }\n",
       "</style>\n",
       "<table border=\"1\" class=\"dataframe\">\n",
       "  <thead>\n",
       "    <tr style=\"text-align: right;\">\n",
       "      <th></th>\n",
       "      <th>Open</th>\n",
       "      <th>High</th>\n",
       "      <th>Low</th>\n",
       "      <th>Close</th>\n",
       "      <th>Volume</th>\n",
       "      <th>Dividends</th>\n",
       "      <th>Stock Splits</th>\n",
       "      <th>returns</th>\n",
       "      <th>log_returns</th>\n",
       "    </tr>\n",
       "    <tr>\n",
       "      <th>Date</th>\n",
       "      <th></th>\n",
       "      <th></th>\n",
       "      <th></th>\n",
       "      <th></th>\n",
       "      <th></th>\n",
       "      <th></th>\n",
       "      <th></th>\n",
       "      <th></th>\n",
       "      <th></th>\n",
       "    </tr>\n",
       "  </thead>\n",
       "  <tbody>\n",
       "    <tr>\n",
       "      <th>2019-10-01 00:00:00-04:00</th>\n",
       "      <td>16.100000</td>\n",
       "      <td>16.396667</td>\n",
       "      <td>15.942000</td>\n",
       "      <td>16.312668</td>\n",
       "      <td>92439000</td>\n",
       "      <td>0.0</td>\n",
       "      <td>0.0</td>\n",
       "      <td>NaN</td>\n",
       "      <td>NaN</td>\n",
       "    </tr>\n",
       "    <tr>\n",
       "      <th>2019-10-02 00:00:00-04:00</th>\n",
       "      <td>16.219334</td>\n",
       "      <td>16.309999</td>\n",
       "      <td>15.962000</td>\n",
       "      <td>16.208668</td>\n",
       "      <td>84471000</td>\n",
       "      <td>0.0</td>\n",
       "      <td>0.0</td>\n",
       "      <td>-0.006375</td>\n",
       "      <td>-0.006396</td>\n",
       "    </tr>\n",
       "    <tr>\n",
       "      <th>2019-10-03 00:00:00-04:00</th>\n",
       "      <td>15.457333</td>\n",
       "      <td>15.632000</td>\n",
       "      <td>14.952000</td>\n",
       "      <td>15.535333</td>\n",
       "      <td>226267500</td>\n",
       "      <td>0.0</td>\n",
       "      <td>0.0</td>\n",
       "      <td>-0.041542</td>\n",
       "      <td>-0.042429</td>\n",
       "    </tr>\n",
       "    <tr>\n",
       "      <th>2019-10-04 00:00:00-04:00</th>\n",
       "      <td>15.440667</td>\n",
       "      <td>15.652000</td>\n",
       "      <td>15.204667</td>\n",
       "      <td>15.428667</td>\n",
       "      <td>119925000</td>\n",
       "      <td>0.0</td>\n",
       "      <td>0.0</td>\n",
       "      <td>-0.006866</td>\n",
       "      <td>-0.006890</td>\n",
       "    </tr>\n",
       "    <tr>\n",
       "      <th>2019-10-07 00:00:00-04:00</th>\n",
       "      <td>15.320000</td>\n",
       "      <td>15.904000</td>\n",
       "      <td>15.236667</td>\n",
       "      <td>15.848000</td>\n",
       "      <td>120963000</td>\n",
       "      <td>0.0</td>\n",
       "      <td>0.0</td>\n",
       "      <td>0.027179</td>\n",
       "      <td>0.026816</td>\n",
       "    </tr>\n",
       "  </tbody>\n",
       "</table>\n",
       "</div>"
      ],
      "text/plain": [
       "                                Open       High        Low      Close  \\\n",
       "Date                                                                    \n",
       "2019-10-01 00:00:00-04:00  16.100000  16.396667  15.942000  16.312668   \n",
       "2019-10-02 00:00:00-04:00  16.219334  16.309999  15.962000  16.208668   \n",
       "2019-10-03 00:00:00-04:00  15.457333  15.632000  14.952000  15.535333   \n",
       "2019-10-04 00:00:00-04:00  15.440667  15.652000  15.204667  15.428667   \n",
       "2019-10-07 00:00:00-04:00  15.320000  15.904000  15.236667  15.848000   \n",
       "\n",
       "                              Volume  Dividends  Stock Splits   returns  \\\n",
       "Date                                                                      \n",
       "2019-10-01 00:00:00-04:00   92439000        0.0           0.0       NaN   \n",
       "2019-10-02 00:00:00-04:00   84471000        0.0           0.0 -0.006375   \n",
       "2019-10-03 00:00:00-04:00  226267500        0.0           0.0 -0.041542   \n",
       "2019-10-04 00:00:00-04:00  119925000        0.0           0.0 -0.006866   \n",
       "2019-10-07 00:00:00-04:00  120963000        0.0           0.0  0.027179   \n",
       "\n",
       "                           log_returns  \n",
       "Date                                    \n",
       "2019-10-01 00:00:00-04:00          NaN  \n",
       "2019-10-02 00:00:00-04:00    -0.006396  \n",
       "2019-10-03 00:00:00-04:00    -0.042429  \n",
       "2019-10-04 00:00:00-04:00    -0.006890  \n",
       "2019-10-07 00:00:00-04:00     0.026816  "
      ]
     },
     "execution_count": 9,
     "metadata": {},
     "output_type": "execute_result"
    }
   ],
   "source": [
    "prices['returns'] = prices['Close'].pct_change()\n",
    "prices['log_returns'] = np.log(prices['Close']/prices['Close'].shift(1))\n",
    "\n",
    "prices.head()"
   ]
  },
  {
   "cell_type": "code",
   "execution_count": 10,
   "metadata": {},
   "outputs": [],
   "source": [
    "file_name = '../data/tesla_prices.csv'\n",
    "prices.to_csv(file_name)"
   ]
  },
  {
   "cell_type": "code",
   "execution_count": null,
   "metadata": {},
   "outputs": [],
   "source": []
  }
 ],
 "metadata": {
  "kernelspec": {
   "display_name": "venv",
   "language": "python",
   "name": "python3"
  },
  "language_info": {
   "codemirror_mode": {
    "name": "ipython",
    "version": 3
   },
   "file_extension": ".py",
   "mimetype": "text/x-python",
   "name": "python",
   "nbconvert_exporter": "python",
   "pygments_lexer": "ipython3",
   "version": "3.9.0"
  }
 },
 "nbformat": 4,
 "nbformat_minor": 2
}
