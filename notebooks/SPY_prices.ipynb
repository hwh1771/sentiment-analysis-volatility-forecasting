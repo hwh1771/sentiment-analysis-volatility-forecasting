{
 "cells": [
  {
   "cell_type": "markdown",
   "metadata": {},
   "source": [
    "# Get SPY prices"
   ]
  },
  {
   "cell_type": "code",
   "execution_count": 2,
   "metadata": {},
   "outputs": [],
   "source": [
    "import pandas as pd\n",
    "import numpy as np\n",
    "import yfinance as yf"
   ]
  },
  {
   "cell_type": "code",
   "execution_count": 3,
   "metadata": {},
   "outputs": [
    {
     "data": {
      "text/plain": [
       "1258"
      ]
     },
     "execution_count": 3,
     "metadata": {},
     "output_type": "execute_result"
    }
   ],
   "source": [
    "spy_ticker = yf.Ticker('SPY')\n",
    "SPY_prices = spy_ticker.history(period='5y')\n",
    "SPY_prices = SPY_prices.drop(columns=['Dividends', 'Stock Splits', 'Capital Gains'])\n",
    "\n",
    "len(SPY_prices)"
   ]
  },
  {
   "cell_type": "code",
   "execution_count": 4,
   "metadata": {},
   "outputs": [
    {
     "data": {
      "text/html": [
       "<div>\n",
       "<style scoped>\n",
       "    .dataframe tbody tr th:only-of-type {\n",
       "        vertical-align: middle;\n",
       "    }\n",
       "\n",
       "    .dataframe tbody tr th {\n",
       "        vertical-align: top;\n",
       "    }\n",
       "\n",
       "    .dataframe thead th {\n",
       "        text-align: right;\n",
       "    }\n",
       "</style>\n",
       "<table border=\"1\" class=\"dataframe\">\n",
       "  <thead>\n",
       "    <tr style=\"text-align: right;\">\n",
       "      <th></th>\n",
       "      <th>Open</th>\n",
       "      <th>High</th>\n",
       "      <th>Low</th>\n",
       "      <th>Close</th>\n",
       "      <th>Volume</th>\n",
       "      <th>returns</th>\n",
       "      <th>log_returns</th>\n",
       "    </tr>\n",
       "    <tr>\n",
       "      <th>Date</th>\n",
       "      <th></th>\n",
       "      <th></th>\n",
       "      <th></th>\n",
       "      <th></th>\n",
       "      <th></th>\n",
       "      <th></th>\n",
       "      <th></th>\n",
       "    </tr>\n",
       "  </thead>\n",
       "  <tbody>\n",
       "    <tr>\n",
       "      <th>2019-09-30 00:00:00-04:00</th>\n",
       "      <td>273.977565</td>\n",
       "      <td>275.440149</td>\n",
       "      <td>273.931292</td>\n",
       "      <td>274.718109</td>\n",
       "      <td>51662400</td>\n",
       "      <td>NaN</td>\n",
       "      <td>NaN</td>\n",
       "    </tr>\n",
       "    <tr>\n",
       "      <th>2019-10-01 00:00:00-04:00</th>\n",
       "      <td>275.616000</td>\n",
       "      <td>276.282500</td>\n",
       "      <td>271.228221</td>\n",
       "      <td>271.450378</td>\n",
       "      <td>88242400</td>\n",
       "      <td>-0.011895</td>\n",
       "      <td>-0.011966</td>\n",
       "    </tr>\n",
       "    <tr>\n",
       "      <th>2019-10-02 00:00:00-04:00</th>\n",
       "      <td>269.839692</td>\n",
       "      <td>269.848958</td>\n",
       "      <td>265.340835</td>\n",
       "      <td>266.655304</td>\n",
       "      <td>122539500</td>\n",
       "      <td>-0.017665</td>\n",
       "      <td>-0.017823</td>\n",
       "    </tr>\n",
       "    <tr>\n",
       "      <th>2019-10-03 00:00:00-04:00</th>\n",
       "      <td>266.423921</td>\n",
       "      <td>268.867766</td>\n",
       "      <td>263.656106</td>\n",
       "      <td>268.839996</td>\n",
       "      <td>85278800</td>\n",
       "      <td>0.008193</td>\n",
       "      <td>0.008160</td>\n",
       "    </tr>\n",
       "    <tr>\n",
       "      <th>2019-10-04 00:00:00-04:00</th>\n",
       "      <td>269.506467</td>\n",
       "      <td>272.737129</td>\n",
       "      <td>269.450899</td>\n",
       "      <td>272.477936</td>\n",
       "      <td>65091200</td>\n",
       "      <td>0.013532</td>\n",
       "      <td>0.013441</td>\n",
       "    </tr>\n",
       "  </tbody>\n",
       "</table>\n",
       "</div>"
      ],
      "text/plain": [
       "                                 Open        High         Low       Close  \\\n",
       "Date                                                                        \n",
       "2019-09-30 00:00:00-04:00  273.977565  275.440149  273.931292  274.718109   \n",
       "2019-10-01 00:00:00-04:00  275.616000  276.282500  271.228221  271.450378   \n",
       "2019-10-02 00:00:00-04:00  269.839692  269.848958  265.340835  266.655304   \n",
       "2019-10-03 00:00:00-04:00  266.423921  268.867766  263.656106  268.839996   \n",
       "2019-10-04 00:00:00-04:00  269.506467  272.737129  269.450899  272.477936   \n",
       "\n",
       "                              Volume   returns  log_returns  \n",
       "Date                                                         \n",
       "2019-09-30 00:00:00-04:00   51662400       NaN          NaN  \n",
       "2019-10-01 00:00:00-04:00   88242400 -0.011895    -0.011966  \n",
       "2019-10-02 00:00:00-04:00  122539500 -0.017665    -0.017823  \n",
       "2019-10-03 00:00:00-04:00   85278800  0.008193     0.008160  \n",
       "2019-10-04 00:00:00-04:00   65091200  0.013532     0.013441  "
      ]
     },
     "execution_count": 4,
     "metadata": {},
     "output_type": "execute_result"
    }
   ],
   "source": [
    "SPY_prices['returns'] = SPY_prices['Close'].pct_change()\n",
    "SPY_prices['log_returns'] = np.log(SPY_prices['Close']/SPY_prices['Close'].shift(1))\n",
    "\n",
    "SPY_prices.head()"
   ]
  },
  {
   "cell_type": "code",
   "execution_count": 5,
   "metadata": {},
   "outputs": [],
   "source": [
    "SPY_prices.to_csv('../data/spy_prices.csv')"
   ]
  },
  {
   "cell_type": "code",
   "execution_count": null,
   "metadata": {},
   "outputs": [],
   "source": []
  }
 ],
 "metadata": {
  "kernelspec": {
   "display_name": "venv",
   "language": "python",
   "name": "python3"
  },
  "language_info": {
   "codemirror_mode": {
    "name": "ipython",
    "version": 3
   },
   "file_extension": ".py",
   "mimetype": "text/x-python",
   "name": "python",
   "nbconvert_exporter": "python",
   "pygments_lexer": "ipython3",
   "version": "3.9.0"
  }
 },
 "nbformat": 4,
 "nbformat_minor": 2
}
