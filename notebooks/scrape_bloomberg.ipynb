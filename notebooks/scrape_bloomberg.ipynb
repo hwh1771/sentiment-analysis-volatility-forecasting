{
 "cells": [
  {
   "cell_type": "markdown",
   "metadata": {},
   "source": [
    "# Webscraping from Bloomberg.\n",
    "\n",
    "This notebook scrapes data from bloomberg using Selenium\n",
    "\n",
    "\\* requests + BeautifulSoup doesn't work"
   ]
  },
  {
   "cell_type": "code",
   "execution_count": 2,
   "metadata": {},
   "outputs": [],
   "source": [
    "from selenium import webdriver\n",
    "from selenium.webdriver.common.keys import Keys\n",
    "from selenium.webdriver.common.by import By"
   ]
  },
  {
   "cell_type": "code",
   "execution_count": 107,
   "metadata": {},
   "outputs": [],
   "source": [
    "url = \"https://www.bloomberg.com/news/articles/2024-08-06/stock-market-today-dow-s-p-live-updates?embedded-checkout=true\""
   ]
  },
  {
   "cell_type": "code",
   "execution_count": 109,
   "metadata": {},
   "outputs": [],
   "source": [
    "driver = webdriver.Chrome()\n",
    "raw_html = driver.get(url)"
   ]
  },
  {
   "cell_type": "markdown",
   "metadata": {},
   "source": [
    "#### Find the header wrapper"
   ]
  },
  {
   "cell_type": "code",
   "execution_count": 110,
   "metadata": {},
   "outputs": [],
   "source": [
    "header_wrapper = driver.find_elements(By.CLASS_NAME, \"basicHeader_headAndDek__1QUPg\")\n",
    "header_wrapper = header_wrapper[0] if header_wrapper else header_wrapper"
   ]
  },
  {
   "cell_type": "markdown",
   "metadata": {},
   "source": [
    "#### Find the headline."
   ]
  },
  {
   "cell_type": "code",
   "execution_count": 87,
   "metadata": {},
   "outputs": [
    {
     "ename": "NoSuchWindowException",
     "evalue": "Message: no such window: target window already closed\nfrom unknown error: web view not found\n  (Session info: chrome=126.0.6478.127)\nStacktrace:\n\tGetHandleVerifier [0x00007FF615A0EEB2+31554]\n\t(No symbol) [0x00007FF615987EE9]\n\t(No symbol) [0x00007FF61584872A]\n\t(No symbol) [0x00007FF61581D995]\n\t(No symbol) [0x00007FF6158C44D7]\n\t(No symbol) [0x00007FF6158DC051]\n\t(No symbol) [0x00007FF6158BCDD3]\n\t(No symbol) [0x00007FF61588A33B]\n\t(No symbol) [0x00007FF61588AED1]\n\tGetHandleVerifier [0x00007FF615D18B2D+3217341]\n\tGetHandleVerifier [0x00007FF615D65AF3+3532675]\n\tGetHandleVerifier [0x00007FF615D5B0F0+3489152]\n\tGetHandleVerifier [0x00007FF615ABE786+750614]\n\t(No symbol) [0x00007FF61599376F]\n\t(No symbol) [0x00007FF61598EB24]\n\t(No symbol) [0x00007FF61598ECB2]\n\t(No symbol) [0x00007FF61597E17F]\n\tBaseThreadInitThunk [0x00007FFB81AD7374+20]\n\tRtlUserThreadStart [0x00007FFB83A1CC91+33]\n",
     "output_type": "error",
     "traceback": [
      "\u001b[1;31m---------------------------------------------------------------------------\u001b[0m",
      "\u001b[1;31mNoSuchWindowException\u001b[0m                     Traceback (most recent call last)",
      "Cell \u001b[1;32mIn[87], line 1\u001b[0m\n\u001b[1;32m----> 1\u001b[0m h1_elem \u001b[38;5;241m=\u001b[39m \u001b[43mheader_wrapper\u001b[49m\u001b[38;5;241;43m.\u001b[39;49m\u001b[43mfind_elements\u001b[49m\u001b[43m(\u001b[49m\u001b[43mBy\u001b[49m\u001b[38;5;241;43m.\u001b[39;49m\u001b[43mTAG_NAME\u001b[49m\u001b[43m,\u001b[49m\u001b[43m \u001b[49m\u001b[38;5;124;43m\"\u001b[39;49m\u001b[38;5;124;43mh1\u001b[39;49m\u001b[38;5;124;43m\"\u001b[39;49m\u001b[43m)\u001b[49m\n\u001b[0;32m      2\u001b[0m news_headline \u001b[38;5;241m=\u001b[39m h1_elem[\u001b[38;5;241m0\u001b[39m]\u001b[38;5;241m.\u001b[39mtext\n",
      "File \u001b[1;32md:\\Programming\\sentiment-analysis-volatility-forecasting\\venv\\lib\\site-packages\\selenium\\webdriver\\remote\\webelement.py:439\u001b[0m, in \u001b[0;36mWebElement.find_elements\u001b[1;34m(self, by, value)\u001b[0m\n\u001b[0;32m    436\u001b[0m     by \u001b[38;5;241m=\u001b[39m By\u001b[38;5;241m.\u001b[39mCSS_SELECTOR\n\u001b[0;32m    437\u001b[0m     value \u001b[38;5;241m=\u001b[39m \u001b[38;5;124mf\u001b[39m\u001b[38;5;124m'\u001b[39m\u001b[38;5;124m[name=\u001b[39m\u001b[38;5;124m\"\u001b[39m\u001b[38;5;132;01m{\u001b[39;00mvalue\u001b[38;5;132;01m}\u001b[39;00m\u001b[38;5;124m\"\u001b[39m\u001b[38;5;124m]\u001b[39m\u001b[38;5;124m'\u001b[39m\n\u001b[1;32m--> 439\u001b[0m \u001b[38;5;28;01mreturn\u001b[39;00m \u001b[38;5;28;43mself\u001b[39;49m\u001b[38;5;241;43m.\u001b[39;49m\u001b[43m_execute\u001b[49m\u001b[43m(\u001b[49m\u001b[43mCommand\u001b[49m\u001b[38;5;241;43m.\u001b[39;49m\u001b[43mFIND_CHILD_ELEMENTS\u001b[49m\u001b[43m,\u001b[49m\u001b[43m \u001b[49m\u001b[43m{\u001b[49m\u001b[38;5;124;43m\"\u001b[39;49m\u001b[38;5;124;43musing\u001b[39;49m\u001b[38;5;124;43m\"\u001b[39;49m\u001b[43m:\u001b[49m\u001b[43m \u001b[49m\u001b[43mby\u001b[49m\u001b[43m,\u001b[49m\u001b[43m \u001b[49m\u001b[38;5;124;43m\"\u001b[39;49m\u001b[38;5;124;43mvalue\u001b[39;49m\u001b[38;5;124;43m\"\u001b[39;49m\u001b[43m:\u001b[49m\u001b[43m \u001b[49m\u001b[43mvalue\u001b[49m\u001b[43m}\u001b[49m\u001b[43m)\u001b[49m[\u001b[38;5;124m\"\u001b[39m\u001b[38;5;124mvalue\u001b[39m\u001b[38;5;124m\"\u001b[39m]\n",
      "File \u001b[1;32md:\\Programming\\sentiment-analysis-volatility-forecasting\\venv\\lib\\site-packages\\selenium\\webdriver\\remote\\webelement.py:395\u001b[0m, in \u001b[0;36mWebElement._execute\u001b[1;34m(self, command, params)\u001b[0m\n\u001b[0;32m    393\u001b[0m     params \u001b[38;5;241m=\u001b[39m {}\n\u001b[0;32m    394\u001b[0m params[\u001b[38;5;124m\"\u001b[39m\u001b[38;5;124mid\u001b[39m\u001b[38;5;124m\"\u001b[39m] \u001b[38;5;241m=\u001b[39m \u001b[38;5;28mself\u001b[39m\u001b[38;5;241m.\u001b[39m_id\n\u001b[1;32m--> 395\u001b[0m \u001b[38;5;28;01mreturn\u001b[39;00m \u001b[38;5;28;43mself\u001b[39;49m\u001b[38;5;241;43m.\u001b[39;49m\u001b[43m_parent\u001b[49m\u001b[38;5;241;43m.\u001b[39;49m\u001b[43mexecute\u001b[49m\u001b[43m(\u001b[49m\u001b[43mcommand\u001b[49m\u001b[43m,\u001b[49m\u001b[43m \u001b[49m\u001b[43mparams\u001b[49m\u001b[43m)\u001b[49m\n",
      "File \u001b[1;32md:\\Programming\\sentiment-analysis-volatility-forecasting\\venv\\lib\\site-packages\\selenium\\webdriver\\remote\\webdriver.py:354\u001b[0m, in \u001b[0;36mWebDriver.execute\u001b[1;34m(self, driver_command, params)\u001b[0m\n\u001b[0;32m    352\u001b[0m response \u001b[38;5;241m=\u001b[39m \u001b[38;5;28mself\u001b[39m\u001b[38;5;241m.\u001b[39mcommand_executor\u001b[38;5;241m.\u001b[39mexecute(driver_command, params)\n\u001b[0;32m    353\u001b[0m \u001b[38;5;28;01mif\u001b[39;00m response:\n\u001b[1;32m--> 354\u001b[0m     \u001b[38;5;28;43mself\u001b[39;49m\u001b[38;5;241;43m.\u001b[39;49m\u001b[43merror_handler\u001b[49m\u001b[38;5;241;43m.\u001b[39;49m\u001b[43mcheck_response\u001b[49m\u001b[43m(\u001b[49m\u001b[43mresponse\u001b[49m\u001b[43m)\u001b[49m\n\u001b[0;32m    355\u001b[0m     response[\u001b[38;5;124m\"\u001b[39m\u001b[38;5;124mvalue\u001b[39m\u001b[38;5;124m\"\u001b[39m] \u001b[38;5;241m=\u001b[39m \u001b[38;5;28mself\u001b[39m\u001b[38;5;241m.\u001b[39m_unwrap_value(response\u001b[38;5;241m.\u001b[39mget(\u001b[38;5;124m\"\u001b[39m\u001b[38;5;124mvalue\u001b[39m\u001b[38;5;124m\"\u001b[39m, \u001b[38;5;28;01mNone\u001b[39;00m))\n\u001b[0;32m    356\u001b[0m     \u001b[38;5;28;01mreturn\u001b[39;00m response\n",
      "File \u001b[1;32md:\\Programming\\sentiment-analysis-volatility-forecasting\\venv\\lib\\site-packages\\selenium\\webdriver\\remote\\errorhandler.py:229\u001b[0m, in \u001b[0;36mErrorHandler.check_response\u001b[1;34m(self, response)\u001b[0m\n\u001b[0;32m    227\u001b[0m         alert_text \u001b[38;5;241m=\u001b[39m value[\u001b[38;5;124m\"\u001b[39m\u001b[38;5;124malert\u001b[39m\u001b[38;5;124m\"\u001b[39m]\u001b[38;5;241m.\u001b[39mget(\u001b[38;5;124m\"\u001b[39m\u001b[38;5;124mtext\u001b[39m\u001b[38;5;124m\"\u001b[39m)\n\u001b[0;32m    228\u001b[0m     \u001b[38;5;28;01mraise\u001b[39;00m exception_class(message, screen, stacktrace, alert_text)  \u001b[38;5;66;03m# type: ignore[call-arg]  # mypy is not smart enough here\u001b[39;00m\n\u001b[1;32m--> 229\u001b[0m \u001b[38;5;28;01mraise\u001b[39;00m exception_class(message, screen, stacktrace)\n",
      "\u001b[1;31mNoSuchWindowException\u001b[0m: Message: no such window: target window already closed\nfrom unknown error: web view not found\n  (Session info: chrome=126.0.6478.127)\nStacktrace:\n\tGetHandleVerifier [0x00007FF615A0EEB2+31554]\n\t(No symbol) [0x00007FF615987EE9]\n\t(No symbol) [0x00007FF61584872A]\n\t(No symbol) [0x00007FF61581D995]\n\t(No symbol) [0x00007FF6158C44D7]\n\t(No symbol) [0x00007FF6158DC051]\n\t(No symbol) [0x00007FF6158BCDD3]\n\t(No symbol) [0x00007FF61588A33B]\n\t(No symbol) [0x00007FF61588AED1]\n\tGetHandleVerifier [0x00007FF615D18B2D+3217341]\n\tGetHandleVerifier [0x00007FF615D65AF3+3532675]\n\tGetHandleVerifier [0x00007FF615D5B0F0+3489152]\n\tGetHandleVerifier [0x00007FF615ABE786+750614]\n\t(No symbol) [0x00007FF61599376F]\n\t(No symbol) [0x00007FF61598EB24]\n\t(No symbol) [0x00007FF61598ECB2]\n\t(No symbol) [0x00007FF61597E17F]\n\tBaseThreadInitThunk [0x00007FFB81AD7374+20]\n\tRtlUserThreadStart [0x00007FFB83A1CC91+33]\n"
     ]
    }
   ],
   "source": [
    "h1_elem = header_wrapper.find_elements(By.TAG_NAME, \"h1\")\n",
    "news_headline = h1_elem[0].text"
   ]
  },
  {
   "cell_type": "markdown",
   "metadata": {},
   "source": [
    "#### Find the subheadlines."
   ]
  },
  {
   "cell_type": "code",
   "execution_count": 80,
   "metadata": {},
   "outputs": [
    {
     "data": {
      "text/plain": [
       "'High-grade issuers offer $31.8 billion of bonds, most in 2024'"
      ]
     },
     "execution_count": 80,
     "metadata": {},
     "output_type": "execute_result"
    }
   ],
   "source": [
    "header_wrapper.find_elements(By.TAG_NAME, \"li\")[0].text"
   ]
  },
  {
   "cell_type": "markdown",
   "metadata": {},
   "source": [
    "#### Find the article time."
   ]
  },
  {
   "cell_type": "code",
   "execution_count": 51,
   "metadata": {},
   "outputs": [
    {
     "data": {
      "text/plain": [
       "['August 7, 2024 at 6:38 AM GMT+8', 'August 8, 2024 at 5:47 AM GMT+8']"
      ]
     },
     "execution_count": 51,
     "metadata": {},
     "output_type": "execute_result"
    }
   ],
   "source": [
    "times = driver.find_elements(By.TAG_NAME, \"time\")\n",
    "[time.text for time in times]"
   ]
  },
  {
   "cell_type": "markdown",
   "metadata": {},
   "source": [
    "#### Close the driver or else bloomberg will become sus of you if you open it again."
   ]
  },
  {
   "cell_type": "code",
   "execution_count": 7,
   "metadata": {},
   "outputs": [],
   "source": [
    "driver.close()"
   ]
  },
  {
   "cell_type": "markdown",
   "metadata": {},
   "source": [
    "### Wrap into a function."
   ]
  },
  {
   "cell_type": "code",
   "execution_count": 88,
   "metadata": {},
   "outputs": [],
   "source": [
    "def get_headline(date: str) -> dict:\n",
    "    \"\"\"Get news headline and date from Bloomberg for a particular date.\n",
    "\n",
    "    Args:\n",
    "        date (str): date string to put in the URL\n",
    "\n",
    "    Returns:\n",
    "        dict: contains headline and time of the article.\n",
    "    \"\"\"\n",
    "    res = {}\n",
    "    url = f\"https://www.bloomberg.com/news/articles/{date}/stock-market-today-dow-s-p-live-updates?embedded-checkout=true\"\n",
    "    driver = webdriver.Chrome()\n",
    "    driver.get(url)\n",
    "\n",
    "    header_wrapper_list: list = driver.find_elements(By.CLASS_NAME, \"basicHeader_headAndDek__1QUPg\") \n",
    "    header_wrapper = header_wrapper_list[0] if len(header_wrapper_list) > 0 else None\n",
    "    \n",
    "    if header_wrapper:\n",
    "        h1_elem: list = header_wrapper.find_elements(By.TAG_NAME, \"h1\")\n",
    "        news_headline = h1_elem[0].text if len(h1_elem) > 0 else \"\"\n",
    "        res['headline'] = news_headline\n",
    "\n",
    "        subheaders: list = header_wrapper.find_elements(By.TAG_NAME, \"li\")\n",
    "        subheader_texts = [x.text for x in subheaders]\n",
    "        res['subheaders'] = subheader_texts\n",
    "\n",
    "    time_elem: list = driver.find_elements(By.TAG_NAME, \"time\")\n",
    "    time = time_elem[0].text if len(time_elem) > 0 else \"\"\n",
    "    res['time'] = time\n",
    "\n",
    "    driver.close()\n",
    "\n",
    "    return res"
   ]
  },
  {
   "cell_type": "code",
   "execution_count": 82,
   "metadata": {},
   "outputs": [
    {
     "name": "stdout",
     "output_type": "stream",
     "text": [
      "{'headline': 'S&P 500 Climbs 1% After Wall Street’s Wild Rout: Markets Wrap', 'time': 'August 6, 2024 at 7:25 AM GMT+8', 'subheaders': ['Goldman says buying S&P after 5% drop is usually profitable', 'US Treasuries slip as waning haven bid smooths auction result']}\n"
     ]
    }
   ],
   "source": [
    "sample_date = '2024-08-05'\n",
    "print(get_headline(sample_date))"
   ]
  },
  {
   "cell_type": "markdown",
   "metadata": {},
   "source": [
    "## Get SPY ticker so that we can get the trading dates"
   ]
  },
  {
   "cell_type": "code",
   "execution_count": 10,
   "metadata": {},
   "outputs": [],
   "source": [
    "import yfinance as yf\n",
    "import pandas as pd"
   ]
  },
  {
   "cell_type": "code",
   "execution_count": 103,
   "metadata": {},
   "outputs": [
    {
     "data": {
      "text/plain": [
       "252"
      ]
     },
     "execution_count": 103,
     "metadata": {},
     "output_type": "execute_result"
    }
   ],
   "source": [
    "spy_ticker = yf.Ticker('SPY')\n",
    "SPY_prices = spy_ticker.history(period='1y')\n",
    "\n",
    "len(SPY_prices)"
   ]
  },
  {
   "cell_type": "markdown",
   "metadata": {},
   "source": [
    "### Test out by iterating through the trading dates"
   ]
  },
  {
   "cell_type": "code",
   "execution_count": 111,
   "metadata": {},
   "outputs": [],
   "source": [
    "for index, (i, row) in enumerate(SPY_prices.iterrows()):\n",
    "    try:\n",
    "        formatted_date = dt.strftime(i, format)\n",
    "        retrieved_data = get_headline(formatted_date)\n",
    "\n",
    "        SPY_prices.at[i, 'headline'] = retrieved_data.get('headline', pd.NA)\n",
    "        SPY_prices.at[i, 'article_time'] = retrieved_data.get('time', pd.NA)\n",
    "        SPY_prices.at[i, 'subheaders'] = retrieved_data.get('subheaders', pd.NA)\n",
    "    except Exception as e:\n",
    "        continue"
   ]
  },
  {
   "cell_type": "code",
   "execution_count": 113,
   "metadata": {},
   "outputs": [
    {
     "data": {
      "text/html": [
       "<div>\n",
       "<style scoped>\n",
       "    .dataframe tbody tr th:only-of-type {\n",
       "        vertical-align: middle;\n",
       "    }\n",
       "\n",
       "    .dataframe tbody tr th {\n",
       "        vertical-align: top;\n",
       "    }\n",
       "\n",
       "    .dataframe thead th {\n",
       "        text-align: right;\n",
       "    }\n",
       "</style>\n",
       "<table border=\"1\" class=\"dataframe\">\n",
       "  <thead>\n",
       "    <tr style=\"text-align: right;\">\n",
       "      <th></th>\n",
       "      <th>Open</th>\n",
       "      <th>High</th>\n",
       "      <th>Low</th>\n",
       "      <th>Close</th>\n",
       "      <th>Volume</th>\n",
       "      <th>Dividends</th>\n",
       "      <th>Stock Splits</th>\n",
       "      <th>Capital Gains</th>\n",
       "      <th>headline</th>\n",
       "      <th>article_time</th>\n",
       "      <th>subheaders</th>\n",
       "    </tr>\n",
       "    <tr>\n",
       "      <th>Date</th>\n",
       "      <th></th>\n",
       "      <th></th>\n",
       "      <th></th>\n",
       "      <th></th>\n",
       "      <th></th>\n",
       "      <th></th>\n",
       "      <th></th>\n",
       "      <th></th>\n",
       "      <th></th>\n",
       "      <th></th>\n",
       "      <th></th>\n",
       "    </tr>\n",
       "  </thead>\n",
       "  <tbody>\n",
       "    <tr>\n",
       "      <th>2023-08-31 00:00:00-04:00</th>\n",
       "      <td>445.419720</td>\n",
       "      <td>446.583435</td>\n",
       "      <td>443.950283</td>\n",
       "      <td>444.137665</td>\n",
       "      <td>66084600</td>\n",
       "      <td>0.0</td>\n",
       "      <td>0.0</td>\n",
       "      <td>0.0</td>\n",
       "      <td>Stock Rally Wanes at End of Best Week Since Ju...</td>\n",
       "      <td>September 1, 2023 at 6:22 AM GMT+8</td>\n",
       "      <td>nan</td>\n",
       "    </tr>\n",
       "    <tr>\n",
       "      <th>2023-09-01 00:00:00-04:00</th>\n",
       "      <td>446.918793</td>\n",
       "      <td>447.411896</td>\n",
       "      <td>443.476915</td>\n",
       "      <td>444.966095</td>\n",
       "      <td>58875700</td>\n",
       "      <td>0.0</td>\n",
       "      <td>0.0</td>\n",
       "      <td>0.0</td>\n",
       "      <td>&lt;NA&gt;</td>\n",
       "      <td></td>\n",
       "      <td>&lt;NA&gt;</td>\n",
       "    </tr>\n",
       "    <tr>\n",
       "      <th>2023-09-05 00:00:00-04:00</th>\n",
       "      <td>444.512435</td>\n",
       "      <td>444.837870</td>\n",
       "      <td>442.973957</td>\n",
       "      <td>443.042969</td>\n",
       "      <td>55166200</td>\n",
       "      <td>0.0</td>\n",
       "      <td>0.0</td>\n",
       "      <td>0.0</td>\n",
       "      <td>Stocks Retreat After Hot ISM Fuels Fed-Hike Wa...</td>\n",
       "      <td>September 6, 2023 at 6:15 AM GMT+8</td>\n",
       "      <td>[US service gauge rises to six-month high, top...</td>\n",
       "    </tr>\n",
       "    <tr>\n",
       "      <th>2023-09-06 00:00:00-04:00</th>\n",
       "      <td>442.214557</td>\n",
       "      <td>442.323055</td>\n",
       "      <td>437.687877</td>\n",
       "      <td>440.064636</td>\n",
       "      <td>70758500</td>\n",
       "      <td>0.0</td>\n",
       "      <td>0.0</td>\n",
       "      <td>0.0</td>\n",
       "      <td>Traders Shun Risk Amid Apple’s $190 Billion Ro...</td>\n",
       "      <td>September 7, 2023 at 6:39 AM GMT+8</td>\n",
       "      <td>[Apple extends two-day drop on concern over Ch...</td>\n",
       "    </tr>\n",
       "    <tr>\n",
       "      <th>2023-09-07 00:00:00-04:00</th>\n",
       "      <td>436.997513</td>\n",
       "      <td>439.403857</td>\n",
       "      <td>436.642494</td>\n",
       "      <td>438.713531</td>\n",
       "      <td>70355400</td>\n",
       "      <td>0.0</td>\n",
       "      <td>0.0</td>\n",
       "      <td>0.0</td>\n",
       "      <td>Dollar Bulls Vindicated in Longest Run Since 2...</td>\n",
       "      <td>September 8, 2023 at 6:27 AM GMT+8</td>\n",
       "      <td>[Greenback posts eighth straight up week amid ...</td>\n",
       "    </tr>\n",
       "    <tr>\n",
       "      <th>...</th>\n",
       "      <td>...</td>\n",
       "      <td>...</td>\n",
       "      <td>...</td>\n",
       "      <td>...</td>\n",
       "      <td>...</td>\n",
       "      <td>...</td>\n",
       "      <td>...</td>\n",
       "      <td>...</td>\n",
       "      <td>...</td>\n",
       "      <td>...</td>\n",
       "      <td>...</td>\n",
       "    </tr>\n",
       "    <tr>\n",
       "      <th>2024-08-26 00:00:00-04:00</th>\n",
       "      <td>563.179993</td>\n",
       "      <td>563.909973</td>\n",
       "      <td>559.049988</td>\n",
       "      <td>560.789978</td>\n",
       "      <td>35788600</td>\n",
       "      <td>0.0</td>\n",
       "      <td>0.0</td>\n",
       "      <td>0.0</td>\n",
       "      <td>Stocks Churn as Nvidia’s 1,000% Rally to Face ...</td>\n",
       "      <td>August 27, 2024 at 6:36 AM GMT+8</td>\n",
       "      <td>[Chipmaker is due to report results after the ...</td>\n",
       "    </tr>\n",
       "    <tr>\n",
       "      <th>2024-08-27 00:00:00-04:00</th>\n",
       "      <td>559.489990</td>\n",
       "      <td>562.059998</td>\n",
       "      <td>558.320007</td>\n",
       "      <td>561.559998</td>\n",
       "      <td>32693900</td>\n",
       "      <td>0.0</td>\n",
       "      <td>0.0</td>\n",
       "      <td>0.0</td>\n",
       "      <td>Tech Hit in Late Hours as Nvidia Fails to Insp...</td>\n",
       "      <td>August 28, 2024 at 6:28 AM GMT+8</td>\n",
       "      <td>[Chipmaker’s revenue forecast fails to meet lo...</td>\n",
       "    </tr>\n",
       "    <tr>\n",
       "      <th>2024-08-28 00:00:00-04:00</th>\n",
       "      <td>561.210022</td>\n",
       "      <td>561.650024</td>\n",
       "      <td>555.039978</td>\n",
       "      <td>558.299988</td>\n",
       "      <td>41066000</td>\n",
       "      <td>0.0</td>\n",
       "      <td>0.0</td>\n",
       "      <td>0.0</td>\n",
       "      <td>S&amp;P 500 Rally Loses Steam, But Most US Stocks ...</td>\n",
       "      <td>August 29, 2024 at 6:58 AM GMT+8</td>\n",
       "      <td>[US economy expands at revised 3% rate on resi...</td>\n",
       "    </tr>\n",
       "    <tr>\n",
       "      <th>2024-08-29 00:00:00-04:00</th>\n",
       "      <td>560.309998</td>\n",
       "      <td>563.679993</td>\n",
       "      <td>557.179993</td>\n",
       "      <td>558.349976</td>\n",
       "      <td>38715200</td>\n",
       "      <td>0.0</td>\n",
       "      <td>0.0</td>\n",
       "      <td>0.0</td>\n",
       "      <td>S&amp;P 500 Spikes in Last 10 Minutes of US Tradin...</td>\n",
       "      <td>August 30, 2024 at 6:47 AM GMT+8</td>\n",
       "      <td>[Fed favored inflation gauge’s mild gain sets ...</td>\n",
       "    </tr>\n",
       "    <tr>\n",
       "      <th>2024-08-30 00:00:00-04:00</th>\n",
       "      <td>560.770020</td>\n",
       "      <td>564.200012</td>\n",
       "      <td>557.140015</td>\n",
       "      <td>563.679993</td>\n",
       "      <td>62700100</td>\n",
       "      <td>0.0</td>\n",
       "      <td>0.0</td>\n",
       "      <td>0.0</td>\n",
       "      <td>&lt;NA&gt;</td>\n",
       "      <td></td>\n",
       "      <td>&lt;NA&gt;</td>\n",
       "    </tr>\n",
       "  </tbody>\n",
       "</table>\n",
       "<p>252 rows × 11 columns</p>\n",
       "</div>"
      ],
      "text/plain": [
       "                                 Open        High         Low       Close  \\\n",
       "Date                                                                        \n",
       "2023-08-31 00:00:00-04:00  445.419720  446.583435  443.950283  444.137665   \n",
       "2023-09-01 00:00:00-04:00  446.918793  447.411896  443.476915  444.966095   \n",
       "2023-09-05 00:00:00-04:00  444.512435  444.837870  442.973957  443.042969   \n",
       "2023-09-06 00:00:00-04:00  442.214557  442.323055  437.687877  440.064636   \n",
       "2023-09-07 00:00:00-04:00  436.997513  439.403857  436.642494  438.713531   \n",
       "...                               ...         ...         ...         ...   \n",
       "2024-08-26 00:00:00-04:00  563.179993  563.909973  559.049988  560.789978   \n",
       "2024-08-27 00:00:00-04:00  559.489990  562.059998  558.320007  561.559998   \n",
       "2024-08-28 00:00:00-04:00  561.210022  561.650024  555.039978  558.299988   \n",
       "2024-08-29 00:00:00-04:00  560.309998  563.679993  557.179993  558.349976   \n",
       "2024-08-30 00:00:00-04:00  560.770020  564.200012  557.140015  563.679993   \n",
       "\n",
       "                             Volume  Dividends  Stock Splits  Capital Gains  \\\n",
       "Date                                                                          \n",
       "2023-08-31 00:00:00-04:00  66084600        0.0           0.0            0.0   \n",
       "2023-09-01 00:00:00-04:00  58875700        0.0           0.0            0.0   \n",
       "2023-09-05 00:00:00-04:00  55166200        0.0           0.0            0.0   \n",
       "2023-09-06 00:00:00-04:00  70758500        0.0           0.0            0.0   \n",
       "2023-09-07 00:00:00-04:00  70355400        0.0           0.0            0.0   \n",
       "...                             ...        ...           ...            ...   \n",
       "2024-08-26 00:00:00-04:00  35788600        0.0           0.0            0.0   \n",
       "2024-08-27 00:00:00-04:00  32693900        0.0           0.0            0.0   \n",
       "2024-08-28 00:00:00-04:00  41066000        0.0           0.0            0.0   \n",
       "2024-08-29 00:00:00-04:00  38715200        0.0           0.0            0.0   \n",
       "2024-08-30 00:00:00-04:00  62700100        0.0           0.0            0.0   \n",
       "\n",
       "                                                                    headline  \\\n",
       "Date                                                                           \n",
       "2023-08-31 00:00:00-04:00  Stock Rally Wanes at End of Best Week Since Ju...   \n",
       "2023-09-01 00:00:00-04:00                                               <NA>   \n",
       "2023-09-05 00:00:00-04:00  Stocks Retreat After Hot ISM Fuels Fed-Hike Wa...   \n",
       "2023-09-06 00:00:00-04:00  Traders Shun Risk Amid Apple’s $190 Billion Ro...   \n",
       "2023-09-07 00:00:00-04:00  Dollar Bulls Vindicated in Longest Run Since 2...   \n",
       "...                                                                      ...   \n",
       "2024-08-26 00:00:00-04:00  Stocks Churn as Nvidia’s 1,000% Rally to Face ...   \n",
       "2024-08-27 00:00:00-04:00  Tech Hit in Late Hours as Nvidia Fails to Insp...   \n",
       "2024-08-28 00:00:00-04:00  S&P 500 Rally Loses Steam, But Most US Stocks ...   \n",
       "2024-08-29 00:00:00-04:00  S&P 500 Spikes in Last 10 Minutes of US Tradin...   \n",
       "2024-08-30 00:00:00-04:00                                               <NA>   \n",
       "\n",
       "                                                 article_time  \\\n",
       "Date                                                            \n",
       "2023-08-31 00:00:00-04:00  September 1, 2023 at 6:22 AM GMT+8   \n",
       "2023-09-01 00:00:00-04:00                                       \n",
       "2023-09-05 00:00:00-04:00  September 6, 2023 at 6:15 AM GMT+8   \n",
       "2023-09-06 00:00:00-04:00  September 7, 2023 at 6:39 AM GMT+8   \n",
       "2023-09-07 00:00:00-04:00  September 8, 2023 at 6:27 AM GMT+8   \n",
       "...                                                       ...   \n",
       "2024-08-26 00:00:00-04:00    August 27, 2024 at 6:36 AM GMT+8   \n",
       "2024-08-27 00:00:00-04:00    August 28, 2024 at 6:28 AM GMT+8   \n",
       "2024-08-28 00:00:00-04:00    August 29, 2024 at 6:58 AM GMT+8   \n",
       "2024-08-29 00:00:00-04:00    August 30, 2024 at 6:47 AM GMT+8   \n",
       "2024-08-30 00:00:00-04:00                                       \n",
       "\n",
       "                                                                  subheaders  \n",
       "Date                                                                          \n",
       "2023-08-31 00:00:00-04:00                                                nan  \n",
       "2023-09-01 00:00:00-04:00                                               <NA>  \n",
       "2023-09-05 00:00:00-04:00  [US service gauge rises to six-month high, top...  \n",
       "2023-09-06 00:00:00-04:00  [Apple extends two-day drop on concern over Ch...  \n",
       "2023-09-07 00:00:00-04:00  [Greenback posts eighth straight up week amid ...  \n",
       "...                                                                      ...  \n",
       "2024-08-26 00:00:00-04:00  [Chipmaker is due to report results after the ...  \n",
       "2024-08-27 00:00:00-04:00  [Chipmaker’s revenue forecast fails to meet lo...  \n",
       "2024-08-28 00:00:00-04:00  [US economy expands at revised 3% rate on resi...  \n",
       "2024-08-29 00:00:00-04:00  [Fed favored inflation gauge’s mild gain sets ...  \n",
       "2024-08-30 00:00:00-04:00                                               <NA>  \n",
       "\n",
       "[252 rows x 11 columns]"
      ]
     },
     "execution_count": 113,
     "metadata": {},
     "output_type": "execute_result"
    }
   ],
   "source": [
    "SPY_prices"
   ]
  },
  {
   "cell_type": "code",
   "execution_count": 114,
   "metadata": {},
   "outputs": [],
   "source": [
    "SPY_prices.to_csv(\"scraped_headlines.csv\")"
   ]
  },
  {
   "cell_type": "code",
   "execution_count": 70,
   "metadata": {},
   "outputs": [
    {
     "name": "stdout",
     "output_type": "stream",
     "text": [
      "2024-08-06 {'headline': 'Stocks Swoon After Weak $42 Billion Treasury Sale: Markets Wrap', 'time': 'August 7, 2024 at 6:38 AM GMT+8'}\n",
      "2024-08-07 {'headline': 'S&P 500 Notches Biggest Rally Since November 2022: Markets Wrap', 'time': 'August 8, 2024 at 6:19 AM GMT+8'}\n",
      "2024-08-08 {'headline': 'Stocks Make Comeback at End of Dizzying Week: Markets Wrap', 'time': 'August 9, 2024 at 6:20 AM GMT+8'}\n",
      "2024-08-09 {'headline': 'Our apologies\\nWe’re unable to find the\\npage you’re looking for.', 'time': ''}\n",
      "2024-08-12 {'headline': 'Stocks Rally in Countdown to CPI as US Yields Sink: Markets Wrap', 'time': 'August 13, 2024 at 6:48 AM GMT+8'}\n",
      "2024-08-13 {'headline': 'Stocks Rise as CPI ‘Checks The Box’ for Fed Cuts: Markets Wrap', 'time': 'August 14, 2024 at 6:30 AM GMT+8'}\n",
      "2024-08-14 {'headline': 'Our apologies\\nWe’re unable to find the\\npage you’re looking for.', 'time': ''}\n",
      "2024-08-15 {'headline': 'Stocks See Best Week in ’24 as Buyers Race Back In: Markets Wrap', 'time': 'August 16, 2024 at 6:28 AM GMT+8'}\n",
      "2024-08-16 {'headline': 'Our apologies\\nWe’re unable to find the\\npage you’re looking for.', 'time': ''}\n",
      "2024-08-19 {'headline': 'Stocks Halt Big Rally Driven by ‘Momentum Guys’: Markets Wrap', 'time': 'August 20, 2024 at 6:42 AM GMT+8'}\n",
      "2024-08-20 {'headline': 'Stocks Up as September Fed Cut Seen as ‘Done Deal’: Markets Wrap', 'time': 'August 21, 2024 at 6:36 AM GMT+8'}\n",
      "2024-08-21 {'headline': 'Wall Street Braces for ‘Reality Check’ From Powell: Markets Wrap', 'time': 'August 22, 2024 at 6:21 AM GMT+8'}\n",
      "2024-08-22 {'headline': 'Stocks Rally as Powell ‘Locks In’ a September Cut: Markets Wrap', 'time': 'August 23, 2024 at 6:31 AM GMT+8'}\n",
      "2024-08-23 {'headline': 'Our apologies\\nWe’re unable to find the\\npage you’re looking for.', 'time': ''}\n",
      "2024-08-26 {'headline': 'Asian Stocks Edge Lower With Eyes on Tech Earnings: Markets Wrap', 'time': 'August 27, 2024 at 6:36 AM GMT+8'}\n"
     ]
    }
   ],
   "source": [
    "for i in input_dates:\n",
    "    print(i, get_headline(i))"
   ]
  }
 ],
 "metadata": {
  "kernelspec": {
   "display_name": "venv",
   "language": "python",
   "name": "python3"
  },
  "language_info": {
   "codemirror_mode": {
    "name": "ipython",
    "version": 3
   },
   "file_extension": ".py",
   "mimetype": "text/x-python",
   "name": "python",
   "nbconvert_exporter": "python",
   "pygments_lexer": "ipython3",
   "version": "3.9.0"
  }
 },
 "nbformat": 4,
 "nbformat_minor": 2
}
