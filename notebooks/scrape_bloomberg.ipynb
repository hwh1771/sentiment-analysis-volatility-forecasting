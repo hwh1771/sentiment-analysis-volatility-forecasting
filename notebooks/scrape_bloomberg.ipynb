{
 "cells": [
  {
   "cell_type": "markdown",
   "metadata": {},
   "source": [
    "# Webscraping from Bloomberg.\n",
    "\n",
    "This notebook is to explore how to scrape the daily news from Bloomberg."
   ]
  },
  {
   "cell_type": "markdown",
   "metadata": {},
   "source": [
    "## First we try requests + beautifulsoup"
   ]
  },
  {
   "cell_type": "code",
   "execution_count": 55,
   "metadata": {},
   "outputs": [],
   "source": [
    "from datetime import datetime as dt"
   ]
  },
  {
   "cell_type": "code",
   "execution_count": 4,
   "metadata": {},
   "outputs": [],
   "source": [
    "import requests\n",
    "from bs4 import BeautifulSoup"
   ]
  },
  {
   "cell_type": "code",
   "execution_count": 7,
   "metadata": {},
   "outputs": [],
   "source": [
    "url = \"https://www.bloomberg.com/news/articles/2024-08-06/stock-market-today-dow-s-p-live-updates\""
   ]
  },
  {
   "cell_type": "code",
   "execution_count": 8,
   "metadata": {},
   "outputs": [],
   "source": [
    "response = requests.get(url)\n",
    "content = response.content"
   ]
  },
  {
   "cell_type": "code",
   "execution_count": 11,
   "metadata": {},
   "outputs": [
    {
     "data": {
      "text/plain": [
       "<!DOCTYPE html>\n",
       "<html lang=\"en\">\n",
       "<head>\n",
       "<title>Bloomberg - Are you a robot?</title>\n",
       "<meta content=\"width=device-width, initial-scale=1\" name=\"viewport\"/>\n",
       "<meta content=\"noindex\" name=\"robots\"/>\n",
       "<style rel=\"stylesheet\">\n",
       "        @font-face {\n",
       "            font-family: BWHaasGroteskWeb;\n",
       "            font-display: swap;\n",
       "            font-weight: 400;\n",
       "            font-style: normal;\n",
       "            src: url('https://assets.bwbx.io/s3/fontservice/fonts/BWHaasGrotesk-55Roman-Web-7998fbcba8.eot');\n",
       "            src: local('?'), url('https://assets.bwbx.io/s3/fontservice/fonts/BWHaasGrotesk-55Roman-Web-5cf5733cd9.woff2') format('woff2'), url('https://assets.bwbx.io/s3/fontservice/fonts/BWHaasGrotesk-55Roman-Web-a1ea4fd367.woff') format('woff')\n",
       "        }\n",
       "\n",
       "        @font-face {\n",
       "            font-family: BWHaasGroteskWeb;\n",
       "            font-display: swap;\n",
       "            font-weight: 700;\n",
       "            font-style: normal;\n",
       "            src: url('https://assets.bwbx.io/s3/fontservice/fonts/BWHaasGrotesk-75Bold-Web-de8c77cce2.woff2') format('woff2'), url('https://assets.bwbx.io/s3/fontservice/fonts/BWHaasGrotesk-75Bold-Web-506363704e.woff') format('woff')\n",
       "        }\n",
       "    </style>\n",
       "<style rel=\"stylesheet\">\n",
       "        html, body, div, span, applet, object, iframe,\n",
       "        h1, h2, h3, h4, h5, h6, p, blockquote, pre,\n",
       "        a, abbr, acronym, address, big, cite, code,\n",
       "        del, dfn, em, img, ins, kbd, q, s, samp,\n",
       "        small, strike, strong, sub, sup, tt, var,\n",
       "        b, u, i, center,\n",
       "        dl, dt, dd, ol, ul, li,\n",
       "        fieldset, form, label, legend,\n",
       "        table, caption, tbody, tfoot, thead, tr, th, td,\n",
       "        article, aside, canvas, details, embed,\n",
       "        figure, figcaption, footer, header, hgroup,\n",
       "        menu, nav, output, ruby, section, summary,\n",
       "        time, mark, audio, video {\n",
       "            margin: 0;\n",
       "            padding: 0;\n",
       "            border: 0;\n",
       "            font-size: 100%;\n",
       "            font: inherit;\n",
       "            vertical-align: baseline;\n",
       "        }\n",
       "\n",
       "        /* HTML5 display-role reset for older browsers */\n",
       "        article, aside, details, figcaption, figure,\n",
       "        footer, header, hgroup, menu, nav, section {\n",
       "            display: block;\n",
       "        }\n",
       "\n",
       "        body {\n",
       "            line-height: 1;\n",
       "        }\n",
       "\n",
       "        ol, ul {\n",
       "            list-style: none;\n",
       "        }\n",
       "\n",
       "        blockquote, q {\n",
       "            quotes: none;\n",
       "        }\n",
       "\n",
       "        blockquote:before, blockquote:after,\n",
       "        q:before, q:after {\n",
       "            content: '';\n",
       "            content: none;\n",
       "        }\n",
       "\n",
       "        table {\n",
       "            border-collapse: collapse;\n",
       "            border-spacing: 0;\n",
       "        }\n",
       "\n",
       "        * {\n",
       "            box-sizing: border-box;\n",
       "        }\n",
       "\n",
       "        body {\n",
       "            background-color: #f2f2f2;\n",
       "            font-family: \"BWHaasGroteskWeb\", Helvetica, Arial, sans-serif;\n",
       "            line-height: 1.2;\n",
       "        }\n",
       "\n",
       "        .header {\n",
       "            margin: 0;\n",
       "            height: 60px;\n",
       "            width: 100%;\n",
       "            background-color: black;\n",
       "            color: white;\n",
       "            overflow-x: hidden;\n",
       "        }\n",
       "\n",
       "        .logo {\n",
       "            float: left;\n",
       "            margin: 0 20px;\n",
       "            height: 60px;\n",
       "            width: 140px;\n",
       "            background-image: url('data:image/svg+xml;base64,PHN2ZyBpZD0iTGF5ZXJfMSIgZGF0YS1uYW1lPSJMYXllciAxIiB4bWxucz0iaHR0cDovL3d3dy53My5vcmcvMjAwMC9zdmciIHZpZXdCb3g9IjAgMCAyNTcuNzUgNDcuNjMiPjxkZWZzPjxzdHlsZT4uY2xzLTF7ZmlsbDojZmZmO308L3N0eWxlPjwvZGVmcz48dGl0bGU+Qmxvb21iZXJnX05IR193aHQ8L3RpdGxlPjxwYXRoIGNsYXNzPSJjbHMtMSIgZD0iTTgxLjczLDExMzhIMTAwLjZjMy41NywwLDYuMzIuODcsOC4yNiwyLjQ1YTkuNDUsOS40NSwwLDAsMSwzLjM3LDcuNmMwLDMuNjctMS40OCw2LTQuNTQsNy4zOXYwLjE1YzQsMS4zMyw2LjI3LDQuOSw2LjI3LDkuMjMsMCw0LjEzLTEuNTgsNy4zNC00LjE4LDkuMjgtMi4xOSwxLjU4LTUsMi4zNS04LjgyLDIuMzVIODEuNzNWMTEzOFptMTcsMTVjMiwwLDMuNTItMS4xMiwzLjUyLTMuMzdzLTEuNTMtMy4yNi0zLjU3LTMuMjZIOTIuMTlWMTE1M2g2LjUzWm0xLDE0Ljg5YTMuOTMsMy45MywwLDEsMC0uMDUtNy44NUg5Mi4xOXY3Ljg1aDcuNVoiIHRyYW5zZm9ybT0idHJhbnNsYXRlKC04MS43MyAtMTEzNy45OCkiLz48cGF0aCBjbGFzcz0iY2xzLTEiIGQ9Ik0xMTUuOCwxMTM4aDkuODl2MzguNDVIMTE1LjhWMTEzOFoiIHRyYW5zZm9ybT0idHJhbnNsYXRlKC04MS43MyAtMTEzNy45OCkiLz48cGF0aCBjbGFzcz0iY2xzLTEiIGQ9Ik0xMjcuNjksMTE2Mi43N2MwLTguNjcsNS42MS0xNC41NCwxNC4yOC0xNC41NHMxNC4xOCw1Ljg3LDE0LjE4LDE0LjU0LTUuNTEsMTQuNTMtMTQuMTgsMTQuNTNTMTI3LjY5LDExNzEuNDgsMTI3LjY5LDExNjIuNzdabTE4LjY2LDBjMC00Ljc5LTEuNTMtNy44LTQuNDktNy44cy00LjM5LDMtNC4zOSw3LjgsMS40Myw3Ljg1LDQuMzksNy44NVMxNDYuMzUsMTE2Ny42MSwxNDYuMzUsMTE2Mi43N1oiIHRyYW5zZm9ybT0idHJhbnNsYXRlKC04MS43MyAtMTEzNy45OCkiLz48cGF0aCBjbGFzcz0iY2xzLTEiIGQ9Ik0xNTcuMzIsMTE2Mi43N2MwLTguNjcsNS42MS0xNC41NCwxNC4yOC0xNC41NHMxNC4xOCw1Ljg3LDE0LjE4LDE0LjU0LTUuNTEsMTQuNTMtMTQuMTgsMTQuNTNTMTU3LjMyLDExNzEuNDgsMTU3LjMyLDExNjIuNzdabTE4LjY2LDBjMC00Ljc5LTEuNTMtNy44LTQuNDktNy44cy00LjM5LDMtNC4zOSw3LjgsMS40Myw3Ljg1LDQuMzksNy44NVMxNzYsMTE2Ny42MSwxNzYsMTE2Mi43N1oiIHRyYW5zZm9ybT0idHJhbnNsYXRlKC04MS43MyAtMTEzNy45OCkiLz48cGF0aCBjbGFzcz0iY2xzLTEiIGQ9Ik0xODcuNzYsMTE0OWg5LjE4djQuMTNoMC4xNWMxLjg0LTMuMjEsNC4zMy00Ljk1LDguMjYtNC45NWE3LjY2LDcuNjYsMCwwLDEsNy4zOSw0Ljc0aDAuMTVhOS4yMSw5LjIxLDAsMCwxLDguNTItNC43NGM2LjM3LDAsOS4xMyw0LjY5LDkuMTMsMTF2MTcuMjRoLTkuNjR2LTE1LjVjMC0yLjgtLjg3LTQuNjQtMy4zMS00LjY0cy0zLjYyLDIuMjQtMy42Miw1LjJ2MTQuOTRoLTkuNjR2LTE1LjVjMC0yLjgtLjg3LTQuNjQtMy4zMS00LjY0cy0zLjYyLDIuMjQtMy42Miw1LjJ2MTQuOTRoLTkuNjRWMTE0OVoiIHRyYW5zZm9ybT0idHJhbnNsYXRlKC04MS43MyAtMTEzNy45OCkiLz48cGF0aCBjbGFzcz0iY2xzLTEiIGQ9Ik0yNDIuNjksMTE3Mi44NmgtMC4xdjMuNTdoLTkuMThWMTEzOEgyNDN2MTMuODdoMC4xNWE5LjEyLDkuMTIsMCwwLDEsNy44LTMuNjdjNi44OCwwLDEwLjg2LDYuMjIsMTAuODYsMTQuNDgsMCw5LjMzLTQuMzMsMTQuNjktMTEuNDcsMTQuNjlBOC42Nyw4LjY3LDAsMCwxLDI0Mi42OSwxMTcyLjg2Wm05LjM4LTEwLjNjMC00LjQ0LTEuNjMtNy4yOS00LjU0LTcuMjlzLTQuODQsMi44Ni00Ljg0LDcuMjksMS44OSw3LjI5LDQuODQsNy4yOVMyNTIuMDcsMTE2NywyNTIuMDcsMTE2Mi41NloiIHRyYW5zZm9ybT0idHJhbnNsYXRlKC04MS43MyAtMTEzNy45OCkiLz48cGF0aCBjbGFzcz0iY2xzLTEiIGQ9Ik0yNjMsMTE2Mi42NmMwLTguNTcsNS42Ni0xNC41MywxMy44Ny0xNC41M2ExMy4zNCwxMy4zNCwwLDAsMSw5LjY0LDMuNTdjMy4xNiwzLjA2LDQuNTksNy44NSw0LjQ5LDEzLjUxSDI3Mi42M2MwLjQxLDMuNDIsMiw1LjE1LDQuOTUsNS4xNWEzLjcsMy43LDAsMCwwLDMuNzctMi42aDkuMjhjLTEuNjMsNi4yNy02LjQ4LDkuNDQtMTMuMzYsOS40NEMyNjguNzUsMTE3Ny4yLDI2MywxMTcxLjQzLDI2MywxMTYyLjY2Wm05LjU5LTIuODZoOC43N2MtMC4xNS0zLjMxLTItNS00LjI4LTVDMjc0LjQ2LDExNTQuNzYsMjczLDExNTYuNjQsMjcyLjYzLDExNTkuODFaIiB0cmFuc2Zvcm09InRyYW5zbGF0ZSgtODEuNzMgLTExMzcuOTgpIi8+PHBhdGggY2xhc3M9ImNscy0xIiBkPSJNMzAyLDExNTMuNjloMC4xNWMyLTMuODIsNC41OS01LjI1LDcuOS01LjI1YTMuNzIsMy43MiwwLDAsMSwxLjU4LjI1djguNDFoLTAuMmMtNS42Ni0xLTksMS42OC05LDcuODV2MTEuNDdoLTkuNjRWMTE0OUgzMDJ2NC42OVoiIHRyYW5zZm9ybT0idHJhbnNsYXRlKC04MS43MyAtMTEzNy45OCkiLz48cGF0aCBjbGFzcz0iY2xzLTEiIGQ9Ik0zMTIuNjYsMTE3Ni40OGg5LjI4YzAuMzYsMS4xNywxLjU4LDIuMzUsMy44OCwyLjM1LDMuMTEsMCw0LjE4LTEuOTQsNC4xOC00Ljc5di0yaC0wLjJhOC4yNiw4LjI2LDAsMCwxLTYuNTgsMy4xMWMtNS45MiwwLTExLjA3LTQuMzgtMTEuMDctMTMsMC03Ljg1LDQuMjMtMTQsMTAuNjEtMTQsMy42NywwLDUuOTEsMS40OCw3LjM5LDMuODJoMC4xNXYtM2g5LjE4djIzLjc2YzAsNC4zOC0xLjUzLDcuOC0zLjgyLDkuODRzLTUuODEsMy05LjY5LDNDMzE4LjY4LDExODUuNjEsMzEzLjU4LDExODIuNiwzMTIuNjYsMTE3Ni40OFptMTcuNzUtMTQuNzljMC0zLjQyLTEuNjMtNi4xNy00LjQ0LTYuMTdzLTQuNDQsMi40NS00LjQ0LDYuMTcsMS43Myw2LjMyLDQuNDQsNi4zMlMzMzAuNDEsMTE2NS4zMSwzMzAuNDEsMTE2MS42OVoiIHRyYW5zZm9ybT0idHJhbnNsYXRlKC04MS43MyAtMTEzNy45OCkiLz48L3N2Zz4=');\n",
       "            background-repeat: no-repeat;\n",
       "            background-position: center;\n",
       "            font-size: 0;\n",
       "        }\n",
       "\n",
       "        .contact-us {\n",
       "            float: right;\n",
       "            margin: 0 20px;\n",
       "            line-height: 60px;\n",
       "            font-family: \"BWHaasGroteskWeb\", Helvetica, Arial, sans-serif;\n",
       "            font-size: 14px;\n",
       "            color: white;\n",
       "            text-decoration: underline;\n",
       "        }\n",
       "\n",
       "        .box {\n",
       "            margin: 30px auto;\n",
       "            padding: 30px;\n",
       "            width: 680px;\n",
       "            background-color: white;\n",
       "        }\n",
       "\n",
       "        @media (max-width: 760px) {\n",
       "            .box {\n",
       "                width: calc(100% - 20px);\n",
       "            }\n",
       "        }\n",
       "\n",
       "        .main__heading, .info__heading {\n",
       "            font-family: \"BWHaasGroteskWeb\", Helvetica, Arial, sans-serif;\n",
       "            font-weight: bold;\n",
       "        }\n",
       "\n",
       "        .main__heading {\n",
       "            font-size: 19px;\n",
       "            padding-bottom: 9px;\n",
       "        }\n",
       "\n",
       "        .continue {\n",
       "            font-size: 18px;\n",
       "        }\n",
       "\n",
       "        #px-captcha {\n",
       "            margin-top: 20px;\n",
       "            min-height: 80px;\n",
       "        }\n",
       "\n",
       "        .info {\n",
       "            border-top: dotted 1px black;\n",
       "            padding-top: 9px;\n",
       "        }\n",
       "\n",
       "        .info + .info {\n",
       "            margin-top: 30px;\n",
       "        }\n",
       "\n",
       "        .info__link {\n",
       "            color: black;\n",
       "            text-decoration: underline;\n",
       "        }\n",
       "\n",
       "        .info__heading {\n",
       "            font-size: 16px;\n",
       "            line-height: 20px;\n",
       "            padding-bottom: 9px;\n",
       "        }\n",
       "\n",
       "        .info__text {\n",
       "            padding-bottom: 9px;\n",
       "        }\n",
       "\n",
       "        #block_uuid {\n",
       "            display: inline-block;\n",
       "            padding: 6px;\n",
       "            background-color: #f2f2f2;\n",
       "            font-family: monospace;\n",
       "            font-size: 14px;\n",
       "        }\n",
       "    </style>\n",
       "<script>\n",
       "        window._pxAppId = \"PX8FCGYgk4\";\n",
       "        window._pxJsClientSrc = \"/8FCGYgk4/init.js\";\n",
       "        window._pxFirstPartyEnabled = true;\n",
       "        window._pxHostUrl = \"/8FCGYgk4/xhr\";\n",
       "        window._pxreCaptchaTheme = \"light\";\n",
       "        window._pxUuid = qs(\"uuid\");\n",
       "\n",
       "        if (!window._pxUuid) {\n",
       "            window.pxInit = function (px) {\n",
       "                px.Events.one(\"uid\", function (uuid) {\n",
       "                    if (uuid) {\n",
       "                        document.getElementById(\"block_uuid\").textContent = `Block reference ID: ${ uuid }`;\n",
       "                    }\n",
       "                });\n",
       "            };\n",
       "        }\n",
       "\n",
       "        function qs(name) {\n",
       "            const search = new URLSearchParams(window.location.search);\n",
       "\n",
       "            return search.get(name) || \"\";\n",
       "        }\n",
       "    </script>\n",
       "<script async=\"\" src=\"/8FCGYgk4/captcha/captcha.js?a=c&amp;m=0\"></script>\n",
       "</head>\n",
       "<body>\n",
       "<header class=\"header\">\n",
       "<h1 class=\"logo\">Bloomberg</h1>\n",
       "<a class=\"contact-us\" href=\"/feedback\">Need help? Contact us</a>\n",
       "</header>\n",
       "<section class=\"box main\">\n",
       "<h2 class=\"main__heading\">We've detected unusual activity from your computer network</h2>\n",
       "<p class=\"continue\">To continue, please click the box below to let us know you're not a robot.</p>\n",
       "<div id=\"px-captcha\"></div>\n",
       "</section>\n",
       "<section class=\"box\">\n",
       "<section class=\"info\">\n",
       "<h3 class=\"info__heading\">Why did this happen?</h3>\n",
       "<p class=\"info__text\">Please make sure your browser supports JavaScript and cookies and that you are not\n",
       "            blocking them from loading.\n",
       "            For more information you can review our <a class=\"info__link\" href=\"/notices/tos\">Terms of\n",
       "                Service</a> and <a class=\"info__link\" href=\"/notices/tos\">Cookie Policy</a>.</p>\n",
       "</section>\n",
       "<section class=\"info\">\n",
       "<h3 class=\"info__heading\">Need Help?</h3>\n",
       "<p class=\"info__text\">For inquiries related to this message please <a class=\"info__link\" href=\"/feedback\">contact\n",
       "            our support team</a> and provide the reference ID below.</p>\n",
       "<div id=\"block_uuid\">Block reference ID:</div>\n",
       "</section>\n",
       "</section>\n",
       "<script type=\"text/javascript\">\n",
       "    document.getElementById(\"block_uuid\").textContent = `Block reference ID: ${ window._pxUuid }`;\n",
       "</script>\n",
       "<!-- Google Tag Manager -->\n",
       "<script>(function(w, d, s, l, i) {\n",
       "        w[l] = w[l] || [];\n",
       "        w[l].push({ 'gtm.start': new Date().getTime(), event: 'gtm.js' });\n",
       "        var f = d.getElementsByTagName(s)[0], j = d.createElement(s), dl = l != 'dataLayer' ? '&l=' + l : '';\n",
       "        j.defer = true;\n",
       "        j.src = 'https://www.googletagmanager.com/gtm.js?id=' + i + dl;\n",
       "        f.parentNode.insertBefore(j, f);\n",
       "    })(window, document, 'script', 'dataLayer', 'GTM-MNTH5N');</script>\n",
       "<!-- End Google Tag Manager -->\n",
       "</body>\n",
       "</html>"
      ]
     },
     "execution_count": 11,
     "metadata": {},
     "output_type": "execute_result"
    }
   ],
   "source": [
    "soup = BeautifulSoup(content)\n",
    "soup"
   ]
  },
  {
   "cell_type": "markdown",
   "metadata": {},
   "source": [
    "#### Looking at the html, it seems like bloomberg blocks web scraping through this method."
   ]
  },
  {
   "cell_type": "markdown",
   "metadata": {},
   "source": [
    "## Next we try selenium."
   ]
  },
  {
   "cell_type": "code",
   "execution_count": 20,
   "metadata": {},
   "outputs": [],
   "source": [
    "from selenium import webdriver\n",
    "from selenium.webdriver.common.keys import Keys\n",
    "from selenium.webdriver.common.by import By"
   ]
  },
  {
   "cell_type": "code",
   "execution_count": 36,
   "metadata": {},
   "outputs": [],
   "source": [
    "url = \"https://www.bloomberg.com/news/articles/2024-08-06/stock-market-today-dow-s-p-live-updates?embedded-checkout=true\""
   ]
  },
  {
   "cell_type": "code",
   "execution_count": 64,
   "metadata": {},
   "outputs": [],
   "source": [
    "driver = webdriver.Chrome()\n",
    "raw_html = driver.get(url)"
   ]
  },
  {
   "cell_type": "code",
   "execution_count": 26,
   "metadata": {},
   "outputs": [],
   "source": [
    "h1_elem = driver.find_elements(By.TAG_NAME, \"h1\")\n",
    "news_headline = h1_elem[0].text"
   ]
  },
  {
   "cell_type": "code",
   "execution_count": 66,
   "metadata": {},
   "outputs": [],
   "source": [
    "times = driver.find_elements(By.TAG_NAME, \"time\")\n",
    "[time.text for time in times]"
   ]
  },
  {
   "cell_type": "code",
   "execution_count": 28,
   "metadata": {},
   "outputs": [],
   "source": [
    "driver.close()"
   ]
  },
  {
   "cell_type": "markdown",
   "metadata": {},
   "source": [
    "### Try looping url now."
   ]
  },
  {
   "cell_type": "code",
   "execution_count": 68,
   "metadata": {},
   "outputs": [],
   "source": [
    "def get_headline(date: str) -> dict:\n",
    "    \"\"\"Get news headline and date from Bloomberg for a particular date.\n",
    "\n",
    "    Args:\n",
    "        date (str): date string to put in the URL\n",
    "\n",
    "    Returns:\n",
    "        dict: contains headline and time of the article.\n",
    "    \"\"\"\n",
    "    driver = webdriver.Chrome()\n",
    "\n",
    "    url = f\"https://www.bloomberg.com/news/articles/{date}/stock-market-today-dow-s-p-live-updates?embedded-checkout=true\"\n",
    "    driver.get(url)\n",
    "    \n",
    "    h1_elem = driver.find_elements(By.TAG_NAME, \"h1\")\n",
    "    news_headline = h1_elem[0].text if len(h1_elem) > 0 else \"\"\n",
    "\n",
    "    time_elem = driver.find_elements(By.TAG_NAME, \"time\")\n",
    "    time = time_elem[0].text if len(time_elem) > 0 else \"\"\n",
    "\n",
    "    driver.close()  # Must close driver or else bloomberg might get sus.\n",
    "\n",
    "    return {'headline': news_headline, 'time': time}"
   ]
  },
  {
   "cell_type": "code",
   "execution_count": 71,
   "metadata": {},
   "outputs": [
    {
     "name": "stdout",
     "output_type": "stream",
     "text": [
      "{'headline': 'S&P 500 Climbs 1% After Wall Street’s Wild Rout: Markets Wrap', 'time': 'August 6, 2024 at 7:25 AM GMT+8'}\n"
     ]
    }
   ],
   "source": [
    "sample_date = '2024-08-05'\n",
    "\n",
    "print(get_headline(sample_date))"
   ]
  },
  {
   "cell_type": "markdown",
   "metadata": {},
   "source": [
    "## Get SPY ticker so that we can get the trading dates"
   ]
  },
  {
   "cell_type": "code",
   "execution_count": 40,
   "metadata": {},
   "outputs": [],
   "source": [
    "import yfinance as yf"
   ]
  },
  {
   "cell_type": "code",
   "execution_count": 45,
   "metadata": {},
   "outputs": [],
   "source": [
    "spy_ticker = yf.Ticker('SPY')\n",
    "SPY_prices = spy_ticker.history(period='max')"
   ]
  },
  {
   "cell_type": "code",
   "execution_count": 59,
   "metadata": {},
   "outputs": [],
   "source": [
    "format = '%Y-%m-%d'\n",
    "input_dates = [dt.strftime(date, format) for date in SPY_prices.index]"
   ]
  },
  {
   "cell_type": "code",
   "execution_count": 60,
   "metadata": {},
   "outputs": [
    {
     "data": {
      "text/plain": [
       "7950"
      ]
     },
     "execution_count": 60,
     "metadata": {},
     "output_type": "execute_result"
    }
   ],
   "source": [
    "len(input_dates)"
   ]
  },
  {
   "cell_type": "markdown",
   "metadata": {},
   "source": [
    "### Test out by iterating through the trading dates"
   ]
  },
  {
   "cell_type": "code",
   "execution_count": 70,
   "metadata": {},
   "outputs": [
    {
     "name": "stdout",
     "output_type": "stream",
     "text": [
      "2024-08-06 {'headline': 'Stocks Swoon After Weak $42 Billion Treasury Sale: Markets Wrap', 'time': 'August 7, 2024 at 6:38 AM GMT+8'}\n",
      "2024-08-07 {'headline': 'S&P 500 Notches Biggest Rally Since November 2022: Markets Wrap', 'time': 'August 8, 2024 at 6:19 AM GMT+8'}\n",
      "2024-08-08 {'headline': 'Stocks Make Comeback at End of Dizzying Week: Markets Wrap', 'time': 'August 9, 2024 at 6:20 AM GMT+8'}\n",
      "2024-08-09 {'headline': 'Our apologies\\nWe’re unable to find the\\npage you’re looking for.', 'time': ''}\n",
      "2024-08-12 {'headline': 'Stocks Rally in Countdown to CPI as US Yields Sink: Markets Wrap', 'time': 'August 13, 2024 at 6:48 AM GMT+8'}\n",
      "2024-08-13 {'headline': 'Stocks Rise as CPI ‘Checks The Box’ for Fed Cuts: Markets Wrap', 'time': 'August 14, 2024 at 6:30 AM GMT+8'}\n",
      "2024-08-14 {'headline': 'Our apologies\\nWe’re unable to find the\\npage you’re looking for.', 'time': ''}\n",
      "2024-08-15 {'headline': 'Stocks See Best Week in ’24 as Buyers Race Back In: Markets Wrap', 'time': 'August 16, 2024 at 6:28 AM GMT+8'}\n",
      "2024-08-16 {'headline': 'Our apologies\\nWe’re unable to find the\\npage you’re looking for.', 'time': ''}\n",
      "2024-08-19 {'headline': 'Stocks Halt Big Rally Driven by ‘Momentum Guys’: Markets Wrap', 'time': 'August 20, 2024 at 6:42 AM GMT+8'}\n",
      "2024-08-20 {'headline': 'Stocks Up as September Fed Cut Seen as ‘Done Deal’: Markets Wrap', 'time': 'August 21, 2024 at 6:36 AM GMT+8'}\n",
      "2024-08-21 {'headline': 'Wall Street Braces for ‘Reality Check’ From Powell: Markets Wrap', 'time': 'August 22, 2024 at 6:21 AM GMT+8'}\n",
      "2024-08-22 {'headline': 'Stocks Rally as Powell ‘Locks In’ a September Cut: Markets Wrap', 'time': 'August 23, 2024 at 6:31 AM GMT+8'}\n",
      "2024-08-23 {'headline': 'Our apologies\\nWe’re unable to find the\\npage you’re looking for.', 'time': ''}\n",
      "2024-08-26 {'headline': 'Asian Stocks Edge Lower With Eyes on Tech Earnings: Markets Wrap', 'time': 'August 27, 2024 at 6:36 AM GMT+8'}\n"
     ]
    }
   ],
   "source": [
    "for i in input_dates[-15:]:\n",
    "    print(i, get_headline(i))"
   ]
  }
 ],
 "metadata": {
  "kernelspec": {
   "display_name": "venv",
   "language": "python",
   "name": "python3"
  },
  "language_info": {
   "codemirror_mode": {
    "name": "ipython",
    "version": 3
   },
   "file_extension": ".py",
   "mimetype": "text/x-python",
   "name": "python",
   "nbconvert_exporter": "python",
   "pygments_lexer": "ipython3",
   "version": "3.9.0"
  }
 },
 "nbformat": 4,
 "nbformat_minor": 2
}
