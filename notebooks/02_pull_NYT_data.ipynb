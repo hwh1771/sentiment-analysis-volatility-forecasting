{
 "cells": [
  {
   "cell_type": "markdown",
   "metadata": {},
   "source": [
    "### To get API key: https://developer.nytimes.com/get-started"
   ]
  },
  {
   "cell_type": "code",
   "execution_count": 1,
   "metadata": {},
   "outputs": [],
   "source": [
    "from pynytimes import NYTAPI\n",
    "import datetime\n",
    "import pandas as pd\n",
    "\n",
    "import numpy as np"
   ]
  },
  {
   "cell_type": "code",
   "execution_count": 2,
   "metadata": {},
   "outputs": [],
   "source": [
    "def get_news_specific_stock(start_date: datetime.datetime, end_date: datetime.datetime, nyt=None, k=100):\n",
    "    \"\"\"\n",
    "    get top k most relevent finance news headings on each day from NY times\n",
    "    \"\"\"\n",
    "    res = []\n",
    "    try:\n",
    "        #if not nyt:\n",
    "        #    nyt = NYTAPI(api_key, parse_dates=True)\n",
    "\n",
    "        articles = nyt.article_search(\n",
    "            query = \"Tesla\", \n",
    "            results = k,\n",
    "            dates = {\n",
    "                \"begin\": start_date,\n",
    "                \"end\": end_date\n",
    "            },\n",
    "            options = {\n",
    "                \"sort\": \"relevance\", \n",
    "                \"sources\": [\n",
    "                    \"New York Times\",\n",
    "                    \"AP\",\n",
    "                    \"Reuters\",\n",
    "                    \"International Herald Tribune\"\n",
    "                ],\n",
    "                # Only get information from these news desk\n",
    "                \"news_desk\": [\n",
    "                    \"Business\",\n",
    "                    \"Financial\",\n",
    "                    \"Technology\"\n",
    "                ],\n",
    "                \"body\": [\n",
    "                    \"Tesla\",\n",
    "                ],\n",
    "            }\n",
    "        )\n",
    "        \n",
    "        for i in range(len(articles)):\n",
    "            timestamp = articles[i]['pub_date']\n",
    "            article_url = articles[i]['web_url']\n",
    "            lead_paragraph = articles[i]['lead_paragraph']\n",
    "            abstract = articles[i]['abstract']\n",
    "            #print(articles[i])\n",
    "            res.append({'timestamp': timestamp,\n",
    "                        'article_url': article_url,\n",
    "                        'lead_paragraph': lead_paragraph,\n",
    "                        'abstract': abstract,\n",
    "                        })\n",
    "        \n",
    "    except Exception as e:\n",
    "        res.append({})\n",
    "    \n",
    "    df = pd.DataFrame(data=res)\n",
    "\n",
    "    return df"
   ]
  },
  {
   "cell_type": "markdown",
   "metadata": {},
   "source": [
    "### Change api key, start and end date"
   ]
  },
  {
   "cell_type": "code",
   "execution_count": null,
   "metadata": {},
   "outputs": [],
   "source": [
    "api_key = \"\"\n",
    "\n",
    "start_date = datetime.datetime(2024, 1, 1)\n",
    "end_date = datetime.datetime(2024, 1, 31)"
   ]
  },
  {
   "cell_type": "markdown",
   "metadata": {},
   "source": [
    "### Get articles"
   ]
  },
  {
   "cell_type": "code",
   "execution_count": null,
   "metadata": {},
   "outputs": [
    {
     "name": "stderr",
     "output_type": "stream",
     "text": [
      "d:\\Programming\\sentiment-analysis-volatility-forecasting\\venv\\lib\\site-packages\\pynytimes\\helpers\\article_search.py:33: UserWarning: Asking for a lot of results, because of rate limits it can take a while.\n",
      "  warnings.warn(\n"
     ]
    }
   ],
   "source": [
    "nyt = NYTAPI(api_key, parse_dates=True)\n",
    "#k_results =int((end_date - start_date).days * 1.2)  # How many results to pull for. (x1.2 as an estimate for the max articles that exist.)\n",
    "\n",
    "article_df = get_news_specific_stock(start_date, end_date, nyt) #k=k_results"
   ]
  },
  {
   "cell_type": "code",
   "execution_count": 10,
   "metadata": {},
   "outputs": [
    {
     "name": "stdout",
     "output_type": "stream",
     "text": [
      "0\n",
      "Elon Musk and Tesla shareholders are at a crossroads. \n",
      " Shares in Elon Musk’s electric vehicle maker fell sharply after the company delivered lackluster quarterly results and declined to give full-year guidance.\n",
      "1\n",
      "A Delaware judge’s decision to void the pay package that helped make Elon Musk the world’s richest person leaves Tesla’s board with some difficult decisions to make. \n",
      " The company’s board will now decide whether to appeal the decision, change where Tesla is incorporated or negotiate a new pay package.\n",
      "2\n",
      "Tesla’s profit from sales of electric cars slumped in the last three months of last year because of price cuts intended to thwart increasingly intense competition, the company said on Wednesday as it warned of a tough year ahead. \n",
      " A tax benefit boosted quarterly earnings, but that masked a decline in earnings from carmaking caused by intensifying competition.\n",
      "3\n",
      "Elon Musk, the chief executive of Tesla, suffered a stunning rebuke Tuesday when a Delaware judge voided the pay package that helped make him a billionaire many times over and the world’s wealthiest human being. \n",
      " Shareholders had sued, arguing that Mr. Musk’s compensation — which helped make him the world’s richest person — was excessive.\n",
      "4\n",
      "Elon Musk, the chief executive of Tesla, stunned investors by demanding that the company’s board give him shares worth more than $80 billion if it wants him to continue developing products based on artificial intelligence. \n",
      " Elon Musk, the electric car company’s chief executive, said he would “build products outside of Tesla” unless the board raises his stake to 25 percent.\n",
      "5\n",
      "The Chinese government announced on Friday that Tesla would recall practically all of the cars it has sold in the country to adjust their assisted-driving systems, less than a month after a similar recall in the United States. \n",
      " The recall follows a similar move by the company in the United States to upgrade the cars’ Autopilot feature.\n",
      "6\n",
      "The rental car company Hertz will be selling about one-third of the electric vehicles in its fleet after they lost value more quickly than expected, the company said on Thursday. The drop in value is a blow to the company’s efforts to replace gasoline vehicles with cars that do not produce tailpipe emissions. \n",
      " The rental car company blamed the sharp drop in the value of electric vehicles and higher repair costs for its decision to sell 20,000 cars.\n",
      "7\n",
      "Tesla sales jumped during the last three months of 2023 after the carmaker slashed prices and customers rushed to take advantage of tax breaks on electric vehicles — provisions that will be harder to come by in 2024. \n",
      " The leading U.S. electric-vehicle maker also drew buyers eager to take advantage of government incentives that will be harder to get in 2024.\n",
      "8\n",
      "An unusual pay package that Tesla devised in 2018 helped make Elon Musk the world’s wealthiest individual. \n",
      " A Delaware court ruling on his $50 billion compensation plan at Tesla raises questions about corporate governance and more.\n",
      "9\n",
      "Ultramodern factories churn out electric cars and solar panels in Hefei, an industrial center in the heart of central China. Broad avenues link office towers and landscaped parks. Subway lines open at a brisk pace. \n",
      " Hefei has led the country in making electric vehicles and other tech products, but it still has not escaped a nationwide housing crisis.\n",
      "10\n",
      "Federal labor officials accused the rocket company SpaceX on Wednesday of illegally firing eight employees for circulating a letter critical of the company’s founder and chief executive, Elon Musk. \n",
      " The National Labor Relations Board said the rocket company had wrongly dismissed eight people for a letter raising concerns about the chief executive.\n",
      "11\n",
      "The Chinese corporate giant BYD said Monday that it sold three million battery-powered cars in 2023, its most ever, capping a turbulent year for China’s electric vehicle industry. \n",
      " Sales by BYD, the country’s dominant automaker, topped 3 million last year, including 1.6 million fully battery-powered cars. It’s a sign of China’s rapid growth in EVs.\n",
      "12\n",
      "There are more than four million electric vehicles on American roads, but fewer than 1,000 of them are heavy-duty trucks. On Tuesday, the three largest truck makers announced a push to remedy that deficit by calling on governments and utilities to help them build many more places to charge big rigs. \n",
      " Daimler, Navistar and Volvo have been criticized for not selling many electric heavy trucks, but the companies say the country first needs many more chargers.\n",
      "13\n",
      "BlackRock is already Wall Street’s dominant player in stocks and bonds with $10 trillion in assets. Now the company plans to go big on the business of investing in airports, bridges, oil pipelines and more. \n",
      " The Wall Street giant agreed to buy Global Infrastructure Partners, whose assets include airports and oil pipelines, in its biggest takeover in 15 years.\n",
      "14\n",
      "The resignation yesterday of Claudine Gay, Harvard’s first Black president and the second woman to lead the university, was tied to a mounting crisis over plagiarism allegations. But she had also been under fire for months over what critics said was an insufficient response to the Oct. 7 Hamas attacks on Israel. \n",
      " The resignation of Claudine Gay as Harvard’s president reopens the debate over who should run America’s elite universities.\n",
      "15\n",
      "Investors are bailing on Boeing and one of its biggest suppliers this morning after a harrowing malfunction at 16,000 feet this weekend in which a door panel sheared off a new 737 Max 9 airliner in midflight. \n",
      " The jet maker’s share price fell sharply in premarket trading on Monday after hundreds of flights were canceled and safety inspections resumed.\n",
      "16\n",
      "Neuralink, a company working to develop computer interfaces that can be implanted in human brains, placed its first device in a patient on Sunday, said its founder, Elon Musk. \n",
      " The billionaire said his company’s first product, called Telepathy, would let a person control a phone or computer “just by thinking.”\n",
      "17\n",
      "As stock markets soared in 2023, so did the fortunes of many of the world’s biggest hedge funds. \n",
      " The 20 best-performing hedge funds made $67 billion in gains last year, a big jump from the year before.\n",
      "18\n",
      "Many modern cars are internet-connected and have apps that allow an owner to see a car’s location, turn it on remotely, honk its horn and even adjust the temperature. These apps for car control and tracking are designed for convenience, but a New York Times article last month detailed how they have been weaponized in abusive relationships, allowing for unwanted stalking and harassment. \n",
      " The Federal Communications Commission is concerned about abusive partners using connected car apps to harass and track their victims.\n",
      "19\n",
      "As Teslas and other electric vehicles dazzled car buyers with futuristic technology and dreams of a gasoline-free future, hybrid cars began to seem like yesterday’s news. Sales of the Toyota Prius, the standard-bearer for hybrids, fell 85 percent over a decade. \n",
      " Automakers like Ford, Kia and Toyota are offering more hybrid options to appeal to buyers who aren’t ready for fully electric vehicles.\n",
      "20\n",
      "General Motors said on Tuesday that its profit in the final three months of 2023 was depressed by the cost of a 40-day strike at some of its U.S. plants and an accounting charge related to electric vehicles. \n",
      " The automaker has placed a bet on electric vehicles, but it has struggled to produce and sell the vehicles in large numbers.\n",
      "21\n",
      "Pushing back against accusations of antisemitism, Elon Musk has in recent months visited Israel, hosted Prime Minister Benjamin Netanyahu at a Tesla factory in California and repeatedly insisted he bears no animus toward Jews. \n",
      " His remarks, part of an effort to atone for comments many called antisemitic, came after a visit to the Auschwitz death camp site.\n",
      "22\n",
      "The effort to pick anyone but Donald Trump as the Republican presidential nominee took another big, if expected, blow on Sunday when Ron DeSantis dropped out of the race and endorsed the former president. (Other former hopefuls, including Vivek Ramaswamy and Tim Scott, have also endorsed Trump.) \n",
      " Ron DeSantis’s exit, and Nikki Haley’s struggle to make headway against Donald Trump, are forcing Republicans to make a tough choice.\n",
      "23\n",
      "After enjoying a strong rebound in sales in 2023, the auto industry appears headed for slower growth this year as consumers struggle with elevated interest rates and high prices for new cars and light trucks. \n",
      " Automakers sold more cars in 2023 than a year ago as supply chain chaos ended, but sales are now under pressure from higher interest rates.\n",
      "24\n",
      "Wall Street’s longest weekly winning streak in almost 20 years came to an end on Friday, as stock investors’ celebrations over slowing inflation and the potential for cuts to interest rates were replaced with caution over the lingering risks to the economy. \n",
      " The S&P 500 logged its first weekly decline since October, ending Wall Street’s longest winning streak in nearly 20 years.\n",
      "25\n",
      "The stock market broke through to new heights on Friday, with the S&P 500 index finally hitting a record after weeks of bumping up against its previous peak. \n",
      " The S&P 500 crossed above its January 2022 peak after weeks of wavering. Investors have been buying stocks after homing in on signals that the Fed’s campaign of raising interest rates is over.\n",
      "26\n",
      "When Microsoft opened an advanced research lab in Beijing in 1998, it was a time of optimism about technology and China. \n",
      " Amid U.S.-China tensions, the company has faced questions over whether operating an advanced research lab in Beijing is politically tenable.\n",
      "27\n",
      "The Biden administration has begun pumping more than $2 trillion into U.S. factories and infrastructure, investing huge sums to try to strengthen American industry and fight climate change. \n",
      " Worries are growing in Washington that a flood of Chinese products could put new American investments in clean energy and high-tech factories at risk.\n",
      "28\n",
      "Thousands of global leaders have once again descended on snowy Davos, Switzerland, for the World Economic Forum’s annual meeting. The theme of this year’s event: “rebuilding trust.” \n",
      " C.E.O.s and world leaders gather in the Swiss Alps this year as war, trade risks and disruptive new technologies loom large.\n"
     ]
    }
   ],
   "source": [
    "for i, row in article_df.iterrows():\n",
    "    print(i)\n",
    "    print(row['lead_paragraph'],'\\n', row['abstract'])"
   ]
  },
  {
   "cell_type": "markdown",
   "metadata": {},
   "source": [
    "#### Check if the news falls before or after market closes on each day. If it's after close, then the news should be categorised as a next day news."
   ]
  },
  {
   "cell_type": "code",
   "execution_count": 11,
   "metadata": {},
   "outputs": [
    {
     "data": {
      "application/vnd.microsoft.datawrangler.viewer.v0+json": {
       "columns": [
        {
         "name": "index",
         "rawType": "int64",
         "type": "integer"
        },
        {
         "name": "timestamp",
         "rawType": "datetime64[ns, UTC]",
         "type": "unknown"
        },
        {
         "name": "article_url",
         "rawType": "object",
         "type": "string"
        },
        {
         "name": "lead_paragraph",
         "rawType": "object",
         "type": "string"
        },
        {
         "name": "abstract",
         "rawType": "object",
         "type": "string"
        },
        {
         "name": "adjusted_date",
         "rawType": "object",
         "type": "unknown"
        }
       ],
       "conversionMethod": "pd.DataFrame",
       "ref": "c02e9820-2072-4e27-a162-fc47bf9c9d0f",
       "rows": [
        [
         "0",
         "2024-01-25 13:04:37+00:00",
         "https://www.nytimes.com/2024/01/25/business/dealbook/tesla-shares-outlook-growth.html",
         "Elon Musk and Tesla shareholders are at a crossroads.",
         "Shares in Elon Musk’s electric vehicle maker fell sharply after the company delivered lackluster quarterly results and declined to give full-year guidance.",
         "2024-01-25"
        ],
        [
         "1",
         "2024-01-31 21:25:41+00:00",
         "https://www.nytimes.com/2024/01/31/business/tesla-elon-musk-pay-package.html",
         "A Delaware judge’s decision to void the pay package that helped make Elon Musk the world’s richest person leaves Tesla’s board with some difficult decisions to make.",
         "The company’s board will now decide whether to appeal the decision, change where Tesla is incorporated or negotiate a new pay package.",
         "2024-02-01"
        ],
        [
         "2",
         "2024-01-24 21:21:45+00:00",
         "https://www.nytimes.com/2024/01/24/business/teslas-electric-vehicles-profit-price-cuts.html",
         "Tesla’s profit from sales of electric cars slumped in the last three months of last year because of price cuts intended to thwart increasingly intense competition, the company said on Wednesday as it warned of a tough year ahead.",
         "A tax benefit boosted quarterly earnings, but that masked a decline in earnings from carmaking caused by intensifying competition.",
         "2024-01-25"
        ],
        [
         "3",
         "2024-01-30 22:12:10+00:00",
         "https://www.nytimes.com/2024/01/30/business/elon-musk-tesla-pay-package.html",
         "Elon Musk, the chief executive of Tesla, suffered a stunning rebuke Tuesday when a Delaware judge voided the pay package that helped make him a billionaire many times over and the world’s wealthiest human being.",
         "Shareholders had sued, arguing that Mr. Musk’s compensation — which helped make him the world’s richest person — was excessive.",
         "2024-01-31"
        ],
        [
         "4",
         "2024-01-16 14:37:28+00:00",
         "https://www.nytimes.com/2024/01/16/business/tesla-elon-musk-stock.html",
         "Elon Musk, the chief executive of Tesla, stunned investors by demanding that the company’s board give him shares worth more than $80 billion if it wants him to continue developing products based on artificial intelligence.",
         "Elon Musk, the electric car company’s chief executive, said he would “build products outside of Tesla” unless the board raises his stake to 25 percent.",
         "2024-01-16"
        ]
       ],
       "shape": {
        "columns": 5,
        "rows": 5
       }
      },
      "text/html": [
       "<div>\n",
       "<style scoped>\n",
       "    .dataframe tbody tr th:only-of-type {\n",
       "        vertical-align: middle;\n",
       "    }\n",
       "\n",
       "    .dataframe tbody tr th {\n",
       "        vertical-align: top;\n",
       "    }\n",
       "\n",
       "    .dataframe thead th {\n",
       "        text-align: right;\n",
       "    }\n",
       "</style>\n",
       "<table border=\"1\" class=\"dataframe\">\n",
       "  <thead>\n",
       "    <tr style=\"text-align: right;\">\n",
       "      <th></th>\n",
       "      <th>timestamp</th>\n",
       "      <th>article_url</th>\n",
       "      <th>lead_paragraph</th>\n",
       "      <th>abstract</th>\n",
       "      <th>adjusted_date</th>\n",
       "    </tr>\n",
       "  </thead>\n",
       "  <tbody>\n",
       "    <tr>\n",
       "      <th>0</th>\n",
       "      <td>2024-01-25 13:04:37+00:00</td>\n",
       "      <td>https://www.nytimes.com/2024/01/25/business/de...</td>\n",
       "      <td>Elon Musk and Tesla shareholders are at a cros...</td>\n",
       "      <td>Shares in Elon Musk’s electric vehicle maker f...</td>\n",
       "      <td>2024-01-25</td>\n",
       "    </tr>\n",
       "    <tr>\n",
       "      <th>1</th>\n",
       "      <td>2024-01-31 21:25:41+00:00</td>\n",
       "      <td>https://www.nytimes.com/2024/01/31/business/te...</td>\n",
       "      <td>A Delaware judge’s decision to void the pay pa...</td>\n",
       "      <td>The company’s board will now decide whether to...</td>\n",
       "      <td>2024-02-01</td>\n",
       "    </tr>\n",
       "    <tr>\n",
       "      <th>2</th>\n",
       "      <td>2024-01-24 21:21:45+00:00</td>\n",
       "      <td>https://www.nytimes.com/2024/01/24/business/te...</td>\n",
       "      <td>Tesla’s profit from sales of electric cars slu...</td>\n",
       "      <td>A tax benefit boosted quarterly earnings, but ...</td>\n",
       "      <td>2024-01-25</td>\n",
       "    </tr>\n",
       "    <tr>\n",
       "      <th>3</th>\n",
       "      <td>2024-01-30 22:12:10+00:00</td>\n",
       "      <td>https://www.nytimes.com/2024/01/30/business/el...</td>\n",
       "      <td>Elon Musk, the chief executive of Tesla, suffe...</td>\n",
       "      <td>Shareholders had sued, arguing that Mr. Musk’s...</td>\n",
       "      <td>2024-01-31</td>\n",
       "    </tr>\n",
       "    <tr>\n",
       "      <th>4</th>\n",
       "      <td>2024-01-16 14:37:28+00:00</td>\n",
       "      <td>https://www.nytimes.com/2024/01/16/business/te...</td>\n",
       "      <td>Elon Musk, the chief executive of Tesla, stunn...</td>\n",
       "      <td>Elon Musk, the electric car company’s chief ex...</td>\n",
       "      <td>2024-01-16</td>\n",
       "    </tr>\n",
       "  </tbody>\n",
       "</table>\n",
       "</div>"
      ],
      "text/plain": [
       "                  timestamp  \\\n",
       "0 2024-01-25 13:04:37+00:00   \n",
       "1 2024-01-31 21:25:41+00:00   \n",
       "2 2024-01-24 21:21:45+00:00   \n",
       "3 2024-01-30 22:12:10+00:00   \n",
       "4 2024-01-16 14:37:28+00:00   \n",
       "\n",
       "                                         article_url  \\\n",
       "0  https://www.nytimes.com/2024/01/25/business/de...   \n",
       "1  https://www.nytimes.com/2024/01/31/business/te...   \n",
       "2  https://www.nytimes.com/2024/01/24/business/te...   \n",
       "3  https://www.nytimes.com/2024/01/30/business/el...   \n",
       "4  https://www.nytimes.com/2024/01/16/business/te...   \n",
       "\n",
       "                                      lead_paragraph  \\\n",
       "0  Elon Musk and Tesla shareholders are at a cros...   \n",
       "1  A Delaware judge’s decision to void the pay pa...   \n",
       "2  Tesla’s profit from sales of electric cars slu...   \n",
       "3  Elon Musk, the chief executive of Tesla, suffe...   \n",
       "4  Elon Musk, the chief executive of Tesla, stunn...   \n",
       "\n",
       "                                            abstract adjusted_date  \n",
       "0  Shares in Elon Musk’s electric vehicle maker f...    2024-01-25  \n",
       "1  The company’s board will now decide whether to...    2024-02-01  \n",
       "2  A tax benefit boosted quarterly earnings, but ...    2024-01-25  \n",
       "3  Shareholders had sued, arguing that Mr. Musk’s...    2024-01-31  \n",
       "4  Elon Musk, the electric car company’s chief ex...    2024-01-16  "
      ]
     },
     "execution_count": 11,
     "metadata": {},
     "output_type": "execute_result"
    }
   ],
   "source": [
    "threshold_time = pd.Timestamp('16:00:00').time()\n",
    "\n",
    "article_df['adjusted_date'] = article_df['timestamp'].apply(lambda x: x.date() if x.time() < threshold_time else (x + pd.Timedelta(days=1)).date())\n",
    "article_df.head()"
   ]
  },
  {
   "cell_type": "markdown",
   "metadata": {},
   "source": [
    "### Save file "
   ]
  },
  {
   "cell_type": "code",
   "execution_count": null,
   "metadata": {},
   "outputs": [],
   "source": [
    "filename = \"../data/nyt_tesla.csv\"\n",
    "article_df.to_csv(filename, index=False)"
   ]
  },
  {
   "cell_type": "code",
   "execution_count": null,
   "metadata": {},
   "outputs": [],
   "source": []
  }
 ],
 "metadata": {
  "kernelspec": {
   "display_name": "venv",
   "language": "python",
   "name": "python3"
  },
  "language_info": {
   "codemirror_mode": {
    "name": "ipython",
    "version": 3
   },
   "file_extension": ".py",
   "mimetype": "text/x-python",
   "name": "python",
   "nbconvert_exporter": "python",
   "pygments_lexer": "ipython3",
   "version": "3.9.0"
  }
 },
 "nbformat": 4,
 "nbformat_minor": 2
}
